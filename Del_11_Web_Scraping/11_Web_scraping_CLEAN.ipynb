{
 "cells": [
  {
   "cell_type": "markdown",
   "metadata": {},
   "source": [
    "# Web scraping\n"
   ]
  },
  {
   "cell_type": "markdown",
   "metadata": {},
   "source": [
    "## What Is Web Scraping?"
   ]
  },
  {
   "cell_type": "code",
   "execution_count": 1,
   "metadata": {},
   "outputs": [],
   "source": [
    "import pandas as pd"
   ]
  },
  {
   "cell_type": "markdown",
   "metadata": {},
   "source": [
    "<img class=\"progressiveMedia-image js-progressiveMedia-image\" data-src=\"https://cdn-images-1.medium.com/max/1600/1*GOyqaID2x1N5lD_rhTDKVQ.png\" src=\"https://cdn-images-1.medium.com/max/1600/1*GOyqaID2x1N5lD_rhTDKVQ.png\">"
   ]
  },
  {
   "cell_type": "markdown",
   "metadata": {},
   "source": [
    "### Why Web Scraping for Data Science?"
   ]
  },
  {
   "cell_type": "markdown",
   "metadata": {},
   "source": [
    "## Network complexity"
   ]
  },
  {
   "cell_type": "markdown",
   "metadata": {},
   "source": [
    "## HTTP"
   ]
  },
  {
   "cell_type": "markdown",
   "metadata": {},
   "source": [
    "## HTTP in Python: The Requests Library"
   ]
  },
  {
   "cell_type": "markdown",
   "metadata": {},
   "source": [
    "[Requests: HTTP for Humans](https://2.python-requests.org/en/master/)"
   ]
  },
  {
   "cell_type": "code",
   "execution_count": 3,
   "metadata": {},
   "outputs": [],
   "source": [
    "import requests"
   ]
  },
  {
   "cell_type": "code",
   "execution_count": 4,
   "metadata": {},
   "outputs": [],
   "source": [
    "url = 'http://example.com/'"
   ]
  },
  {
   "cell_type": "code",
   "execution_count": 5,
   "metadata": {},
   "outputs": [
    {
     "data": {
      "text/plain": [
       "<Response [200]>"
      ]
     },
     "execution_count": 5,
     "metadata": {},
     "output_type": "execute_result"
    }
   ],
   "source": [
    "response = requests.get(url) #koda 200 pomeni, da so bili podatki uspešno poslani-prevzeti\n",
    "response"
   ]
  },
  {
   "cell_type": "code",
   "execution_count": 6,
   "metadata": {},
   "outputs": [
    {
     "data": {
      "text/plain": [
       "requests.models.Response"
      ]
     },
     "execution_count": 6,
     "metadata": {},
     "output_type": "execute_result"
    }
   ],
   "source": [
    "type(response)"
   ]
  },
  {
   "cell_type": "code",
   "execution_count": 7,
   "metadata": {},
   "outputs": [
    {
     "data": {
      "text/plain": [
       "200"
      ]
     },
     "execution_count": 7,
     "metadata": {},
     "output_type": "execute_result"
    }
   ],
   "source": [
    "response.status_code"
   ]
  },
  {
   "cell_type": "code",
   "execution_count": 8,
   "metadata": {},
   "outputs": [
    {
     "name": "stdout",
     "output_type": "stream",
     "text": [
      "OK\n"
     ]
    }
   ],
   "source": [
    "if response.status_code == 200:\n",
    "    print('OK')"
   ]
  },
  {
   "cell_type": "code",
   "execution_count": 10,
   "metadata": {},
   "outputs": [
    {
     "data": {
      "text/plain": [
       "'<!doctype html>\\n<html>\\n<head>\\n    <title>Example Domain</title>\\n\\n    <meta charset=\"utf-8\" />\\n    <meta http-equiv=\"Content-type\" content=\"text/html; charset=utf-8\" />\\n    <meta name=\"viewport\" content=\"width=device-width, initial-scale=1\" />\\n    <style type=\"text/css\">\\n    body {\\n        background-color: #f0f0f2;\\n        margin: 0;\\n        padding: 0;\\n        font-family: -apple-system, system-ui, BlinkMacSystemFont, \"Segoe UI\", \"Open Sans\", \"Helvetica Neue\", Helvetica, Arial, sans-serif;\\n        \\n    }\\n    div {\\n        width: 600px;\\n        margin: 5em auto;\\n        padding: 2em;\\n        background-color: #fdfdff;\\n        border-radius: 0.5em;\\n        box-shadow: 2px 3px 7px 2px rgba(0,0,0,0.02);\\n    }\\n    a:link, a:visited {\\n        color: #38488f;\\n        text-decoration: none;\\n    }\\n    @media (max-width: 700px) {\\n        div {\\n            margin: 0 auto;\\n            width: auto;\\n        }\\n    }\\n    </style>    \\n</head>\\n\\n<body>\\n<div>\\n    <h1>Example Domain</h1>\\n    <p>This domain is for use in illustrative examples in documents. You may use this\\n    domain in literature without prior coordination or asking for permission.</p>\\n    <p><a href=\"https://www.iana.org/domains/example\">More information...</a></p>\\n</div>\\n</body>\\n</html>\\n'"
      ]
     },
     "execution_count": 10,
     "metadata": {},
     "output_type": "execute_result"
    }
   ],
   "source": [
    "response.text #response vrne tekst spletne strani"
   ]
  },
  {
   "cell_type": "code",
   "execution_count": 11,
   "metadata": {},
   "outputs": [
    {
     "name": "stdout",
     "output_type": "stream",
     "text": [
      "<!doctype html>\n",
      "<html>\n",
      "<head>\n",
      "    <title>Example Domain</title>\n",
      "\n",
      "    <meta charset=\"utf-8\" />\n",
      "    <meta http-equiv=\"Content-type\" content=\"text/html; charset=utf-8\" />\n",
      "    <meta name=\"viewport\" content=\"width=device-width, initial-scale=1\" />\n",
      "    <style type=\"text/css\">\n",
      "    body {\n",
      "        background-color: #f0f0f2;\n",
      "        margin: 0;\n",
      "        padding: 0;\n",
      "        font-family: -apple-system, system-ui, BlinkMacSystemFont, \"Segoe UI\", \"Open Sans\", \"Helvetica Neue\", Helvetica, Arial, sans-serif;\n",
      "        \n",
      "    }\n",
      "    div {\n",
      "        width: 600px;\n",
      "        margin: 5em auto;\n",
      "        padding: 2em;\n",
      "        background-color: #fdfdff;\n",
      "        border-radius: 0.5em;\n",
      "        box-shadow: 2px 3px 7px 2px rgba(0,0,0,0.02);\n",
      "    }\n",
      "    a:link, a:visited {\n",
      "        color: #38488f;\n",
      "        text-decoration: none;\n",
      "    }\n",
      "    @media (max-width: 700px) {\n",
      "        div {\n",
      "            margin: 0 auto;\n",
      "            width: auto;\n",
      "        }\n",
      "    }\n",
      "    </style>    \n",
      "</head>\n",
      "\n",
      "<body>\n",
      "<div>\n",
      "    <h1>Example Domain</h1>\n",
      "    <p>This domain is for use in illustrative examples in documents. You may use this\n",
      "    domain in literature without prior coordination or asking for permission.</p>\n",
      "    <p><a href=\"https://www.iana.org/domains/example\">More information...</a></p>\n",
      "</div>\n",
      "</body>\n",
      "</html>\n",
      "\n"
     ]
    }
   ],
   "source": [
    "print(response.text)"
   ]
  },
  {
   "cell_type": "code",
   "execution_count": 12,
   "metadata": {},
   "outputs": [
    {
     "data": {
      "text/plain": [
       "{'Content-Encoding': 'gzip', 'Accept-Ranges': 'bytes', 'Age': '507743', 'Cache-Control': 'max-age=604800', 'Content-Type': 'text/html; charset=UTF-8', 'Date': 'Mon, 18 May 2020 14:48:43 GMT', 'Etag': '\"3147526947\"', 'Expires': 'Mon, 25 May 2020 14:48:43 GMT', 'Last-Modified': 'Thu, 17 Oct 2019 07:18:26 GMT', 'Server': 'ECS (dcb/7EC7)', 'Vary': 'Accept-Encoding', 'X-Cache': 'HIT', 'Content-Length': '648'}"
      ]
     },
     "execution_count": 12,
     "metadata": {},
     "output_type": "execute_result"
    }
   ],
   "source": [
    "response.headers"
   ]
  },
  {
   "cell_type": "code",
   "execution_count": null,
   "metadata": {},
   "outputs": [],
   "source": []
  },
  {
   "cell_type": "code",
   "execution_count": null,
   "metadata": {},
   "outputs": [],
   "source": []
  },
  {
   "cell_type": "markdown",
   "metadata": {},
   "source": [
    "## HTML and CSS"
   ]
  },
  {
   "cell_type": "markdown",
   "metadata": {},
   "source": [
    "<img class=\"progressiveMedia-image js-progressiveMedia-image\" data-src=\"https://cdn-images-1.medium.com/max/1600/1*x9mxFBXnLU05iPy19dGj7g.png\" src=\"https://cdn-images-1.medium.com/max/1600/1*x9mxFBXnLU05iPy19dGj7g.png\">"
   ]
  },
  {
   "cell_type": "markdown",
   "metadata": {},
   "source": [
    "### Hypertext Markup Language: HTML"
   ]
  },
  {
   "cell_type": "markdown",
   "metadata": {},
   "source": [
    "Link strani: https://en.wikipedia.org/wiki/List_of_Game_of_Thrones_episodes"
   ]
  },
  {
   "cell_type": "code",
   "execution_count": 14,
   "metadata": {},
   "outputs": [],
   "source": [
    "url_got = 'https://en.wikipedia.org/wiki/List_of_Game_of_Thrones_episodes'\n",
    "r = requests.get(url_got)\n"
   ]
  },
  {
   "cell_type": "code",
   "execution_count": 15,
   "metadata": {},
   "outputs": [],
   "source": [
    "html_contents = r.text"
   ]
  },
  {
   "cell_type": "code",
   "execution_count": null,
   "metadata": {},
   "outputs": [],
   "source": []
  },
  {
   "cell_type": "markdown",
   "metadata": {},
   "source": [
    "- `<p>...</p>` to enclose a paragraph;\n",
    "- `<br>` to set a line break;\n",
    "- `<table>...</table>` to start a table block, inside; `<tr>...<tr/>` is used for the rows; and `<td>...</td>` cells;\n",
    "- `<img>` for images;\n",
    "- `<h1>...</h1> to <h6>...</h6>` for headers;\n",
    "- `<div>...</div>` to indicate a “division” in an HTML document, basically used to group a set of elements;\n",
    "- `<a>...</a>` for hyperlinks;\n",
    "- `<ul>...</ul>, <ol>...</ol>` for unordered and ordered lists respectively; inside of these, `<li>...</li>` is used for each list item."
   ]
  },
  {
   "cell_type": "markdown",
   "metadata": {},
   "source": [
    "## Using Your Browser as a Development Tool"
   ]
  },
  {
   "cell_type": "markdown",
   "metadata": {},
   "source": [
    "## The Beautiful Soup Library"
   ]
  },
  {
   "cell_type": "code",
   "execution_count": null,
   "metadata": {},
   "outputs": [],
   "source": []
  },
  {
   "cell_type": "markdown",
   "metadata": {},
   "source": [
    "> **[beautifulsoup4](https://www.crummy.com/software/BeautifulSoup/bs4/doc/)**: Beautiful Soup tries to organize complexity: it helps to parse, structure and organize the oftentimes very messy web by fixing bad HTML and presenting us with an easy-to-work-with Python structure."
   ]
  },
  {
   "cell_type": "code",
   "execution_count": 16,
   "metadata": {},
   "outputs": [],
   "source": [
    "from bs4 import BeautifulSoup"
   ]
  },
  {
   "cell_type": "code",
   "execution_count": 17,
   "metadata": {},
   "outputs": [],
   "source": [
    "html_soup = BeautifulSoup(html_contents, 'html.parser')"
   ]
  },
  {
   "cell_type": "code",
   "execution_count": 18,
   "metadata": {},
   "outputs": [
    {
     "data": {
      "text/plain": [
       "\n",
       "<!DOCTYPE html>\n",
       "\n",
       "<html class=\"client-nojs\" dir=\"ltr\" lang=\"en\">\n",
       "<head>\n",
       "<meta charset=\"utf-8\"/>\n",
       "<title>List of Game of Thrones episodes - Wikipedia</title>\n",
       "<script>document.documentElement.className=\"client-js\";RLCONF={\"wgBreakFrames\":!1,\"wgSeparatorTransformTable\":[\"\",\"\"],\"wgDigitTransformTable\":[\"\",\"\"],\"wgDefaultDateFormat\":\"dmy\",\"wgMonthNames\":[\"\",\"January\",\"February\",\"March\",\"April\",\"May\",\"June\",\"July\",\"August\",\"September\",\"October\",\"November\",\"December\"],\"wgRequestId\":\"XsKfgwpAAEEAAAPFpcgAAABS\",\"wgCSPNonce\":!1,\"wgCanonicalNamespace\":\"\",\"wgCanonicalSpecialPageName\":!1,\"wgNamespaceNumber\":0,\"wgPageName\":\"List_of_Game_of_Thrones_episodes\",\"wgTitle\":\"List of Game of Thrones episodes\",\"wgCurRevisionId\":957367760,\"wgRevisionId\":957367760,\"wgArticleId\":31120069,\"wgIsArticle\":!0,\"wgIsRedirect\":!1,\"wgAction\":\"view\",\"wgUserName\":null,\"wgUserGroups\":[\"*\"],\"wgCategories\":[\"Use mdy dates from May 2020\",\"Articles with short description\",\"Articles with excerpts\",\"Official website not in Wikidata\",\"Featured lists\",\"Pages using the Graph extension\",\"Game of Thrones episodes\",\"Lists of American drama television series episodes\",\n",
       "\"Lists of fantasy television series episodes\"],\"wgPageContentLanguage\":\"en\",\"wgPageContentModel\":\"wikitext\",\"wgRelevantPageName\":\"List_of_Game_of_Thrones_episodes\",\"wgRelevantArticleId\":31120069,\"wgIsProbablyEditable\":!0,\"wgRelevantPageIsProbablyEditable\":!0,\"wgRestrictionEdit\":[],\"wgRestrictionMove\":[],\"wgMediaViewerOnClick\":!0,\"wgMediaViewerEnabledByDefault\":!0,\"wgPopupsReferencePreviews\":!1,\"wgPopupsConflictsWithNavPopupGadget\":!1,\"wgVisualEditor\":{\"pageLanguageCode\":\"en\",\"pageLanguageDir\":\"ltr\",\"pageVariantFallbacks\":\"en\"},\"wgMFDisplayWikibaseDescriptions\":{\"search\":!0,\"nearby\":!0,\"watchlist\":!0,\"tagline\":!1},\"wgWMESchemaEditAttemptStepOversample\":!1,\"wgULSCurrentAutonym\":\"English\",\"wgNoticeProject\":\"wikipedia\",\"wgWikibaseItemId\":\"Q847578\",\"wgCentralAuthMobileDomain\":!1,\"wgEditSubmitButtonLabelPublish\":!0};RLSTATE={\"ext.globalCssJs.user.styles\":\"ready\",\"site.styles\":\"ready\",\"noscript\":\"ready\",\"user.styles\":\"ready\",\"ext.globalCssJs.user\":\"ready\",\"user\"\n",
       ":\"ready\",\"user.options\":\"loading\",\"ext.cite.styles\":\"ready\",\"jquery.makeCollapsible.styles\":\"ready\",\"mediawiki.toc.styles\":\"ready\",\"skins.vector.styles.legacy\":\"ready\",\"wikibase.client.init\":\"ready\",\"ext.visualEditor.desktopArticleTarget.noscript\":\"ready\",\"ext.uls.interlanguage\":\"ready\",\"ext.wikimediaBadges\":\"ready\"};RLPAGEMODULES=[\"ext.cite.ux-enhancements\",\"site\",\"mediawiki.page.startup\",\"skins.vector.js\",\"mediawiki.page.ready\",\"jquery.makeCollapsible\",\"mediawiki.toc\",\"ext.gadget.ReferenceTooltips\",\"ext.gadget.charinsert\",\"ext.gadget.refToolbar\",\"ext.gadget.extra-toolbar-buttons\",\"ext.gadget.switcher\",\"ext.centralauth.centralautologin\",\"mmv.head\",\"mmv.bootstrap.autostart\",\"ext.popups\",\"ext.visualEditor.desktopArticleTarget.init\",\"ext.visualEditor.targetLoader\",\"ext.eventLogging\",\"ext.wikimediaEvents\",\"ext.navigationTiming\",\"ext.uls.compactlinks\",\"ext.uls.interface\",\"ext.cx.eventlogging.campaigns\",\"ext.quicksurveys.init\",\"ext.centralNotice.geoIP\",\"ext.centralNotice.startUp\"];</script>\n",
       "<script>(RLQ=window.RLQ||[]).push(function(){mw.loader.implement(\"user.options@1hzgi\",function($,jQuery,require,module){/*@nomin*/mw.user.tokens.set({\"patrolToken\":\"+\\\\\",\"watchToken\":\"+\\\\\",\"csrfToken\":\"+\\\\\"});\n",
       "});});</script>\n",
       "<link href=\"/w/load.php?lang=en&amp;modules=ext.cite.styles%7Cext.uls.interlanguage%7Cext.visualEditor.desktopArticleTarget.noscript%7Cext.wikimediaBadges%7Cjquery.makeCollapsible.styles%7Cmediawiki.toc.styles%7Cskins.vector.styles.legacy%7Cwikibase.client.init&amp;only=styles&amp;skin=vector\" rel=\"stylesheet\"/>\n",
       "<script async=\"\" src=\"/w/load.php?lang=en&amp;modules=startup&amp;only=scripts&amp;raw=1&amp;skin=vector\"></script>\n",
       "<meta content=\"\" name=\"ResourceLoaderDynamicStyles\"/>\n",
       "<link href=\"/w/load.php?lang=en&amp;modules=site.styles&amp;only=styles&amp;skin=vector\" rel=\"stylesheet\"/>\n",
       "<meta content=\"MediaWiki 1.35.0-wmf.31\" name=\"generator\"/>\n",
       "<meta content=\"origin\" name=\"referrer\"/>\n",
       "<meta content=\"origin-when-crossorigin\" name=\"referrer\"/>\n",
       "<meta content=\"origin-when-cross-origin\" name=\"referrer\"/>\n",
       "<link href=\"/w/index.php?title=List_of_Game_of_Thrones_episodes&amp;action=edit\" rel=\"alternate\" title=\"Edit this page\" type=\"application/x-wiki\"/>\n",
       "<link href=\"/w/index.php?title=List_of_Game_of_Thrones_episodes&amp;action=edit\" rel=\"edit\" title=\"Edit this page\"/>\n",
       "<link href=\"/static/apple-touch/wikipedia.png\" rel=\"apple-touch-icon\"/>\n",
       "<link href=\"/static/favicon/wikipedia.ico\" rel=\"shortcut icon\"/>\n",
       "<link href=\"/w/opensearch_desc.php\" rel=\"search\" title=\"Wikipedia (en)\" type=\"application/opensearchdescription+xml\"/>\n",
       "<link href=\"//en.wikipedia.org/w/api.php?action=rsd\" rel=\"EditURI\" type=\"application/rsd+xml\"/>\n",
       "<link href=\"//creativecommons.org/licenses/by-sa/3.0/\" rel=\"license\"/>\n",
       "<link href=\"/w/index.php?title=Special:RecentChanges&amp;feed=atom\" rel=\"alternate\" title=\"Wikipedia Atom feed\" type=\"application/atom+xml\"/>\n",
       "<link href=\"https://en.wikipedia.org/wiki/List_of_Game_of_Thrones_episodes\" rel=\"canonical\"/>\n",
       "<link href=\"//login.wikimedia.org\" rel=\"dns-prefetch\"/>\n",
       "<link href=\"//meta.wikimedia.org\" rel=\"dns-prefetch\"/>\n",
       "<!--[if lt IE 9]><script src=\"/w/resources/lib/html5shiv/html5shiv.js\"></script><![endif]-->\n",
       "</head>\n",
       "<body class=\"mediawiki ltr sitedir-ltr mw-hide-empty-elt ns-0 ns-subject mw-editable page-List_of_Game_of_Thrones_episodes rootpage-List_of_Game_of_Thrones_episodes skin-vector action-view\">\n",
       "<div class=\"noprint\" id=\"mw-page-base\"></div>\n",
       "<div class=\"noprint\" id=\"mw-head-base\"></div>\n",
       "<div class=\"mw-body\" id=\"content\" role=\"main\">\n",
       "<a id=\"top\"></a>\n",
       "<div class=\"mw-body-content\" id=\"siteNotice\"><!-- CentralNotice --></div>\n",
       "<div class=\"mw-indicators mw-body-content\">\n",
       "<div class=\"mw-indicator\" id=\"mw-indicator-featured-star\"><a href=\"/wiki/Wikipedia:Featured_lists\" title=\"This is a featured list. Click here for more information.\"><img alt=\"This is a featured list. Click here for more information.\" data-file-height=\"438\" data-file-width=\"462\" decoding=\"async\" height=\"19\" src=\"//upload.wikimedia.org/wikipedia/en/thumb/e/e7/Cscr-featured.svg/20px-Cscr-featured.svg.png\" srcset=\"//upload.wikimedia.org/wikipedia/en/thumb/e/e7/Cscr-featured.svg/30px-Cscr-featured.svg.png 1.5x, //upload.wikimedia.org/wikipedia/en/thumb/e/e7/Cscr-featured.svg/40px-Cscr-featured.svg.png 2x\" width=\"20\"/></a></div>\n",
       "</div>\n",
       "<h1 class=\"firstHeading\" id=\"firstHeading\" lang=\"en\">List of <i>Game of Thrones</i> episodes</h1>\n",
       "<div class=\"mw-body-content\" id=\"bodyContent\">\n",
       "<div class=\"noprint\" id=\"siteSub\">From Wikipedia, the free encyclopedia</div>\n",
       "<div id=\"contentSub\"></div>\n",
       "<div id=\"jump-to-nav\"></div>\n",
       "<a class=\"mw-jump-link\" href=\"#mw-head\">Jump to navigation</a>\n",
       "<a class=\"mw-jump-link\" href=\"#p-search\">Jump to search</a>\n",
       "<div class=\"mw-content-ltr\" dir=\"ltr\" id=\"mw-content-text\" lang=\"en\"><div class=\"mw-parser-output\"><p class=\"mw-empty-elt\">\n",
       "</p>\n",
       "<div class=\"shortdescription nomobile noexcerpt noprint searchaux\" style=\"display:none\">Wikipedia list article</div>\n",
       "<div class=\"floatright\"><a class=\"image\" href=\"/wiki/File:Game_of_Thrones_2011_logo.svg\"><img alt=\"Game of Thrones logo\" data-file-height=\"123\" data-file-width=\"1000\" decoding=\"async\" height=\"38\" src=\"//upload.wikimedia.org/wikipedia/commons/thumb/2/2e/Game_of_Thrones_2011_logo.svg/310px-Game_of_Thrones_2011_logo.svg.png\" srcset=\"//upload.wikimedia.org/wikipedia/commons/thumb/2/2e/Game_of_Thrones_2011_logo.svg/465px-Game_of_Thrones_2011_logo.svg.png 1.5x, //upload.wikimedia.org/wikipedia/commons/thumb/2/2e/Game_of_Thrones_2011_logo.svg/620px-Game_of_Thrones_2011_logo.svg.png 2x\" width=\"310\"/></a></div>\n",
       "<p><i><a href=\"/wiki/Game_of_Thrones\" title=\"Game of Thrones\">Game of Thrones</a></i> is an American <a href=\"/wiki/Fantasy\" title=\"Fantasy\">fantasy</a> <a href=\"/wiki/Drama_(film_and_television)\" title=\"Drama (film and television)\">drama</a> television series created by <a href=\"/wiki/David_Benioff\" title=\"David Benioff\">David Benioff</a> and <a href=\"/wiki/D._B._Weiss\" title=\"D. B. Weiss\">D. B. Weiss</a>. The series is based on <a href=\"/wiki/George_R._R._Martin\" title=\"George R. R. Martin\">George R. R. Martin</a>'s series of fantasy novels, <i><a href=\"/wiki/A_Song_of_Ice_and_Fire\" title=\"A Song of Ice and Fire\">A Song of Ice and Fire</a></i>. The series takes place on the fictional continents of <a class=\"mw-redirect\" href=\"/wiki/Westeros\" title=\"Westeros\">Westeros</a> and <a class=\"mw-redirect\" href=\"/wiki/Essos\" title=\"Essos\">Essos</a>, and chronicles the power struggles among noble families as they fight for control of the <a href=\"/wiki/Iron_Throne_(A_Song_of_Ice_and_Fire)\" title=\"Iron Throne (A Song of Ice and Fire)\">Iron Throne</a> of the Seven Kingdoms. The series starts when <a class=\"mw-redirect\" href=\"/wiki/House_Stark\" title=\"House Stark\">House Stark</a>, led by <a href=\"/wiki/Ned_Stark\" title=\"Ned Stark\">Lord Eddard \"Ned\" Stark</a> (<a href=\"/wiki/Sean_Bean\" title=\"Sean Bean\">Sean Bean</a>), is drawn into schemes surrounding <a href=\"/wiki/Robert_Baratheon\" title=\"Robert Baratheon\">King Robert Baratheon</a> (<a href=\"/wiki/Mark_Addy\" title=\"Mark Addy\">Mark Addy</a>).<sup class=\"reference\" id=\"cite_ref-1\"><a href=\"#cite_note-1\">[1]</a></sup>\n",
       "</p><p>The series premiered on April 17, 2011, on <a href=\"/wiki/HBO\" title=\"HBO\">HBO</a>. David Benioff and D. B. Weiss both serve as executive producers, along with <a href=\"/wiki/Carolyn_Strauss\" title=\"Carolyn Strauss\">Carolyn Strauss</a>, Frank Doelger, <a href=\"/wiki/Bernadette_Caulfield\" title=\"Bernadette Caulfield\">Bernadette Caulfield</a>, and George R. R. Martin.<sup class=\"reference\" id=\"cite_ref-2\"><a href=\"#cite_note-2\">[2]</a></sup><sup class=\"reference\" id=\"cite_ref-emmys.com_3-0\"><a href=\"#cite_note-emmys.com-3\">[3]</a></sup> Filming for the series has taken place in a number of locations, including Croatia, Ireland, Iceland, and Spain.<sup class=\"reference\" id=\"cite_ref-4\"><a href=\"#cite_note-4\">[4]</a></sup><sup class=\"reference\" id=\"cite_ref-5\"><a href=\"#cite_note-5\">[5]</a></sup><sup class=\"reference\" id=\"cite_ref-6\"><a href=\"#cite_note-6\">[6]</a></sup> Episodes were broadcast on Sunday at 9:00 pm Eastern Time,<sup class=\"reference\" id=\"cite_ref-7\"><a href=\"#cite_note-7\">[7]</a></sup><sup class=\"reference\" id=\"cite_ref-8\"><a href=\"#cite_note-8\">[8]</a></sup> and the episodes are between 50 and 82 minutes in length.<sup class=\"reference\" id=\"cite_ref-9\"><a href=\"#cite_note-9\">[9]</a></sup> All eight seasons are available on <a href=\"/wiki/DVD\" title=\"DVD\">DVD</a> and <a href=\"/wiki/Blu-ray\" title=\"Blu-ray\">Blu-ray</a>.\n",
       "</p><p>The series concluded with its <a href=\"/wiki/Game_of_Thrones_(season_8)\" title=\"Game of Thrones (season 8)\">eighth season</a>, which premiered on April 14, 2019, and consisted of six episodes.<sup class=\"reference\" id=\"cite_ref-Season8_10-0\"><a href=\"#cite_note-Season8-10\">[10]</a></sup><sup class=\"reference\" id=\"cite_ref-11\"><a href=\"#cite_note-11\">[11]</a></sup><sup class=\"reference\" id=\"cite_ref-April14_12-0\"><a href=\"#cite_note-April14-12\">[12]</a></sup> The show's episodes have won numerous <a href=\"/wiki/List_of_awards_and_nominations_received_by_Game_of_Thrones\" title=\"List of awards and nominations received by Game of Thrones\">awards</a> including four <a href=\"/wiki/Primetime_Emmy_Award_for_Outstanding_Drama_Series\" title=\"Primetime Emmy Award for Outstanding Drama Series\">Primetime Emmy Awards for Outstanding Drama Series</a>.<sup class=\"reference\" id=\"cite_ref-emmys.com_3-1\"><a href=\"#cite_note-emmys.com-3\">[3]</a></sup> During the course of the series, 73 episodes of <i>Game of Thrones</i> aired over eight seasons, between April 17, 2011, and May 19, 2019.\n",
       "</p>\n",
       "<div aria-labelledby=\"mw-toc-heading\" class=\"toc\" id=\"toc\" role=\"navigation\"><input class=\"toctogglecheckbox\" id=\"toctogglecheckbox\" role=\"button\" style=\"display:none\" type=\"checkbox\"/><div class=\"toctitle\" dir=\"ltr\" lang=\"en\"><h2 id=\"mw-toc-heading\">Contents</h2><span class=\"toctogglespan\"><label class=\"toctogglelabel\" for=\"toctogglecheckbox\"></label></span></div>\n",
       "<ul>\n",
       "<li class=\"toclevel-1 tocsection-1\"><a href=\"#Series_overview\"><span class=\"tocnumber\">1</span> <span class=\"toctext\">Series overview</span></a></li>\n",
       "<li class=\"toclevel-1 tocsection-2\"><a href=\"#Episodes\"><span class=\"tocnumber\">2</span> <span class=\"toctext\">Episodes</span></a>\n",
       "<ul>\n",
       "<li class=\"toclevel-2 tocsection-3\"><a href=\"#Season_1_(2011)\"><span class=\"tocnumber\">2.1</span> <span class=\"toctext\">Season 1 (2011)</span></a></li>\n",
       "<li class=\"toclevel-2 tocsection-4\"><a href=\"#Season_2_(2012)\"><span class=\"tocnumber\">2.2</span> <span class=\"toctext\">Season 2 (2012)</span></a></li>\n",
       "<li class=\"toclevel-2 tocsection-5\"><a href=\"#Season_3_(2013)\"><span class=\"tocnumber\">2.3</span> <span class=\"toctext\">Season 3 (2013)</span></a></li>\n",
       "<li class=\"toclevel-2 tocsection-6\"><a href=\"#Season_4_(2014)\"><span class=\"tocnumber\">2.4</span> <span class=\"toctext\">Season 4 (2014)</span></a></li>\n",
       "<li class=\"toclevel-2 tocsection-7\"><a href=\"#Season_5_(2015)\"><span class=\"tocnumber\">2.5</span> <span class=\"toctext\">Season 5 (2015)</span></a></li>\n",
       "<li class=\"toclevel-2 tocsection-8\"><a href=\"#Season_6_(2016)\"><span class=\"tocnumber\">2.6</span> <span class=\"toctext\">Season 6 (2016)</span></a></li>\n",
       "<li class=\"toclevel-2 tocsection-9\"><a href=\"#Season_7_(2017)\"><span class=\"tocnumber\">2.7</span> <span class=\"toctext\">Season 7 (2017)</span></a></li>\n",
       "<li class=\"toclevel-2 tocsection-10\"><a href=\"#Season_8_(2019)\"><span class=\"tocnumber\">2.8</span> <span class=\"toctext\">Season 8 (2019)</span></a></li>\n",
       "</ul>\n",
       "</li>\n",
       "<li class=\"toclevel-1 tocsection-11\"><a href=\"#Specials\"><span class=\"tocnumber\">3</span> <span class=\"toctext\">Specials</span></a></li>\n",
       "<li class=\"toclevel-1 tocsection-12\"><a href=\"#Home_media_release\"><span class=\"tocnumber\">4</span> <span class=\"toctext\">Home media release</span></a></li>\n",
       "<li class=\"toclevel-1 tocsection-13\"><a href=\"#Ratings\"><span class=\"tocnumber\">5</span> <span class=\"toctext\">Ratings</span></a></li>\n",
       "<li class=\"toclevel-1 tocsection-14\"><a href=\"#References\"><span class=\"tocnumber\">6</span> <span class=\"toctext\">References</span></a></li>\n",
       "<li class=\"toclevel-1 tocsection-15\"><a href=\"#External_links\"><span class=\"tocnumber\">7</span> <span class=\"toctext\">External links</span></a></li>\n",
       "</ul>\n",
       "</div>\n",
       "<h2><span class=\"mw-headline\" id=\"Series_overview\">Series overview</span><span class=\"mw-editsection\"><span class=\"mw-editsection-bracket\">[</span><a href=\"/w/index.php?title=List_of_Game_of_Thrones_episodes&amp;action=edit&amp;section=1\" title=\"Edit section: Series overview\">edit</a><span class=\"mw-editsection-bracket\">]</span></span></h2>\n",
       "<table class=\"wikitable plainrowheaders\" style=\"text-align:center\"><tbody><tr style=\"text-align:center\"><th colspan=\"2\" rowspan=\"2\" scope=\"col\" style=\"min-width:50px;padding:0 8px\">Season</th><th colspan=\"2\" rowspan=\"2\" scope=\"col\" style=\"padding:0 8px\">Episodes</th><th colspan=\"2\" scope=\"col\">Originally aired</th><th rowspan=\"2\" scope=\"col\" style=\"padding:0 8px\"><abbr title=\"Average\">Avg.</abbr> U.S. viewers<br/>(millions)</th></tr><tr><th scope=\"col\">First aired</th><th scope=\"col\">Last aired</th></tr><tr><td style=\"background:#295354;width:10px\"></td><th colspan=\"1\" scope=\"row\" style=\"text-align:center\"><a href=\"#Season_1_(2011)\">1</a></th><td colspan=\"2\">10</td><td colspan=\"1\" style=\"padding:0.2em 0.4em\">April 17, 2011<span style=\"display:none\"> (<span class=\"bday dtstart published updated\">2011-04-17</span>)</span></td><td style=\"padding:0 8px\">June 19, 2011<span style=\"display:none\"> (<span class=\"dtend\">2011-06-19</span>)</span></td><td>2.52<sup class=\"reference\" id=\"cite_ref-average_2_13-0\"><a href=\"#cite_note-average_2-13\">[13]</a></sup></td></tr><tr><td style=\"background:#D09916;width:10px\"></td><th colspan=\"1\" scope=\"row\" style=\"text-align:center\"><a href=\"#Season_2_(2012)\">2</a></th><td colspan=\"2\">10</td><td colspan=\"1\" style=\"padding:0.2em 0.4em\">April 1, 2012<span style=\"display:none\"> (<span class=\"bday dtstart published updated\">2012-04-01</span>)</span></td><td style=\"padding:0 8px\">June 3, 2012<span style=\"display:none\"> (<span class=\"dtend\">2012-06-03</span>)</span></td><td>3.80<sup class=\"reference\" id=\"cite_ref-average_2_13-1\"><a href=\"#cite_note-average_2-13\">[13]</a></sup></td></tr><tr><td style=\"background:#54575A;width:10px\"></td><th colspan=\"1\" scope=\"row\" style=\"text-align:center\"><a href=\"#Season_3_(2013)\">3</a></th><td colspan=\"2\">10</td><td colspan=\"1\" style=\"padding:0.2em 0.4em\">March 31, 2013<span style=\"display:none\"> (<span class=\"bday dtstart published updated\">2013-03-31</span>)</span></td><td style=\"padding:0 8px\">June 9, 2013<span style=\"display:none\"> (<span class=\"dtend\">2013-06-09</span>)</span></td><td>4.97<sup class=\"reference\" id=\"cite_ref-14\"><a href=\"#cite_note-14\">[14]</a></sup></td></tr><tr><td style=\"background:#222222;width:10px\"></td><th colspan=\"1\" scope=\"row\" style=\"text-align:center\"><a href=\"#Season_4_(2014)\">4</a></th><td colspan=\"2\">10</td><td colspan=\"1\" style=\"padding:0.2em 0.4em\">April 6, 2014<span style=\"display:none\"> (<span class=\"bday dtstart published updated\">2014-04-06</span>)</span></td><td style=\"padding:0 8px\">June 15, 2014<span style=\"display:none\"> (<span class=\"dtend\">2014-06-15</span>)</span></td><td>6.84<sup class=\"reference\" id=\"cite_ref-15\"><a href=\"#cite_note-15\">[15]</a></sup></td></tr><tr><td style=\"background:#68411C;width:10px\"></td><th colspan=\"1\" scope=\"row\" style=\"text-align:center\"><a href=\"#Season_5_(2015)\">5</a></th><td colspan=\"2\">10</td><td colspan=\"1\" style=\"padding:0.2em 0.4em\">April 12, 2015<span style=\"display:none\"> (<span class=\"bday dtstart published updated\">2015-04-12</span>)</span></td><td style=\"padding:0 8px\">June 14, 2015<span style=\"display:none\"> (<span class=\"dtend\">2015-06-14</span>)</span></td><td>6.88<sup class=\"reference\" id=\"cite_ref-16\"><a href=\"#cite_note-16\">[16]</a></sup></td></tr><tr><td style=\"background:#31485C;width:10px\"></td><th colspan=\"1\" scope=\"row\" style=\"text-align:center\"><a href=\"#Season_6_(2016)\">6</a></th><td colspan=\"2\">10</td><td colspan=\"1\" style=\"padding:0.2em 0.4em\">April 24, 2016<span style=\"display:none\"> (<span class=\"bday dtstart published updated\">2016-04-24</span>)</span></td><td style=\"padding:0 8px\">June 26, 2016<span style=\"display:none\"> (<span class=\"dtend\">2016-06-26</span>)</span></td><td>7.69<sup class=\"reference\" id=\"cite_ref-17\"><a href=\"#cite_note-17\">[17]</a></sup></td></tr><tr><td style=\"background:#091411;width:10px\"></td><th colspan=\"1\" scope=\"row\" style=\"text-align:center\"><a href=\"#Season_7_(2017)\">7</a></th><td colspan=\"2\">7</td><td colspan=\"1\" style=\"padding:0.2em 0.4em\">July 16, 2017<span style=\"display:none\"> (<span class=\"bday dtstart published updated\">2017-07-16</span>)</span></td><td style=\"padding:0 8px\">August 27, 2017<span style=\"display:none\"> (<span class=\"dtend\">2017-08-27</span>)</span></td><td>10.26<sup class=\"reference\" id=\"cite_ref-18\"><a href=\"#cite_note-18\">[18]</a></sup></td></tr><tr><td style=\"background:#3D424A;width:10px\"></td><th colspan=\"1\" scope=\"row\" style=\"text-align:center\"><a href=\"#Season_8_(2019)\">8</a></th><td colspan=\"2\">6</td><td colspan=\"1\" style=\"padding:0.2em 0.4em\">April 14, 2019<span style=\"display:none\"> (<span class=\"bday dtstart published updated\">2019-04-14</span>)</span></td><td style=\"padding:0 8px\">May 19, 2019<span style=\"display:none\"> (<span class=\"dtend\">2019-05-19</span>)</span></td><td>11.99<sup class=\"reference\" id=\"cite_ref-19\"><a href=\"#cite_note-19\">[19]</a></sup></td></tr></tbody></table>\n",
       "<h2><span class=\"mw-headline\" id=\"Episodes\">Episodes</span><span class=\"mw-editsection\"><span class=\"mw-editsection-bracket\">[</span><a href=\"/w/index.php?title=List_of_Game_of_Thrones_episodes&amp;action=edit&amp;section=2\" title=\"Edit section: Episodes\">edit</a><span class=\"mw-editsection-bracket\">]</span></span></h2>\n",
       "<h3><span id=\"Season_1_.282011.29\"></span><span class=\"mw-headline\" id=\"Season_1_(2011)\">Season 1 (2011)</span><span class=\"mw-editsection\"><span class=\"mw-editsection-bracket\">[</span><a href=\"/w/index.php?title=List_of_Game_of_Thrones_episodes&amp;action=edit&amp;section=3\" title=\"Edit section: Season 1 (2011)\">edit</a><span class=\"mw-editsection-bracket\">]</span></span></h3>\n",
       "<div class=\"hatnote navigation-not-searchable\" role=\"note\">Main article: <a href=\"/wiki/Game_of_Thrones_(season_1)\" title=\"Game of Thrones (season 1)\">Game of Thrones (season 1)</a></div>\n",
       "<p>In the continent of <a class=\"mw-redirect\" href=\"/wiki/Westeros\" title=\"Westeros\">Westeros</a>, Warden of the North <a href=\"/wiki/Ned_Stark\" title=\"Ned Stark\">Eddard \"Ned\" Stark</a> becomes \"Hand of the King\" (chief adviser) to King <a href=\"/wiki/Robert_Baratheon\" title=\"Robert Baratheon\">Robert Baratheon</a>. When Ned's son <a href=\"/wiki/Bran_Stark\" title=\"Bran Stark\">Bran</a> stumbles upon <a href=\"/wiki/Cersei_Lannister\" title=\"Cersei Lannister\">Queen Cersei</a> having sex with her twin brother <a href=\"/wiki/Jaime_Lannister\" title=\"Jaime Lannister\">Jaime Lannister</a>, Jaime attempts to kill Bran but only succeeds in crippling him. Ned moves to King's Landing, the capital of the Seven Kingdoms, and discovers that Robert Baratheon's heir <a href=\"/wiki/Joffrey_Baratheon\" title=\"Joffrey Baratheon\">Prince Joffrey</a> and his siblings were in fact incestuously fathered by Jaime. When King Robert dies, Ned does not recognize Joffrey as the rightful heir and is executed. Ned's bastard son <a href=\"/wiki/Jon_Snow_(character)\" title=\"Jon Snow (character)\">Jon Snow</a> joins the Night's Watch, an ancient brotherhood sworn to watch over the massive <a class=\"mw-redirect\" href=\"/wiki/The_Wall_(A_Song_of_Ice_and_Fire)\" title=\"The Wall (A Song of Ice and Fire)\">Wall</a> in the North, which separates the Seven Kingdoms from hostile tribes known as \"<a class=\"mw-redirect\" href=\"/wiki/Wildlings\" title=\"Wildlings\">Wildlings</a>\" and mythological humanoid creatures known as \"<a href=\"/wiki/White_Walker\" title=\"White Walker\">White Walkers</a>\". In the continent of <a class=\"mw-redirect\" href=\"/wiki/Essos\" title=\"Essos\">Essos</a>, the exiled <a href=\"/wiki/Viserys_Targaryen\" title=\"Viserys Targaryen\">Viserys Targaryen</a>, son of <a class=\"mw-redirect\" href=\"/wiki/Aerys_Targaryen\" title=\"Aerys Targaryen\">King Aerys</a> who was deposed by King Robert, marries off his sister <a href=\"/wiki/Daenerys_Targaryen\" title=\"Daenerys Targaryen\">Daenerys</a> to the Dothraki warlord <a href=\"/wiki/Khal_Drogo\" title=\"Khal Drogo\">Khal Drogo</a>, in exchange for an army to return to and take over Westeros. Eventually Drogo kills Viserys and Drogo later dies himself. After Drogo dies, Daenerys manages to hatch three dragons.\n",
       "</p>\n",
       "<table class=\"wikitable plainrowheaders wikiepisodetable\" style=\"width:100%\"><tbody><tr style=\"color:white;text-align:center\"><th scope=\"col\" style=\"background:#295354;width:5%\"><abbr title=\"Number\">No.</abbr><br/>overall</th><th scope=\"col\" style=\"background:#295354;width:5%\"><abbr title=\"Number\">No.</abbr> in<br/>season</th><th scope=\"col\" style=\"background:#295354;width:23%\">Title</th><th scope=\"col\" style=\"background:#295354;width:17%\">Directed by</th><th scope=\"col\" style=\"background:#295354;width:27%\">Written by</th><th scope=\"col\" style=\"background:#295354;width:12%\">Original air date <span style=\"background-color:white;padding:1px;display:inline-block;line-height:50%\"><sup class=\"reference\" id=\"cite_ref-Futon_20-0\"><a href=\"#cite_note-Futon-20\">[20]</a></sup></span></th><th scope=\"col\" style=\"background:#295354;width:10%\">U.S. viewers<br/>(millions)</th></tr><tr class=\"vevent\" style=\"text-align:center;background:inherit\"><th id=\"ep1\" rowspan=\"1\" scope=\"row\" style=\"text-align:center\">1</th><td style=\"text-align:center\">1</td><td class=\"summary\" style=\"text-align:left\">\"<a href=\"/wiki/Winter_Is_Coming\" title=\"Winter Is Coming\">Winter Is Coming</a>\"</td><td style=\"text-align:center\"><a href=\"/wiki/Tim_Van_Patten\" title=\"Tim Van Patten\">Tim Van Patten</a></td><td style=\"text-align:center\"><a href=\"/wiki/David_Benioff\" title=\"David Benioff\">David Benioff</a> &amp; <a href=\"/wiki/D._B._Weiss\" title=\"D. B. Weiss\">D. B. Weiss</a></td><td style=\"text-align:center\">April 17, 2011<span style=\"display:none\"> (<span class=\"bday dtstart published updated\">2011-04-17</span>)</span></td><td style=\"text-align:center\">2.22<sup class=\"reference\" id=\"cite_ref-21\"><a href=\"#cite_note-21\">[21]</a></sup></td></tr>\n",
       "<tr class=\"vevent\" style=\"text-align:center;background:inherit\"><th id=\"ep2\" rowspan=\"1\" scope=\"row\" style=\"text-align:center\">2</th><td style=\"text-align:center\">2</td><td class=\"summary\" style=\"text-align:left\">\"<a href=\"/wiki/The_Kingsroad\" title=\"The Kingsroad\">The Kingsroad</a>\"</td><td style=\"text-align:center\">Tim Van Patten</td><td style=\"text-align:center\">David Benioff &amp; D. B. Weiss</td><td style=\"text-align:center\">April 24, 2011<span style=\"display:none\"> (<span class=\"bday dtstart published updated\">2011-04-24</span>)</span></td><td style=\"text-align:center\">2.20<sup class=\"reference\" id=\"cite_ref-22\"><a href=\"#cite_note-22\">[22]</a></sup></td></tr>\n",
       "<tr class=\"vevent\" style=\"text-align:center;background:inherit\"><th id=\"ep3\" rowspan=\"1\" scope=\"row\" style=\"text-align:center\">3</th><td style=\"text-align:center\">3</td><td class=\"summary\" style=\"text-align:left\">\"<a href=\"/wiki/Lord_Snow\" title=\"Lord Snow\">Lord Snow</a>\"</td><td style=\"text-align:center\"><a href=\"/wiki/Brian_Kirk\" title=\"Brian Kirk\">Brian Kirk</a></td><td style=\"text-align:center\">David Benioff &amp; D. B. Weiss</td><td style=\"text-align:center\">May 1, 2011<span style=\"display:none\"> (<span class=\"bday dtstart published updated\">2011-05-01</span>)</span></td><td style=\"text-align:center\">2.44<sup class=\"reference\" id=\"cite_ref-23\"><a href=\"#cite_note-23\">[23]</a></sup></td></tr>\n",
       "<tr class=\"vevent\" style=\"text-align:center;background:inherit\"><th id=\"ep4\" rowspan=\"1\" scope=\"row\" style=\"text-align:center\">4</th><td style=\"text-align:center\">4</td><td class=\"summary\" style=\"text-align:left\">\"<a href=\"/wiki/Cripples,_Bastards,_and_Broken_Things\" title=\"Cripples, Bastards, and Broken Things\">Cripples, Bastards, and Broken Things</a>\"</td><td style=\"text-align:center\">Brian Kirk</td><td style=\"text-align:center\"><a href=\"/wiki/Bryan_Cogman\" title=\"Bryan Cogman\">Bryan Cogman</a></td><td style=\"text-align:center\">May 8, 2011<span style=\"display:none\"> (<span class=\"bday dtstart published updated\">2011-05-08</span>)</span></td><td style=\"text-align:center\">2.45<sup class=\"reference\" id=\"cite_ref-24\"><a href=\"#cite_note-24\">[24]</a></sup></td></tr>\n",
       "<tr class=\"vevent\" style=\"text-align:center;background:inherit\"><th id=\"ep5\" rowspan=\"1\" scope=\"row\" style=\"text-align:center\">5</th><td style=\"text-align:center\">5</td><td class=\"summary\" style=\"text-align:left\">\"<a href=\"/wiki/The_Wolf_and_the_Lion\" title=\"The Wolf and the Lion\">The Wolf and the Lion</a>\"</td><td style=\"text-align:center\">Brian Kirk</td><td style=\"text-align:center\">David Benioff &amp; D. B. Weiss</td><td style=\"text-align:center\">May 15, 2011<span style=\"display:none\"> (<span class=\"bday dtstart published updated\">2011-05-15</span>)</span></td><td style=\"text-align:center\">2.58<sup class=\"reference\" id=\"cite_ref-25\"><a href=\"#cite_note-25\">[25]</a></sup></td></tr>\n",
       "<tr class=\"vevent\" style=\"text-align:center;background:inherit\"><th id=\"ep6\" rowspan=\"1\" scope=\"row\" style=\"text-align:center\">6</th><td style=\"text-align:center\">6</td><td class=\"summary\" style=\"text-align:left\">\"<a href=\"/wiki/A_Golden_Crown\" title=\"A Golden Crown\">A Golden Crown</a>\"</td><td style=\"text-align:center\"><a href=\"/wiki/Daniel_Minahan\" title=\"Daniel Minahan\">Daniel Minahan</a></td><td style=\"text-align:center\"><i>Story by</i> : David Benioff &amp; D. B. Weiss <br/><i>Teleplay by</i> : <a href=\"/wiki/Jane_Espenson\" title=\"Jane Espenson\">Jane Espenson</a> and David Benioff &amp; D. B. Weiss</td><td style=\"text-align:center\">May 22, 2011<span style=\"display:none\"> (<span class=\"bday dtstart published updated\">2011-05-22</span>)</span></td><td style=\"text-align:center\">2.44<sup class=\"reference\" id=\"cite_ref-26\"><a href=\"#cite_note-26\">[26]</a></sup></td></tr>\n",
       "<tr class=\"vevent\" style=\"text-align:center;background:inherit\"><th id=\"ep7\" rowspan=\"1\" scope=\"row\" style=\"text-align:center\">7</th><td style=\"text-align:center\">7</td><td class=\"summary\" style=\"text-align:left\">\"<a href=\"/wiki/You_Win_or_You_Die\" title=\"You Win or You Die\">You Win or You Die</a>\"</td><td style=\"text-align:center\"><span class=\"nowrap\">Daniel Minahan</span></td><td style=\"text-align:center\">David Benioff &amp; D. B. Weiss</td><td style=\"text-align:center\">May 29, 2011<span style=\"display:none\"> (<span class=\"bday dtstart published updated\">2011-05-29</span>)</span></td><td style=\"text-align:center\">2.40<sup class=\"reference\" id=\"cite_ref-27\"><a href=\"#cite_note-27\">[27]</a></sup></td></tr>\n",
       "<tr class=\"vevent\" style=\"text-align:center;background:inherit\"><th id=\"ep8\" rowspan=\"1\" scope=\"row\" style=\"text-align:center\">8</th><td style=\"text-align:center\">8</td><td class=\"summary\" style=\"text-align:left\">\"<a href=\"/wiki/The_Pointy_End\" title=\"The Pointy End\">The Pointy End</a>\"</td><td style=\"text-align:center\">Daniel Minahan</td><td style=\"text-align:center\"><a href=\"/wiki/George_R._R._Martin\" title=\"George R. R. Martin\">George R. R. Martin</a></td><td style=\"text-align:center\">June 5, 2011<span style=\"display:none\"> (<span class=\"bday dtstart published updated\">2011-06-05</span>)</span></td><td style=\"text-align:center\">2.72<sup class=\"reference\" id=\"cite_ref-28\"><a href=\"#cite_note-28\">[28]</a></sup></td></tr>\n",
       "<tr class=\"vevent\" style=\"text-align:center;background:inherit\"><th id=\"ep9\" rowspan=\"1\" scope=\"row\" style=\"text-align:center\">9</th><td style=\"text-align:center\">9</td><td class=\"summary\" style=\"text-align:left\">\"<a href=\"/wiki/Baelor\" title=\"Baelor\">Baelor</a>\"</td><td style=\"text-align:center\"><a href=\"/wiki/Alan_Taylor_(director)\" title=\"Alan Taylor (director)\">Alan Taylor</a></td><td style=\"text-align:center\">David Benioff &amp; D. B. Weiss</td><td style=\"text-align:center\">June 12, 2011<span style=\"display:none\"> (<span class=\"bday dtstart published updated\">2011-06-12</span>)</span></td><td style=\"text-align:center\">2.66<sup class=\"reference\" id=\"cite_ref-29\"><a href=\"#cite_note-29\">[29]</a></sup></td></tr>\n",
       "<tr class=\"vevent\" style=\"text-align:center;background:inherit\"><th id=\"ep10\" rowspan=\"1\" scope=\"row\" style=\"text-align:center\">10</th><td style=\"text-align:center\">10</td><td class=\"summary\" style=\"text-align:left\">\"<a href=\"/wiki/Fire_and_Blood_(Game_of_Thrones)\" title=\"Fire and Blood (Game of Thrones)\">Fire and Blood</a>\"</td><td style=\"text-align:center\">Alan Taylor</td><td style=\"text-align:center\">David Benioff &amp; D. B. Weiss</td><td style=\"text-align:center\">June 19, 2011<span style=\"display:none\"> (<span class=\"bday dtstart published updated\">2011-06-19</span>)</span></td><td style=\"text-align:center\">3.04<sup class=\"reference\" id=\"cite_ref-30\"><a href=\"#cite_note-30\">[30]</a></sup></td></tr></tbody></table>\n",
       "<h3><span id=\"Season_2_.282012.29\"></span><span class=\"mw-headline\" id=\"Season_2_(2012)\">Season 2 (2012)</span><span class=\"mw-editsection\"><span class=\"mw-editsection-bracket\">[</span><a href=\"/w/index.php?title=List_of_Game_of_Thrones_episodes&amp;action=edit&amp;section=4\" title=\"Edit section: Season 2 (2012)\">edit</a><span class=\"mw-editsection-bracket\">]</span></span></h3>\n",
       "<div class=\"hatnote navigation-not-searchable\" role=\"note\">Main article: <a href=\"/wiki/Game_of_Thrones_(season_2)\" title=\"Game of Thrones (season 2)\">Game of Thrones (season 2)</a></div>\n",
       "<p>Ned's oldest son <a href=\"/wiki/Robb_Stark\" title=\"Robb Stark\">Robb</a> has declared war on the Lannisters and holds Jaime prisoner. However, his mother <a href=\"/wiki/Catelyn_Stark\" title=\"Catelyn Stark\">Catelyn</a> secretly frees Jaime to ransom her daughters, <a href=\"/wiki/Sansa_Stark\" title=\"Sansa Stark\">Sansa</a> and <a href=\"/wiki/Arya_Stark\" title=\"Arya Stark\">Arya</a>, believed to be captives in King's Landing. Sansa is being regularly abused by her betrothed King Joffrey, while a disguised Arya escapes Lannister forces in Harrenhal. Ned's ward, <a href=\"/wiki/Theon_Greyjoy\" title=\"Theon Greyjoy\">Theon Greyjoy</a> sides with his father and seizes Winterfell, the Starks' ancestral home, though Bran and his brother <a href=\"/wiki/Rickon_Stark\" title=\"Rickon Stark\">Rickon</a> escape. Meanwhile, <a href=\"/wiki/Stannis_Baratheon\" title=\"Stannis Baratheon\">Stannis</a> and <a href=\"/wiki/Renly_Baratheon\" title=\"Renly Baratheon\">Renly Baratheon</a>, brothers of the deceased King Robert, claim the throne for themselves. Stannis has the support of <a href=\"/wiki/Melisandre\" title=\"Melisandre\">Melisandre</a>, a Red Priestess of the Lord of Light. Stannis kills Renly and attacks King's Landing, whose defense is successfully led by <a href=\"/wiki/Tyrion_Lannister\" title=\"Tyrion Lannister\">Tyrion Lannister</a>, the acting Hand of the King and Queen Cersei's younger brother. On a foray beyond the Wall, Jon Snow manages to gain the trust of Wildlings, while other members of the Watch come under attack by an army of White Walkers and their reanimated corpses. In Essos, Daenerys and her khalasar find refuge in Qarth. After foiling an attempt to steal her dragons, Daenerys leaves the city.\n",
       "</p>\n",
       "<table class=\"wikitable plainrowheaders wikiepisodetable\" style=\"width:100%\"><tbody><tr style=\"color:black;text-align:center\"><th scope=\"col\" style=\"background:#D09916;width:5%\"><abbr title=\"Number\">No.</abbr><br/>overall</th><th scope=\"col\" style=\"background:#D09916;width:5%\"><abbr title=\"Number\">No.</abbr> in<br/>season</th><th scope=\"col\" style=\"background:#D09916;width:23%\">Title</th><th scope=\"col\" style=\"background:#D09916;width:17%\">Directed by</th><th scope=\"col\" style=\"background:#D09916;width:27%\">Written by</th><th scope=\"col\" style=\"background:#D09916;width:12%\">Original air date <span style=\"background-color:white;padding:1px;display:inline-block;line-height:50%\"><sup class=\"reference\" id=\"cite_ref-Futon_20-1\"><a href=\"#cite_note-Futon-20\">[20]</a></sup></span></th><th scope=\"col\" style=\"background:#D09916;width:10%\">U.S. viewers<br/>(millions)</th></tr><tr class=\"vevent\" style=\"text-align:center;background:inherit\"><th id=\"ep11\" rowspan=\"1\" scope=\"row\" style=\"text-align:center\">11</th><td style=\"text-align:center\">1</td><td class=\"summary\" style=\"text-align:left\">\"<a href=\"/wiki/The_North_Remembers\" title=\"The North Remembers\">The North Remembers</a>\"</td><td style=\"text-align:center\"><a href=\"/wiki/Alan_Taylor_(director)\" title=\"Alan Taylor (director)\">Alan Taylor</a></td><td style=\"text-align:center\"><a href=\"/wiki/David_Benioff\" title=\"David Benioff\">David Benioff</a> &amp; <a href=\"/wiki/D._B._Weiss\" title=\"D. B. Weiss\">D. B. Weiss</a></td><td style=\"text-align:center\">April 1, 2012<span style=\"display:none\"> (<span class=\"bday dtstart published updated\">2012-04-01</span>)</span></td><td style=\"text-align:center\">3.86<sup class=\"reference\" id=\"cite_ref-31\"><a href=\"#cite_note-31\">[31]</a></sup></td></tr>\n",
       "<tr class=\"vevent\" style=\"text-align:center;background:inherit\"><th id=\"ep12\" rowspan=\"1\" scope=\"row\" style=\"text-align:center\">12</th><td style=\"text-align:center\">2</td><td class=\"summary\" style=\"text-align:left\">\"<a href=\"/wiki/The_Night_Lands\" title=\"The Night Lands\">The Night Lands</a>\"</td><td style=\"text-align:center\">Alan Taylor</td><td style=\"text-align:center\">David Benioff &amp; D. B. Weiss</td><td style=\"text-align:center\">April 8, 2012<span style=\"display:none\"> (<span class=\"bday dtstart published updated\">2012-04-08</span>)</span></td><td style=\"text-align:center\">3.76<sup class=\"reference\" id=\"cite_ref-32\"><a href=\"#cite_note-32\">[32]</a></sup></td></tr>\n",
       "<tr class=\"vevent\" style=\"text-align:center;background:inherit\"><th id=\"ep13\" rowspan=\"1\" scope=\"row\" style=\"text-align:center\">13</th><td style=\"text-align:center\">3</td><td class=\"summary\" style=\"text-align:left\">\"<a href=\"/wiki/What_Is_Dead_May_Never_Die\" title=\"What Is Dead May Never Die\">What Is Dead May Never Die</a>\"</td><td style=\"text-align:center\"><a href=\"/wiki/Alik_Sakharov\" title=\"Alik Sakharov\">Alik Sakharov</a></td><td style=\"text-align:center\"><a href=\"/wiki/Bryan_Cogman\" title=\"Bryan Cogman\">Bryan Cogman</a></td><td style=\"text-align:center\">April 15, 2012<span style=\"display:none\"> (<span class=\"bday dtstart published updated\">2012-04-15</span>)</span></td><td style=\"text-align:center\">3.77<sup class=\"reference\" id=\"cite_ref-33\"><a href=\"#cite_note-33\">[33]</a></sup></td></tr>\n",
       "<tr class=\"vevent\" style=\"text-align:center;background:inherit\"><th id=\"ep14\" rowspan=\"1\" scope=\"row\" style=\"text-align:center\">14</th><td style=\"text-align:center\">4</td><td class=\"summary\" style=\"text-align:left\">\"<a href=\"/wiki/Garden_of_Bones\" title=\"Garden of Bones\">Garden of Bones</a>\"</td><td style=\"text-align:center\"><a href=\"/wiki/David_Petrarca\" title=\"David Petrarca\">David Petrarca</a></td><td style=\"text-align:center\"><a href=\"/wiki/Vanessa_Taylor\" title=\"Vanessa Taylor\">Vanessa Taylor</a></td><td style=\"text-align:center\">April 22, 2012<span style=\"display:none\"> (<span class=\"bday dtstart published updated\">2012-04-22</span>)</span></td><td style=\"text-align:center\">3.65<sup class=\"reference\" id=\"cite_ref-34\"><a href=\"#cite_note-34\">[34]</a></sup></td></tr>\n",
       "<tr class=\"vevent\" style=\"text-align:center;background:inherit\"><th id=\"ep15\" rowspan=\"1\" scope=\"row\" style=\"text-align:center\">15</th><td style=\"text-align:center\">5</td><td class=\"summary\" style=\"text-align:left\">\"<a href=\"/wiki/The_Ghost_of_Harrenhal\" title=\"The Ghost of Harrenhal\">The Ghost of Harrenhal</a>\"</td><td style=\"text-align:center\">David Petrarca</td><td style=\"text-align:center\">David Benioff &amp; D. B. Weiss</td><td style=\"text-align:center\">April 29, 2012<span style=\"display:none\"> (<span class=\"bday dtstart published updated\">2012-04-29</span>)</span></td><td style=\"text-align:center\">3.90<sup class=\"reference\" id=\"cite_ref-35\"><a href=\"#cite_note-35\">[35]</a></sup></td></tr>\n",
       "<tr class=\"vevent\" style=\"text-align:center;background:inherit\"><th id=\"ep16\" rowspan=\"1\" scope=\"row\" style=\"text-align:center\">16</th><td style=\"text-align:center\">6</td><td class=\"summary\" style=\"text-align:left\">\"<a href=\"/wiki/The_Old_Gods_and_the_New\" title=\"The Old Gods and the New\">The Old Gods and the New</a>\"</td><td style=\"text-align:center\"><a href=\"/wiki/David_Nutter\" title=\"David Nutter\">David Nutter</a></td><td style=\"text-align:center\">Vanessa Taylor</td><td style=\"text-align:center\">May 6, 2012<span style=\"display:none\"> (<span class=\"bday dtstart published updated\">2012-05-06</span>)</span></td><td style=\"text-align:center\">3.88<sup class=\"reference\" id=\"cite_ref-36\"><a href=\"#cite_note-36\">[36]</a></sup></td></tr>\n",
       "<tr class=\"vevent\" style=\"text-align:center;background:inherit\"><th id=\"ep17\" rowspan=\"1\" scope=\"row\" style=\"text-align:center\">17</th><td style=\"text-align:center\">7</td><td class=\"summary\" style=\"text-align:left\">\"<a href=\"/wiki/A_Man_Without_Honor\" title=\"A Man Without Honor\">A Man Without Honor</a>\"</td><td style=\"text-align:center\">David Nutter</td><td style=\"text-align:center\">David Benioff &amp; D. B. Weiss</td><td style=\"text-align:center\">May 13, 2012<span style=\"display:none\"> (<span class=\"bday dtstart published updated\">2012-05-13</span>)</span></td><td style=\"text-align:center\">3.69<sup class=\"reference\" id=\"cite_ref-37\"><a href=\"#cite_note-37\">[37]</a></sup></td></tr>\n",
       "<tr class=\"vevent\" style=\"text-align:center;background:inherit\"><th id=\"ep18\" rowspan=\"1\" scope=\"row\" style=\"text-align:center\">18</th><td style=\"text-align:center\">8</td><td class=\"summary\" style=\"text-align:left\">\"<a href=\"/wiki/The_Prince_of_Winterfell\" title=\"The Prince of Winterfell\">The Prince of Winterfell</a>\"</td><td style=\"text-align:center\">Alan Taylor</td><td style=\"text-align:center\">David Benioff &amp; D. B. Weiss</td><td style=\"text-align:center\">May 20, 2012<span style=\"display:none\"> (<span class=\"bday dtstart published updated\">2012-05-20</span>)</span></td><td style=\"text-align:center\">3.86<sup class=\"reference\" id=\"cite_ref-38\"><a href=\"#cite_note-38\">[38]</a></sup></td></tr>\n",
       "<tr class=\"vevent\" style=\"text-align:center;background:inherit\"><th id=\"ep19\" rowspan=\"1\" scope=\"row\" style=\"text-align:center\">19</th><td style=\"text-align:center\">9</td><td class=\"summary\" style=\"text-align:left\">\"<a href=\"/wiki/Blackwater_(Game_of_Thrones)\" title=\"Blackwater (Game of Thrones)\">Blackwater</a>\"</td><td style=\"text-align:center\"><a href=\"/wiki/Neil_Marshall\" title=\"Neil Marshall\">Neil Marshall</a></td><td style=\"text-align:center\"><a href=\"/wiki/George_R._R._Martin\" title=\"George R. R. Martin\">George R. R. Martin</a></td><td style=\"text-align:center\">May 27, 2012<span style=\"display:none\"> (<span class=\"bday dtstart published updated\">2012-05-27</span>)</span></td><td style=\"text-align:center\">3.38<sup class=\"reference\" id=\"cite_ref-39\"><a href=\"#cite_note-39\">[39]</a></sup></td></tr>\n",
       "<tr class=\"vevent\" style=\"text-align:center;background:inherit\"><th id=\"ep20\" rowspan=\"1\" scope=\"row\" style=\"text-align:center\">20</th><td style=\"text-align:center\">10</td><td class=\"summary\" style=\"text-align:left\">\"<a href=\"/wiki/Valar_Morghulis\" title=\"Valar Morghulis\">Valar Morghulis</a>\"</td><td style=\"text-align:center\">Alan Taylor</td><td style=\"text-align:center\">David Benioff &amp; D. B. Weiss</td><td style=\"text-align:center\">June 3, 2012<span style=\"display:none\"> (<span class=\"bday dtstart published updated\">2012-06-03</span>)</span></td><td style=\"text-align:center\">4.20<sup class=\"reference\" id=\"cite_ref-40\"><a href=\"#cite_note-40\">[40]</a></sup></td></tr></tbody></table>\n",
       "<h3><span id=\"Season_3_.282013.29\"></span><span class=\"mw-headline\" id=\"Season_3_(2013)\">Season 3 (2013)</span><span class=\"mw-editsection\"><span class=\"mw-editsection-bracket\">[</span><a href=\"/w/index.php?title=List_of_Game_of_Thrones_episodes&amp;action=edit&amp;section=5\" title=\"Edit section: Season 3 (2013)\">edit</a><span class=\"mw-editsection-bracket\">]</span></span></h3>\n",
       "<div class=\"hatnote navigation-not-searchable\" role=\"note\">Main article: <a href=\"/wiki/Game_of_Thrones_(season_3)\" title=\"Game of Thrones (season 3)\">Game of Thrones (season 3)</a></div>\n",
       "<p>After Robb breaks his vow to marry one of <a class=\"mw-redirect\" href=\"/wiki/Walder_Frey\" title=\"Walder Frey\">Lord Walder Frey</a>'s daughters, Frey arranges the massacre of Robb, his mother, his wife, his unborn child and his bannermen, during a wedding feast. The northern House Bolton, which had liberated Winterfell from Theon at Robb's request, also betrays the Starks. After Robb's death, <a href=\"/wiki/Roose_Bolton\" title=\"Roose Bolton\">Lord Roose Bolton</a> is appointed the new Warden of the North by <a href=\"/wiki/Tywin_Lannister\" title=\"Tywin Lannister\">Lord Tywin Lannister</a>, the head of House Lannister and new Hand of the King. In Dreadfort, the Boltons' ancestral castle, Theon is tortured by Roose Bolton's bastard son <a class=\"mw-redirect\" href=\"/wiki/Ramsay_Snow\" title=\"Ramsay Snow\">Ramsay Snow</a>. Further north, Jon Snow climbs the Wall with a Wildling party and ends up on its south side, but then betrays them. In the capital, King Joffrey has decided to marry <a href=\"/wiki/Margaery_Tyrell\" title=\"Margaery Tyrell\">Margaery</a> of House Tyrell, setting Sansa aside. Lord Tywin, however, arranges Sansa's marriage with his son Tyrion. Jaime reaches King's Landing, having had his dominant hand cut off. In Essos, Daenerys acquires \"The Unsullied\", an army of eunuch slave soldiers. She also joins forces with the \"Second Sons\", a company of mercenaries, and takes over two cities.\n",
       "</p>\n",
       "<table class=\"wikitable plainrowheaders wikiepisodetable\" style=\"width:100%\"><tbody><tr style=\"color:white;text-align:center\"><th scope=\"col\" style=\"background:#54575A;width:5%\"><abbr title=\"Number\">No.</abbr><br/>overall</th><th scope=\"col\" style=\"background:#54575A;width:5%\"><abbr title=\"Number\">No.</abbr> in<br/>season</th><th scope=\"col\" style=\"background:#54575A;width:23%\">Title</th><th scope=\"col\" style=\"background:#54575A;width:17%\">Directed by</th><th scope=\"col\" style=\"background:#54575A;width:27%\">Written by</th><th scope=\"col\" style=\"background:#54575A;width:12%\">Original air date <span style=\"background-color:white;padding:1px;display:inline-block;line-height:50%\"><sup class=\"reference\" id=\"cite_ref-Futon_20-2\"><a href=\"#cite_note-Futon-20\">[20]</a></sup></span></th><th scope=\"col\" style=\"background:#54575A;width:10%\">U.S. viewers<br/>(millions)</th></tr><tr class=\"vevent\" style=\"text-align:center;background:inherit\"><th id=\"ep21\" rowspan=\"1\" scope=\"row\" style=\"text-align:center\">21</th><td style=\"text-align:center\">1</td><td class=\"summary\" style=\"text-align:left\">\"<a href=\"/wiki/Valar_Dohaeris\" title=\"Valar Dohaeris\">Valar Dohaeris</a>\"</td><td style=\"text-align:center\"><a href=\"/wiki/Daniel_Minahan\" title=\"Daniel Minahan\">Daniel Minahan</a></td><td style=\"text-align:center\"><a href=\"/wiki/David_Benioff\" title=\"David Benioff\">David Benioff</a> &amp; <a href=\"/wiki/D._B._Weiss\" title=\"D. B. Weiss\">D. B. Weiss</a></td><td style=\"text-align:center\">March 31, 2013<span style=\"display:none\"> (<span class=\"bday dtstart published updated\">2013-03-31</span>)</span></td><td style=\"text-align:center\">4.37<sup class=\"reference\" id=\"cite_ref-41\"><a href=\"#cite_note-41\">[41]</a></sup></td></tr>\n",
       "<tr class=\"vevent\" style=\"text-align:center;background:inherit\"><th id=\"ep22\" rowspan=\"1\" scope=\"row\" style=\"text-align:center\">22</th><td style=\"text-align:center\">2</td><td class=\"summary\" style=\"text-align:left\">\"<a href=\"/wiki/Dark_Wings,_Dark_Words\" title=\"Dark Wings, Dark Words\">Dark Wings, Dark Words</a>\"</td><td style=\"text-align:center\">Daniel Minahan</td><td style=\"text-align:center\"><a href=\"/wiki/Vanessa_Taylor\" title=\"Vanessa Taylor\">Vanessa Taylor</a></td><td style=\"text-align:center\">April 7, 2013<span style=\"display:none\"> (<span class=\"bday dtstart published updated\">2013-04-07</span>)</span></td><td style=\"text-align:center\">4.27<sup class=\"reference\" id=\"cite_ref-42\"><a href=\"#cite_note-42\">[42]</a></sup></td></tr>\n",
       "<tr class=\"vevent\" style=\"text-align:center;background:inherit\"><th id=\"ep23\" rowspan=\"1\" scope=\"row\" style=\"text-align:center\">23</th><td style=\"text-align:center\">3</td><td class=\"summary\" style=\"text-align:left\">\"<a href=\"/wiki/Walk_of_Punishment\" title=\"Walk of Punishment\">Walk of Punishment</a>\"</td><td style=\"text-align:center\">David Benioff</td><td style=\"text-align:center\">David Benioff &amp; D. B. Weiss</td><td style=\"text-align:center\">April 14, 2013<span style=\"display:none\"> (<span class=\"bday dtstart published updated\">2013-04-14</span>)</span></td><td style=\"text-align:center\">4.72<sup class=\"reference\" id=\"cite_ref-43\"><a href=\"#cite_note-43\">[43]</a></sup></td></tr>\n",
       "<tr class=\"vevent\" style=\"text-align:center;background:inherit\"><th id=\"ep24\" rowspan=\"1\" scope=\"row\" style=\"text-align:center\">24</th><td style=\"text-align:center\">4</td><td class=\"summary\" style=\"text-align:left\">\"<a href=\"/wiki/And_Now_His_Watch_Is_Ended\" title=\"And Now His Watch Is Ended\">And Now His Watch Is Ended</a>\"</td><td style=\"text-align:center\"><a href=\"/wiki/Alex_Graves\" title=\"Alex Graves\">Alex Graves</a></td><td style=\"text-align:center\">David Benioff &amp; D. B. Weiss</td><td style=\"text-align:center\">April 21, 2013<span style=\"display:none\"> (<span class=\"bday dtstart published updated\">2013-04-21</span>)</span></td><td style=\"text-align:center\">4.87<sup class=\"reference\" id=\"cite_ref-44\"><a href=\"#cite_note-44\">[44]</a></sup></td></tr>\n",
       "<tr class=\"vevent\" style=\"text-align:center;background:inherit\"><th id=\"ep25\" rowspan=\"1\" scope=\"row\" style=\"text-align:center\">25</th><td style=\"text-align:center\">5</td><td class=\"summary\" style=\"text-align:left\">\"<a href=\"/wiki/Kissed_by_Fire\" title=\"Kissed by Fire\">Kissed by Fire</a>\"</td><td style=\"text-align:center\">Alex Graves</td><td style=\"text-align:center\"><a href=\"/wiki/Bryan_Cogman\" title=\"Bryan Cogman\">Bryan Cogman</a></td><td style=\"text-align:center\">April 28, 2013<span style=\"display:none\"> (<span class=\"bday dtstart published updated\">2013-04-28</span>)</span></td><td style=\"text-align:center\">5.35<sup class=\"reference\" id=\"cite_ref-45\"><a href=\"#cite_note-45\">[45]</a></sup></td></tr>\n",
       "<tr class=\"vevent\" style=\"text-align:center;background:inherit\"><th id=\"ep26\" rowspan=\"1\" scope=\"row\" style=\"text-align:center\">26</th><td style=\"text-align:center\">6</td><td class=\"summary\" style=\"text-align:left\">\"<a href=\"/wiki/The_Climb_(Game_of_Thrones)\" title=\"The Climb (Game of Thrones)\">The Climb</a>\"</td><td style=\"text-align:center\"><a href=\"/wiki/Alik_Sakharov\" title=\"Alik Sakharov\">Alik Sakharov</a></td><td style=\"text-align:center\">David Benioff &amp; D. B. Weiss</td><td style=\"text-align:center\">May 5, 2013<span style=\"display:none\"> (<span class=\"bday dtstart published updated\">2013-05-05</span>)</span></td><td style=\"text-align:center\">5.50<sup class=\"reference\" id=\"cite_ref-46\"><a href=\"#cite_note-46\">[46]</a></sup></td></tr>\n",
       "<tr class=\"vevent\" style=\"text-align:center;background:inherit\"><th id=\"ep27\" rowspan=\"1\" scope=\"row\" style=\"text-align:center\">27</th><td style=\"text-align:center\">7</td><td class=\"summary\" style=\"text-align:left\">\"<a href=\"/wiki/The_Bear_and_the_Maiden_Fair\" title=\"The Bear and the Maiden Fair\">The Bear and the Maiden Fair</a>\"</td><td style=\"text-align:center\"><a href=\"/wiki/Michelle_MacLaren\" title=\"Michelle MacLaren\">Michelle MacLaren</a></td><td style=\"text-align:center\"><a href=\"/wiki/George_R._R._Martin\" title=\"George R. R. Martin\">George R. R. Martin</a></td><td style=\"text-align:center\">May 12, 2013<span style=\"display:none\"> (<span class=\"bday dtstart published updated\">2013-05-12</span>)</span></td><td style=\"text-align:center\">4.84<sup class=\"reference\" id=\"cite_ref-47\"><a href=\"#cite_note-47\">[47]</a></sup></td></tr>\n",
       "<tr class=\"vevent\" style=\"text-align:center;background:inherit\"><th id=\"ep28\" rowspan=\"1\" scope=\"row\" style=\"text-align:center\">28</th><td style=\"text-align:center\">8</td><td class=\"summary\" style=\"text-align:left\">\"<a href=\"/wiki/Second_Sons\" title=\"Second Sons\">Second Sons</a>\"</td><td style=\"text-align:center\">Michelle MacLaren</td><td style=\"text-align:center\">David Benioff &amp; D. B. Weiss</td><td style=\"text-align:center\">May 19, 2013<span style=\"display:none\"> (<span class=\"bday dtstart published updated\">2013-05-19</span>)</span></td><td style=\"text-align:center\">5.13<sup class=\"reference\" id=\"cite_ref-48\"><a href=\"#cite_note-48\">[48]</a></sup></td></tr>\n",
       "<tr class=\"vevent\" style=\"text-align:center;background:inherit\"><th id=\"ep29\" rowspan=\"1\" scope=\"row\" style=\"text-align:center\">29</th><td style=\"text-align:center\">9</td><td class=\"summary\" style=\"text-align:left\">\"<a href=\"/wiki/The_Rains_of_Castamere\" title=\"The Rains of Castamere\">The Rains of Castamere</a>\"</td><td style=\"text-align:center\"><a href=\"/wiki/David_Nutter\" title=\"David Nutter\">David Nutter</a></td><td style=\"text-align:center\">David Benioff &amp; D. B. Weiss</td><td style=\"text-align:center\">June 2, 2013<span style=\"display:none\"> (<span class=\"bday dtstart published updated\">2013-06-02</span>)</span></td><td style=\"text-align:center\">5.22<sup class=\"reference\" id=\"cite_ref-49\"><a href=\"#cite_note-49\">[49]</a></sup></td></tr>\n",
       "<tr class=\"vevent\" style=\"text-align:center;background:inherit\"><th id=\"ep30\" rowspan=\"1\" scope=\"row\" style=\"text-align:center\">30</th><td style=\"text-align:center\">10</td><td class=\"summary\" style=\"text-align:left\">\"<a href=\"/wiki/Mhysa\" title=\"Mhysa\">Mhysa</a>\"</td><td style=\"text-align:center\">David Nutter</td><td style=\"text-align:center\">David Benioff &amp; D. B. Weiss</td><td style=\"text-align:center\">June 9, 2013<span style=\"display:none\"> (<span class=\"bday dtstart published updated\">2013-06-09</span>)</span></td><td style=\"text-align:center\">5.39<sup class=\"reference\" id=\"cite_ref-50\"><a href=\"#cite_note-50\">[50]</a></sup></td></tr></tbody></table>\n",
       "<h3><span id=\"Season_4_.282014.29\"></span><span class=\"mw-headline\" id=\"Season_4_(2014)\">Season 4 (2014)</span><span class=\"mw-editsection\"><span class=\"mw-editsection-bracket\">[</span><a href=\"/w/index.php?title=List_of_Game_of_Thrones_episodes&amp;action=edit&amp;section=6\" title=\"Edit section: Season 4 (2014)\">edit</a><span class=\"mw-editsection-bracket\">]</span></span></h3>\n",
       "<div class=\"hatnote navigation-not-searchable\" role=\"note\">Main article: <a href=\"/wiki/Game_of_Thrones_(season_4)\" title=\"Game of Thrones (season 4)\">Game of Thrones (season 4)</a></div>\n",
       "<p>In King's Landing, <a href=\"/wiki/Olenna_Tyrell\" title=\"Olenna Tyrell\">Lady Olenna</a> secretly poisons King Joffrey at his wedding with her granddaughter Margaery, but Tyrion is falsely accused of the murder by his family, and is found guilty. However, Jaime and <a href=\"/wiki/Varys\" title=\"Varys\">Varys</a> conspire to smuggle Tyrion to Essos. Tyrion kills his father Tywin before leaving. <a href=\"/wiki/Petyr_Baelish\" title=\"Petyr Baelish\">Petyr Baelish</a> smuggles Sansa into the Vale, ruled by her aunt and his lover, the widowed <a class=\"mw-redirect\" href=\"/wiki/Lysa_Arryn\" title=\"Lysa Arryn\">Lysa Arryn</a>. Baelish marries Lysa but later kills her. After attempting to reunite with her family, Arya takes a ship bound for Braavos, in Essos. Having returned to the Night's Watch, Jon Snow defends Castle Black against an army of Wildlings, who are superior in strength. The Watch is rescued by the arrival of Stannis Baratheon and his forces. A crippled Bran with newfound powers travels north beyond the Wall with a few companions. Beneath a weirwood tree, he finds the <a class=\"mw-redirect\" href=\"/wiki/Three-eyed_Raven\" title=\"Three-eyed Raven\">Three-eyed Raven</a>, an old man with the ability to perceive future and past. In Essos, Daenerys takes control of Meereen and abolishes slavery. When she discovers that her trusted advisor, <a class=\"mw-redirect\" href=\"/wiki/Ser_Jorah_Mormont\" title=\"Ser Jorah Mormont\">Ser Jorah Mormont</a>, had spied on her for Robert Baratheon, she exiles him.\n",
       "</p>\n",
       "<table class=\"wikitable plainrowheaders wikiepisodetable\" style=\"width:100%\"><tbody><tr style=\"color:white;text-align:center\"><th scope=\"col\" style=\"background:#222222;width:5%\"><abbr title=\"Number\">No.</abbr><br/>overall</th><th scope=\"col\" style=\"background:#222222;width:5%\"><abbr title=\"Number\">No.</abbr> in<br/>season</th><th scope=\"col\" style=\"background:#222222;width:23%\">Title</th><th scope=\"col\" style=\"background:#222222;width:17%\">Directed by</th><th scope=\"col\" style=\"background:#222222;width:27%\">Written by</th><th scope=\"col\" style=\"background:#222222;width:12%\">Original air date <span style=\"background-color:white;padding:1px;display:inline-block;line-height:50%\"><sup class=\"reference\" id=\"cite_ref-Futon_20-3\"><a href=\"#cite_note-Futon-20\">[20]</a></sup></span></th><th scope=\"col\" style=\"background:#222222;width:10%\">U.S. viewers<br/>(millions)</th></tr><tr class=\"vevent\" style=\"text-align:center;background:inherit\"><th id=\"ep31\" rowspan=\"1\" scope=\"row\" style=\"text-align:center\">31</th><td style=\"text-align:center\">1</td><td class=\"summary\" style=\"text-align:left\">\"<a href=\"/wiki/Two_Swords_(Game_of_Thrones)\" title=\"Two Swords (Game of Thrones)\">Two Swords</a>\"</td><td style=\"text-align:center\"><a href=\"/wiki/D._B._Weiss\" title=\"D. B. Weiss\">D. B. Weiss</a></td><td style=\"text-align:center\"><a href=\"/wiki/David_Benioff\" title=\"David Benioff\">David Benioff</a> &amp; D. B. Weiss</td><td style=\"text-align:center\">April 6, 2014<span style=\"display:none\"> (<span class=\"bday dtstart published updated\">2014-04-06</span>)</span></td><td style=\"text-align:center\">6.64<sup class=\"reference\" id=\"cite_ref-51\"><a href=\"#cite_note-51\">[51]</a></sup></td></tr>\n",
       "<tr class=\"vevent\" style=\"text-align:center;background:inherit\"><th id=\"ep32\" rowspan=\"1\" scope=\"row\" style=\"text-align:center\">32</th><td style=\"text-align:center\">2</td><td class=\"summary\" style=\"text-align:left\">\"<a href=\"/wiki/The_Lion_and_the_Rose\" title=\"The Lion and the Rose\">The Lion and the Rose</a>\"</td><td style=\"text-align:center\"><a href=\"/wiki/Alex_Graves\" title=\"Alex Graves\">Alex Graves</a></td><td style=\"text-align:center\"><a href=\"/wiki/George_R._R._Martin\" title=\"George R. R. Martin\">George R. R. Martin</a></td><td style=\"text-align:center\">April 13, 2014<span style=\"display:none\"> (<span class=\"bday dtstart published updated\">2014-04-13</span>)</span></td><td style=\"text-align:center\">6.31<sup class=\"reference\" id=\"cite_ref-52\"><a href=\"#cite_note-52\">[52]</a></sup></td></tr>\n",
       "<tr class=\"vevent\" style=\"text-align:center;background:inherit\"><th id=\"ep33\" rowspan=\"1\" scope=\"row\" style=\"text-align:center\">33</th><td style=\"text-align:center\">3</td><td class=\"summary\" style=\"text-align:left\">\"<a href=\"/wiki/Breaker_of_Chains\" title=\"Breaker of Chains\">Breaker of Chains</a>\"</td><td style=\"text-align:center\">Alex Graves</td><td style=\"text-align:center\">David Benioff &amp; D. B. Weiss</td><td style=\"text-align:center\">April 20, 2014<span style=\"display:none\"> (<span class=\"bday dtstart published updated\">2014-04-20</span>)</span></td><td style=\"text-align:center\">6.59<sup class=\"reference\" id=\"cite_ref-53\"><a href=\"#cite_note-53\">[53]</a></sup></td></tr>\n",
       "<tr class=\"vevent\" style=\"text-align:center;background:inherit\"><th id=\"ep34\" rowspan=\"1\" scope=\"row\" style=\"text-align:center\">34</th><td style=\"text-align:center\">4</td><td class=\"summary\" style=\"text-align:left\">\"<a href=\"/wiki/Oathkeeper\" title=\"Oathkeeper\">Oathkeeper</a>\"</td><td style=\"text-align:center\"><a href=\"/wiki/Michelle_MacLaren\" title=\"Michelle MacLaren\">Michelle MacLaren</a></td><td style=\"text-align:center\"><a href=\"/wiki/Bryan_Cogman\" title=\"Bryan Cogman\">Bryan Cogman</a></td><td style=\"text-align:center\">April 27, 2014<span style=\"display:none\"> (<span class=\"bday dtstart published updated\">2014-04-27</span>)</span></td><td style=\"text-align:center\">6.95<sup class=\"reference\" id=\"cite_ref-54\"><a href=\"#cite_note-54\">[54]</a></sup></td></tr>\n",
       "<tr class=\"vevent\" style=\"text-align:center;background:inherit\"><th id=\"ep35\" rowspan=\"1\" scope=\"row\" style=\"text-align:center\">35</th><td style=\"text-align:center\">5</td><td class=\"summary\" style=\"text-align:left\">\"<a href=\"/wiki/First_of_His_Name\" title=\"First of His Name\">First of His Name</a>\"</td><td style=\"text-align:center\">Michelle MacLaren</td><td style=\"text-align:center\">David Benioff &amp; D. B. Weiss</td><td style=\"text-align:center\">May 4, 2014<span style=\"display:none\"> (<span class=\"bday dtstart published updated\">2014-05-04</span>)</span></td><td style=\"text-align:center\">7.16<sup class=\"reference\" id=\"cite_ref-55\"><a href=\"#cite_note-55\">[55]</a></sup></td></tr>\n",
       "<tr class=\"vevent\" style=\"text-align:center;background:inherit\"><th id=\"ep36\" rowspan=\"1\" scope=\"row\" style=\"text-align:center\">36</th><td style=\"text-align:center\">6</td><td class=\"summary\" style=\"text-align:left\">\"<a href=\"/wiki/The_Laws_of_Gods_and_Men\" title=\"The Laws of Gods and Men\">The Laws of Gods and Men</a>\"</td><td style=\"text-align:center\"><a href=\"/wiki/Alik_Sakharov\" title=\"Alik Sakharov\">Alik Sakharov</a></td><td style=\"text-align:center\">Bryan Cogman</td><td style=\"text-align:center\">May 11, 2014<span style=\"display:none\"> (<span class=\"bday dtstart published updated\">2014-05-11</span>)</span></td><td style=\"text-align:center\">6.40<sup class=\"reference\" id=\"cite_ref-56\"><a href=\"#cite_note-56\">[56]</a></sup></td></tr>\n",
       "<tr class=\"vevent\" style=\"text-align:center;background:inherit\"><th id=\"ep37\" rowspan=\"1\" scope=\"row\" style=\"text-align:center\">37</th><td style=\"text-align:center\">7</td><td class=\"summary\" style=\"text-align:left\">\"<a href=\"/wiki/Mockingbird_(Game_of_Thrones)\" title=\"Mockingbird (Game of Thrones)\">Mockingbird</a>\"</td><td style=\"text-align:center\">Alik Sakharov</td><td style=\"text-align:center\">David Benioff &amp; D. B. Weiss</td><td style=\"text-align:center\">May 18, 2014<span style=\"display:none\"> (<span class=\"bday dtstart published updated\">2014-05-18</span>)</span></td><td style=\"text-align:center\">7.20<sup class=\"reference\" id=\"cite_ref-57\"><a href=\"#cite_note-57\">[57]</a></sup></td></tr>\n",
       "<tr class=\"vevent\" style=\"text-align:center;background:inherit\"><th id=\"ep38\" rowspan=\"1\" scope=\"row\" style=\"text-align:center\">38</th><td style=\"text-align:center\">8</td><td class=\"summary\" style=\"text-align:left\">\"<a href=\"/wiki/The_Mountain_and_the_Viper\" title=\"The Mountain and the Viper\">The Mountain and the Viper</a>\"</td><td style=\"text-align:center\">Alex Graves</td><td style=\"text-align:center\">David Benioff &amp; D. B. Weiss</td><td style=\"text-align:center\">June 1, 2014<span style=\"display:none\"> (<span class=\"bday dtstart published updated\">2014-06-01</span>)</span></td><td style=\"text-align:center\">7.17<sup class=\"reference\" id=\"cite_ref-58\"><a href=\"#cite_note-58\">[58]</a></sup></td></tr>\n",
       "<tr class=\"vevent\" style=\"text-align:center;background:inherit\"><th id=\"ep39\" rowspan=\"1\" scope=\"row\" style=\"text-align:center\">39</th><td style=\"text-align:center\">9</td><td class=\"summary\" style=\"text-align:left\">\"<a href=\"/wiki/The_Watchers_on_the_Wall\" title=\"The Watchers on the Wall\">The Watchers on the Wall</a>\"</td><td style=\"text-align:center\"><a href=\"/wiki/Neil_Marshall\" title=\"Neil Marshall\">Neil Marshall</a></td><td style=\"text-align:center\">David Benioff &amp; D. B. Weiss</td><td style=\"text-align:center\">June 8, 2014<span style=\"display:none\"> (<span class=\"bday dtstart published updated\">2014-06-08</span>)</span></td><td style=\"text-align:center\">6.95<sup class=\"reference\" id=\"cite_ref-59\"><a href=\"#cite_note-59\">[59]</a></sup></td></tr>\n",
       "<tr class=\"vevent\" style=\"text-align:center;background:inherit\"><th id=\"ep40\" rowspan=\"1\" scope=\"row\" style=\"text-align:center\">40</th><td style=\"text-align:center\">10</td><td class=\"summary\" style=\"text-align:left\">\"<a href=\"/wiki/The_Children_(Game_of_Thrones)\" title=\"The Children (Game of Thrones)\">The Children</a>\"</td><td style=\"text-align:center\">Alex Graves</td><td style=\"text-align:center\">David Benioff &amp; D. B. Weiss</td><td style=\"text-align:center\">June 15, 2014<span style=\"display:none\"> (<span class=\"bday dtstart published updated\">2014-06-15</span>)</span></td><td style=\"text-align:center\">7.09<sup class=\"reference\" id=\"cite_ref-60\"><a href=\"#cite_note-60\">[60]</a></sup></td></tr></tbody></table>\n",
       "<h3><span id=\"Season_5_.282015.29\"></span><span class=\"mw-headline\" id=\"Season_5_(2015)\">Season 5 (2015)</span><span class=\"mw-editsection\"><span class=\"mw-editsection-bracket\">[</span><a href=\"/w/index.php?title=List_of_Game_of_Thrones_episodes&amp;action=edit&amp;section=7\" title=\"Edit section: Season 5 (2015)\">edit</a><span class=\"mw-editsection-bracket\">]</span></span></h3>\n",
       "<div class=\"hatnote navigation-not-searchable\" role=\"note\">Main article: <a href=\"/wiki/Game_of_Thrones_(season_5)\" title=\"Game of Thrones (season 5)\">Game of Thrones (season 5)</a></div>\n",
       "<p>In King's Landing, Margaery marries the new King <a href=\"/wiki/Tommen_Baratheon\" title=\"Tommen Baratheon\">Tommen Baratheon</a>, Joffrey's younger brother. The Sparrows, a group of religious fanatics, impose their views upon the city, imprisoning Margaery, her brother <a class=\"mw-redirect\" href=\"/wiki/Loras_Tyrell\" title=\"Loras Tyrell\">Loras</a>, and Cersei for committing various sins. Jaime travels to Dorne to take back <a href=\"/wiki/Myrcella_Baratheon\" title=\"Myrcella Baratheon\">Myrcella Baratheon</a>. However, <a href=\"/wiki/Oberyn_Martell\" title=\"Oberyn Martell\">Oberyn Martell</a>'s lover, <a href=\"/wiki/Ellaria_Sand\" title=\"Ellaria Sand\">Ellaria</a> and his bastard daughters kill Myrcella as revenge for Oberyn's death. In Winterfell, the new seat of House Bolton, Baelish arranges Sansa's marriage with the now-legitimized son of Roose Bolton, the sadist Ramsay. Stannis's unsuccessful march on Winterfell, which leads to his death, allows Sansa the opportunity to escape with Theon. At the Wall, as the newly elected Lord Commander of the Night's Watch, Jon Snow forms an alliance with the Wildlings to save them from the White Walkers and their army of reanimated corpses. However, Jon is stabbed to death by some brothers who see him as a traitor. Arya arrives in Braavos, where she finds <a class=\"mw-redirect\" href=\"/wiki/Jaqen_H%27ghar\" title=\"Jaqen H'ghar\">Jaqen H'ghar</a> whom she had previously helped escape, and begins training with the Faceless Men, a guild of assassins. In Essos, Tyrion becomes an advisor to Daenerys. Ser Jorah saves the life of Daenerys against a revolt of slavers, who flees Meereen on <a class=\"mw-redirect\" href=\"/wiki/Drogon_(Game_of_Thrones)\" title=\"Drogon (Game of Thrones)\">Drogon</a>'s back.\n",
       "</p>\n",
       "<table class=\"wikitable plainrowheaders wikiepisodetable\" style=\"width:100%\"><tbody><tr style=\"color:white;text-align:center\"><th scope=\"col\" style=\"background:#68411C;width:5%\"><abbr title=\"Number\">No.</abbr><br/>overall</th><th scope=\"col\" style=\"background:#68411C;width:5%\"><abbr title=\"Number\">No.</abbr> in<br/>season</th><th scope=\"col\" style=\"background:#68411C;width:23%\">Title</th><th scope=\"col\" style=\"background:#68411C;width:17%\">Directed by</th><th scope=\"col\" style=\"background:#68411C;width:27%\">Written by</th><th scope=\"col\" style=\"background:#68411C;width:12%\">Original air date <span style=\"background-color:white;padding:1px;display:inline-block;line-height:50%\"><sup class=\"reference\" id=\"cite_ref-Futon_20-4\"><a href=\"#cite_note-Futon-20\">[20]</a></sup></span></th><th scope=\"col\" style=\"background:#68411C;width:10%\">U.S. viewers<br/>(millions)</th></tr><tr class=\"vevent\" style=\"text-align:center;background:inherit\"><th id=\"ep41\" rowspan=\"1\" scope=\"row\" style=\"text-align:center\">41</th><td style=\"text-align:center\">1</td><td class=\"summary\" style=\"text-align:left\">\"<a href=\"/wiki/The_Wars_to_Come\" title=\"The Wars to Come\">The Wars to Come</a>\"</td><td style=\"text-align:center\"><a href=\"/wiki/Michael_Slovis\" title=\"Michael Slovis\">Michael Slovis</a></td><td style=\"text-align:center\"><a href=\"/wiki/David_Benioff\" title=\"David Benioff\">David Benioff</a> &amp; <a href=\"/wiki/D._B._Weiss\" title=\"D. B. Weiss\">D. B. Weiss</a></td><td style=\"text-align:center\">April 12, 2015<span style=\"display:none\"> (<span class=\"bday dtstart published updated\">2015-04-12</span>)</span></td><td style=\"text-align:center\">8.00<sup class=\"reference\" id=\"cite_ref-5.01_61-0\"><a href=\"#cite_note-5.01-61\">[61]</a></sup></td></tr>\n",
       "<tr class=\"vevent\" style=\"text-align:center;background:inherit\"><th id=\"ep42\" rowspan=\"1\" scope=\"row\" style=\"text-align:center\">42</th><td style=\"text-align:center\">2</td><td class=\"summary\" style=\"text-align:left\">\"<a href=\"/wiki/The_House_of_Black_and_White\" title=\"The House of Black and White\">The House of Black and White</a>\"</td><td style=\"text-align:center\">Michael Slovis</td><td style=\"text-align:center\">David Benioff &amp; D. B. Weiss</td><td style=\"text-align:center\">April 19, 2015<span style=\"display:none\"> (<span class=\"bday dtstart published updated\">2015-04-19</span>)</span></td><td style=\"text-align:center\">6.81<sup class=\"reference\" id=\"cite_ref-5.02_62-0\"><a href=\"#cite_note-5.02-62\">[62]</a></sup></td></tr>\n",
       "<tr class=\"vevent\" style=\"text-align:center;background:inherit\"><th id=\"ep43\" rowspan=\"1\" scope=\"row\" style=\"text-align:center\">43</th><td style=\"text-align:center\">3</td><td class=\"summary\" style=\"text-align:left\">\"<a href=\"/wiki/High_Sparrow_(Game_of_Thrones_episode)\" title=\"High Sparrow (Game of Thrones episode)\">High Sparrow</a>\"</td><td style=\"text-align:center\"><a href=\"/wiki/Mark_Mylod\" title=\"Mark Mylod\">Mark Mylod</a></td><td style=\"text-align:center\">David Benioff &amp; D. B. Weiss</td><td style=\"text-align:center\">April 26, 2015<span style=\"display:none\"> (<span class=\"bday dtstart published updated\">2015-04-26</span>)</span></td><td style=\"text-align:center\">6.71<sup class=\"reference\" id=\"cite_ref-5.03_63-0\"><a href=\"#cite_note-5.03-63\">[63]</a></sup></td></tr>\n",
       "<tr class=\"vevent\" style=\"text-align:center;background:inherit\"><th id=\"ep44\" rowspan=\"1\" scope=\"row\" style=\"text-align:center\">44</th><td style=\"text-align:center\">4</td><td class=\"summary\" style=\"text-align:left\">\"<a href=\"/wiki/Sons_of_the_Harpy\" title=\"Sons of the Harpy\">Sons of the Harpy</a>\"</td><td style=\"text-align:center\">Mark Mylod</td><td style=\"text-align:center\"><a href=\"/wiki/Dave_Hill_(screenwriter)\" title=\"Dave Hill (screenwriter)\">Dave Hill</a></td><td style=\"text-align:center\">May 3, 2015<span style=\"display:none\"> (<span class=\"bday dtstart published updated\">2015-05-03</span>)</span></td><td style=\"text-align:center\">6.82<sup class=\"reference\" id=\"cite_ref-5.04_64-0\"><a href=\"#cite_note-5.04-64\">[64]</a></sup></td></tr>\n",
       "<tr class=\"vevent\" style=\"text-align:center;background:inherit\"><th id=\"ep45\" rowspan=\"1\" scope=\"row\" style=\"text-align:center\">45</th><td style=\"text-align:center\">5</td><td class=\"summary\" style=\"text-align:left\">\"<a href=\"/wiki/Kill_the_Boy\" title=\"Kill the Boy\">Kill the Boy</a>\"</td><td style=\"text-align:center\"><a href=\"/wiki/Jeremy_Podeswa\" title=\"Jeremy Podeswa\">Jeremy Podeswa</a></td><td style=\"text-align:center\"><a href=\"/wiki/Bryan_Cogman\" title=\"Bryan Cogman\">Bryan Cogman</a></td><td style=\"text-align:center\">May 10, 2015<span style=\"display:none\"> (<span class=\"bday dtstart published updated\">2015-05-10</span>)</span></td><td style=\"text-align:center\">6.56<sup class=\"reference\" id=\"cite_ref-5.05_65-0\"><a href=\"#cite_note-5.05-65\">[65]</a></sup></td></tr>\n",
       "<tr class=\"vevent\" style=\"text-align:center;background:inherit\"><th id=\"ep46\" rowspan=\"1\" scope=\"row\" style=\"text-align:center\">46</th><td style=\"text-align:center\">6</td><td class=\"summary\" style=\"text-align:left\">\"<a href=\"/wiki/Unbowed,_Unbent,_Unbroken\" title=\"Unbowed, Unbent, Unbroken\">Unbowed, Unbent, Unbroken</a>\"</td><td style=\"text-align:center\">Jeremy Podeswa</td><td style=\"text-align:center\">Bryan Cogman</td><td style=\"text-align:center\">May 17, 2015<span style=\"display:none\"> (<span class=\"bday dtstart published updated\">2015-05-17</span>)</span></td><td style=\"text-align:center\">6.24<sup class=\"reference\" id=\"cite_ref-5.06_66-0\"><a href=\"#cite_note-5.06-66\">[66]</a></sup></td></tr>\n",
       "<tr class=\"vevent\" style=\"text-align:center;background:inherit\"><th id=\"ep47\" rowspan=\"1\" scope=\"row\" style=\"text-align:center\">47</th><td style=\"text-align:center\">7</td><td class=\"summary\" style=\"text-align:left\">\"<a href=\"/wiki/The_Gift_(Game_of_Thrones)\" title=\"The Gift (Game of Thrones)\">The Gift</a>\"</td><td style=\"text-align:center\"><a href=\"/wiki/Miguel_Sapochnik\" title=\"Miguel Sapochnik\">Miguel Sapochnik</a></td><td style=\"text-align:center\">David Benioff &amp; D. B. Weiss</td><td style=\"text-align:center\">May 24, 2015<span style=\"display:none\"> (<span class=\"bday dtstart published updated\">2015-05-24</span>)</span></td><td style=\"text-align:center\">5.40<sup class=\"reference\" id=\"cite_ref-5.07_67-0\"><a href=\"#cite_note-5.07-67\">[67]</a></sup></td></tr>\n",
       "<tr class=\"vevent\" style=\"text-align:center;background:inherit\"><th id=\"ep48\" rowspan=\"1\" scope=\"row\" style=\"text-align:center\">48</th><td style=\"text-align:center\">8</td><td class=\"summary\" style=\"text-align:left\">\"<a href=\"/wiki/Hardhome\" title=\"Hardhome\">Hardhome</a>\"</td><td style=\"text-align:center\">Miguel Sapochnik</td><td style=\"text-align:center\">David Benioff &amp; D. B. Weiss</td><td style=\"text-align:center\">May 31, 2015<span style=\"display:none\"> (<span class=\"bday dtstart published updated\">2015-05-31</span>)</span></td><td style=\"text-align:center\">7.01<sup class=\"reference\" id=\"cite_ref-5.08_68-0\"><a href=\"#cite_note-5.08-68\">[68]</a></sup></td></tr>\n",
       "<tr class=\"vevent\" style=\"text-align:center;background:inherit\"><th id=\"ep49\" rowspan=\"1\" scope=\"row\" style=\"text-align:center\">49</th><td style=\"text-align:center\">9</td><td class=\"summary\" style=\"text-align:left\">\"<a href=\"/wiki/The_Dance_of_Dragons\" title=\"The Dance of Dragons\">The Dance of Dragons</a>\"</td><td style=\"text-align:center\"><a href=\"/wiki/David_Nutter\" title=\"David Nutter\">David Nutter</a></td><td style=\"text-align:center\">David Benioff &amp; D. B. Weiss</td><td style=\"text-align:center\">June 7, 2015<span style=\"display:none\"> (<span class=\"bday dtstart published updated\">2015-06-07</span>)</span></td><td style=\"text-align:center\">7.14<sup class=\"reference\" id=\"cite_ref-5.09_69-0\"><a href=\"#cite_note-5.09-69\">[69]</a></sup></td></tr>\n",
       "<tr class=\"vevent\" style=\"text-align:center;background:inherit\"><th id=\"ep50\" rowspan=\"1\" scope=\"row\" style=\"text-align:center\">50</th><td style=\"text-align:center\">10</td><td class=\"summary\" style=\"text-align:left\">\"<a href=\"/wiki/Mother%27s_Mercy\" title=\"Mother's Mercy\">Mother's Mercy</a>\"</td><td style=\"text-align:center\">David Nutter</td><td style=\"text-align:center\">David Benioff &amp; D. B. Weiss</td><td style=\"text-align:center\">June 14, 2015<span style=\"display:none\"> (<span class=\"bday dtstart published updated\">2015-06-14</span>)</span></td><td style=\"text-align:center\">8.11<sup class=\"reference\" id=\"cite_ref-finale_ratings_70-0\"><a href=\"#cite_note-finale_ratings-70\">[70]</a></sup></td></tr></tbody></table>\n",
       "<h3><span id=\"Season_6_.282016.29\"></span><span class=\"mw-headline\" id=\"Season_6_(2016)\">Season 6 (2016)</span><span class=\"mw-editsection\"><span class=\"mw-editsection-bracket\">[</span><a href=\"/w/index.php?title=List_of_Game_of_Thrones_episodes&amp;action=edit&amp;section=8\" title=\"Edit section: Season 6 (2016)\">edit</a><span class=\"mw-editsection-bracket\">]</span></span></h3>\n",
       "<div class=\"hatnote navigation-not-searchable\" role=\"note\">Main article: <a href=\"/wiki/Game_of_Thrones_(season_6)\" title=\"Game of Thrones (season 6)\">Game of Thrones (season 6)</a></div>\n",
       "<p>At the Wall, Melisandre resurrects Jon. Jon reunites with Sansa and leaves the Night's Watch. Aided by the Wildlings, loyalists and the Knights of the Vale, they defeat the Boltons and Jon is proclaimed the King in the North. Beyond the Wall, Bran trains with the Three-eyed Raven but they come under attack by the White Walkers. The Three-eyed Raven is killed and succeeded by Bran, who escapes with the help of <a class=\"mw-redirect\" href=\"/wiki/Hodor\" title=\"Hodor\">Hodor</a>, who dies in the process. Bran realizes Jon is in fact the son of his deceased aunt <a class=\"mw-redirect\" href=\"/wiki/Lyanna_Stark\" title=\"Lyanna Stark\">Lyanna Stark</a> and Crown Prince <a class=\"mw-redirect\" href=\"/wiki/Rhaegar_Targaryen\" title=\"Rhaegar Targaryen\">Rhaegar Targaryen</a>. In Braavos, Arya continues her training with the Faceless Men, but eventually leaves them and returns to Westeros to take revenge on Walder Frey. In King's Landing, Cersei demolishes the Great Sept with wildfire.  Many die, including the <a href=\"/wiki/High_Sparrow\" title=\"High Sparrow\">High Sparrow</a>, Margaery, and Loras. Tommen kills himself after witnessing the events, and Cersei is crowned Queen. In the Iron Islands, <a class=\"mw-redirect\" href=\"/wiki/Euron_Greyjoy\" title=\"Euron Greyjoy\">Euron Greyjoy</a> usurps leadership by killing his brother and Theon's father, <a class=\"mw-redirect\" href=\"/wiki/Balon_Greyjoy\" title=\"Balon Greyjoy\">Balon</a>.  Daenerys gets captured by the Dothraki but gains their devotion by burning their leaders alive.  She forgives Ser Jorah.  She returns to Mereen, in time to save the city from a naval siege by slavers, then sails for Westeros, joined by Theon and his sister <a class=\"mw-redirect\" href=\"/wiki/Yara_Greyjoy\" title=\"Yara Greyjoy\">Yara</a>.  Ellaria seizes control of Dorne, and joins Olenna Tyrell in an alliance with Daenerys.\n",
       "</p>\n",
       "<table class=\"wikitable plainrowheaders wikiepisodetable\" style=\"width:100%\"><tbody><tr style=\"color:white;text-align:center\"><th scope=\"col\" style=\"background:#31485C;width:5%\"><abbr title=\"Number\">No.</abbr><br/>overall</th><th scope=\"col\" style=\"background:#31485C;width:5%\"><abbr title=\"Number\">No.</abbr> in<br/>season</th><th scope=\"col\" style=\"background:#31485C;width:23%\">Title</th><th scope=\"col\" style=\"background:#31485C;width:17%\">Directed by</th><th scope=\"col\" style=\"background:#31485C;width:27%\">Written by</th><th scope=\"col\" style=\"background:#31485C;width:12%\">Original air date <span style=\"background-color:white;padding:1px;display:inline-block;line-height:50%\"><sup class=\"reference\" id=\"cite_ref-Futon_20-5\"><a href=\"#cite_note-Futon-20\">[20]</a></sup></span></th><th scope=\"col\" style=\"background:#31485C;width:10%\">U.S. viewers<br/>(millions)</th></tr><tr class=\"vevent\" style=\"text-align:center;background:inherit\"><th id=\"ep51\" rowspan=\"1\" scope=\"row\" style=\"text-align:center\">51</th><td style=\"text-align:center\">1</td><td class=\"summary\" style=\"text-align:left\">\"<a href=\"/wiki/The_Red_Woman\" title=\"The Red Woman\">The Red Woman</a>\"</td><td style=\"text-align:center\"><a href=\"/wiki/Jeremy_Podeswa\" title=\"Jeremy Podeswa\">Jeremy Podeswa</a></td><td style=\"text-align:center\"><a href=\"/wiki/David_Benioff\" title=\"David Benioff\">David Benioff</a> &amp; <a href=\"/wiki/D._B._Weiss\" title=\"D. B. Weiss\">D. B. Weiss</a></td><td style=\"text-align:center\">April 24, 2016<span style=\"display:none\"> (<span class=\"bday dtstart published updated\">2016-04-24</span>)</span></td><td style=\"text-align:center\">7.94<sup class=\"reference\" id=\"cite_ref-6.01_71-0\"><a href=\"#cite_note-6.01-71\">[71]</a></sup></td></tr>\n",
       "<tr class=\"vevent\" style=\"text-align:center;background:inherit\"><th id=\"ep52\" rowspan=\"1\" scope=\"row\" style=\"text-align:center\">52</th><td style=\"text-align:center\">2</td><td class=\"summary\" style=\"text-align:left\">\"<a href=\"/wiki/Home_(Game_of_Thrones)\" title=\"Home (Game of Thrones)\">Home</a>\"</td><td style=\"text-align:center\">Jeremy Podeswa</td><td style=\"text-align:center\"><a href=\"/wiki/Dave_Hill_(screenwriter)\" title=\"Dave Hill (screenwriter)\">Dave Hill</a></td><td style=\"text-align:center\">May 1, 2016<span style=\"display:none\"> (<span class=\"bday dtstart published updated\">2016-05-01</span>)</span></td><td style=\"text-align:center\">7.29<sup class=\"reference\" id=\"cite_ref-6.02_72-0\"><a href=\"#cite_note-6.02-72\">[72]</a></sup></td></tr>\n",
       "<tr class=\"vevent\" style=\"text-align:center;background:inherit\"><th id=\"ep53\" rowspan=\"1\" scope=\"row\" style=\"text-align:center\">53</th><td style=\"text-align:center\">3</td><td class=\"summary\" style=\"text-align:left\">\"<a href=\"/wiki/Oathbreaker_(Game_of_Thrones)\" title=\"Oathbreaker (Game of Thrones)\">Oathbreaker</a>\"</td><td style=\"text-align:center\"><a href=\"/wiki/Daniel_Sackheim\" title=\"Daniel Sackheim\">Daniel Sackheim</a></td><td style=\"text-align:center\">David Benioff &amp; D. B. Weiss</td><td style=\"text-align:center\">May 8, 2016<span style=\"display:none\"> (<span class=\"bday dtstart published updated\">2016-05-08</span>)</span></td><td style=\"text-align:center\">7.28<sup class=\"reference\" id=\"cite_ref-6.03_73-0\"><a href=\"#cite_note-6.03-73\">[73]</a></sup></td></tr>\n",
       "<tr class=\"vevent\" style=\"text-align:center;background:inherit\"><th id=\"ep54\" rowspan=\"1\" scope=\"row\" style=\"text-align:center\">54</th><td style=\"text-align:center\">4</td><td class=\"summary\" style=\"text-align:left\">\"<a href=\"/wiki/Book_of_the_Stranger\" title=\"Book of the Stranger\">Book of the Stranger</a>\"</td><td style=\"text-align:center\">Daniel Sackheim</td><td style=\"text-align:center\">David Benioff &amp; D. B. Weiss</td><td style=\"text-align:center\">May 15, 2016<span style=\"display:none\"> (<span class=\"bday dtstart published updated\">2016-05-15</span>)</span></td><td style=\"text-align:center\">7.82<sup class=\"reference\" id=\"cite_ref-6.04_74-0\"><a href=\"#cite_note-6.04-74\">[74]</a></sup></td></tr>\n",
       "<tr class=\"vevent\" style=\"text-align:center;background:inherit\"><th id=\"ep55\" rowspan=\"1\" scope=\"row\" style=\"text-align:center\">55</th><td style=\"text-align:center\">5</td><td class=\"summary\" style=\"text-align:left\">\"<a href=\"/wiki/The_Door_(Game_of_Thrones)\" title=\"The Door (Game of Thrones)\">The Door</a>\"</td><td style=\"text-align:center\"><a href=\"/wiki/Jack_Bender\" title=\"Jack Bender\">Jack Bender</a></td><td style=\"text-align:center\">David Benioff &amp; D. B. Weiss</td><td style=\"text-align:center\">May 22, 2016<span style=\"display:none\"> (<span class=\"bday dtstart published updated\">2016-05-22</span>)</span></td><td style=\"text-align:center\">7.89<sup class=\"reference\" id=\"cite_ref-6.05_75-0\"><a href=\"#cite_note-6.05-75\">[75]</a></sup></td></tr>\n",
       "<tr class=\"vevent\" style=\"text-align:center;background:inherit\"><th id=\"ep56\" rowspan=\"1\" scope=\"row\" style=\"text-align:center\">56</th><td style=\"text-align:center\">6</td><td class=\"summary\" style=\"text-align:left\">\"<a href=\"/wiki/Blood_of_My_Blood\" title=\"Blood of My Blood\">Blood of My Blood</a>\"</td><td style=\"text-align:center\">Jack Bender</td><td style=\"text-align:center\"><a href=\"/wiki/Bryan_Cogman\" title=\"Bryan Cogman\">Bryan Cogman</a></td><td style=\"text-align:center\">May 29, 2016<span style=\"display:none\"> (<span class=\"bday dtstart published updated\">2016-05-29</span>)</span></td><td style=\"text-align:center\">6.71<sup class=\"reference\" id=\"cite_ref-6.06_76-0\"><a href=\"#cite_note-6.06-76\">[76]</a></sup></td></tr>\n",
       "<tr class=\"vevent\" style=\"text-align:center;background:inherit\"><th id=\"ep57\" rowspan=\"1\" scope=\"row\" style=\"text-align:center\">57</th><td style=\"text-align:center\">7</td><td class=\"summary\" style=\"text-align:left\">\"<a href=\"/wiki/The_Broken_Man\" title=\"The Broken Man\">The Broken Man</a>\"</td><td style=\"text-align:center\"><a href=\"/wiki/Mark_Mylod\" title=\"Mark Mylod\">Mark Mylod</a></td><td style=\"text-align:center\">Bryan Cogman</td><td style=\"text-align:center\">June 5, 2016<span style=\"display:none\"> (<span class=\"bday dtstart published updated\">2016-06-05</span>)</span></td><td style=\"text-align:center\">7.80<sup class=\"reference\" id=\"cite_ref-6.07_77-0\"><a href=\"#cite_note-6.07-77\">[77]</a></sup></td></tr>\n",
       "<tr class=\"vevent\" style=\"text-align:center;background:inherit\"><th id=\"ep58\" rowspan=\"1\" scope=\"row\" style=\"text-align:center\">58</th><td style=\"text-align:center\">8</td><td class=\"summary\" style=\"text-align:left\">\"<a href=\"/wiki/No_One_(Game_of_Thrones)\" title=\"No One (Game of Thrones)\">No One</a>\"</td><td style=\"text-align:center\">Mark Mylod</td><td style=\"text-align:center\">David Benioff &amp; D. B. Weiss</td><td style=\"text-align:center\">June 12, 2016<span style=\"display:none\"> (<span class=\"bday dtstart published updated\">2016-06-12</span>)</span></td><td style=\"text-align:center\">7.60<sup class=\"reference\" id=\"cite_ref-6.08_78-0\"><a href=\"#cite_note-6.08-78\">[78]</a></sup></td></tr>\n",
       "<tr class=\"vevent\" style=\"text-align:center;background:inherit\"><th id=\"ep59\" rowspan=\"1\" scope=\"row\" style=\"text-align:center\">59</th><td style=\"text-align:center\">9</td><td class=\"summary\" style=\"text-align:left\">\"<a href=\"/wiki/Battle_of_the_Bastards\" title=\"Battle of the Bastards\">Battle of the Bastards</a>\"</td><td style=\"text-align:center\"><a href=\"/wiki/Miguel_Sapochnik\" title=\"Miguel Sapochnik\">Miguel Sapochnik</a></td><td style=\"text-align:center\">David Benioff &amp; D. B. Weiss</td><td style=\"text-align:center\">June 19, 2016<span style=\"display:none\"> (<span class=\"bday dtstart published updated\">2016-06-19</span>)</span></td><td style=\"text-align:center\">7.66<sup class=\"reference\" id=\"cite_ref-6.09_79-0\"><a href=\"#cite_note-6.09-79\">[79]</a></sup></td></tr>\n",
       "<tr class=\"vevent\" style=\"text-align:center;background:inherit\"><th id=\"ep60\" rowspan=\"1\" scope=\"row\" style=\"text-align:center\">60</th><td style=\"text-align:center\">10</td><td class=\"summary\" style=\"text-align:left\">\"<a href=\"/wiki/The_Winds_of_Winter_(Game_of_Thrones)\" title=\"The Winds of Winter (Game of Thrones)\">The Winds of Winter</a>\"</td><td style=\"text-align:center\">Miguel Sapochnik</td><td style=\"text-align:center\">David Benioff &amp; D. B. Weiss</td><td style=\"text-align:center\">June 26, 2016<span style=\"display:none\"> (<span class=\"bday dtstart published updated\">2016-06-26</span>)</span></td><td style=\"text-align:center\">8.89<sup class=\"reference\" id=\"cite_ref-6.10_80-0\"><a href=\"#cite_note-6.10-80\">[80]</a></sup></td></tr></tbody></table>\n",
       "<h3><span id=\"Season_7_.282017.29\"></span><span class=\"mw-headline\" id=\"Season_7_(2017)\">Season 7 (2017)</span><span class=\"mw-editsection\"><span class=\"mw-editsection-bracket\">[</span><a href=\"/w/index.php?title=List_of_Game_of_Thrones_episodes&amp;action=edit&amp;section=9\" title=\"Edit section: Season 7 (2017)\">edit</a><span class=\"mw-editsection-bracket\">]</span></span></h3>\n",
       "<div class=\"hatnote navigation-not-searchable\" role=\"note\">Main article: <a href=\"/wiki/Game_of_Thrones_(season_7)\" title=\"Game of Thrones (season 7)\">Game of Thrones (season 7)</a></div>\n",
       "<p>Daenerys arrives in Westeros and takes over Dragonstone. She plans to overthrow Cersei, but Jon arrives to instead save Westeros from the White Walkers. The Night King, leader of the White Walkers, kills and reanimates Daenerys' dragon <a href=\"/wiki/List_of_Game_of_Thrones_characters#Drogon\" title=\"List of Game of Thrones characters\">Viserion</a>. Jon and Daenerys attempt to persuade Cersei to join their cause by showing the existence of a wight they had captured, but she has her own plans to increase control over the continent. At Winterfell, Sansa is reunited with her siblings, Arya and Bran. When Lord Protector of the Vale Petyr Baelish begins to turn the Stark children against one another, they manage to have him executed. In a vision, Bran sees that his aunt, Lyanna, was, in fact, married to Prince Rhaegar, and that Jon's real name is Aegon Targaryen, making him the true heir to the Iron Throne. After his sister Yara is kidnapped by his uncle Euron, Theon sets out to save her. The Night King demolishes a section of The Wall with the help of the reanimated Viserion, allowing the White Walkers and Army of the Dead to pass into the Seven Kingdoms.\n",
       "</p>\n",
       "<table class=\"wikitable plainrowheaders wikiepisodetable\" style=\"width:100%\"><tbody><tr style=\"color:white;text-align:center\"><th scope=\"col\" style=\"background:#091411;width:5%\"><abbr title=\"Number\">No.</abbr><br/>overall</th><th scope=\"col\" style=\"background:#091411;width:5%\"><abbr title=\"Number\">No.</abbr> in<br/>season</th><th scope=\"col\" style=\"background:#091411;width:23%\">Title</th><th scope=\"col\" style=\"background:#091411;width:17%\">Directed by</th><th scope=\"col\" style=\"background:#091411;width:27%\">Written by</th><th scope=\"col\" style=\"background:#091411;width:12%\">Original air date <span style=\"background-color:white;padding:1px;display:inline-block;line-height:50%\"><sup class=\"reference\" id=\"cite_ref-Futon_20-6\"><a href=\"#cite_note-Futon-20\">[20]</a></sup></span></th><th scope=\"col\" style=\"background:#091411;width:10%\">U.S. viewers<br/>(millions)</th></tr><tr class=\"vevent\" style=\"text-align:center;background:inherit\"><th id=\"ep61\" rowspan=\"1\" scope=\"row\" style=\"text-align:center\">61</th><td style=\"text-align:center\">1</td><td class=\"summary\" style=\"text-align:left\">\"<a href=\"/wiki/Dragonstone_(Game_of_Thrones_episode)\" title=\"Dragonstone (Game of Thrones episode)\">Dragonstone</a>\"</td><td style=\"text-align:center\"><a href=\"/wiki/Jeremy_Podeswa\" title=\"Jeremy Podeswa\">Jeremy Podeswa</a></td><td style=\"text-align:center\"><a href=\"/wiki/David_Benioff\" title=\"David Benioff\">David Benioff</a> &amp; <a href=\"/wiki/D._B._Weiss\" title=\"D. B. Weiss\">D. B. Weiss</a></td><td style=\"text-align:center\">July 16, 2017<span style=\"display:none\"> (<span class=\"bday dtstart published updated\">2017-07-16</span>)</span></td><td style=\"text-align:center\">10.11<sup class=\"reference\" id=\"cite_ref-s07e01_81-0\"><a href=\"#cite_note-s07e01-81\">[81]</a></sup></td></tr>\n",
       "<tr class=\"vevent\" style=\"text-align:center;background:inherit\"><th id=\"ep62\" rowspan=\"1\" scope=\"row\" style=\"text-align:center\">62</th><td style=\"text-align:center\">2</td><td class=\"summary\" style=\"text-align:left\">\"<a href=\"/wiki/Stormborn\" title=\"Stormborn\">Stormborn</a>\"</td><td style=\"text-align:center\"><a href=\"/wiki/Mark_Mylod\" title=\"Mark Mylod\">Mark Mylod</a></td><td style=\"text-align:center\"><a href=\"/wiki/Bryan_Cogman\" title=\"Bryan Cogman\">Bryan Cogman</a></td><td style=\"text-align:center\">July 23, 2017<span style=\"display:none\"> (<span class=\"bday dtstart published updated\">2017-07-23</span>)</span></td><td style=\"text-align:center\">9.27<sup class=\"reference\" id=\"cite_ref-s07e02_82-0\"><a href=\"#cite_note-s07e02-82\">[82]</a></sup></td></tr>\n",
       "<tr class=\"vevent\" style=\"text-align:center;background:inherit\"><th id=\"ep63\" rowspan=\"1\" scope=\"row\" style=\"text-align:center\">63</th><td style=\"text-align:center\">3</td><td class=\"summary\" style=\"text-align:left\">\"<a href=\"/wiki/The_Queen%27s_Justice\" title=\"The Queen's Justice\">The Queen's Justice</a>\"</td><td style=\"text-align:center\">Mark Mylod</td><td style=\"text-align:center\">David Benioff &amp; D. B. Weiss</td><td style=\"text-align:center\">July 30, 2017<span style=\"display:none\"> (<span class=\"bday dtstart published updated\">2017-07-30</span>)</span></td><td style=\"text-align:center\">9.25<sup class=\"reference\" id=\"cite_ref-s07e03_83-0\"><a href=\"#cite_note-s07e03-83\">[83]</a></sup></td></tr>\n",
       "<tr class=\"vevent\" style=\"text-align:center;background:inherit\"><th id=\"ep64\" rowspan=\"1\" scope=\"row\" style=\"text-align:center\">64</th><td style=\"text-align:center\">4</td><td class=\"summary\" style=\"text-align:left\">\"<a href=\"/wiki/The_Spoils_of_War_(Game_of_Thrones)\" title=\"The Spoils of War (Game of Thrones)\">The Spoils of War</a>\"</td><td style=\"text-align:center\"><a href=\"/wiki/Matt_Shakman\" title=\"Matt Shakman\">Matt Shakman</a></td><td style=\"text-align:center\">David Benioff &amp; D. B. Weiss</td><td style=\"text-align:center\">August 6, 2017<span style=\"display:none\"> (<span class=\"bday dtstart published updated\">2017-08-06</span>)</span></td><td style=\"text-align:center\">10.17<sup class=\"reference\" id=\"cite_ref-s07e04_84-0\"><a href=\"#cite_note-s07e04-84\">[84]</a></sup></td></tr>\n",
       "<tr class=\"vevent\" style=\"text-align:center;background:inherit\"><th id=\"ep65\" rowspan=\"1\" scope=\"row\" style=\"text-align:center\">65</th><td style=\"text-align:center\">5</td><td class=\"summary\" style=\"text-align:left\">\"<a href=\"/wiki/Eastwatch\" title=\"Eastwatch\">Eastwatch</a>\"</td><td style=\"text-align:center\">Matt Shakman</td><td style=\"text-align:center\"><a href=\"/wiki/Dave_Hill_(screenwriter)\" title=\"Dave Hill (screenwriter)\">Dave Hill</a></td><td style=\"text-align:center\">August 13, 2017<span style=\"display:none\"> (<span class=\"bday dtstart published updated\">2017-08-13</span>)</span></td><td style=\"text-align:center\">10.72<sup class=\"reference\" id=\"cite_ref-s07e05_85-0\"><a href=\"#cite_note-s07e05-85\">[85]</a></sup></td></tr>\n",
       "<tr class=\"vevent\" style=\"text-align:center;background:inherit\"><th id=\"ep66\" rowspan=\"1\" scope=\"row\" style=\"text-align:center\">66</th><td style=\"text-align:center\">6</td><td class=\"summary\" style=\"text-align:left\">\"<a href=\"/wiki/Beyond_the_Wall_(Game_of_Thrones)\" title=\"Beyond the Wall (Game of Thrones)\">Beyond the Wall</a>\"</td><td style=\"text-align:center\"><a href=\"/wiki/Alan_Taylor_(director)\" title=\"Alan Taylor (director)\">Alan Taylor</a></td><td style=\"text-align:center\">David Benioff &amp; D. B. Weiss</td><td style=\"text-align:center\">August 20, 2017<span style=\"display:none\"> (<span class=\"bday dtstart published updated\">2017-08-20</span>)</span></td><td style=\"text-align:center\">10.24<sup class=\"reference\" id=\"cite_ref-s07e06_86-0\"><a href=\"#cite_note-s07e06-86\">[86]</a></sup></td></tr>\n",
       "<tr class=\"vevent\" style=\"text-align:center;background:inherit\"><th id=\"ep67\" rowspan=\"1\" scope=\"row\" style=\"text-align:center\">67</th><td style=\"text-align:center\">7</td><td class=\"summary\" style=\"text-align:left\">\"<a href=\"/wiki/The_Dragon_and_the_Wolf\" title=\"The Dragon and the Wolf\">The Dragon and the Wolf</a>\"</td><td style=\"text-align:center\">Jeremy Podeswa</td><td style=\"text-align:center\">David Benioff &amp; D. B. Weiss</td><td style=\"text-align:center\">August 27, 2017<span style=\"display:none\"> (<span class=\"bday dtstart published updated\">2017-08-27</span>)</span></td><td style=\"text-align:center\">12.07<sup class=\"reference\" id=\"cite_ref-s07e07_87-0\"><a href=\"#cite_note-s07e07-87\">[87]</a></sup></td></tr></tbody></table>\n",
       "<h3><span id=\"Season_8_.282019.29\"></span><span class=\"mw-headline\" id=\"Season_8_(2019)\">Season 8 (2019)</span><span class=\"mw-editsection\"><span class=\"mw-editsection-bracket\">[</span><a href=\"/w/index.php?title=List_of_Game_of_Thrones_episodes&amp;action=edit&amp;section=10\" title=\"Edit section: Season 8 (2019)\">edit</a><span class=\"mw-editsection-bracket\">]</span></span></h3>\n",
       "<div class=\"hatnote navigation-not-searchable\" role=\"note\">Main article: <a href=\"/wiki/Game_of_Thrones_(season_8)\" title=\"Game of Thrones (season 8)\">Game of Thrones (season 8)</a></div>\n",
       "<p>Jon and Daenerys learn the Army of the Dead has breached the Wall. Theon rescues Yara, then returns to Winterfell. Sam reveals to Jon that he is actually Aegon Targaryen. Jaime arrives at Winterfell, revealing Cersei won't help defeat the Army of the Dead. Jon reveals his Targaryen lineage to Daenerys, who wants it kept a secret. After a battle, Arya kills the Night King, destroying the Army of the Dead. Euron's navy kills Rhaegal and Cersei executes Missandei who had been captured, enraging Daenerys, who, after her army takes King's Landing, destroys much of the city indiscriminately. Cersei and Jaime are killed. Tyrion denounces Daenerys and is imprisoned for treason to await execution. Jon, unable to stop her, kills Daenerys. Bran Stark is proclaimed king, allowing the North to secede as an independent kingdom. Bran appoints Tyrion as his Hand. Sansa is crowned Queen in the North, and Arya sets sail to explore west of Westeros. Jon is sentenced to the Night's Watch, but departs to lead the Wildlings back north of the Wall.\n",
       "</p>\n",
       "<table class=\"wikitable plainrowheaders wikiepisodetable\" style=\"width:100%\"><tbody><tr style=\"color:white;text-align:center\"><th scope=\"col\" style=\"background:#3D424A;width:5%\"><abbr title=\"Number\">No.</abbr><br/>overall</th><th scope=\"col\" style=\"background:#3D424A;width:5%\"><abbr title=\"Number\">No.</abbr> in<br/>season</th><th scope=\"col\" style=\"background:#3D424A;width:23%\">Title</th><th scope=\"col\" style=\"background:#3D424A;width:17%\">Directed by</th><th scope=\"col\" style=\"background:#3D424A;width:27%\">Written by</th><th scope=\"col\" style=\"background:#3D424A;width:12%\">Original air date <span style=\"background-color:white;padding:1px;display:inline-block;line-height:50%\"><sup class=\"reference\" id=\"cite_ref-Futon_20-7\"><a href=\"#cite_note-Futon-20\">[20]</a></sup></span></th><th scope=\"col\" style=\"background:#3D424A;width:10%\">U.S. viewers<br/>(millions)</th></tr><tr class=\"vevent\" style=\"text-align:center;background:inherit\"><th id=\"ep68\" rowspan=\"1\" scope=\"row\" style=\"text-align:center\">68</th><td style=\"text-align:center\">1</td><td class=\"summary\" style=\"text-align:left\">\"<a href=\"/wiki/Winterfell_(Game_of_Thrones_episode)\" title=\"Winterfell (Game of Thrones episode)\">Winterfell</a>\"</td><td style=\"text-align:center\"><a href=\"/wiki/David_Nutter\" title=\"David Nutter\">David Nutter</a></td><td style=\"text-align:center\"><a href=\"/wiki/Dave_Hill_(screenwriter)\" title=\"Dave Hill (screenwriter)\">Dave Hill</a></td><td style=\"text-align:center\">April 14, 2019<span style=\"display:none\"> (<span class=\"bday dtstart published updated\">2019-04-14</span>)</span></td><td style=\"text-align:center\">11.76<sup class=\"reference\" id=\"cite_ref-8.01_88-0\"><a href=\"#cite_note-8.01-88\">[88]</a></sup></td></tr>\n",
       "<tr class=\"vevent\" style=\"text-align:center;background:inherit\"><th id=\"ep69\" rowspan=\"1\" scope=\"row\" style=\"text-align:center\">69</th><td style=\"text-align:center\">2</td><td class=\"summary\" style=\"text-align:left\">\"<a href=\"/wiki/A_Knight_of_the_Seven_Kingdoms_(Game_of_Thrones)\" title=\"A Knight of the Seven Kingdoms (Game of Thrones)\">A Knight of the Seven Kingdoms</a>\"</td><td style=\"text-align:center\">David Nutter</td><td style=\"text-align:center\"><a href=\"/wiki/Bryan_Cogman\" title=\"Bryan Cogman\">Bryan Cogman</a></td><td style=\"text-align:center\">April 21, 2019<span style=\"display:none\"> (<span class=\"bday dtstart published updated\">2019-04-21</span>)</span></td><td style=\"text-align:center\">10.29<sup class=\"reference\" id=\"cite_ref-8.02_89-0\"><a href=\"#cite_note-8.02-89\">[89]</a></sup></td></tr>\n",
       "<tr class=\"vevent\" style=\"text-align:center;background:inherit\"><th id=\"ep70\" rowspan=\"1\" scope=\"row\" style=\"text-align:center\">70</th><td style=\"text-align:center\">3</td><td class=\"summary\" style=\"text-align:left\">\"<a href=\"/wiki/The_Long_Night_(Game_of_Thrones)\" title=\"The Long Night (Game of Thrones)\">The Long Night</a>\"</td><td style=\"text-align:center\"><a href=\"/wiki/Miguel_Sapochnik\" title=\"Miguel Sapochnik\">Miguel Sapochnik</a></td><td style=\"text-align:center\"><a href=\"/wiki/David_Benioff\" title=\"David Benioff\">David Benioff</a> &amp; <a href=\"/wiki/D._B._Weiss\" title=\"D. B. Weiss\">D. B. Weiss</a></td><td style=\"text-align:center\">April 28, 2019<span style=\"display:none\"> (<span class=\"bday dtstart published updated\">2019-04-28</span>)</span></td><td style=\"text-align:center\">12.02<sup class=\"reference\" id=\"cite_ref-8.03_90-0\"><a href=\"#cite_note-8.03-90\">[90]</a></sup></td></tr>\n",
       "<tr class=\"vevent\" style=\"text-align:center;background:inherit\"><th id=\"ep71\" rowspan=\"1\" scope=\"row\" style=\"text-align:center\">71</th><td style=\"text-align:center\">4</td><td class=\"summary\" style=\"text-align:left\">\"<a href=\"/wiki/The_Last_of_the_Starks\" title=\"The Last of the Starks\">The Last of the Starks</a>\"</td><td style=\"text-align:center\">David Nutter</td><td style=\"text-align:center\">David Benioff &amp; D. B. Weiss</td><td style=\"text-align:center\">May 5, 2019<span style=\"display:none\"> (<span class=\"bday dtstart published updated\">2019-05-05</span>)</span></td><td style=\"text-align:center\">11.80<sup class=\"reference\" id=\"cite_ref-8.04_91-0\"><a href=\"#cite_note-8.04-91\">[91]</a></sup></td></tr>\n",
       "<tr class=\"vevent\" style=\"text-align:center;background:inherit\"><th id=\"ep72\" rowspan=\"1\" scope=\"row\" style=\"text-align:center\">72</th><td style=\"text-align:center\">5</td><td class=\"summary\" style=\"text-align:left\">\"<a href=\"/wiki/The_Bells_(Game_of_Thrones)\" title=\"The Bells (Game of Thrones)\">The Bells</a>\"</td><td style=\"text-align:center\">Miguel Sapochnik</td><td style=\"text-align:center\">David Benioff &amp; D. B. Weiss</td><td style=\"text-align:center\">May 12, 2019<span style=\"display:none\"> (<span class=\"bday dtstart published updated\">2019-05-12</span>)</span></td><td style=\"text-align:center\">12.48<sup class=\"reference\" id=\"cite_ref-8.05_92-0\"><a href=\"#cite_note-8.05-92\">[92]</a></sup></td></tr>\n",
       "<tr class=\"vevent\" style=\"text-align:center;background:inherit\"><th id=\"ep73\" rowspan=\"1\" scope=\"row\" style=\"text-align:center\">73</th><td style=\"text-align:center\">6</td><td class=\"summary\" style=\"text-align:left\">\"<a href=\"/wiki/The_Iron_Throne_(Game_of_Thrones)\" title=\"The Iron Throne (Game of Thrones)\">The Iron Throne</a>\"</td><td style=\"text-align:center\">David Benioff &amp; D. B. Weiss</td><td style=\"text-align:center\">David Benioff &amp; D. B. Weiss</td><td style=\"text-align:center\">May 19, 2019<span style=\"display:none\"> (<span class=\"bday dtstart published updated\">2019-05-19</span>)</span></td><td style=\"text-align:center\">13.61<sup class=\"reference\" id=\"cite_ref-8.06_93-0\"><a href=\"#cite_note-8.06-93\">[93]</a></sup></td></tr></tbody></table>\n",
       "<h2><span class=\"mw-headline\" id=\"Specials\">Specials</span><span class=\"mw-editsection\"><span class=\"mw-editsection-bracket\">[</span><a href=\"/w/index.php?title=List_of_Game_of_Thrones_episodes&amp;action=edit&amp;section=11\" title=\"Edit section: Specials\">edit</a><span class=\"mw-editsection-bracket\">]</span></span></h2>\n",
       "<table class=\"wikitable plainrowheaders wikiepisodetable\" style=\"width:100%\"><tbody><tr style=\"color:white;text-align:center\"><th scope=\"col\" style=\"background:#000000;width:5%\"><abbr title=\"Number\">No.</abbr></th><th scope=\"col\" style=\"background:#000000;width:72%\">Title</th><th scope=\"col\" style=\"background:#000000;width:12%\">Original air date</th><th scope=\"col\" style=\"background:#000000;width:10%\">U.S. viewers<br/>(millions)</th></tr><tr class=\"vevent\" style=\"text-align:center;background:#F2F2F2\"><th id=\"ep1\" rowspan=\"1\" scope=\"row\" style=\"text-align:center\">1</th><td class=\"summary\" style=\"text-align:left\"><i>Game of Thrones: A Day in the Life</i></td><td style=\"text-align:center\">February 8, 2015<span style=\"display:none\"> (<span class=\"bday dtstart published updated\">2015-02-08</span>)</span></td><td style=\"text-align:center\"><small><span style=\"color: #2C2C2C\" title=\"Not available\">N/A</span></small></td></tr><tr class=\"expand-child\"><td class=\"description\" colspan=\"5\" style=\"border-bottom:solid 3px #000000\">\n",
       "A half-hour documentary that covered one day of production of season 5 on three sets in Belfast, Dubrovnik and Osuna from the viewpoint of key crew members.<sup class=\"reference\" id=\"cite_ref-94\"><a href=\"#cite_note-94\">[94]</a></sup></td></tr>\n",
       "<tr class=\"vevent\" style=\"text-align:center;background:#F2F2F2\"><th id=\"ep2\" rowspan=\"1\" scope=\"row\" style=\"text-align:center\">2</th><td class=\"summary\" style=\"text-align:left\"><i>Game of Thrones: The Last Watch</i></td><td style=\"text-align:center\">May 26, 2019<span style=\"display:none\"> (<span class=\"bday dtstart published updated\">2019-05-26</span>)</span></td><td style=\"text-align:center\">1.63<sup class=\"reference\" id=\"cite_ref-96\"><a href=\"#cite_note-96\">[96]</a></sup></td></tr><tr class=\"expand-child\"><td class=\"description\" colspan=\"5\" style=\"border-bottom:solid 3px #000000\">\n",
       "A two-hour documentary which documents the making of season eight.<sup class=\"reference\" id=\"cite_ref-95\"><a href=\"#cite_note-95\">[95]</a></sup></td></tr></tbody></table>\n",
       "<h2><span class=\"mw-headline\" id=\"Home_media_release\">Home media release</span><span class=\"mw-editsection\"><span class=\"mw-editsection-bracket\">[</span><a href=\"/w/index.php?title=List_of_Game_of_Thrones_episodes&amp;action=edit&amp;section=12\" title=\"Edit section: Home media release\">edit</a><span class=\"mw-editsection-bracket\">]</span></span></h2>\n",
       "<table class=\"wikitable\" style=\"text-align:center;\">\n",
       "<tbody><tr>\n",
       "<th colspan=\"2\" rowspan=\"2\">Season\n",
       "</th>\n",
       "<th rowspan=\"2\">Episodes\n",
       "</th>\n",
       "<th colspan=\"3\"><a href=\"/wiki/DVD\" title=\"DVD\">DVD</a> and <a href=\"/wiki/Blu-ray\" title=\"Blu-ray\">Blu-ray</a> release date\n",
       "</th></tr>\n",
       "<tr>\n",
       "<th><a href=\"/wiki/DVD_region_code#1\" title=\"DVD region code\">Region 1</a>\n",
       "</th>\n",
       "<th><a href=\"/wiki/DVD_region_code#2\" title=\"DVD region code\">Region 2</a>\n",
       "</th>\n",
       "<th><a href=\"/wiki/DVD_region_code#4\" title=\"DVD region code\">Region 4</a>\n",
       "</th></tr>\n",
       "<tr>\n",
       "<td style=\"background:#295354\">\n",
       "</td>\n",
       "<td><a href=\"#Season_1_(2011)\">1</a>\n",
       "</td>\n",
       "<td>10\n",
       "</td>\n",
       "<td>March 6, 2012<sup class=\"reference\" id=\"cite_ref-97\"><a href=\"#cite_note-97\">[97]</a></sup>\n",
       "</td>\n",
       "<td>March 5, 2012<sup class=\"reference\" id=\"cite_ref-98\"><a href=\"#cite_note-98\">[98]</a></sup>\n",
       "</td>\n",
       "<td>August 10, 2012<sup class=\"reference\" id=\"cite_ref-99\"><a href=\"#cite_note-99\">[99]</a></sup>\n",
       "</td></tr>\n",
       "<tr>\n",
       "<td style=\"background:#D09916\">\n",
       "</td>\n",
       "<td><a href=\"#Season_2_(2012)\">2</a>\n",
       "</td>\n",
       "<td>10\n",
       "</td>\n",
       "<td>February 19, 2013<sup class=\"reference\" id=\"cite_ref-100\"><a href=\"#cite_note-100\">[100]</a></sup>\n",
       "</td>\n",
       "<td>March 4, 2013<sup class=\"reference\" id=\"cite_ref-101\"><a href=\"#cite_note-101\">[101]</a></sup>\n",
       "</td>\n",
       "<td>March 6, 2013<sup class=\"reference\" id=\"cite_ref-102\"><a href=\"#cite_note-102\">[102]</a></sup>\n",
       "</td></tr>\n",
       "<tr>\n",
       "<td style=\"background:#54575A;\">\n",
       "</td>\n",
       "<td><a href=\"#Season_3_(2013)\">3</a>\n",
       "</td>\n",
       "<td>10\n",
       "</td>\n",
       "<td>February 18, 2014<sup class=\"reference\" id=\"cite_ref-103\"><a href=\"#cite_note-103\">[103]</a></sup>\n",
       "</td>\n",
       "<td>February 17, 2014<sup class=\"reference\" id=\"cite_ref-104\"><a href=\"#cite_note-104\">[104]</a></sup>\n",
       "</td>\n",
       "<td>February 19, 2014<sup class=\"reference\" id=\"cite_ref-105\"><a href=\"#cite_note-105\">[105]</a></sup>\n",
       "</td></tr>\n",
       "<tr>\n",
       "<td style=\"background:#222222;\">\n",
       "</td>\n",
       "<td><a href=\"#Season_4_(2014)\">4</a>\n",
       "</td>\n",
       "<td>10\n",
       "</td>\n",
       "<td>February 17, 2015<sup class=\"reference\" id=\"cite_ref-106\"><a href=\"#cite_note-106\">[106]</a></sup>\n",
       "</td>\n",
       "<td>February 16, 2015<sup class=\"reference\" id=\"cite_ref-107\"><a href=\"#cite_note-107\">[107]</a></sup>\n",
       "</td>\n",
       "<td>February 18, 2015<sup class=\"reference\" id=\"cite_ref-108\"><a href=\"#cite_note-108\">[108]</a></sup>\n",
       "</td></tr>\n",
       "<tr>\n",
       "<td style=\"background:#68411C;\">\n",
       "</td>\n",
       "<td><a href=\"#Season_5_(2015)\">5</a>\n",
       "</td>\n",
       "<td>10\n",
       "</td>\n",
       "<td>March 15, 2016<sup class=\"reference\" id=\"cite_ref-109\"><a href=\"#cite_note-109\">[109]</a></sup>\n",
       "</td>\n",
       "<td>March 14, 2016<sup class=\"reference\" id=\"cite_ref-110\"><a href=\"#cite_note-110\">[110]</a></sup>\n",
       "</td>\n",
       "<td>March 16, 2016<sup class=\"reference\" id=\"cite_ref-111\"><a href=\"#cite_note-111\">[111]</a></sup>\n",
       "</td></tr>\n",
       "<tr>\n",
       "<td style=\"background:#31485C;\">\n",
       "</td>\n",
       "<td><a href=\"#Season_6_(2016)\">6</a>\n",
       "</td>\n",
       "<td>10\n",
       "</td>\n",
       "<td>November 15, 2016<sup class=\"reference\" id=\"cite_ref-112\"><a href=\"#cite_note-112\">[112]</a></sup>\n",
       "</td>\n",
       "<td>November 14, 2016<sup class=\"reference\" id=\"cite_ref-113\"><a href=\"#cite_note-113\">[113]</a></sup>\n",
       "</td>\n",
       "<td>November 16, 2016<sup class=\"reference\" id=\"cite_ref-114\"><a href=\"#cite_note-114\">[114]</a></sup>\n",
       "</td></tr>\n",
       "<tr>\n",
       "<td style=\"background:#091411;\">\n",
       "</td>\n",
       "<td><a href=\"#Season_7_(2017)\">7</a>\n",
       "</td>\n",
       "<td>7\n",
       "</td>\n",
       "<td>December 12, 2017<sup class=\"reference\" id=\"cite_ref-115\"><a href=\"#cite_note-115\">[115]</a></sup>\n",
       "</td>\n",
       "<td>December 11, 2017<sup class=\"reference\" id=\"cite_ref-116\"><a href=\"#cite_note-116\">[116]</a></sup>\n",
       "</td>\n",
       "<td>December 11, 2017<sup class=\"reference\" id=\"cite_ref-117\"><a href=\"#cite_note-117\">[117]</a></sup>\n",
       "</td></tr>\n",
       "<tr>\n",
       "<td style=\"background:#3D424A;\">\n",
       "</td>\n",
       "<td><a href=\"#Season_8_(2019)\">8</a>\n",
       "</td>\n",
       "<td>6\n",
       "</td>\n",
       "<td>December 3, 2019<sup class=\"reference\" id=\"cite_ref-118\"><a href=\"#cite_note-118\">[118]</a></sup>\n",
       "</td>\n",
       "<td>December 2, 2019<sup class=\"reference\" id=\"cite_ref-119\"><a href=\"#cite_note-119\">[119]</a></sup>\n",
       "</td>\n",
       "<td>December 4, 2019<sup class=\"reference\" id=\"cite_ref-120\"><a href=\"#cite_note-120\">[120]</a></sup>\n",
       "</td></tr></tbody></table>\n",
       "<h2><span class=\"mw-headline\" id=\"Ratings\">Ratings</span><span class=\"mw-editsection\"><span class=\"mw-editsection-bracket\">[</span><a href=\"/w/index.php?title=List_of_Game_of_Thrones_episodes&amp;action=edit&amp;section=13\" title=\"Edit section: Ratings\">edit</a><span class=\"mw-editsection-bracket\">]</span></span></h2>\n",
       "<style data-mw-deduplicate=\"TemplateStyles:r952607947\">.mw-parser-output .excerpt .selflink{font-weight:normal}.mw-parser-output .excerpt-indicator{border-left:3px solid #c8ccd1;margin:1em 0;padding-left:1em}</style><div class=\"excerpt-block\"><div class=\"hatnote navigation-not-searchable selfref\" role=\"note\">This section is an excerpt from <a href=\"/wiki/Game_of_Thrones#Viewer_numbers\" title=\"Game of Thrones\">Game of Thrones § Viewer numbers</a><i><span class=\"mw-editsection-like plainlinks\"><span>[ </span><a class=\"external text\" href=\"https://en.wikipedia.org/w/index.php?title=Game_of_Thrones&amp;action=edit\">edit</a><span> ]</span></span></i></div><div class=\"excerpt\">\n",
       "<p>The first season averaged 2.5<span class=\"nowrap\"> </span>million viewers for its first Sunday-night screenings and a gross audience (including repeats and <a href=\"/wiki/Video_on_demand\" title=\"Video on demand\">on-demand</a> viewings) of 9.3<span class=\"nowrap\"> </span>million viewers per episode.<sup class=\"reference\" id=\"cite_ref-121\"><a href=\"#cite_note-121\">[121]</a></sup> For its second season, the series had an average gross audience of 11.6<span class=\"nowrap\"> </span>million viewers.<sup class=\"reference\" id=\"cite_ref-122\"><a href=\"#cite_note-122\">[122]</a></sup> The third season was seen by 14.2<span class=\"nowrap\"> </span>million viewers, making <i>Game of Thrones</i> the second-most-viewed HBO series (after <i>The Sopranos</i>).<sup class=\"reference\" id=\"cite_ref-123\"><a href=\"#cite_note-123\">[123]</a></sup><sup class=\"reference\" id=\"cite_ref-124\"><a href=\"#cite_note-124\">[124]</a></sup> For the fourth season, HBO said that its average gross audience of 18.4<span class=\"nowrap\"> </span>million viewers (later adjusted to 18.6<span class=\"nowrap\"> </span>million) had passed <i>The Sopranos</i> for the record.<sup class=\"reference\" id=\"cite_ref-125\"><a href=\"#cite_note-125\">[125]</a></sup><sup class=\"reference\" id=\"cite_ref-126\"><a href=\"#cite_note-126\">[126]</a></sup>\n",
       "</p><p>By the sixth season the average per-episode gross viewing figure had increased to over 25<span class=\"nowrap\"> </span>million, with nearly 40 percent of viewers watching on HBO digital platforms.<sup class=\"reference\" id=\"cite_ref-127\"><a href=\"#cite_note-127\">[127]</a></sup> In 2016, a <i><a class=\"mw-redirect\" href=\"/wiki/New_York_Times\" title=\"New York Times\">New York Times</a></i> study of the 50 TV shows with the most <a class=\"mw-redirect\" href=\"/wiki/Facebook_like\" title=\"Facebook like\">Facebook likes</a> found that <i>Game of Thrones</i> was \"much more popular in cities than in the countryside, probably the only show involving zombies that is\".<sup class=\"reference\" id=\"cite_ref-katz20161227_128-0\"><a href=\"#cite_note-katz20161227-128\">[128]</a></sup> By season seven, average viewer numbers had increased to 32.8<span class=\"nowrap\"> </span>million per episode across all platforms.<sup class=\"reference\" id=\"cite_ref-129\"><a href=\"#cite_note-129\">[129]</a></sup><sup class=\"reference\" id=\"cite_ref-130\"><a href=\"#cite_note-130\">[130]</a></sup>\n",
       "</p><p>The series set records on pay-television channels in the United Kingdom (with a 2016 average audience of more than five million on all platforms)<sup class=\"reference\" id=\"cite_ref-131\"><a href=\"#cite_note-131\">[131]</a></sup> and Australia (with a cumulative average audience of 1.2<span class=\"nowrap\"> </span>million).<sup class=\"reference\" id=\"cite_ref-132\"><a href=\"#cite_note-132\">[132]</a></sup>\n",
       "</p>\n",
       "<div align=\"center\" style=\"margin-top:1em\"><b><i>Game of Thrones</i> : U.S. viewers per episode (millions)</b><div style=\"clear:both\"></div><style data-mw-deduplicate=\"TemplateStyles:r950958020\">@media all and (max-width:720px){body.skin-minerva .mw-parser-output div.mw-graph{min-width:auto!important;max-width:100%;overflow-x:auto;overflow-y:visible}}.mw-parser-output .mw-graph-img{width:inherit;height:inherit}</style><div class=\"mw-graph\" style=\"min-width:730px;min-height:300px\"><img class=\"mw-graph-img\" src=\"/api/rest_v1/page/graph/png/List_of_Game_of_Thrones_episodes/0/bcfa5f1f8f60801f174ee9c7ac9c174129bdee3b.png\"/></div><div style=\"clear:both\"></div><table class=\"wikitable\" style=\"text-align:center\"><tbody><tr><th colspan=\"2\" rowspan=\"2\" style=\"padding-left:.8em;padding-right:.8em\">Season</th><th colspan=\"10\" style=\"padding-left:.8em;padding-right:.8em\">Episode number</th><th rowspan=\"2\" scope=\"col\" style=\"padding-left:.8em;padding-right:.8em\">Average</th></tr><tr><th scope=\"col\">1</th><th scope=\"col\">2</th><th scope=\"col\">3</th><th scope=\"col\">4</th><th scope=\"col\">5</th><th scope=\"col\">6</th><th scope=\"col\">7</th><th scope=\"col\">8</th><th scope=\"col\">9</th><th scope=\"col\">10</th></tr><tr><th style=\"background-color:#295354;width:10px\"></th><th scope=\"row\">1</th><td style=\"width:35px\">2.22</td><td style=\"width:35px\">2.20</td><td style=\"width:35px\">2.44</td><td style=\"width:35px\">2.45</td><td style=\"width:35px\">2.58</td><td style=\"width:35px\">2.44</td><td style=\"width:35px\">2.40</td><td style=\"width:35px\">2.72</td><td style=\"width:35px\">2.66</td><td style=\"width:35px\">3.04</td><td>2.52</td></tr><tr><th style=\"background-color:#D09916;width:10px\"></th><th scope=\"row\">2</th><td style=\"width:35px\">3.86</td><td style=\"width:35px\">3.76</td><td style=\"width:35px\">3.77</td><td style=\"width:35px\">3.65</td><td style=\"width:35px\">3.90</td><td style=\"width:35px\">3.88</td><td style=\"width:35px\">3.69</td><td style=\"width:35px\">3.86</td><td style=\"width:35px\">3.38</td><td style=\"width:35px\">4.20</td><td>3.80</td></tr><tr><th style=\"background-color:#54575A;width:10px\"></th><th scope=\"row\">3</th><td style=\"width:35px\">4.37</td><td style=\"width:35px\">4.27</td><td style=\"width:35px\">4.72</td><td style=\"width:35px\">4.87</td><td style=\"width:35px\">5.35</td><td style=\"width:35px\">5.50</td><td style=\"width:35px\">4.84</td><td style=\"width:35px\">5.13</td><td style=\"width:35px\">5.22</td><td style=\"width:35px\">5.39</td><td>4.97</td></tr><tr><th style=\"background-color:#222222;width:10px\"></th><th scope=\"row\">4</th><td style=\"width:35px\">6.64</td><td style=\"width:35px\">6.31</td><td style=\"width:35px\">6.59</td><td style=\"width:35px\">6.95</td><td style=\"width:35px\">7.16</td><td style=\"width:35px\">6.40</td><td style=\"width:35px\">7.20</td><td style=\"width:35px\">7.17</td><td style=\"width:35px\">6.95</td><td style=\"width:35px\">7.09</td><td>6.84</td></tr><tr><th style=\"background-color:#68411C;width:10px\"></th><th scope=\"row\">5</th><td style=\"width:35px\">8.00</td><td style=\"width:35px\">6.81</td><td style=\"width:35px\">6.71</td><td style=\"width:35px\">6.82</td><td style=\"width:35px\">6.56</td><td style=\"width:35px\">6.24</td><td style=\"width:35px\">5.40</td><td style=\"width:35px\">7.01</td><td style=\"width:35px\">7.14</td><td style=\"width:35px\">8.11</td><td>6.88</td></tr><tr><th style=\"background-color:#31485C;width:10px\"></th><th scope=\"row\">6</th><td style=\"width:35px\">7.94</td><td style=\"width:35px\">7.29</td><td style=\"width:35px\">7.28</td><td style=\"width:35px\">7.82</td><td style=\"width:35px\">7.89</td><td style=\"width:35px\">6.71</td><td style=\"width:35px\">7.80</td><td style=\"width:35px\">7.60</td><td style=\"width:35px\">7.66</td><td style=\"width:35px\">8.89</td><td>7.69</td></tr><tr><th style=\"background-color:#091411;width:10px\"></th><th scope=\"row\">7</th><td style=\"width:35px\">10.11</td><td style=\"width:35px\">9.27</td><td style=\"width:35px\">9.25</td><td style=\"width:35px\">10.17</td><td style=\"width:35px\">10.72</td><td style=\"width:35px\">10.24</td><td style=\"width:35px\">12.07</td><td class=\"table-na\" colspan=\"3\" data-sort-value=\"\" style=\"background: #ececec; color: #2C2C2C; vertical-align: middle; text-align: center;\">N/A</td><td>10.26</td></tr><tr><th style=\"background-color:#3D424A;width:10px\"></th><th scope=\"row\">8</th><td style=\"width:35px\">11.76</td><td style=\"width:35px\">10.29</td><td style=\"width:35px\">12.02</td><td style=\"width:35px\">11.80</td><td style=\"width:35px\">12.48</td><td style=\"width:35px\">13.61</td><td class=\"table-na\" colspan=\"4\" data-sort-value=\"\" style=\"background: #ececec; color: #2C2C2C; vertical-align: middle; text-align: center;\">N/A</td><td>11.99</td></tr></tbody></table><div style=\"clear:both\"></div><small>Audience measurement performed by <a href=\"/wiki/Nielsen_Media_Research\" title=\"Nielsen Media Research\">Nielsen Media Research</a>.</small><sup class=\"reference\" id=\"cite_ref-133\"><a href=\"#cite_note-133\">[133]</a></sup></div></div></div>\n",
       "<h2><span class=\"mw-headline\" id=\"References\">References</span><span class=\"mw-editsection\"><span class=\"mw-editsection-bracket\">[</span><a href=\"/w/index.php?title=List_of_Game_of_Thrones_episodes&amp;action=edit&amp;section=14\" title=\"Edit section: References\">edit</a><span class=\"mw-editsection-bracket\">]</span></span></h2>\n",
       "<div class=\"reflist\" style=\"list-style-type: decimal;\">\n",
       "<div class=\"mw-references-wrap mw-references-columns\"><ol class=\"references\">\n",
       "<li id=\"cite_note-1\"><span class=\"mw-cite-backlink\"><b><a href=\"#cite_ref-1\">^</a></b></span> <span class=\"reference-text\"><cite class=\"citation web\" id=\"CITEREFFowler2011\">Fowler, Matt (April 8, 2011). <a class=\"external text\" href=\"http://tv.ign.com/articles/116/1160215p1.html\" rel=\"nofollow\">\"Game of Thrones: \"Winter is Coming\" Review\"</a>. <i><a href=\"/wiki/IGN\" title=\"IGN\">IGN</a></i>. <a class=\"external text\" href=\"https://web.archive.org/web/20120817073932/http://tv.ign.com/articles/116/1160215p1.html\" rel=\"nofollow\">Archived</a> from the original on August 17, 2012<span class=\"reference-accessdate\">. Retrieved <span class=\"nowrap\">September 22,</span> 2016</span>.</cite><span class=\"Z3988\" title=\"ctx_ver=Z39.88-2004&amp;rft_val_fmt=info%3Aofi%2Ffmt%3Akev%3Amtx%3Ajournal&amp;rft.genre=unknown&amp;rft.jtitle=IGN&amp;rft.atitle=Game+of+Thrones%3A+%22Winter+is+Coming%22+Review&amp;rft.date=2011-04-08&amp;rft.aulast=Fowler&amp;rft.aufirst=Matt&amp;rft_id=http%3A%2F%2Ftv.ign.com%2Farticles%2F116%2F1160215p1.html&amp;rfr_id=info%3Asid%2Fen.wikipedia.org%3AList+of+Game+of+Thrones+episodes\"></span><style data-mw-deduplicate=\"TemplateStyles:r951705291\">.mw-parser-output cite.citation{font-style:inherit}.mw-parser-output .citation q{quotes:\"\\\"\"\"\\\"\"\"'\"\"'\"}.mw-parser-output .id-lock-free a,.mw-parser-output .citation .cs1-lock-free a{background-image:url(\"//upload.wikimedia.org/wikipedia/commons/thumb/6/65/Lock-green.svg/9px-Lock-green.svg.png\");background-image:linear-gradient(transparent,transparent),url(\"//upload.wikimedia.org/wikipedia/commons/6/65/Lock-green.svg\");background-repeat:no-repeat;background-size:9px;background-position:right .1em center}.mw-parser-output .id-lock-limited a,.mw-parser-output .id-lock-registration a,.mw-parser-output .citation .cs1-lock-limited a,.mw-parser-output .citation .cs1-lock-registration a{background-image:url(\"//upload.wikimedia.org/wikipedia/commons/thumb/d/d6/Lock-gray-alt-2.svg/9px-Lock-gray-alt-2.svg.png\");background-image:linear-gradient(transparent,transparent),url(\"//upload.wikimedia.org/wikipedia/commons/d/d6/Lock-gray-alt-2.svg\");background-repeat:no-repeat;background-size:9px;background-position:right .1em center}.mw-parser-output .id-lock-subscription a,.mw-parser-output .citation .cs1-lock-subscription a{background-image:url(\"//upload.wikimedia.org/wikipedia/commons/thumb/a/aa/Lock-red-alt-2.svg/9px-Lock-red-alt-2.svg.png\");background-image:linear-gradient(transparent,transparent),url(\"//upload.wikimedia.org/wikipedia/commons/a/aa/Lock-red-alt-2.svg\");background-repeat:no-repeat;background-size:9px;background-position:right .1em center}.mw-parser-output .cs1-subscription,.mw-parser-output .cs1-registration{color:#555}.mw-parser-output .cs1-subscription span,.mw-parser-output .cs1-registration span{border-bottom:1px dotted;cursor:help}.mw-parser-output .cs1-ws-icon a{background-image:url(\"//upload.wikimedia.org/wikipedia/commons/thumb/4/4c/Wikisource-logo.svg/12px-Wikisource-logo.svg.png\");background-image:linear-gradient(transparent,transparent),url(\"//upload.wikimedia.org/wikipedia/commons/4/4c/Wikisource-logo.svg\");background-repeat:no-repeat;background-size:12px;background-position:right .1em center}.mw-parser-output code.cs1-code{color:inherit;background:inherit;border:inherit;padding:inherit}.mw-parser-output .cs1-hidden-error{display:none;font-size:100%}.mw-parser-output .cs1-visible-error{font-size:100%}.mw-parser-output .cs1-maint{display:none;color:#33aa33;margin-left:0.3em}.mw-parser-output .cs1-subscription,.mw-parser-output .cs1-registration,.mw-parser-output .cs1-format{font-size:95%}.mw-parser-output .cs1-kern-left,.mw-parser-output .cs1-kern-wl-left{padding-left:0.2em}.mw-parser-output .cs1-kern-right,.mw-parser-output .cs1-kern-wl-right{padding-right:0.2em}.mw-parser-output .citation .mw-selflink{font-weight:inherit}</style></span>\n",
       "</li>\n",
       "<li id=\"cite_note-2\"><span class=\"mw-cite-backlink\"><b><a href=\"#cite_ref-2\">^</a></b></span> <span class=\"reference-text\"><cite class=\"citation news\" id=\"CITEREFFleming2007\">Fleming, Michael (January 16, 2007). <a class=\"external text\" href=\"https://www.variety.com/article/VR1117957532.html?categoryid=14&amp;cs=1\" rel=\"nofollow\">\"HBO turns <i>Fire</i> into fantasy series\"</a>. <i><a href=\"/wiki/Variety_(magazine)\" title=\"Variety (magazine)\">Variety</a></i>. <a class=\"external text\" href=\"https://web.archive.org/web/20120516224747/http://www.variety.com/article/VR1117957532?refCatId=14\" rel=\"nofollow\">Archived</a> from the original on May 16, 2012<span class=\"reference-accessdate\">. Retrieved <span class=\"nowrap\">September 3,</span> 2016</span>.</cite><span class=\"Z3988\" title=\"ctx_ver=Z39.88-2004&amp;rft_val_fmt=info%3Aofi%2Ffmt%3Akev%3Amtx%3Ajournal&amp;rft.genre=article&amp;rft.jtitle=Variety&amp;rft.atitle=HBO+turns+Fire+into+fantasy+series&amp;rft.date=2007-01-16&amp;rft.aulast=Fleming&amp;rft.aufirst=Michael&amp;rft_id=https%3A%2F%2Fwww.variety.com%2Farticle%2FVR1117957532.html%3Fcategoryid%3D14%26cs%3D1&amp;rfr_id=info%3Asid%2Fen.wikipedia.org%3AList+of+Game+of+Thrones+episodes\"></span><link href=\"mw-data:TemplateStyles:r951705291\" rel=\"mw-deduplicated-inline-style\"/></span>\n",
       "</li>\n",
       "<li id=\"cite_note-emmys.com-3\"><span class=\"mw-cite-backlink\">^ <a href=\"#cite_ref-emmys.com_3-0\"><sup><i><b>a</b></i></sup></a> <a href=\"#cite_ref-emmys.com_3-1\"><sup><i><b>b</b></i></sup></a></span> <span class=\"reference-text\"><cite class=\"citation web\"><a class=\"external text\" href=\"http://www.emmys.com/shows/game-thrones\" rel=\"nofollow\">\"Game of Thrones\"</a>. <i><a href=\"/wiki/Emmy_Award\" title=\"Emmy Award\">Emmys.com</a></i><span class=\"reference-accessdate\">. Retrieved <span class=\"nowrap\">September 17,</span> 2016</span>.</cite><span class=\"Z3988\" title=\"ctx_ver=Z39.88-2004&amp;rft_val_fmt=info%3Aofi%2Ffmt%3Akev%3Amtx%3Ajournal&amp;rft.genre=unknown&amp;rft.jtitle=Emmys.com&amp;rft.atitle=Game+of+Thrones&amp;rft_id=http%3A%2F%2Fwww.emmys.com%2Fshows%2Fgame-thrones&amp;rfr_id=info%3Asid%2Fen.wikipedia.org%3AList+of+Game+of+Thrones+episodes\"></span><link href=\"mw-data:TemplateStyles:r951705291\" rel=\"mw-deduplicated-inline-style\"/></span>\n",
       "</li>\n",
       "<li id=\"cite_note-4\"><span class=\"mw-cite-backlink\"><b><a href=\"#cite_ref-4\">^</a></b></span> <span class=\"reference-text\"><cite class=\"citation news\" id=\"CITEREFRoberts2012\">Roberts, Josh (April 1, 2012). <a class=\"external text\" href=\"https://web.archive.org/web/20120401123724/http://travel.usatoday.com/destinations/story/2012-04-01/Where-the-HBO-hit-Game-of-Thrones-was-filmed/53876876/1\" rel=\"nofollow\">\"Where HBO's hit 'Game of Thrones' was filmed\"</a>. <i><a href=\"/wiki/USA_Today\" title=\"USA Today\">USA Today</a></i>. Archived from <a class=\"external text\" href=\"http://travel.usatoday.com/destinations/story/2012-04-01/Where-the-HBO-hit-Game-of-Thrones-was-filmed/53876876/1\" rel=\"nofollow\">the original</a> on April 1, 2012<span class=\"reference-accessdate\">. Retrieved <span class=\"nowrap\">March 8,</span> 2013</span>.</cite><span class=\"Z3988\" title=\"ctx_ver=Z39.88-2004&amp;rft_val_fmt=info%3Aofi%2Ffmt%3Akev%3Amtx%3Ajournal&amp;rft.genre=article&amp;rft.jtitle=USA+Today&amp;rft.atitle=Where+HBO%27s+hit+%27Game+of+Thrones%27+was+filmed&amp;rft.date=2012-04-01&amp;rft.aulast=Roberts&amp;rft.aufirst=Josh&amp;rft_id=http%3A%2F%2Ftravel.usatoday.com%2Fdestinations%2Fstory%2F2012-04-01%2FWhere-the-HBO-hit-Game-of-Thrones-was-filmed%2F53876876%2F1&amp;rfr_id=info%3Asid%2Fen.wikipedia.org%3AList+of+Game+of+Thrones+episodes\"></span><link href=\"mw-data:TemplateStyles:r951705291\" rel=\"mw-deduplicated-inline-style\"/></span>\n",
       "</li>\n",
       "<li id=\"cite_note-5\"><span class=\"mw-cite-backlink\"><b><a href=\"#cite_ref-5\">^</a></b></span> <span class=\"reference-text\"><cite class=\"citation web\" id=\"CITEREFSchwartz2013\">Schwartz, Terri (January 28, 2013). <a class=\"external text\" href=\"https://web.archive.org/web/20131016062544/http://blog.zap2it.com/frominsidethebox/2013/01/game-of-thrones-casts-a-bear-and-shoots-in-los-angeles-for-major-season-3-scene.html\" rel=\"nofollow\">\"<span class=\"cs1-kern-left\">'</span>Game of Thrones' casts a bear and shoots in Los Angeles for major Season 3 scene\"</a>. <a href=\"/wiki/Zap2it\" title=\"Zap2it\">Zap2it</a>. Archived from <a class=\"external text\" href=\"http://blog.zap2it.com/frominsidethebox/2013/01/game-of-thrones-casts-a-bear-and-shoots-in-los-angeles-for-major-season-3-scene.html\" rel=\"nofollow\">the original</a> on October 16, 2013<span class=\"reference-accessdate\">. Retrieved <span class=\"nowrap\">March 8,</span> 2013</span>.</cite><span class=\"Z3988\" title=\"ctx_ver=Z39.88-2004&amp;rft_val_fmt=info%3Aofi%2Ffmt%3Akev%3Amtx%3Abook&amp;rft.genre=unknown&amp;rft.btitle=%27Game+of+Thrones%27+casts+a+bear+and+shoots+in+Los+Angeles+for+major+Season+3+scene&amp;rft.pub=Zap2it&amp;rft.date=2013-01-28&amp;rft.aulast=Schwartz&amp;rft.aufirst=Terri&amp;rft_id=http%3A%2F%2Fblog.zap2it.com%2Ffrominsidethebox%2F2013%2F01%2Fgame-of-thrones-casts-a-bear-and-shoots-in-los-angeles-for-major-season-3-scene.html&amp;rfr_id=info%3Asid%2Fen.wikipedia.org%3AList+of+Game+of+Thrones+episodes\"></span><link href=\"mw-data:TemplateStyles:r951705291\" rel=\"mw-deduplicated-inline-style\"/></span>\n",
       "</li>\n",
       "<li id=\"cite_note-6\"><span class=\"mw-cite-backlink\"><b><a href=\"#cite_ref-6\">^</a></b></span> <span class=\"reference-text\"><cite class=\"citation web\" id=\"CITEREFBurgen2014\">Burgen, Stephen (July 6, 2014). <a class=\"external text\" href=\"https://www.theguardian.com/tv-and-radio/2014/jul/06/game-of-thrones-fifth-series-10000-spaniards-extras-spain\" rel=\"nofollow\">\"Game of Thrones fifth series: more than 10,000 Spaniards apply to be extras\"</a>. <i><a href=\"/wiki/The_Guardian\" title=\"The Guardian\">The Guardian</a></i>. <a class=\"external text\" href=\"https://web.archive.org/web/20161221144004/https://www.theguardian.com/tv-and-radio/2014/jul/06/game-of-thrones-fifth-series-10000-spaniards-extras-spain\" rel=\"nofollow\">Archived</a> from the original on December 21, 2016<span class=\"reference-accessdate\">. Retrieved <span class=\"nowrap\">September 9,</span> 2016</span>.</cite><span class=\"Z3988\" title=\"ctx_ver=Z39.88-2004&amp;rft_val_fmt=info%3Aofi%2Ffmt%3Akev%3Amtx%3Ajournal&amp;rft.genre=unknown&amp;rft.jtitle=The+Guardian&amp;rft.atitle=Game+of+Thrones+fifth+series%3A+more+than+10%2C000+Spaniards+apply+to+be+extras&amp;rft.date=2014-07-06&amp;rft.aulast=Burgen&amp;rft.aufirst=Stephen&amp;rft_id=https%3A%2F%2Fwww.theguardian.com%2Ftv-and-radio%2F2014%2Fjul%2F06%2Fgame-of-thrones-fifth-series-10000-spaniards-extras-spain&amp;rfr_id=info%3Asid%2Fen.wikipedia.org%3AList+of+Game+of+Thrones+episodes\"></span><link href=\"mw-data:TemplateStyles:r951705291\" rel=\"mw-deduplicated-inline-style\"/></span>\n",
       "</li>\n",
       "<li id=\"cite_note-7\"><span class=\"mw-cite-backlink\"><b><a href=\"#cite_ref-7\">^</a></b></span> <span class=\"reference-text\"><cite class=\"citation news\" id=\"CITEREFThomas2012\">Thomas, June (March 29, 2012). <a class=\"external text\" href=\"http://www.slate.com/articles/arts/culturebox/2012/03/game_of_thrones_how_hbo_and_showtime_make_money_despite_low_ratings_.html\" rel=\"nofollow\">\"How Much Gold Is Game of Thrones Worth\"</a>. <i><a href=\"/wiki/Slate_(magazine)\" title=\"Slate (magazine)\">Slate</a></i>. <a class=\"external text\" href=\"https://web.archive.org/web/20160902035425/http://www.slate.com/articles/arts/culturebox/2012/03/game_of_thrones_how_hbo_and_showtime_make_money_despite_low_ratings_.html\" rel=\"nofollow\">Archived</a> from the original on September 2, 2016<span class=\"reference-accessdate\">. Retrieved <span class=\"nowrap\">June 5,</span> 2014</span>.</cite><span class=\"Z3988\" title=\"ctx_ver=Z39.88-2004&amp;rft_val_fmt=info%3Aofi%2Ffmt%3Akev%3Amtx%3Ajournal&amp;rft.genre=article&amp;rft.jtitle=Slate&amp;rft.atitle=How+Much+Gold+Is+Game+of+Thrones+Worth&amp;rft.date=2012-03-29&amp;rft.aulast=Thomas&amp;rft.aufirst=June&amp;rft_id=http%3A%2F%2Fwww.slate.com%2Farticles%2Farts%2Fculturebox%2F2012%2F03%2Fgame_of_thrones_how_hbo_and_showtime_make_money_despite_low_ratings_.html&amp;rfr_id=info%3Asid%2Fen.wikipedia.org%3AList+of+Game+of+Thrones+episodes\"></span><link href=\"mw-data:TemplateStyles:r951705291\" rel=\"mw-deduplicated-inline-style\"/></span>\n",
       "</li>\n",
       "<li id=\"cite_note-8\"><span class=\"mw-cite-backlink\"><b><a href=\"#cite_ref-8\">^</a></b></span> <span class=\"reference-text\"><cite class=\"citation news\" id=\"CITEREFDwilson2016\">Dwilson, Stephanie Dube (June 19, 2016). <a class=\"external text\" href=\"http://heavy.com/entertainment/2016/06/game-of-thrones-season-6-episode-9-air-time-channel-hbo-when-is-on-tonight-station-battle-of-the-bastards/\" rel=\"nofollow\">\"<span class=\"cs1-kern-left\">'</span>Game of Thrones' Season 6 Episode 9: What Time &amp; Channel Does It Air Tonight?\"</a>. <a href=\"/wiki/Heavy.com\" title=\"Heavy.com\">Heavy.com</a>. <a class=\"external text\" href=\"https://web.archive.org/web/20160825113558/http://heavy.com/entertainment/2016/06/game-of-thrones-season-6-episode-9-air-time-channel-hbo-when-is-on-tonight-station-battle-of-the-bastards/\" rel=\"nofollow\">Archived</a> from the original on August 25, 2016<span class=\"reference-accessdate\">. Retrieved <span class=\"nowrap\">September 9,</span> 2016</span>.</cite><span class=\"Z3988\" title=\"ctx_ver=Z39.88-2004&amp;rft_val_fmt=info%3Aofi%2Ffmt%3Akev%3Amtx%3Ajournal&amp;rft.genre=article&amp;rft.atitle=%E2%80%98Game+of+Thrones%E2%80%99+Season+6+Episode+9%3A+What+Time+%26+Channel+Does+It+Air+Tonight%3F&amp;rft.date=2016-06-19&amp;rft.aulast=Dwilson&amp;rft.aufirst=Stephanie+Dube&amp;rft_id=http%3A%2F%2Fheavy.com%2Fentertainment%2F2016%2F06%2Fgame-of-thrones-season-6-episode-9-air-time-channel-hbo-when-is-on-tonight-station-battle-of-the-bastards%2F&amp;rfr_id=info%3Asid%2Fen.wikipedia.org%3AList+of+Game+of+Thrones+episodes\"></span><link href=\"mw-data:TemplateStyles:r951705291\" rel=\"mw-deduplicated-inline-style\"/></span>\n",
       "</li>\n",
       "<li id=\"cite_note-9\"><span class=\"mw-cite-backlink\"><b><a href=\"#cite_ref-9\">^</a></b></span> <span class=\"reference-text\"><cite class=\"citation web\"><a class=\"external text\" href=\"http://www.hbo.com/search?q=Game%20of%20Thrones&amp;type=schedule\" rel=\"nofollow\">\"Game of Thrones\"</a>. <a href=\"/wiki/HBO\" title=\"HBO\">HBO</a><span class=\"reference-accessdate\">. Retrieved <span class=\"nowrap\">September 3,</span> 2016</span>.</cite><span class=\"Z3988\" title=\"ctx_ver=Z39.88-2004&amp;rft_val_fmt=info%3Aofi%2Ffmt%3Akev%3Amtx%3Abook&amp;rft.genre=unknown&amp;rft.btitle=Game+of+Thrones&amp;rft.pub=HBO&amp;rft_id=http%3A%2F%2Fwww.hbo.com%2Fsearch%3Fq%3DGame%2520of%2520Thrones%26type%3Dschedule&amp;rfr_id=info%3Asid%2Fen.wikipedia.org%3AList+of+Game+of+Thrones+episodes\"></span><link href=\"mw-data:TemplateStyles:r951705291\" rel=\"mw-deduplicated-inline-style\"/></span>\n",
       "</li>\n",
       "<li id=\"cite_note-Season8-10\"><span class=\"mw-cite-backlink\"><b><a href=\"#cite_ref-Season8_10-0\">^</a></b></span> <span class=\"reference-text\"><cite class=\"citation web\" id=\"CITEREFHibberd2016\">Hibberd, James (July 30, 2016). <a class=\"external text\" href=\"https://www.ew.com/article/2016/07/30/game-thrones\" rel=\"nofollow\">\"Game of Thrones: HBO confirms season 8 will be last\"</a>. <i>Entertainment Weekly</i>. <a class=\"external text\" href=\"https://web.archive.org/web/20160901123724/http://www.ew.com/article/2016/07/30/game-thrones\" rel=\"nofollow\">Archived</a> from the original on September 1, 2016<span class=\"reference-accessdate\">. Retrieved <span class=\"nowrap\">July 30,</span> 2016</span>.</cite><span class=\"Z3988\" title=\"ctx_ver=Z39.88-2004&amp;rft_val_fmt=info%3Aofi%2Ffmt%3Akev%3Amtx%3Ajournal&amp;rft.genre=unknown&amp;rft.jtitle=Entertainment+Weekly&amp;rft.atitle=Game+of+Thrones%3A+HBO+confirms+season+8+will+be+last&amp;rft.date=2016-07-30&amp;rft.aulast=Hibberd&amp;rft.aufirst=James&amp;rft_id=https%3A%2F%2Fwww.ew.com%2Farticle%2F2016%2F07%2F30%2Fgame-thrones&amp;rfr_id=info%3Asid%2Fen.wikipedia.org%3AList+of+Game+of+Thrones+episodes\"></span><link href=\"mw-data:TemplateStyles:r951705291\" rel=\"mw-deduplicated-inline-style\"/></span>\n",
       "</li>\n",
       "<li id=\"cite_note-11\"><span class=\"mw-cite-backlink\"><b><a href=\"#cite_ref-11\">^</a></b></span> <span class=\"reference-text\"><cite class=\"citation web\" id=\"CITEREFWagmeister2017\">Wagmeister, Elizabeth (March 12, 2017). <a class=\"external text\" href=\"https://variety.com/2017/tv/news/game-of-thrones-sxsw-panel-2017-highlights-1202007386/\" rel=\"nofollow\">\"<span class=\"cs1-kern-left\">'</span>Game of Thrones': 10 Behind-the-Scenes Secrets We Learned From the SXSW Panel\"</a>. <i><a href=\"/wiki/Variety_(magazine)\" title=\"Variety (magazine)\">Variety</a></i>. <a class=\"external text\" href=\"https://web.archive.org/web/20170312123724/http://variety.com/2017/tv/news/game-of-thrones-sxsw-panel-2017-highlights-1202007386/\" rel=\"nofollow\">Archived</a> from the original on March 12, 2017<span class=\"reference-accessdate\">. Retrieved <span class=\"nowrap\">March 12,</span> 2017</span>.</cite><span class=\"Z3988\" title=\"ctx_ver=Z39.88-2004&amp;rft_val_fmt=info%3Aofi%2Ffmt%3Akev%3Amtx%3Ajournal&amp;rft.genre=unknown&amp;rft.jtitle=Variety&amp;rft.atitle=%E2%80%98Game+of+Thrones%E2%80%99%3A+10+Behind-the-Scenes+Secrets+We+Learned+From+the+SXSW+Panel&amp;rft.date=2017-03-12&amp;rft.aulast=Wagmeister&amp;rft.aufirst=Elizabeth&amp;rft_id=https%3A%2F%2Fvariety.com%2F2017%2Ftv%2Fnews%2Fgame-of-thrones-sxsw-panel-2017-highlights-1202007386%2F&amp;rfr_id=info%3Asid%2Fen.wikipedia.org%3AList+of+Game+of+Thrones+episodes\"></span><link href=\"mw-data:TemplateStyles:r951705291\" rel=\"mw-deduplicated-inline-style\"/></span>\n",
       "</li>\n",
       "<li id=\"cite_note-April14-12\"><span class=\"mw-cite-backlink\"><b><a href=\"#cite_ref-April14_12-0\">^</a></b></span> <span class=\"reference-text\"><cite class=\"citation web\" id=\"CITEREFPatten2019\">Patten, Dominic (January 13, 2019). <a class=\"external text\" href=\"https://deadline.com/2019/01/game-of-thrones-premiere-date-season-8-final-episodes-hbo-1202534001/\" rel=\"nofollow\">\"<span class=\"cs1-kern-left\">'</span>Game Of Thrones' Final Season Debut Date Revealed By HBO With New Tease\"</a>. <i><a href=\"/wiki/Deadline_Hollywood\" title=\"Deadline Hollywood\">Deadline Hollywood</a></i><span class=\"reference-accessdate\">. Retrieved <span class=\"nowrap\">January 14,</span> 2019</span>.</cite><span class=\"Z3988\" title=\"ctx_ver=Z39.88-2004&amp;rft_val_fmt=info%3Aofi%2Ffmt%3Akev%3Amtx%3Ajournal&amp;rft.genre=unknown&amp;rft.jtitle=Deadline+Hollywood&amp;rft.atitle=%E2%80%98Game+Of+Thrones%E2%80%99+Final+Season+Debut+Date+Revealed+By+HBO+With+New+Tease&amp;rft.date=2019-01-13&amp;rft.aulast=Patten&amp;rft.aufirst=Dominic&amp;rft_id=https%3A%2F%2Fdeadline.com%2F2019%2F01%2Fgame-of-thrones-premiere-date-season-8-final-episodes-hbo-1202534001%2F&amp;rfr_id=info%3Asid%2Fen.wikipedia.org%3AList+of+Game+of+Thrones+episodes\"></span><link href=\"mw-data:TemplateStyles:r951705291\" rel=\"mw-deduplicated-inline-style\"/></span>\n",
       "</li>\n",
       "<li id=\"cite_note-average_2-13\"><span class=\"mw-cite-backlink\">^ <a href=\"#cite_ref-average_2_13-0\"><sup><i><b>a</b></i></sup></a> <a href=\"#cite_ref-average_2_13-1\"><sup><i><b>b</b></i></sup></a></span> <span class=\"reference-text\"><cite class=\"citation web\"><a class=\"external text\" href=\"http://tvseriesfinale.com/tv-show/game-of-thrones-season-two-ratings-22729/\" rel=\"nofollow\">\"Game of Thrones: Season Two Ratings\"</a>. <i>TV Series Finale</i>. June 11, 2012. <a class=\"external text\" href=\"https://archive.is/20160420134703/http://tvseriesfinale.com/tv-show/game-of-thrones-season-two-ratings-22729/\" rel=\"nofollow\">Archived</a> from the original on April 20, 2016<span class=\"reference-accessdate\">. Retrieved <span class=\"nowrap\">April 18,</span> 2016</span>.</cite><span class=\"Z3988\" title=\"ctx_ver=Z39.88-2004&amp;rft_val_fmt=info%3Aofi%2Ffmt%3Akev%3Amtx%3Ajournal&amp;rft.genre=unknown&amp;rft.jtitle=TV+Series+Finale&amp;rft.atitle=Game+of+Thrones%3A+Season+Two+Ratings&amp;rft.date=2012-06-11&amp;rft_id=http%3A%2F%2Ftvseriesfinale.com%2Ftv-show%2Fgame-of-thrones-season-two-ratings-22729%2F&amp;rfr_id=info%3Asid%2Fen.wikipedia.org%3AList+of+Game+of+Thrones+episodes\"></span><link href=\"mw-data:TemplateStyles:r951705291\" rel=\"mw-deduplicated-inline-style\"/></span>\n",
       "</li>\n",
       "<li id=\"cite_note-14\"><span class=\"mw-cite-backlink\"><b><a href=\"#cite_ref-14\">^</a></b></span> <span class=\"reference-text\"><cite class=\"citation web\"><a class=\"external text\" href=\"http://tvseriesfinale.com/tv-show/game-of-thrones-season-three-ratings-27711/\" rel=\"nofollow\">\"Game of Thrones: Season Three Ratings\"</a>. <i>TV Series Finale</i>. June 12, 2013. <a class=\"external text\" href=\"https://archive.is/20160420134702/http://tvseriesfinale.com/tv-show/game-of-thrones-season-three-ratings-27711/\" rel=\"nofollow\">Archived</a> from the original on April 20, 2016<span class=\"reference-accessdate\">. Retrieved <span class=\"nowrap\">April 18,</span> 2016</span>.</cite><span class=\"Z3988\" title=\"ctx_ver=Z39.88-2004&amp;rft_val_fmt=info%3Aofi%2Ffmt%3Akev%3Amtx%3Ajournal&amp;rft.genre=unknown&amp;rft.jtitle=TV+Series+Finale&amp;rft.atitle=Game+of+Thrones%3A+Season+Three+Ratings&amp;rft.date=2013-06-12&amp;rft_id=http%3A%2F%2Ftvseriesfinale.com%2Ftv-show%2Fgame-of-thrones-season-three-ratings-27711%2F&amp;rfr_id=info%3Asid%2Fen.wikipedia.org%3AList+of+Game+of+Thrones+episodes\"></span><link href=\"mw-data:TemplateStyles:r951705291\" rel=\"mw-deduplicated-inline-style\"/></span>\n",
       "</li>\n",
       "<li id=\"cite_note-15\"><span class=\"mw-cite-backlink\"><b><a href=\"#cite_ref-15\">^</a></b></span> <span class=\"reference-text\"><cite class=\"citation web\"><a class=\"external text\" href=\"http://tvseriesfinale.com/tv-show/game-of-thrones-season-four-ratings-32088/\" rel=\"nofollow\">\"Game of Thrones: Season Four Ratings\"</a>. <i>TV Series Finale</i>. June 18, 2014<span class=\"reference-accessdate\">. Retrieved <span class=\"nowrap\">April 18,</span> 2016</span>.</cite><span class=\"Z3988\" title=\"ctx_ver=Z39.88-2004&amp;rft_val_fmt=info%3Aofi%2Ffmt%3Akev%3Amtx%3Ajournal&amp;rft.genre=unknown&amp;rft.jtitle=TV+Series+Finale&amp;rft.atitle=Game+of+Thrones%3A+Season+Four+Ratings&amp;rft.date=2014-06-18&amp;rft_id=http%3A%2F%2Ftvseriesfinale.com%2Ftv-show%2Fgame-of-thrones-season-four-ratings-32088%2F&amp;rfr_id=info%3Asid%2Fen.wikipedia.org%3AList+of+Game+of+Thrones+episodes\"></span><link href=\"mw-data:TemplateStyles:r951705291\" rel=\"mw-deduplicated-inline-style\"/></span>\n",
       "</li>\n",
       "<li id=\"cite_note-16\"><span class=\"mw-cite-backlink\"><b><a href=\"#cite_ref-16\">^</a></b></span> <span class=\"reference-text\"><cite class=\"citation web\"><a class=\"external text\" href=\"http://tvseriesfinale.com/tv-show/game-of-thrones-season-five-ratings-36234/\" rel=\"nofollow\">\"Game of Thrones: Season Five Ratings\"</a>. <i>TV Series Finale</i>. June 16, 2015<span class=\"reference-accessdate\">. Retrieved <span class=\"nowrap\">April 18,</span> 2016</span>.</cite><span class=\"Z3988\" title=\"ctx_ver=Z39.88-2004&amp;rft_val_fmt=info%3Aofi%2Ffmt%3Akev%3Amtx%3Ajournal&amp;rft.genre=unknown&amp;rft.jtitle=TV+Series+Finale&amp;rft.atitle=Game+of+Thrones%3A+Season+Five+Ratings&amp;rft.date=2015-06-16&amp;rft_id=http%3A%2F%2Ftvseriesfinale.com%2Ftv-show%2Fgame-of-thrones-season-five-ratings-36234%2F&amp;rfr_id=info%3Asid%2Fen.wikipedia.org%3AList+of+Game+of+Thrones+episodes\"></span><link href=\"mw-data:TemplateStyles:r951705291\" rel=\"mw-deduplicated-inline-style\"/></span>\n",
       "</li>\n",
       "<li id=\"cite_note-17\"><span class=\"mw-cite-backlink\"><b><a href=\"#cite_ref-17\">^</a></b></span> <span class=\"reference-text\"><cite class=\"citation web\"><a class=\"external text\" href=\"http://tvseriesfinale.com/tv-show/game-thrones-season-six-ratings/\" rel=\"nofollow\">\"Game of Thrones: Season Six Ratings\"</a>. <i>TV Series Finale</i>. June 28, 2016<span class=\"reference-accessdate\">. Retrieved <span class=\"nowrap\">June 28,</span> 2016</span>.</cite><span class=\"Z3988\" title=\"ctx_ver=Z39.88-2004&amp;rft_val_fmt=info%3Aofi%2Ffmt%3Akev%3Amtx%3Ajournal&amp;rft.genre=unknown&amp;rft.jtitle=TV+Series+Finale&amp;rft.atitle=Game+of+Thrones%3A+Season+Six+Ratings&amp;rft.date=2016-06-28&amp;rft_id=http%3A%2F%2Ftvseriesfinale.com%2Ftv-show%2Fgame-thrones-season-six-ratings%2F&amp;rfr_id=info%3Asid%2Fen.wikipedia.org%3AList+of+Game+of+Thrones+episodes\"></span><link href=\"mw-data:TemplateStyles:r951705291\" rel=\"mw-deduplicated-inline-style\"/></span>\n",
       "</li>\n",
       "<li id=\"cite_note-18\"><span class=\"mw-cite-backlink\"><b><a href=\"#cite_ref-18\">^</a></b></span> <span class=\"reference-text\"><cite class=\"citation web\"><a class=\"external text\" href=\"http://tvbythenumbers.zap2it.com/more-tv-news/game-of-thrones-season-7-finale-smashes-more-records-for-hbo//\" rel=\"nofollow\">\"<span class=\"cs1-kern-left\">'</span>Game of Thrones' Season 7 finale smashes more records for HBO\"</a>. <i>TV Series Finale</i>. August 28, 2017<span class=\"reference-accessdate\">. Retrieved <span class=\"nowrap\">August 28,</span> 2017</span>.</cite><span class=\"Z3988\" title=\"ctx_ver=Z39.88-2004&amp;rft_val_fmt=info%3Aofi%2Ffmt%3Akev%3Amtx%3Ajournal&amp;rft.genre=unknown&amp;rft.jtitle=TV+Series+Finale&amp;rft.atitle=%E2%80%98Game+of+Thrones%E2%80%99+Season+7+finale+smashes+more+records+for+HBO&amp;rft.date=2017-08-28&amp;rft_id=http%3A%2F%2Ftvbythenumbers.zap2it.com%2Fmore-tv-news%2Fgame-of-thrones-season-7-finale-smashes-more-records-for-hbo%2F%2F&amp;rfr_id=info%3Asid%2Fen.wikipedia.org%3AList+of+Game+of+Thrones+episodes\"></span><link href=\"mw-data:TemplateStyles:r951705291\" rel=\"mw-deduplicated-inline-style\"/></span>\n",
       "</li>\n",
       "<li id=\"cite_note-19\"><span class=\"mw-cite-backlink\"><b><a href=\"#cite_ref-19\">^</a></b></span> <span class=\"reference-text\"><cite class=\"citation web\" id=\"CITEREFWebb_Mitovich2019\">Webb Mitovich, Matt (May 20, 2019). <a class=\"external text\" href=\"https://tvline.com/2019/05/20/game-of-thrones-finale-ratings-season-8-iron-throne/\" rel=\"nofollow\">\"Ratings: Game of Thrones Series Finale Breaks Records, Tops 19 Million Viewers\"</a>. <i><a href=\"/wiki/TVLine\" title=\"TVLine\">TVLine</a></i><span class=\"reference-accessdate\">. Retrieved <span class=\"nowrap\">May 20,</span> 2019</span>.</cite><span class=\"Z3988\" title=\"ctx_ver=Z39.88-2004&amp;rft_val_fmt=info%3Aofi%2Ffmt%3Akev%3Amtx%3Ajournal&amp;rft.genre=unknown&amp;rft.jtitle=TVLine&amp;rft.atitle=Ratings%3A+Game+of+Thrones+Series+Finale+Breaks+Records%2C+Tops+19+Million+Viewers&amp;rft.date=2019-05-20&amp;rft.aulast=Webb+Mitovich&amp;rft.aufirst=Matt&amp;rft_id=https%3A%2F%2Ftvline.com%2F2019%2F05%2F20%2Fgame-of-thrones-finale-ratings-season-8-iron-throne%2F&amp;rfr_id=info%3Asid%2Fen.wikipedia.org%3AList+of+Game+of+Thrones+episodes\"></span><link href=\"mw-data:TemplateStyles:r951705291\" rel=\"mw-deduplicated-inline-style\"/></span>\n",
       "</li>\n",
       "<li id=\"cite_note-Futon-20\"><span class=\"mw-cite-backlink\">^ <a href=\"#cite_ref-Futon_20-0\"><sup><i><b>a</b></i></sup></a> <a href=\"#cite_ref-Futon_20-1\"><sup><i><b>b</b></i></sup></a> <a href=\"#cite_ref-Futon_20-2\"><sup><i><b>c</b></i></sup></a> <a href=\"#cite_ref-Futon_20-3\"><sup><i><b>d</b></i></sup></a> <a href=\"#cite_ref-Futon_20-4\"><sup><i><b>e</b></i></sup></a> <a href=\"#cite_ref-Futon_20-5\"><sup><i><b>f</b></i></sup></a> <a href=\"#cite_ref-Futon_20-6\"><sup><i><b>g</b></i></sup></a> <a href=\"#cite_ref-Futon_20-7\"><sup><i><b>h</b></i></sup></a></span> <span class=\"reference-text\"><cite class=\"citation web\"><a class=\"external text\" href=\"http://www.thefutoncritic.com/showatch/game-of-thrones/listings/\" rel=\"nofollow\">\"Shows A-Z - game of thrones on hbo\"</a>. <i><a href=\"/wiki/The_Futon_Critic\" title=\"The Futon Critic\">The Futon Critic</a></i><span class=\"reference-accessdate\">. Retrieved <span class=\"nowrap\">August 6,</span> 2019</span>.</cite><span class=\"Z3988\" title=\"ctx_ver=Z39.88-2004&amp;rft_val_fmt=info%3Aofi%2Ffmt%3Akev%3Amtx%3Ajournal&amp;rft.genre=unknown&amp;rft.jtitle=The+Futon+Critic&amp;rft.atitle=Shows+A-Z+-+game+of+thrones+on+hbo&amp;rft_id=http%3A%2F%2Fwww.thefutoncritic.com%2Fshowatch%2Fgame-of-thrones%2Flistings%2F&amp;rfr_id=info%3Asid%2Fen.wikipedia.org%3AList+of+Game+of+Thrones+episodes\"></span><link href=\"mw-data:TemplateStyles:r951705291\" rel=\"mw-deduplicated-inline-style\"/></span>\n",
       "</li>\n",
       "<li id=\"cite_note-21\"><span class=\"mw-cite-backlink\"><b><a href=\"#cite_ref-21\">^</a></b></span> <span class=\"reference-text\"><cite class=\"citation web\" id=\"CITEREFSeidman2011\">Seidman, Robert (April 19, 2011). <a class=\"external text\" href=\"http://tvbythenumbers.zap2it.com/2011/04/19/sunday-cable-ratings-nba-storage-wars-ax-men-khloe-lamar-the-killing-breakout-kings-sam-axe-game-of-thrones-much-more/89980\" rel=\"nofollow\">\"Sunday Cable Ratings: NBA, 'Storage Wars,' 'Ax Men,' 'Khloe &amp; Lamar' + 'The Killing,' 'Breakout Kings,' 'Sam Axe,' 'Game of Thrones' &amp; Much More\"</a>. <i><a href=\"/wiki/TV_by_the_Numbers\" title=\"TV by the Numbers\">TV by the Numbers</a></i>. <a class=\"external text\" href=\"https://web.archive.org/web/20160817123724/http://tvbythenumbers.zap2it.com/2011/04/19/sunday-cable-ratings-nba-storage-wars-ax-men-khloe-lamar-the-killing-breakout-kings-sam-axe-game-of-thrones-much-more/89980\" rel=\"nofollow\">Archived</a> from the original on August 17, 2016<span class=\"reference-accessdate\">. Retrieved <span class=\"nowrap\">April 20,</span> 2011</span>.</cite><span class=\"Z3988\" title=\"ctx_ver=Z39.88-2004&amp;rft_val_fmt=info%3Aofi%2Ffmt%3Akev%3Amtx%3Ajournal&amp;rft.genre=unknown&amp;rft.jtitle=TV+by+the+Numbers&amp;rft.atitle=Sunday+Cable+Ratings%3A+NBA%2C+%27Storage+Wars%2C%27+%27Ax+Men%2C%27+%27Khloe+%26+Lamar%27+%2B+%27The+Killing%2C%27+%27Breakout+Kings%2C%27+%27Sam+Axe%2C%27+%27Game+of+Thrones%27+%26+Much+More&amp;rft.date=2011-04-19&amp;rft.aulast=Seidman&amp;rft.aufirst=Robert&amp;rft_id=http%3A%2F%2Ftvbythenumbers.zap2it.com%2F2011%2F04%2F19%2Fsunday-cable-ratings-nba-storage-wars-ax-men-khloe-lamar-the-killing-breakout-kings-sam-axe-game-of-thrones-much-more%2F89980&amp;rfr_id=info%3Asid%2Fen.wikipedia.org%3AList+of+Game+of+Thrones+episodes\"></span><link href=\"mw-data:TemplateStyles:r951705291\" rel=\"mw-deduplicated-inline-style\"/></span>\n",
       "</li>\n",
       "<li id=\"cite_note-22\"><span class=\"mw-cite-backlink\"><b><a href=\"#cite_ref-22\">^</a></b></span> <span class=\"reference-text\"><cite class=\"citation web\" id=\"CITEREFGorman2011\">Gorman, Bill (April 26, 2011). <a class=\"external text\" href=\"http://tvbythenumbers.zap2it.com/2011/04/26/sunday-cable-ratings-nba-khloe-lamar-the-killing-breakout-kings-housewives-game-of-thrones-much-more/90557\" rel=\"nofollow\">\"Sunday Cable Ratings: NBA, 'Khloe &amp; Lamar,' 'The Killing,' 'Breakout Kings,' 'Housewives,' 'Game of Thrones' &amp; Much More\"</a>. <i>TV by the Numbers</i>. <a class=\"external text\" href=\"https://web.archive.org/web/20160817123724/http://tvbythenumbers.zap2it.com/2011/04/26/sunday-cable-ratings-nba-khloe-lamar-the-killing-breakout-kings-housewives-game-of-thrones-much-more/90557\" rel=\"nofollow\">Archived</a> from the original on August 17, 2016<span class=\"reference-accessdate\">. Retrieved <span class=\"nowrap\">April 27,</span> 2011</span>.</cite><span class=\"Z3988\" title=\"ctx_ver=Z39.88-2004&amp;rft_val_fmt=info%3Aofi%2Ffmt%3Akev%3Amtx%3Ajournal&amp;rft.genre=unknown&amp;rft.jtitle=TV+by+the+Numbers&amp;rft.atitle=Sunday+Cable+Ratings%3A+NBA%2C+%27Khloe+%26+Lamar%2C%27+%27The+Killing%2C%27+%27Breakout+Kings%2C%27+%27Housewives%2C%27+%27Game+of+Thrones%27+%26+Much+More&amp;rft.date=2011-04-26&amp;rft.aulast=Gorman&amp;rft.aufirst=Bill&amp;rft_id=http%3A%2F%2Ftvbythenumbers.zap2it.com%2F2011%2F04%2F26%2Fsunday-cable-ratings-nba-khloe-lamar-the-killing-breakout-kings-housewives-game-of-thrones-much-more%2F90557&amp;rfr_id=info%3Asid%2Fen.wikipedia.org%3AList+of+Game+of+Thrones+episodes\"></span><link href=\"mw-data:TemplateStyles:r951705291\" rel=\"mw-deduplicated-inline-style\"/></span>\n",
       "</li>\n",
       "<li id=\"cite_note-23\"><span class=\"mw-cite-backlink\"><b><a href=\"#cite_ref-23\">^</a></b></span> <span class=\"reference-text\"><cite class=\"citation web\" id=\"CITEREFSeidman2011\">Seidman, Robert (May 3, 2011). <a class=\"external text\" href=\"http://tvbythenumbers.zap2it.com/2011/05/03/sunday-cable-ratings-more-death-of-bin-laden-ratings-khloe-lamar-law-order-ci-in-plain-sight-army-wives-housewives-game-of-thrones-much-more/91296\" rel=\"nofollow\">\"Sunday Cable Ratings: More 'Death of Bin Laden' Ratings; 'Khloe &amp; Lamar,' 'Law &amp; Order: CI,' 'In Plain Sight,' 'Army Wives,' 'Housewives,' 'Game of Thrones' &amp; Much More\"</a>. <i>TV by the Numbers</i>. <a class=\"external text\" href=\"https://web.archive.org/web/20160817123724/http://tvbythenumbers.zap2it.com/2011/05/03/sunday-cable-ratings-more-death-of-bin-laden-ratings-khloe-lamar-law-order-ci-in-plain-sight-army-wives-housewives-game-of-thrones-much-more/91296\" rel=\"nofollow\">Archived</a> from the original on August 17, 2016<span class=\"reference-accessdate\">. Retrieved <span class=\"nowrap\">May 4,</span> 2011</span>.</cite><span class=\"Z3988\" title=\"ctx_ver=Z39.88-2004&amp;rft_val_fmt=info%3Aofi%2Ffmt%3Akev%3Amtx%3Ajournal&amp;rft.genre=unknown&amp;rft.jtitle=TV+by+the+Numbers&amp;rft.atitle=Sunday+Cable+Ratings%3A+More+%27Death+of+Bin+Laden%27+Ratings%3B+%27Khloe+%26+Lamar%2C%27+%27Law+%26+Order%3A+CI%2C%27+%27In+Plain+Sight%2C%27+%27Army+Wives%2C%27+%27Housewives%2C%27+%27Game+of+Thrones%27+%26+Much+More&amp;rft.date=2011-05-03&amp;rft.aulast=Seidman&amp;rft.aufirst=Robert&amp;rft_id=http%3A%2F%2Ftvbythenumbers.zap2it.com%2F2011%2F05%2F03%2Fsunday-cable-ratings-more-death-of-bin-laden-ratings-khloe-lamar-law-order-ci-in-plain-sight-army-wives-housewives-game-of-thrones-much-more%2F91296&amp;rfr_id=info%3Asid%2Fen.wikipedia.org%3AList+of+Game+of+Thrones+episodes\"></span><link href=\"mw-data:TemplateStyles:r951705291\" rel=\"mw-deduplicated-inline-style\"/></span>\n",
       "</li>\n",
       "<li id=\"cite_note-24\"><span class=\"mw-cite-backlink\"><b><a href=\"#cite_ref-24\">^</a></b></span> <span class=\"reference-text\"><cite class=\"citation web\" id=\"CITEREFGorman2011\">Gorman, Bill (May 10, 2011). <a class=\"external text\" href=\"http://tvbythenumbers.zap2it.com/2011/05/10/sunday-cable-ratings-bullshawks-tops-law-order-ci-in-plain-sight-army-wives-housewives-game-of-thrones-much-more/92058/\" rel=\"nofollow\">\"Sunday Cable Ratings: Bulls/Hawks Tops + 'Law &amp; Order: CI,' 'In Plain Sight,' 'Army Wives,' 'Housewives,' 'Game of Thrones' &amp; Much More\"</a>. <i>TV by the Numbers</i>. <a class=\"external text\" href=\"https://web.archive.org/web/20160817123724/http://tvbythenumbers.zap2it.com/2011/05/10/sunday-cable-ratings-bullshawks-tops-law-order-ci-in-plain-sight-army-wives-housewives-game-of-thrones-much-more/92058/\" rel=\"nofollow\">Archived</a> from the original on August 17, 2016<span class=\"reference-accessdate\">. Retrieved <span class=\"nowrap\">May 10,</span> 2011</span>.</cite><span class=\"Z3988\" title=\"ctx_ver=Z39.88-2004&amp;rft_val_fmt=info%3Aofi%2Ffmt%3Akev%3Amtx%3Ajournal&amp;rft.genre=unknown&amp;rft.jtitle=TV+by+the+Numbers&amp;rft.atitle=Sunday+Cable+Ratings%3A+Bulls%2FHawks+Tops+%2B+%27Law+%26+Order%3A+CI%2C%27+%27In+Plain+Sight%2C%27+%27Army+Wives%2C%27+%27Housewives%2C%27+%27Game+of+Thrones%27+%26+Much+More&amp;rft.date=2011-05-10&amp;rft.aulast=Gorman&amp;rft.aufirst=Bill&amp;rft_id=http%3A%2F%2Ftvbythenumbers.zap2it.com%2F2011%2F05%2F10%2Fsunday-cable-ratings-bullshawks-tops-law-order-ci-in-plain-sight-army-wives-housewives-game-of-thrones-much-more%2F92058%2F&amp;rfr_id=info%3Asid%2Fen.wikipedia.org%3AList+of+Game+of+Thrones+episodes\"></span><link href=\"mw-data:TemplateStyles:r951705291\" rel=\"mw-deduplicated-inline-style\"/></span>\n",
       "</li>\n",
       "<li id=\"cite_note-25\"><span class=\"mw-cite-backlink\"><b><a href=\"#cite_ref-25\">^</a></b></span> <span class=\"reference-text\"><cite class=\"citation web\" id=\"CITEREFSeidman2011\">Seidman, Robert (May 18, 2011). <a class=\"external text\" href=\"http://tvbythenumbers.zap2it.com/2011/05/18/sunday-cable-ratings-heatbulls-slam-dunks-law-order-ci-in-plain-sight-army-wives-housewives-game-of-thrones-much-more/93124/\" rel=\"nofollow\">\"Sunday Cable Ratings: Heat/Bulls Slam Dunks + 'Law &amp; Order: CI,' 'In Plain Sight,' 'Army Wives,' 'Housewives,' 'Game of Thrones' &amp; Much More\"</a>. <i>TV by the Numbers</i>. <a class=\"external text\" href=\"https://web.archive.org/web/20160513115710/http://tvbythenumbers.zap2it.com/2011/05/18/sunday-cable-ratings-heatbulls-slam-dunks-law-order-ci-in-plain-sight-army-wives-housewives-game-of-thrones-much-more/93124/\" rel=\"nofollow\">Archived</a> from the original on May 13, 2016<span class=\"reference-accessdate\">. Retrieved <span class=\"nowrap\">May 18,</span> 2011</span>.</cite><span class=\"Z3988\" title=\"ctx_ver=Z39.88-2004&amp;rft_val_fmt=info%3Aofi%2Ffmt%3Akev%3Amtx%3Ajournal&amp;rft.genre=unknown&amp;rft.jtitle=TV+by+the+Numbers&amp;rft.atitle=Sunday+Cable+Ratings%3A+Heat%2FBulls+Slam+Dunks+%2B+%27Law+%26+Order%3A+CI%2C%27+%27In+Plain+Sight%2C%27+%27Army+Wives%2C%27+%27Housewives%2C%27+%27Game+of+Thrones%27+%26+Much+More&amp;rft.date=2011-05-18&amp;rft.aulast=Seidman&amp;rft.aufirst=Robert&amp;rft_id=http%3A%2F%2Ftvbythenumbers.zap2it.com%2F2011%2F05%2F18%2Fsunday-cable-ratings-heatbulls-slam-dunks-law-order-ci-in-plain-sight-army-wives-housewives-game-of-thrones-much-more%2F93124%2F&amp;rfr_id=info%3Asid%2Fen.wikipedia.org%3AList+of+Game+of+Thrones+episodes\"></span><link href=\"mw-data:TemplateStyles:r951705291\" rel=\"mw-deduplicated-inline-style\"/></span>\n",
       "</li>\n",
       "<li id=\"cite_note-26\"><span class=\"mw-cite-backlink\"><b><a href=\"#cite_ref-26\">^</a></b></span> <span class=\"reference-text\"><cite class=\"citation web\" id=\"CITEREFGorman2011\">Gorman, Bill (May 24, 2011). <a class=\"external text\" href=\"http://tvbythenumbers.zap2it.com/2011/05/24/sunday-cable-ratings-heatbulls-scores-big-law-order-ci-in-plain-sight-army-wives-housewives-game-of-thrones-much-more/93748/\" rel=\"nofollow\">\"Sunday Cable Ratings: Heat/Bulls Scores Big + 'Law &amp; Order: CI,' 'In Plain Sight,' 'Army Wives,' 'Housewives,' 'Game of Thrones' &amp; Much More\"</a>. <i>TV by the Numbers</i>. <a class=\"external text\" href=\"https://web.archive.org/web/20160817123724/http://tvbythenumbers.zap2it.com/2011/05/24/sunday-cable-ratings-heatbulls-scores-big-law-order-ci-in-plain-sight-army-wives-housewives-game-of-thrones-much-more/93748/\" rel=\"nofollow\">Archived</a> from the original on August 17, 2016<span class=\"reference-accessdate\">. Retrieved <span class=\"nowrap\">May 25,</span> 2011</span>.</cite><span class=\"Z3988\" title=\"ctx_ver=Z39.88-2004&amp;rft_val_fmt=info%3Aofi%2Ffmt%3Akev%3Amtx%3Ajournal&amp;rft.genre=unknown&amp;rft.jtitle=TV+by+the+Numbers&amp;rft.atitle=Sunday+Cable+Ratings%3A+Heat%2FBulls+Scores+Big+%2B+%27Law+%26+Order%3A+CI%2C%27+%27In+Plain+Sight%2C%27+%27Army+Wives%2C%27+%27Housewives%2C%27+%27Game+of+Thrones%27+%26+Much+More&amp;rft.date=2011-05-24&amp;rft.aulast=Gorman&amp;rft.aufirst=Bill&amp;rft_id=http%3A%2F%2Ftvbythenumbers.zap2it.com%2F2011%2F05%2F24%2Fsunday-cable-ratings-heatbulls-scores-big-law-order-ci-in-plain-sight-army-wives-housewives-game-of-thrones-much-more%2F93748%2F&amp;rfr_id=info%3Asid%2Fen.wikipedia.org%3AList+of+Game+of+Thrones+episodes\"></span><link href=\"mw-data:TemplateStyles:r951705291\" rel=\"mw-deduplicated-inline-style\"/></span>\n",
       "</li>\n",
       "<li id=\"cite_note-27\"><span class=\"mw-cite-backlink\"><b><a href=\"#cite_ref-27\">^</a></b></span> <span class=\"reference-text\"><cite class=\"citation web\" id=\"CITEREFGorman2011\">Gorman, Bill (June 1, 2011). <a class=\"external text\" href=\"http://tvbythenumbers.zap2it.com/2011/06/01/sunday-cable-ratings-my-big-fat-gypsy-wedding-breakout-kings-game-of-thrones-the-killing-more/94362/\" rel=\"nofollow\">\"Sunday Cable Ratings: 'My Big Fat Gypsy Wedding,' 'Game of Thrones,' 'The Killing' &amp; More\"</a>. <i>TV by the Numbers</i>. <a class=\"external text\" href=\"https://web.archive.org/web/20160513115517/http://tvbythenumbers.zap2it.com/2011/06/01/sunday-cable-ratings-my-big-fat-gypsy-wedding-breakout-kings-game-of-thrones-the-killing-more/94362/\" rel=\"nofollow\">Archived</a> from the original on May 13, 2016<span class=\"reference-accessdate\">. Retrieved <span class=\"nowrap\">June 1,</span> 2011</span>.</cite><span class=\"Z3988\" title=\"ctx_ver=Z39.88-2004&amp;rft_val_fmt=info%3Aofi%2Ffmt%3Akev%3Amtx%3Ajournal&amp;rft.genre=unknown&amp;rft.jtitle=TV+by+the+Numbers&amp;rft.atitle=Sunday+Cable+Ratings%3A+%27My+Big+Fat+Gypsy+Wedding%2C%27+%27Game+of+Thrones%2C%27+%27The+Killing%27+%26+More&amp;rft.date=2011-06-01&amp;rft.aulast=Gorman&amp;rft.aufirst=Bill&amp;rft_id=http%3A%2F%2Ftvbythenumbers.zap2it.com%2F2011%2F06%2F01%2Fsunday-cable-ratings-my-big-fat-gypsy-wedding-breakout-kings-game-of-thrones-the-killing-more%2F94362%2F&amp;rfr_id=info%3Asid%2Fen.wikipedia.org%3AList+of+Game+of+Thrones+episodes\"></span><link href=\"mw-data:TemplateStyles:r951705291\" rel=\"mw-deduplicated-inline-style\"/></span>\n",
       "</li>\n",
       "<li id=\"cite_note-28\"><span class=\"mw-cite-backlink\"><b><a href=\"#cite_ref-28\">^</a></b></span> <span class=\"reference-text\"><cite class=\"citation web\" id=\"CITEREFGorman2011\">Gorman, Bill (June 7, 2011). <a class=\"external text\" href=\"http://tvbythenumbers.zap2it.com/2011/06/07/sunday-cable-ratings-mtv-movie-awards-leads-night-game-of-thrones-series-high-real-housewives-abdc-lots-more/94914/\" rel=\"nofollow\">\"Sunday Cable Ratings: 'MTV Movie Awards' Leads Night, 'Game of Thrones' Series High, 'Real Housewives,' 'ABDC' &amp; Lots More\"</a>. <i>TV by the Numbers</i>. <a class=\"external text\" href=\"https://web.archive.org/web/20160817123724/http://tvbythenumbers.zap2it.com/2011/06/07/sunday-cable-ratings-mtv-movie-awards-leads-night-game-of-thrones-series-high-real-housewives-abdc-lots-more/94914/\" rel=\"nofollow\">Archived</a> from the original on August 17, 2016<span class=\"reference-accessdate\">. Retrieved <span class=\"nowrap\">June 8,</span> 2011</span>.</cite><span class=\"Z3988\" title=\"ctx_ver=Z39.88-2004&amp;rft_val_fmt=info%3Aofi%2Ffmt%3Akev%3Amtx%3Ajournal&amp;rft.genre=unknown&amp;rft.jtitle=TV+by+the+Numbers&amp;rft.atitle=Sunday+Cable+Ratings%3A+%27MTV+Movie+Awards%27+Leads+Night%2C+%27Game+of+Thrones%27+Series+High%2C+%27Real+Housewives%2C%27+%27ABDC%27+%26+Lots+More&amp;rft.date=2011-06-07&amp;rft.aulast=Gorman&amp;rft.aufirst=Bill&amp;rft_id=http%3A%2F%2Ftvbythenumbers.zap2it.com%2F2011%2F06%2F07%2Fsunday-cable-ratings-mtv-movie-awards-leads-night-game-of-thrones-series-high-real-housewives-abdc-lots-more%2F94914%2F&amp;rfr_id=info%3Asid%2Fen.wikipedia.org%3AList+of+Game+of+Thrones+episodes\"></span><link href=\"mw-data:TemplateStyles:r951705291\" rel=\"mw-deduplicated-inline-style\"/></span>\n",
       "</li>\n",
       "<li id=\"cite_note-29\"><span class=\"mw-cite-backlink\"><b><a href=\"#cite_ref-29\">^</a></b></span> <span class=\"reference-text\"><cite class=\"citation web\" id=\"CITEREFGorman2011\">Gorman, Bill (June 14, 2011). <a class=\"external text\" href=\"http://tvbythenumbers.zap2it.com/2011/06/14/sunday-cable-ratings-game-of-thrones-real-housewives-kardashians-in-plain-sight-army-wives-more/95543/\" rel=\"nofollow\">\"Sunday Cable Ratings: 'Game of Thrones', 'Real Housewives,' 'Kardashians,' 'In Plain Sight,' 'Army Wives' &amp; More\"</a>. <i>TV by the Numbers</i>. <a class=\"external text\" href=\"https://web.archive.org/web/20160817123724/http://tvbythenumbers.zap2it.com/2011/06/14/sunday-cable-ratings-game-of-thrones-real-housewives-kardashians-in-plain-sight-army-wives-more/95543/\" rel=\"nofollow\">Archived</a> from the original on August 17, 2016<span class=\"reference-accessdate\">. Retrieved <span class=\"nowrap\">June 14,</span> 2011</span>.</cite><span class=\"Z3988\" title=\"ctx_ver=Z39.88-2004&amp;rft_val_fmt=info%3Aofi%2Ffmt%3Akev%3Amtx%3Ajournal&amp;rft.genre=unknown&amp;rft.jtitle=TV+by+the+Numbers&amp;rft.atitle=Sunday+Cable+Ratings%3A+%E2%80%98Game+of+Thrones%E2%80%99%2C+%E2%80%98Real+Housewives%2C%E2%80%99+%E2%80%98Kardashians%2C%E2%80%99+%E2%80%98In+Plain+Sight%2C%E2%80%99+%E2%80%98Army+Wives%E2%80%99+%26+More&amp;rft.date=2011-06-14&amp;rft.aulast=Gorman&amp;rft.aufirst=Bill&amp;rft_id=http%3A%2F%2Ftvbythenumbers.zap2it.com%2F2011%2F06%2F14%2Fsunday-cable-ratings-game-of-thrones-real-housewives-kardashians-in-plain-sight-army-wives-more%2F95543%2F&amp;rfr_id=info%3Asid%2Fen.wikipedia.org%3AList+of+Game+of+Thrones+episodes\"></span><link href=\"mw-data:TemplateStyles:r951705291\" rel=\"mw-deduplicated-inline-style\"/></span>\n",
       "</li>\n",
       "<li id=\"cite_note-30\"><span class=\"mw-cite-backlink\"><b><a href=\"#cite_ref-30\">^</a></b></span> <span class=\"reference-text\"><cite class=\"citation web\" id=\"CITEREFSeidman2011\">Seidman, Robert (June 21, 2011). <a class=\"external text\" href=\"http://tvbythenumbers.zap2it.com/2011/06/21/sunday-cable-ratings-falling-skies-game-of-thrones-the-killing-in-plain-sight-law-order-ci-the-glades-and-much-more/96119/\" rel=\"nofollow\">\"Sunday Cable Ratings: 'Falling Skies,' 'Game of Thrones', 'The Killing,' 'In Plain Sight,' 'Law &amp; Order: CI,' 'The Glades' and Much More\"</a>. <i>TV by the Numbers</i>. <a class=\"external text\" href=\"https://web.archive.org/web/20160817123724/http://tvbythenumbers.zap2it.com/2011/06/21/sunday-cable-ratings-falling-skies-game-of-thrones-the-killing-in-plain-sight-law-order-ci-the-glades-and-much-more/96119/\" rel=\"nofollow\">Archived</a> from the original on August 17, 2016<span class=\"reference-accessdate\">. Retrieved <span class=\"nowrap\">June 22,</span> 2011</span>.</cite><span class=\"Z3988\" title=\"ctx_ver=Z39.88-2004&amp;rft_val_fmt=info%3Aofi%2Ffmt%3Akev%3Amtx%3Ajournal&amp;rft.genre=unknown&amp;rft.jtitle=TV+by+the+Numbers&amp;rft.atitle=Sunday+Cable+Ratings%3A+%27Falling+Skies%2C%27+%27Game+of+Thrones%27%2C+%27The+Killing%2C%27+%27In+Plain+Sight%2C%27+%27Law+%26+Order%3A+CI%2C%27+%27The+Glades%27+and+Much+More&amp;rft.date=2011-06-21&amp;rft.aulast=Seidman&amp;rft.aufirst=Robert&amp;rft_id=http%3A%2F%2Ftvbythenumbers.zap2it.com%2F2011%2F06%2F21%2Fsunday-cable-ratings-falling-skies-game-of-thrones-the-killing-in-plain-sight-law-order-ci-the-glades-and-much-more%2F96119%2F&amp;rfr_id=info%3Asid%2Fen.wikipedia.org%3AList+of+Game+of+Thrones+episodes\"></span><link href=\"mw-data:TemplateStyles:r951705291\" rel=\"mw-deduplicated-inline-style\"/></span>\n",
       "</li>\n",
       "<li id=\"cite_note-31\"><span class=\"mw-cite-backlink\"><b><a href=\"#cite_ref-31\">^</a></b></span> <span class=\"reference-text\"><cite class=\"citation web\" id=\"CITEREFSeidman2012\">Seidman, Robert (April 3, 2012). <a class=\"external text\" href=\"http://tvbythenumbers.zap2it.com/2012/04/03/sunday-cable-ratingsgame-of-thrones-returns-higher-khloe-lamar-the-killing-mad-menarmy-wives-more/127202/\" rel=\"nofollow\">\"Sunday Cable Ratings:'Game of Thrones' Returns To Series High; + 'Khloe &amp; Lamar,' 'The Killing', 'Mad Men, 'Army Wives' &amp;  More\"</a>. <i><a href=\"/wiki/TV_by_the_Numbers\" title=\"TV by the Numbers\">TV by the Numbers</a></i>. <a class=\"external text\" href=\"https://web.archive.org/web/20160304090257/http://tvbythenumbers.zap2it.com/2012/04/03/sunday-cable-ratingsgame-of-thrones-returns-higher-khloe-lamar-the-killing-mad-menarmy-wives-more/127202/\" rel=\"nofollow\">Archived</a> from the original on March 4, 2016<span class=\"reference-accessdate\">. Retrieved <span class=\"nowrap\">April 3,</span> 2012</span>.</cite><span class=\"Z3988\" title=\"ctx_ver=Z39.88-2004&amp;rft_val_fmt=info%3Aofi%2Ffmt%3Akev%3Amtx%3Ajournal&amp;rft.genre=unknown&amp;rft.jtitle=TV+by+the+Numbers&amp;rft.atitle=Sunday+Cable+Ratings%3A%27Game+of+Thrones%27+Returns+To+Series+High%3B+%2B+%27Khloe+%26+Lamar%2C%27+%27The+Killing%27%2C+%27Mad+Men%2C+%27Army+Wives%27+%26++More&amp;rft.date=2012-04-03&amp;rft.aulast=Seidman&amp;rft.aufirst=Robert&amp;rft_id=http%3A%2F%2Ftvbythenumbers.zap2it.com%2F2012%2F04%2F03%2Fsunday-cable-ratingsgame-of-thrones-returns-higher-khloe-lamar-the-killing-mad-menarmy-wives-more%2F127202%2F&amp;rfr_id=info%3Asid%2Fen.wikipedia.org%3AList+of+Game+of+Thrones+episodes\"></span><link href=\"mw-data:TemplateStyles:r951705291\" rel=\"mw-deduplicated-inline-style\"/></span>\n",
       "</li>\n",
       "<li id=\"cite_note-32\"><span class=\"mw-cite-backlink\"><b><a href=\"#cite_ref-32\">^</a></b></span> <span class=\"reference-text\"><cite class=\"citation web\" id=\"CITEREFBibel2012\">Bibel, Sara (April 10, 2012). <a class=\"external text\" href=\"http://tvbythenumbers.zap2it.com/2012/04/10/sunday-cable-ratings-game-of-thrones-leads-atlanta-housewives-mad-men-khloe-lamar-army-wives-the-client-list-much-more/128221/\" rel=\"nofollow\">\"Sunday Cable Ratings: 'Game of Thrones' Leads + Atlanta 'Housewives,' 'Mad Men,' 'Khloe &amp; Lamar,' 'Army Wives,' 'The Client List' &amp; Much More\"</a>. <i>TV by the Numbers</i>. <a class=\"external text\" href=\"https://web.archive.org/web/20160901123724/http://tvbythenumbers.zap2it.com/2012/04/10/sunday-cable-ratings-game-of-thrones-leads-atlanta-housewives-mad-men-khloe-lamar-army-wives-the-client-list-much-more/128221/\" rel=\"nofollow\">Archived</a> from the original on September 1, 2016<span class=\"reference-accessdate\">. Retrieved <span class=\"nowrap\">April 10,</span> 2012</span>.</cite><span class=\"Z3988\" title=\"ctx_ver=Z39.88-2004&amp;rft_val_fmt=info%3Aofi%2Ffmt%3Akev%3Amtx%3Ajournal&amp;rft.genre=unknown&amp;rft.jtitle=TV+by+the+Numbers&amp;rft.atitle=Sunday+Cable+Ratings%3A+%27Game+of+Thrones%27+Leads+%2B+Atlanta+%27Housewives%2C%27+%27Mad+Men%2C%27+%27Khloe+%26+Lamar%2C%27+%27Army+Wives%2C%27+%27The+Client+List%27+%26+Much+More&amp;rft.date=2012-04-10&amp;rft.aulast=Bibel&amp;rft.aufirst=Sara&amp;rft_id=http%3A%2F%2Ftvbythenumbers.zap2it.com%2F2012%2F04%2F10%2Fsunday-cable-ratings-game-of-thrones-leads-atlanta-housewives-mad-men-khloe-lamar-army-wives-the-client-list-much-more%2F128221%2F&amp;rfr_id=info%3Asid%2Fen.wikipedia.org%3AList+of+Game+of+Thrones+episodes\"></span><link href=\"mw-data:TemplateStyles:r951705291\" rel=\"mw-deduplicated-inline-style\"/></span>\n",
       "</li>\n",
       "<li id=\"cite_note-33\"><span class=\"mw-cite-backlink\"><b><a href=\"#cite_ref-33\">^</a></b></span> <span class=\"reference-text\"><cite class=\"citation web\" id=\"CITEREFKondolojy2012\">Kondolojy, Amanda (April 17, 2012). <a class=\"external text\" href=\"http://tvbythenumbers.zap2it.com/2012/04/17/sunday-cable-ratings-game-of-thrones-real-housewives-atl-mad-men-khloe-lamar-the-client-list-more/129431/\" rel=\"nofollow\">\"Sunday Cable Ratings: 'Game of Thrones,' + 'Real Housewives ATL' 'Mad Men,' 'Khloe &amp; Lamar,' 'The Client List' &amp; More\"</a>. <i>TV by the Numbers</i>. <a class=\"external text\" href=\"https://web.archive.org/web/20160901123724/http://tvbythenumbers.zap2it.com/2012/04/17/sunday-cable-ratings-game-of-thrones-real-housewives-atl-mad-men-khloe-lamar-the-client-list-more/129431/\" rel=\"nofollow\">Archived</a> from the original on September 1, 2016<span class=\"reference-accessdate\">. Retrieved <span class=\"nowrap\">April 17,</span> 2012</span>.</cite><span class=\"Z3988\" title=\"ctx_ver=Z39.88-2004&amp;rft_val_fmt=info%3Aofi%2Ffmt%3Akev%3Amtx%3Ajournal&amp;rft.genre=unknown&amp;rft.jtitle=TV+by+the+Numbers&amp;rft.atitle=Sunday+Cable+Ratings%3A+%27Game+of+Thrones%2C%27+%2B+%27Real+Housewives+ATL%27+%27Mad+Men%2C%27+%27Khloe+%26+Lamar%2C%27+%27The+Client+List%27+%26+More&amp;rft.date=2012-04-17&amp;rft.aulast=Kondolojy&amp;rft.aufirst=Amanda&amp;rft_id=http%3A%2F%2Ftvbythenumbers.zap2it.com%2F2012%2F04%2F17%2Fsunday-cable-ratings-game-of-thrones-real-housewives-atl-mad-men-khloe-lamar-the-client-list-more%2F129431%2F&amp;rfr_id=info%3Asid%2Fen.wikipedia.org%3AList+of+Game+of+Thrones+episodes\"></span><link href=\"mw-data:TemplateStyles:r951705291\" rel=\"mw-deduplicated-inline-style\"/></span>\n",
       "</li>\n",
       "<li id=\"cite_note-34\"><span class=\"mw-cite-backlink\"><b><a href=\"#cite_ref-34\">^</a></b></span> <span class=\"reference-text\"><cite class=\"citation web\" id=\"CITEREFKondolojy2012\">Kondolojy, Amanda (April 24, 2012). <a class=\"external text\" href=\"http://tvbythenumbers.zap2it.com/2012/04/24/sunday-cable-ratings-game-of-thrones-real-housewives-atl-mad-men-khloe-lamar-the-client-list-more-2/130469/\" rel=\"nofollow\">\"Sunday Cable Ratings: 'Game of Thrones,' + 'Real Housewives ATL' 'Mad Men,' 'Khloe &amp; Lamar,' 'The Client List' &amp; More\"</a>. <i>TV by the Numbers</i>. <a class=\"external text\" href=\"https://web.archive.org/web/20160304230514/http://tvbythenumbers.zap2it.com/2012/04/24/sunday-cable-ratings-game-of-thrones-real-housewives-atl-mad-men-khloe-lamar-the-client-list-more-2/130469/\" rel=\"nofollow\">Archived</a> from the original on March 4, 2016<span class=\"reference-accessdate\">. Retrieved <span class=\"nowrap\">April 24,</span> 2012</span>.</cite><span class=\"Z3988\" title=\"ctx_ver=Z39.88-2004&amp;rft_val_fmt=info%3Aofi%2Ffmt%3Akev%3Amtx%3Ajournal&amp;rft.genre=unknown&amp;rft.jtitle=TV+by+the+Numbers&amp;rft.atitle=Sunday+Cable+Ratings%3A+%27Game+of+Thrones%2C%27+%2B+%27Real+Housewives+ATL%27+%27Mad+Men%2C%27+%27Khloe+%26+Lamar%2C%27+%27The+Client+List%27+%26+More&amp;rft.date=2012-04-24&amp;rft.aulast=Kondolojy&amp;rft.aufirst=Amanda&amp;rft_id=http%3A%2F%2Ftvbythenumbers.zap2it.com%2F2012%2F04%2F24%2Fsunday-cable-ratings-game-of-thrones-real-housewives-atl-mad-men-khloe-lamar-the-client-list-more-2%2F130469%2F&amp;rfr_id=info%3Asid%2Fen.wikipedia.org%3AList+of+Game+of+Thrones+episodes\"></span><link href=\"mw-data:TemplateStyles:r951705291\" rel=\"mw-deduplicated-inline-style\"/></span>\n",
       "</li>\n",
       "<li id=\"cite_note-35\"><span class=\"mw-cite-backlink\"><b><a href=\"#cite_ref-35\">^</a></b></span> <span class=\"reference-text\"><cite class=\"citation web\" id=\"CITEREFBibel2012\">Bibel, Sara (May 1, 2012). <a class=\"external text\" href=\"http://tvbythenumbers.zap2it.com/2012/05/01/sunday-cable-ratings-game-of-thrones-rises-ties-nba-playoffs-real-housewives-the-client-list-army-wives-mad-men-more/131531/\" rel=\"nofollow\">\"Sunday Cable Ratings: 'Game of Thrones' Rises, Ties NBA Playoffs + 'Real Housewives,' 'The Client List,' 'Army Wives,' 'Mad Men' &amp; More\"</a>. <i>TV by the Numbers</i>. <a class=\"external text\" href=\"https://web.archive.org/web/20160901123724/http://tvbythenumbers.zap2it.com/2012/05/01/sunday-cable-ratings-game-of-thrones-rises-ties-nba-playoffs-real-housewives-the-client-list-army-wives-mad-men-more/131531/\" rel=\"nofollow\">Archived</a> from the original on September 1, 2016<span class=\"reference-accessdate\">. Retrieved <span class=\"nowrap\">May 1,</span> 2012</span>.</cite><span class=\"Z3988\" title=\"ctx_ver=Z39.88-2004&amp;rft_val_fmt=info%3Aofi%2Ffmt%3Akev%3Amtx%3Ajournal&amp;rft.genre=unknown&amp;rft.jtitle=TV+by+the+Numbers&amp;rft.atitle=Sunday+Cable+Ratings%3A+%27Game+of+Thrones%27+Rises%2C+Ties+NBA+Playoffs+%2B+%27Real+Housewives%2C%27+%27The+Client+List%2C%27+%27Army+Wives%2C%27+%27Mad+Men%27+%26+More&amp;rft.date=2012-05-01&amp;rft.aulast=Bibel&amp;rft.aufirst=Sara&amp;rft_id=http%3A%2F%2Ftvbythenumbers.zap2it.com%2F2012%2F05%2F01%2Fsunday-cable-ratings-game-of-thrones-rises-ties-nba-playoffs-real-housewives-the-client-list-army-wives-mad-men-more%2F131531%2F&amp;rfr_id=info%3Asid%2Fen.wikipedia.org%3AList+of+Game+of+Thrones+episodes\"></span><link href=\"mw-data:TemplateStyles:r951705291\" rel=\"mw-deduplicated-inline-style\"/></span>\n",
       "</li>\n",
       "<li id=\"cite_note-36\"><span class=\"mw-cite-backlink\"><b><a href=\"#cite_ref-36\">^</a></b></span> <span class=\"reference-text\"><cite class=\"citation web\" id=\"CITEREFKondolojy2012\">Kondolojy, Amanda (May 8, 2012). <a class=\"external text\" href=\"http://tvbythenumbers.zap2it.com/2012/05/08/sunday-cable-ratings-nba-playoffs-game-of-thrones-the-client-list-khloe-lamar-mad-men-more/132856//\" rel=\"nofollow\">\"Sunday Cable Ratings: NBA Playoffs + 'Game of Thrones', 'The Client List', 'Army Wives,' 'Khloe &amp; Lamar', 'Mad Men' + More\"</a>. <i>TV by the Numbers</i>. <a class=\"external text\" href=\"https://web.archive.org/web/20160527052009/http://tvbythenumbers.zap2it.com/2012/05/08/sunday-cable-ratings-nba-playoffs-game-of-thrones-the-client-list-khloe-lamar-mad-men-more/132856/\" rel=\"nofollow\">Archived</a> from the original on May 27, 2016<span class=\"reference-accessdate\">. Retrieved <span class=\"nowrap\">May 8,</span> 2012</span>.</cite><span class=\"Z3988\" title=\"ctx_ver=Z39.88-2004&amp;rft_val_fmt=info%3Aofi%2Ffmt%3Akev%3Amtx%3Ajournal&amp;rft.genre=unknown&amp;rft.jtitle=TV+by+the+Numbers&amp;rft.atitle=Sunday+Cable+Ratings%3A+NBA+Playoffs+%2B+%27Game+of+Thrones%27%2C+%27The+Client+List%27%2C+%27Army+Wives%2C%27+%27Khloe+%26+Lamar%27%2C+%27Mad+Men%27+%2B+More&amp;rft.date=2012-05-08&amp;rft.aulast=Kondolojy&amp;rft.aufirst=Amanda&amp;rft_id=http%3A%2F%2Ftvbythenumbers.zap2it.com%2F2012%2F05%2F08%2Fsunday-cable-ratings-nba-playoffs-game-of-thrones-the-client-list-khloe-lamar-mad-men-more%2F132856%2F%2F&amp;rfr_id=info%3Asid%2Fen.wikipedia.org%3AList+of+Game+of+Thrones+episodes\"></span><link href=\"mw-data:TemplateStyles:r951705291\" rel=\"mw-deduplicated-inline-style\"/></span>\n",
       "</li>\n",
       "<li id=\"cite_note-37\"><span class=\"mw-cite-backlink\"><b><a href=\"#cite_ref-37\">^</a></b></span> <span class=\"reference-text\"><cite class=\"citation web\" id=\"CITEREFBibel2012\">Bibel, Sara (May 15, 2012). <a class=\"external text\" href=\"http://tvbythenumbers.zap2it.com/2012/05/15/sunday-cable-ratings-game-of-thrones-tops-real-housewives-nj-the-client-list-khloe-lamar-army-wives-more/134164/\" rel=\"nofollow\">\"Sunday Cable Ratings: 'Game Of Thrones' Tops, 'Real Housewives NJ,' 'The Client List,' 'Khloe &amp; Lamar,' 'Army Wives' &amp; More\"</a>. <i>TV by the Numbers</i>. <a class=\"external text\" href=\"https://web.archive.org/web/20160901123724/http://tvbythenumbers.zap2it.com/2012/05/15/sunday-cable-ratings-game-of-thrones-tops-real-housewives-nj-the-client-list-khloe-lamar-army-wives-more/134164/\" rel=\"nofollow\">Archived</a> from the original on September 1, 2016<span class=\"reference-accessdate\">. Retrieved <span class=\"nowrap\">May 15,</span> 2012</span>.</cite><span class=\"Z3988\" title=\"ctx_ver=Z39.88-2004&amp;rft_val_fmt=info%3Aofi%2Ffmt%3Akev%3Amtx%3Ajournal&amp;rft.genre=unknown&amp;rft.jtitle=TV+by+the+Numbers&amp;rft.atitle=Sunday+Cable+Ratings%3A+%27Game+Of+Thrones%27+Tops%2C+%27Real+Housewives+NJ%2C%27+%27The+Client+List%2C%27+%27Khloe+%26+Lamar%2C%27+%27Army+Wives%27+%26+More&amp;rft.date=2012-05-15&amp;rft.aulast=Bibel&amp;rft.aufirst=Sara&amp;rft_id=http%3A%2F%2Ftvbythenumbers.zap2it.com%2F2012%2F05%2F15%2Fsunday-cable-ratings-game-of-thrones-tops-real-housewives-nj-the-client-list-khloe-lamar-army-wives-more%2F134164%2F&amp;rfr_id=info%3Asid%2Fen.wikipedia.org%3AList+of+Game+of+Thrones+episodes\"></span><link href=\"mw-data:TemplateStyles:r951705291\" rel=\"mw-deduplicated-inline-style\"/></span>\n",
       "</li>\n",
       "<li id=\"cite_note-38\"><span class=\"mw-cite-backlink\"><b><a href=\"#cite_ref-38\">^</a></b></span> <span class=\"reference-text\"><cite class=\"citation web\" id=\"CITEREFKondolojy2012\">Kondolojy, Amanda (May 22, 2012). <a class=\"external text\" href=\"http://tvbythenumbers.zap2it.com/2012/05/22/sunday-cable-ratings-nba-playoffs-game-of-thrones-keeping-up-with-the-kardashians-ax-men-the-client-list-sister-wives-more/135295/\" rel=\"nofollow\">\"Sunday Cable Ratings: NBA Playoffs, + 'Game of Thrones', 'Keeping Up With the Kardashians', 'Ax Men', 'The Client List', 'Sister Wives', + More\"</a>. <i>TV by the Numbers</i>. <a class=\"external text\" href=\"https://web.archive.org/web/20160901123724/http://tvbythenumbers.zap2it.com/2012/05/22/sunday-cable-ratings-nba-playoffs-game-of-thrones-keeping-up-with-the-kardashians-ax-men-the-client-list-sister-wives-more/135295/\" rel=\"nofollow\">Archived</a> from the original on September 1, 2016<span class=\"reference-accessdate\">. Retrieved <span class=\"nowrap\">May 22,</span> 2012</span>.</cite><span class=\"Z3988\" title=\"ctx_ver=Z39.88-2004&amp;rft_val_fmt=info%3Aofi%2Ffmt%3Akev%3Amtx%3Ajournal&amp;rft.genre=unknown&amp;rft.jtitle=TV+by+the+Numbers&amp;rft.atitle=Sunday+Cable+Ratings%3A+NBA+Playoffs%2C+%2B+%27Game+of+Thrones%27%2C+%27Keeping+Up+With+the+Kardashians%27%2C+%27Ax+Men%27%2C+%27The+Client+List%27%2C+%27Sister+Wives%27%2C+%2B+More&amp;rft.date=2012-05-22&amp;rft.aulast=Kondolojy&amp;rft.aufirst=Amanda&amp;rft_id=http%3A%2F%2Ftvbythenumbers.zap2it.com%2F2012%2F05%2F22%2Fsunday-cable-ratings-nba-playoffs-game-of-thrones-keeping-up-with-the-kardashians-ax-men-the-client-list-sister-wives-more%2F135295%2F&amp;rfr_id=info%3Asid%2Fen.wikipedia.org%3AList+of+Game+of+Thrones+episodes\"></span><link href=\"mw-data:TemplateStyles:r951705291\" rel=\"mw-deduplicated-inline-style\"/></span>\n",
       "</li>\n",
       "<li id=\"cite_note-39\"><span class=\"mw-cite-backlink\"><b><a href=\"#cite_ref-39\">^</a></b></span> <span class=\"reference-text\"><cite class=\"citation web\" id=\"CITEREFBibel2012\">Bibel, Sara (May 30, 2012). <a class=\"external text\" href=\"http://tvbythenumbers.zap2it.com/2012/05/30/sunday-cable-ratings-nba-playoffs-win-night-game-of-thrones-mad-men-keeping-up-with-the-kardashians-girls-pawn-stars-more/136102/\" rel=\"nofollow\">\"Sunday Cable Ratings: NBA Playoffs Win Night, 'Game of Thrones', 'Mad Men', 'Keeping Up With the Kardashians', 'Girls', 'Pawn Stars', &amp; More\"</a>. <i>TV by the Numbers</i>. <a class=\"external text\" href=\"https://web.archive.org/web/20160610113801/http://tvbythenumbers.zap2it.com/2012/05/30/sunday-cable-ratings-nba-playoffs-win-night-game-of-thrones-mad-men-keeping-up-with-the-kardashians-girls-pawn-stars-more/136102/\" rel=\"nofollow\">Archived</a> from the original on June 10, 2016<span class=\"reference-accessdate\">. Retrieved <span class=\"nowrap\">May 30,</span> 2012</span>.</cite><span class=\"Z3988\" title=\"ctx_ver=Z39.88-2004&amp;rft_val_fmt=info%3Aofi%2Ffmt%3Akev%3Amtx%3Ajournal&amp;rft.genre=unknown&amp;rft.jtitle=TV+by+the+Numbers&amp;rft.atitle=Sunday+Cable+Ratings%3A+NBA+Playoffs+Win+Night%2C+%27Game+of+Thrones%27%2C+%27Mad+Men%27%2C+%27Keeping+Up+With+the+Kardashians%27%2C+%27Girls%27%2C+%27Pawn+Stars%27%2C+%26+More&amp;rft.date=2012-05-30&amp;rft.aulast=Bibel&amp;rft.aufirst=Sara&amp;rft_id=http%3A%2F%2Ftvbythenumbers.zap2it.com%2F2012%2F05%2F30%2Fsunday-cable-ratings-nba-playoffs-win-night-game-of-thrones-mad-men-keeping-up-with-the-kardashians-girls-pawn-stars-more%2F136102%2F&amp;rfr_id=info%3Asid%2Fen.wikipedia.org%3AList+of+Game+of+Thrones+episodes\"></span><link href=\"mw-data:TemplateStyles:r951705291\" rel=\"mw-deduplicated-inline-style\"/></span>\n",
       "</li>\n",
       "<li id=\"cite_note-40\"><span class=\"mw-cite-backlink\"><b><a href=\"#cite_ref-40\">^</a></b></span> <span class=\"reference-text\"><cite class=\"citation web\" id=\"CITEREFKondolojy2012\">Kondolojy, Amanda (June 5, 2012). <a class=\"external text\" href=\"http://tvbythenumbers.zap2it.com/2012/06/05/sunday-cable-ratings-nba-playoffs-game-of-thrones-finale-mtv-movie-awards-sister-wives-the-glades-longmire-more/136802/\" rel=\"nofollow\">\"Sunday Cable Ratings: NBA Playoffs + 'Game of Thrones' Finale, MTV Movie Awards, 'Sister Wives', 'The Glades', 'Longmire' + More\"</a>. <i>TV by the Numbers</i>. <a class=\"external text\" href=\"https://web.archive.org/web/20160901123724/http://tvbythenumbers.zap2it.com/2012/06/05/sunday-cable-ratings-nba-playoffs-game-of-thrones-finale-mtv-movie-awards-sister-wives-the-glades-longmire-more/136802/\" rel=\"nofollow\">Archived</a> from the original on September 1, 2016<span class=\"reference-accessdate\">. Retrieved <span class=\"nowrap\">June 5,</span> 2012</span>.</cite><span class=\"Z3988\" title=\"ctx_ver=Z39.88-2004&amp;rft_val_fmt=info%3Aofi%2Ffmt%3Akev%3Amtx%3Ajournal&amp;rft.genre=unknown&amp;rft.jtitle=TV+by+the+Numbers&amp;rft.atitle=Sunday+Cable+Ratings%3A+NBA+Playoffs+%2B+%27Game+of+Thrones%27+Finale%2C+MTV+Movie+Awards%2C+%27Sister+Wives%27%2C+%27The+Glades%27%2C+%27Longmire%27+%2B+More&amp;rft.date=2012-06-05&amp;rft.aulast=Kondolojy&amp;rft.aufirst=Amanda&amp;rft_id=http%3A%2F%2Ftvbythenumbers.zap2it.com%2F2012%2F06%2F05%2Fsunday-cable-ratings-nba-playoffs-game-of-thrones-finale-mtv-movie-awards-sister-wives-the-glades-longmire-more%2F136802%2F&amp;rfr_id=info%3Asid%2Fen.wikipedia.org%3AList+of+Game+of+Thrones+episodes\"></span><link href=\"mw-data:TemplateStyles:r951705291\" rel=\"mw-deduplicated-inline-style\"/></span>\n",
       "</li>\n",
       "<li id=\"cite_note-41\"><span class=\"mw-cite-backlink\"><b><a href=\"#cite_ref-41\">^</a></b></span> <span class=\"reference-text\"><cite class=\"citation web\" id=\"CITEREFBibel2013\">Bibel, Sara (April 2, 2013). <a class=\"external text\" href=\"http://tvbythenumbers.zap2it.com/2013/04/02/sunday-cable-ratings-the-walking-dead-wins-night-game-of-thrones-the-bible-vikings-shameless-the-client-list-more/175901/\" rel=\"nofollow\">\"Sunday Cable Ratings: 'The Walking Dead' Wins Night, 'Game of Thrones', 'The Bible', 'Vikings', 'Shameless', 'The Client List' &amp; More\"</a>. <i><a href=\"/wiki/TV_by_the_Numbers\" title=\"TV by the Numbers\">TV by the Numbers</a></i>. <a class=\"external text\" href=\"https://web.archive.org/web/20160901123724/http://tvbythenumbers.zap2it.com/2013/04/02/sunday-cable-ratings-the-walking-dead-wins-night-game-of-thrones-the-bible-vikings-shameless-the-client-list-more/175901/\" rel=\"nofollow\">Archived</a> from the original on September 1, 2016<span class=\"reference-accessdate\">. Retrieved <span class=\"nowrap\">April 2,</span> 2013</span>.</cite><span class=\"Z3988\" title=\"ctx_ver=Z39.88-2004&amp;rft_val_fmt=info%3Aofi%2Ffmt%3Akev%3Amtx%3Ajournal&amp;rft.genre=unknown&amp;rft.jtitle=TV+by+the+Numbers&amp;rft.atitle=Sunday+Cable+Ratings%3A+%27The+Walking+Dead%27+Wins+Night%2C+%27Game+of+Thrones%27%2C+%27The+Bible%27%2C+%27Vikings%27%2C+%27Shameless%27%2C+%27The+Client+List%27+%26+More&amp;rft.date=2013-04-02&amp;rft.aulast=Bibel&amp;rft.aufirst=Sara&amp;rft_id=http%3A%2F%2Ftvbythenumbers.zap2it.com%2F2013%2F04%2F02%2Fsunday-cable-ratings-the-walking-dead-wins-night-game-of-thrones-the-bible-vikings-shameless-the-client-list-more%2F175901%2F&amp;rfr_id=info%3Asid%2Fen.wikipedia.org%3AList+of+Game+of+Thrones+episodes\"></span><link href=\"mw-data:TemplateStyles:r951705291\" rel=\"mw-deduplicated-inline-style\"/></span>\n",
       "</li>\n",
       "<li id=\"cite_note-42\"><span class=\"mw-cite-backlink\"><b><a href=\"#cite_ref-42\">^</a></b></span> <span class=\"reference-text\"><cite class=\"citation web\" id=\"CITEREFKondolojy2013\">Kondolojy, Amanda (April 9, 2013). <a class=\"external text\" href=\"http://tvbythenumbers.zap2it.com/2013/04/09/sunday-cable-ratings-game-of-thrones-wins-night-real-housewives-of-atlanta-kourtney-kim-take-miami-vikings-mad-men-more/177076/\" rel=\"nofollow\">\"Sunday Cable Ratings: 'Game of Thrones' Wins Night + 'Real Housewives of Atlanta', 'Kourtney &amp; Kim Take Miami', 'Vikings', 'Mad Men' &amp; More\"</a>. <i>TV by the Numbers</i>. <a class=\"external text\" href=\"https://web.archive.org/web/20160901123724/http://tvbythenumbers.zap2it.com/2013/04/09/sunday-cable-ratings-game-of-thrones-wins-night-real-housewives-of-atlanta-kourtney-kim-take-miami-vikings-mad-men-more/177076/\" rel=\"nofollow\">Archived</a> from the original on September 1, 2016<span class=\"reference-accessdate\">. Retrieved <span class=\"nowrap\">April 9,</span> 2013</span>.</cite><span class=\"Z3988\" title=\"ctx_ver=Z39.88-2004&amp;rft_val_fmt=info%3Aofi%2Ffmt%3Akev%3Amtx%3Ajournal&amp;rft.genre=unknown&amp;rft.jtitle=TV+by+the+Numbers&amp;rft.atitle=Sunday+Cable+Ratings%3A+%27Game+of+Thrones%27+Wins+Night+%2B+%27Real+Housewives+of+Atlanta%27%2C+%27Kourtney+%26+Kim+Take+Miami%27%2C+%27Vikings%27%2C+%27Mad+Men%27+%26+More&amp;rft.date=2013-04-09&amp;rft.aulast=Kondolojy&amp;rft.aufirst=Amanda&amp;rft_id=http%3A%2F%2Ftvbythenumbers.zap2it.com%2F2013%2F04%2F09%2Fsunday-cable-ratings-game-of-thrones-wins-night-real-housewives-of-atlanta-kourtney-kim-take-miami-vikings-mad-men-more%2F177076%2F&amp;rfr_id=info%3Asid%2Fen.wikipedia.org%3AList+of+Game+of+Thrones+episodes\"></span><link href=\"mw-data:TemplateStyles:r951705291\" rel=\"mw-deduplicated-inline-style\"/></span>\n",
       "</li>\n",
       "<li id=\"cite_note-43\"><span class=\"mw-cite-backlink\"><b><a href=\"#cite_ref-43\">^</a></b></span> <span class=\"reference-text\"><cite class=\"citation web\" id=\"CITEREFBibel2013\">Bibel, Sara (April 16, 2013). <a class=\"external text\" href=\"http://tvbythenumbers.zap2it.com/2013/04/16/sunday-cable-ratings-game-of-thrones-wins-night-mtv-movie-awards-vikings-mad-menthe-client-list-veep-more/178049/\" rel=\"nofollow\">\"Sunday Cable Ratings: 'Game of Thrones' Wins Night, 'MTV Movie Awards', 'Vikings', 'Mad Men','The Client List', 'Veep' &amp; More\"</a>. <i>TV by the Numbers</i>. <a class=\"external text\" href=\"https://web.archive.org/web/20160901123724/http://tvbythenumbers.zap2it.com/2013/04/16/sunday-cable-ratings-game-of-thrones-wins-night-mtv-movie-awards-vikings-mad-menthe-client-list-veep-more/178049/\" rel=\"nofollow\">Archived</a> from the original on September 1, 2016<span class=\"reference-accessdate\">. Retrieved <span class=\"nowrap\">April 16,</span> 2013</span>.</cite><span class=\"Z3988\" title=\"ctx_ver=Z39.88-2004&amp;rft_val_fmt=info%3Aofi%2Ffmt%3Akev%3Amtx%3Ajournal&amp;rft.genre=unknown&amp;rft.jtitle=TV+by+the+Numbers&amp;rft.atitle=Sunday+Cable+Ratings%3A+%27Game+of+Thrones%27+Wins+Night%2C+%27MTV+Movie+Awards%27%2C+%27Vikings%27%2C+%27Mad+Men%27%2C%27The+Client+List%27%2C+%27Veep%27+%26+More&amp;rft.date=2013-04-16&amp;rft.aulast=Bibel&amp;rft.aufirst=Sara&amp;rft_id=http%3A%2F%2Ftvbythenumbers.zap2it.com%2F2013%2F04%2F16%2Fsunday-cable-ratings-game-of-thrones-wins-night-mtv-movie-awards-vikings-mad-menthe-client-list-veep-more%2F178049%2F&amp;rfr_id=info%3Asid%2Fen.wikipedia.org%3AList+of+Game+of+Thrones+episodes\"></span><link href=\"mw-data:TemplateStyles:r951705291\" rel=\"mw-deduplicated-inline-style\"/></span>\n",
       "</li>\n",
       "<li id=\"cite_note-44\"><span class=\"mw-cite-backlink\"><b><a href=\"#cite_ref-44\">^</a></b></span> <span class=\"reference-text\"><cite class=\"citation web\" id=\"CITEREFKondolojy2013\">Kondolojy, Amanda (April 23, 2013). <a class=\"external text\" href=\"http://tvbythenumbers.zap2it.com/2013/04/23/sunday-cable-ratings-game-of-thrones-wins-night-nba-playoffs-real-housewives-of-atlanta-vikings-more/179182/\" rel=\"nofollow\">\"Sunday Cable Ratings: 'Game of Thrones' Wins Night, 'NBA Playoffs', 'Real Housewives of Atlanta', 'Vikings' &amp; More\"</a>. <i>TV by the Numbers</i>. <a class=\"external text\" href=\"https://web.archive.org/web/20160901123724/http://tvbythenumbers.zap2it.com/2013/04/23/sunday-cable-ratings-game-of-thrones-wins-night-nba-playoffs-real-housewives-of-atlanta-vikings-more/179182/\" rel=\"nofollow\">Archived</a> from the original on September 1, 2016<span class=\"reference-accessdate\">. Retrieved <span class=\"nowrap\">April 23,</span> 2013</span>.</cite><span class=\"Z3988\" title=\"ctx_ver=Z39.88-2004&amp;rft_val_fmt=info%3Aofi%2Ffmt%3Akev%3Amtx%3Ajournal&amp;rft.genre=unknown&amp;rft.jtitle=TV+by+the+Numbers&amp;rft.atitle=Sunday+Cable+Ratings%3A+%27Game+of+Thrones%27+Wins+Night%2C+%27NBA+Playoffs%27%2C+%27Real+Housewives+of+Atlanta%27%2C+%27Vikings%27+%26+More&amp;rft.date=2013-04-23&amp;rft.aulast=Kondolojy&amp;rft.aufirst=Amanda&amp;rft_id=http%3A%2F%2Ftvbythenumbers.zap2it.com%2F2013%2F04%2F23%2Fsunday-cable-ratings-game-of-thrones-wins-night-nba-playoffs-real-housewives-of-atlanta-vikings-more%2F179182%2F&amp;rfr_id=info%3Asid%2Fen.wikipedia.org%3AList+of+Game+of+Thrones+episodes\"></span><link href=\"mw-data:TemplateStyles:r951705291\" rel=\"mw-deduplicated-inline-style\"/></span>\n",
       "</li>\n",
       "<li id=\"cite_note-45\"><span class=\"mw-cite-backlink\"><b><a href=\"#cite_ref-45\">^</a></b></span> <span class=\"reference-text\"><cite class=\"citation web\" id=\"CITEREFBibel2013\">Bibel, Sara (April 30, 2013). <a class=\"external text\" href=\"http://tvbythenumbers.zap2it.com/2013/04/30/sunday-cable-ratings-game-of-thrones-wins-night-nba-playoffs-vikings-the-client-list-mad-men-veep-more/180165/\" rel=\"nofollow\">\"Sunday Cable Ratings: 'Game of Thrones' Wins Night, NBA Playoffs, 'Vikings', 'The Client List', 'Mad Men', 'Veep' &amp; More\"</a>. <i>TV by the Numbers</i>. <a class=\"external text\" href=\"https://web.archive.org/web/20160901123724/http://tvbythenumbers.zap2it.com/2013/04/30/sunday-cable-ratings-game-of-thrones-wins-night-nba-playoffs-vikings-the-client-list-mad-men-veep-more/180165/\" rel=\"nofollow\">Archived</a> from the original on September 1, 2016<span class=\"reference-accessdate\">. Retrieved <span class=\"nowrap\">April 30,</span> 2013</span>.</cite><span class=\"Z3988\" title=\"ctx_ver=Z39.88-2004&amp;rft_val_fmt=info%3Aofi%2Ffmt%3Akev%3Amtx%3Ajournal&amp;rft.genre=unknown&amp;rft.jtitle=TV+by+the+Numbers&amp;rft.atitle=Sunday+Cable+Ratings%3A+%27Game+of+Thrones%27+Wins+Night%2C+NBA+Playoffs%2C+%27Vikings%27%2C+%27The+Client+List%27%2C+%27Mad+Men%27%2C+%27Veep%27+%26+More&amp;rft.date=2013-04-30&amp;rft.aulast=Bibel&amp;rft.aufirst=Sara&amp;rft_id=http%3A%2F%2Ftvbythenumbers.zap2it.com%2F2013%2F04%2F30%2Fsunday-cable-ratings-game-of-thrones-wins-night-nba-playoffs-vikings-the-client-list-mad-men-veep-more%2F180165%2F&amp;rfr_id=info%3Asid%2Fen.wikipedia.org%3AList+of+Game+of+Thrones+episodes\"></span><link href=\"mw-data:TemplateStyles:r951705291\" rel=\"mw-deduplicated-inline-style\"/></span>\n",
       "</li>\n",
       "<li id=\"cite_note-46\"><span class=\"mw-cite-backlink\"><b><a href=\"#cite_ref-46\">^</a></b></span> <span class=\"reference-text\"><cite class=\"citation web\" id=\"CITEREFKondolojy2013\">Kondolojy, Amanda (May 7, 2013). <a class=\"external text\" href=\"http://tvbythenumbers.zap2it.com/2013/05/07/sunday-cable-ratings-game-of-thrones-wins-night-ax-men-mad-men-army-wives-the-client-list-more/181265/\" rel=\"nofollow\">\"Sunday Cable Ratings: 'Game of Thrones' Wins Night + 'Ax Men', 'Mad Men', 'Army Wives', 'The Client List' &amp; More\"</a>. <i>TV by the Numbers</i>. <a class=\"external text\" href=\"https://web.archive.org/web/20160901123724/http://tvbythenumbers.zap2it.com/2013/05/07/sunday-cable-ratings-game-of-thrones-wins-night-ax-men-mad-men-army-wives-the-client-list-more/181265/\" rel=\"nofollow\">Archived</a> from the original on September 1, 2016<span class=\"reference-accessdate\">. Retrieved <span class=\"nowrap\">May 7,</span> 2013</span>.</cite><span class=\"Z3988\" title=\"ctx_ver=Z39.88-2004&amp;rft_val_fmt=info%3Aofi%2Ffmt%3Akev%3Amtx%3Ajournal&amp;rft.genre=unknown&amp;rft.jtitle=TV+by+the+Numbers&amp;rft.atitle=Sunday+Cable+Ratings%3A+%27Game+of+Thrones%27+Wins+Night+%2B+%27Ax+Men%27%2C+%27Mad+Men%27%2C+%27Army+Wives%27%2C+%27The+Client+List%27+%26+More&amp;rft.date=2013-05-07&amp;rft.aulast=Kondolojy&amp;rft.aufirst=Amanda&amp;rft_id=http%3A%2F%2Ftvbythenumbers.zap2it.com%2F2013%2F05%2F07%2Fsunday-cable-ratings-game-of-thrones-wins-night-ax-men-mad-men-army-wives-the-client-list-more%2F181265%2F&amp;rfr_id=info%3Asid%2Fen.wikipedia.org%3AList+of+Game+of+Thrones+episodes\"></span><link href=\"mw-data:TemplateStyles:r951705291\" rel=\"mw-deduplicated-inline-style\"/></span>\n",
       "</li>\n",
       "<li id=\"cite_note-47\"><span class=\"mw-cite-backlink\"><b><a href=\"#cite_ref-47\">^</a></b></span> <span class=\"reference-text\"><cite class=\"citation web\" id=\"CITEREFKondolojy2013\">Kondolojy, Amanda (May 14, 2013). <a class=\"external text\" href=\"http://tvbythenumbers.zap2it.com/2013/05/14/sunday-cable-ratings-game-of-thrones-wins-night-breaking-amish-mad-men-long-island-medium-river-monsters-more/182590/\" rel=\"nofollow\">\"Sunday Cable Ratings: 'Game of Thrones' Wins Night + 'Breaking Amish', 'Mad Men', 'Long Island Medium', 'River Monsters' &amp; More\"</a>. <i>TV by the Numbers</i>. <a class=\"external text\" href=\"https://web.archive.org/web/20160901123724/http://tvbythenumbers.zap2it.com/2013/05/14/sunday-cable-ratings-game-of-thrones-wins-night-breaking-amish-mad-men-long-island-medium-river-monsters-more/182590/\" rel=\"nofollow\">Archived</a> from the original on September 1, 2016<span class=\"reference-accessdate\">. Retrieved <span class=\"nowrap\">May 14,</span> 2013</span>.</cite><span class=\"Z3988\" title=\"ctx_ver=Z39.88-2004&amp;rft_val_fmt=info%3Aofi%2Ffmt%3Akev%3Amtx%3Ajournal&amp;rft.genre=unknown&amp;rft.jtitle=TV+by+the+Numbers&amp;rft.atitle=Sunday+Cable+Ratings%3A+%27Game+of+Thrones%27+Wins+Night+%2B+%27Breaking+Amish%27%2C+%27Mad+Men%27%2C+%27Long+Island+Medium%27%2C+%27River+Monsters%27+%26+More&amp;rft.date=2013-05-14&amp;rft.aulast=Kondolojy&amp;rft.aufirst=Amanda&amp;rft_id=http%3A%2F%2Ftvbythenumbers.zap2it.com%2F2013%2F05%2F14%2Fsunday-cable-ratings-game-of-thrones-wins-night-breaking-amish-mad-men-long-island-medium-river-monsters-more%2F182590%2F&amp;rfr_id=info%3Asid%2Fen.wikipedia.org%3AList+of+Game+of+Thrones+episodes\"></span><link href=\"mw-data:TemplateStyles:r951705291\" rel=\"mw-deduplicated-inline-style\"/></span>\n",
       "</li>\n",
       "<li id=\"cite_note-48\"><span class=\"mw-cite-backlink\"><b><a href=\"#cite_ref-48\">^</a></b></span> <span class=\"reference-text\"><cite class=\"citation web\" id=\"CITEREFBibel2013\">Bibel, Sara (May 21, 2013). <a class=\"external text\" href=\"http://tvbythenumbers.zap2it.com/2013/05/21/sunday-cable-ratingsgame-of-thrones-wins-night-north-america-mad-men-veep-the-client-list-more/183402/\" rel=\"nofollow\">\"Sunday Cable Ratings:'Game of Thrones' Wins Night, 'North America', 'Mad Men', 'Veep', 'The Client List' &amp; More\"</a>. <i>TV by the Numbers</i>. <a class=\"external text\" href=\"https://web.archive.org/web/20160901123724/http://tvbythenumbers.zap2it.com/2013/05/21/sunday-cable-ratingsgame-of-thrones-wins-night-north-america-mad-men-veep-the-client-list-more/183402/\" rel=\"nofollow\">Archived</a> from the original on September 1, 2016<span class=\"reference-accessdate\">. Retrieved <span class=\"nowrap\">May 21,</span> 2013</span>.</cite><span class=\"Z3988\" title=\"ctx_ver=Z39.88-2004&amp;rft_val_fmt=info%3Aofi%2Ffmt%3Akev%3Amtx%3Ajournal&amp;rft.genre=unknown&amp;rft.jtitle=TV+by+the+Numbers&amp;rft.atitle=Sunday+Cable+Ratings%3A%27Game+of+Thrones%27+Wins+Night%2C+%27North+America%27%2C+%27Mad+Men%27%2C+%27Veep%27%2C+%27The+Client+List%27+%26+More&amp;rft.date=2013-05-21&amp;rft.aulast=Bibel&amp;rft.aufirst=Sara&amp;rft_id=http%3A%2F%2Ftvbythenumbers.zap2it.com%2F2013%2F05%2F21%2Fsunday-cable-ratingsgame-of-thrones-wins-night-north-america-mad-men-veep-the-client-list-more%2F183402%2F&amp;rfr_id=info%3Asid%2Fen.wikipedia.org%3AList+of+Game+of+Thrones+episodes\"></span><link href=\"mw-data:TemplateStyles:r951705291\" rel=\"mw-deduplicated-inline-style\"/></span>\n",
       "</li>\n",
       "<li id=\"cite_note-49\"><span class=\"mw-cite-backlink\"><b><a href=\"#cite_ref-49\">^</a></b></span> <span class=\"reference-text\"><cite class=\"citation web\" id=\"CITEREFKondolojy2013\">Kondolojy, Amanda (June 4, 2013). <a class=\"external text\" href=\"http://tvbythenumbers.zap2it.com/2013/06/04/sunday-cable-ratings-game-of-thrones-wins-night-keeping-up-with-the-kardashians-real-housewives-of-new-jersey-breaking-amish-mad-men-more/185649/\" rel=\"nofollow\">\"Sunday Cable Ratings: 'Game of Thrones' Wins Night + 'Keeping Up With the Kardashians', 'Real Housewives of New Jersey', 'Breaking Amish', 'Mad Men' &amp; More\"</a>. <i>TV by the Numbers</i>. <a class=\"external text\" href=\"https://web.archive.org/web/20160901123724/http://tvbythenumbers.zap2it.com/2013/06/04/sunday-cable-ratings-game-of-thrones-wins-night-keeping-up-with-the-kardashians-real-housewives-of-new-jersey-breaking-amish-mad-men-more/185649/\" rel=\"nofollow\">Archived</a> from the original on September 1, 2016<span class=\"reference-accessdate\">. Retrieved <span class=\"nowrap\">June 4,</span> 2013</span>.</cite><span class=\"Z3988\" title=\"ctx_ver=Z39.88-2004&amp;rft_val_fmt=info%3Aofi%2Ffmt%3Akev%3Amtx%3Ajournal&amp;rft.genre=unknown&amp;rft.jtitle=TV+by+the+Numbers&amp;rft.atitle=Sunday+Cable+Ratings%3A+%27Game+of+Thrones%27+Wins+Night+%2B+%27Keeping+Up+With+the+Kardashians%27%2C+%27Real+Housewives+of+New+Jersey%27%2C+%27Breaking+Amish%27%2C+%27Mad+Men%27+%26+More&amp;rft.date=2013-06-04&amp;rft.aulast=Kondolojy&amp;rft.aufirst=Amanda&amp;rft_id=http%3A%2F%2Ftvbythenumbers.zap2it.com%2F2013%2F06%2F04%2Fsunday-cable-ratings-game-of-thrones-wins-night-keeping-up-with-the-kardashians-real-housewives-of-new-jersey-breaking-amish-mad-men-more%2F185649%2F&amp;rfr_id=info%3Asid%2Fen.wikipedia.org%3AList+of+Game+of+Thrones+episodes\"></span><link href=\"mw-data:TemplateStyles:r951705291\" rel=\"mw-deduplicated-inline-style\"/></span>\n",
       "</li>\n",
       "<li id=\"cite_note-50\"><span class=\"mw-cite-backlink\"><b><a href=\"#cite_ref-50\">^</a></b></span> <span class=\"reference-text\"><cite class=\"citation web\" id=\"CITEREFBibel2013\">Bibel, Sara (June 11, 2013). <a class=\"external text\" href=\"http://tvbythenumbers.zap2it.com/2013/06/11/sunday-cable-ratings-game-of-thrones-wins-night-falling-skies-mad-men-army-wives-veep-the-client-list-more-more/186683/\" rel=\"nofollow\">\"Sunday Cable Ratings: 'Game of Thrones' Wins Night, 'Falling Skies', 'Mad Men', 'Army Wives', 'Veep', 'The Client List' &amp; More\"</a>. <i>TV by the Numbers</i>. <a class=\"external text\" href=\"https://web.archive.org/web/20160901123724/http://tvbythenumbers.zap2it.com/2013/06/11/sunday-cable-ratings-game-of-thrones-wins-night-falling-skies-mad-men-army-wives-veep-the-client-list-more-more/186683/\" rel=\"nofollow\">Archived</a> from the original on September 1, 2016<span class=\"reference-accessdate\">. Retrieved <span class=\"nowrap\">June 10,</span> 2013</span>.</cite><span class=\"Z3988\" title=\"ctx_ver=Z39.88-2004&amp;rft_val_fmt=info%3Aofi%2Ffmt%3Akev%3Amtx%3Ajournal&amp;rft.genre=unknown&amp;rft.jtitle=TV+by+the+Numbers&amp;rft.atitle=Sunday+Cable+Ratings%3A+%27Game+of+Thrones%27+Wins+Night%2C+%27Falling+Skies%27%2C+%27Mad+Men%27%2C+%27Army+Wives%27%2C+%27Veep%27%2C+%27The+Client+List%27+%26+More&amp;rft.date=2013-06-11&amp;rft.aulast=Bibel&amp;rft.aufirst=Sara&amp;rft_id=http%3A%2F%2Ftvbythenumbers.zap2it.com%2F2013%2F06%2F11%2Fsunday-cable-ratings-game-of-thrones-wins-night-falling-skies-mad-men-army-wives-veep-the-client-list-more-more%2F186683%2F&amp;rfr_id=info%3Asid%2Fen.wikipedia.org%3AList+of+Game+of+Thrones+episodes\"></span><link href=\"mw-data:TemplateStyles:r951705291\" rel=\"mw-deduplicated-inline-style\"/></span>\n",
       "</li>\n",
       "<li id=\"cite_note-51\"><span class=\"mw-cite-backlink\"><b><a href=\"#cite_ref-51\">^</a></b></span> <span class=\"reference-text\"><cite class=\"citation web\" id=\"CITEREFKondolojy2014\">Kondolojy, Amanda (April 8, 2014). <a class=\"external text\" href=\"http://tvbythenumbers.zap2it.com/2014/04/08/sunday-cable-ratings-game-of-thrones-wins-night-the-real-housewives-of-atlanta-silicon-valley-married-to-medicine-more/251918/\" rel=\"nofollow\">\"Sunday Cable Ratings: 'Game of Thrones' Wins Night + 'The Real Housewives of Atlanta', 'Silicon Valley', 'Married to Medicine' &amp; More\"</a>. <i><a href=\"/wiki/TV_by_the_Numbers\" title=\"TV by the Numbers\">TV by the Numbers</a></i>. <a class=\"external text\" href=\"https://web.archive.org/web/20160901123724/http://tvbythenumbers.zap2it.com/2014/04/08/sunday-cable-ratings-game-of-thrones-wins-night-the-real-housewives-of-atlanta-silicon-valley-married-to-medicine-more/251918/\" rel=\"nofollow\">Archived</a> from the original on September 1, 2016<span class=\"reference-accessdate\">. Retrieved <span class=\"nowrap\">April 8,</span> 2014</span>.</cite><span class=\"Z3988\" title=\"ctx_ver=Z39.88-2004&amp;rft_val_fmt=info%3Aofi%2Ffmt%3Akev%3Amtx%3Ajournal&amp;rft.genre=unknown&amp;rft.jtitle=TV+by+the+Numbers&amp;rft.atitle=Sunday+Cable+Ratings%3A+%27Game+of+Thrones%27+Wins+Night+%2B+%27The+Real+Housewives+of+Atlanta%27%2C+%27Silicon+Valley%27%2C+%27Married+to+Medicine%27+%26+More&amp;rft.date=2014-04-08&amp;rft.aulast=Kondolojy&amp;rft.aufirst=Amanda&amp;rft_id=http%3A%2F%2Ftvbythenumbers.zap2it.com%2F2014%2F04%2F08%2Fsunday-cable-ratings-game-of-thrones-wins-night-the-real-housewives-of-atlanta-silicon-valley-married-to-medicine-more%2F251918%2F&amp;rfr_id=info%3Asid%2Fen.wikipedia.org%3AList+of+Game+of+Thrones+episodes\"></span><link href=\"mw-data:TemplateStyles:r951705291\" rel=\"mw-deduplicated-inline-style\"/></span>\n",
       "</li>\n",
       "<li id=\"cite_note-52\"><span class=\"mw-cite-backlink\"><b><a href=\"#cite_ref-52\">^</a></b></span> <span class=\"reference-text\"><cite class=\"citation web\" id=\"CITEREFBibel2014\">Bibel, Sara (April 15, 2014). <a class=\"external text\" href=\"http://tvbythenumbers.zap2it.com/2014/04/15/sunday-cable-ratings-game-of-thrones-wins-night-real-housewives-of-atlanta-mtv-movie-awards-silicon-valley-mad-men-drop-dead-diva-more/254110/\" rel=\"nofollow\">\"Sunday Cable Ratings: 'Game of Thrones' Wins Night, 'Real Housewives of Atlanta', 'MTV Movie Awards', 'Silicon Valley', 'Mad Men', 'Drop Dead Diva' &amp; More\"</a>. <i>TV by the Numbers</i>. <a class=\"external text\" href=\"https://web.archive.org/web/20160901123724/http://tvbythenumbers.zap2it.com/2014/04/15/sunday-cable-ratings-game-of-thrones-wins-night-real-housewives-of-atlanta-mtv-movie-awards-silicon-valley-mad-men-drop-dead-diva-more/254110/\" rel=\"nofollow\">Archived</a> from the original on September 1, 2016<span class=\"reference-accessdate\">. Retrieved <span class=\"nowrap\">April 15,</span> 2014</span>.</cite><span class=\"Z3988\" title=\"ctx_ver=Z39.88-2004&amp;rft_val_fmt=info%3Aofi%2Ffmt%3Akev%3Amtx%3Ajournal&amp;rft.genre=unknown&amp;rft.jtitle=TV+by+the+Numbers&amp;rft.atitle=Sunday+Cable+Ratings%3A+%27Game+of+Thrones%27+Wins+Night%2C+%27Real+Housewives+of+Atlanta%27%2C+%27MTV+Movie+Awards%27%2C+%27Silicon+Valley%27%2C+%27Mad+Men%27%2C+%27Drop+Dead+Diva%27+%26+More&amp;rft.date=2014-04-15&amp;rft.aulast=Bibel&amp;rft.aufirst=Sara&amp;rft_id=http%3A%2F%2Ftvbythenumbers.zap2it.com%2F2014%2F04%2F15%2Fsunday-cable-ratings-game-of-thrones-wins-night-real-housewives-of-atlanta-mtv-movie-awards-silicon-valley-mad-men-drop-dead-diva-more%2F254110%2F&amp;rfr_id=info%3Asid%2Fen.wikipedia.org%3AList+of+Game+of+Thrones+episodes\"></span><link href=\"mw-data:TemplateStyles:r951705291\" rel=\"mw-deduplicated-inline-style\"/></span>\n",
       "</li>\n",
       "<li id=\"cite_note-53\"><span class=\"mw-cite-backlink\"><b><a href=\"#cite_ref-53\">^</a></b></span> <span class=\"reference-text\"><cite class=\"citation web\" id=\"CITEREFKondolojy2014\">Kondolojy, Amanda (April 22, 2014). <a class=\"external text\" href=\"http://tvbythenumbers.zap2it.com/2014/04/22/sunday-cable-ratings-game-of-thrones-wins-night-nba-playoffs-real-housewives-of-atlanta-naked-and-afraid-more/256183/\" rel=\"nofollow\">\"Sunday Cable Ratings: 'Game of Thrones' Wins Night, + NBA Playoffs, 'Real Housewives of Atlanta', 'Naked and Afraid' &amp; More\"</a>. <i>TV by the Numbers</i>. <a class=\"external text\" href=\"https://web.archive.org/web/20160901123724/http://tvbythenumbers.zap2it.com/2014/04/22/sunday-cable-ratings-game-of-thrones-wins-night-nba-playoffs-real-housewives-of-atlanta-naked-and-afraid-more/256183/\" rel=\"nofollow\">Archived</a> from the original on September 1, 2016<span class=\"reference-accessdate\">. Retrieved <span class=\"nowrap\">April 22,</span> 2014</span>.</cite><span class=\"Z3988\" title=\"ctx_ver=Z39.88-2004&amp;rft_val_fmt=info%3Aofi%2Ffmt%3Akev%3Amtx%3Ajournal&amp;rft.genre=unknown&amp;rft.jtitle=TV+by+the+Numbers&amp;rft.atitle=Sunday+Cable+Ratings%3A+%27Game+of+Thrones%27+Wins+Night%2C+%2B+NBA+Playoffs%2C+%27Real+Housewives+of+Atlanta%27%2C+%27Naked+and+Afraid%27+%26+More&amp;rft.date=2014-04-22&amp;rft.aulast=Kondolojy&amp;rft.aufirst=Amanda&amp;rft_id=http%3A%2F%2Ftvbythenumbers.zap2it.com%2F2014%2F04%2F22%2Fsunday-cable-ratings-game-of-thrones-wins-night-nba-playoffs-real-housewives-of-atlanta-naked-and-afraid-more%2F256183%2F&amp;rfr_id=info%3Asid%2Fen.wikipedia.org%3AList+of+Game+of+Thrones+episodes\"></span><link href=\"mw-data:TemplateStyles:r951705291\" rel=\"mw-deduplicated-inline-style\"/></span>\n",
       "</li>\n",
       "<li id=\"cite_note-54\"><span class=\"mw-cite-backlink\"><b><a href=\"#cite_ref-54\">^</a></b></span> <span class=\"reference-text\"><cite class=\"citation web\" id=\"CITEREFBibel2014\">Bibel, Sara (April 29, 2014). <a class=\"external text\" href=\"http://tvbythenumbers.zap2it.com/2014/04/29/sunday-cable-ratings-game-of-thrones-wins-night-nba-playoffs-real-housewives-of-atlanta-mad-men-devious-maids-more/258458/\" rel=\"nofollow\">\"Sunday Cable Ratings: 'Game of Thrones' Wins Night, NBA Playoffs, 'Real Housewives of Atlanta', 'Mad Men', 'Devious Maids' &amp; More\"</a>. <i>TV by the Numbers</i>. <a class=\"external text\" href=\"https://web.archive.org/web/20160901123724/http://tvbythenumbers.zap2it.com/2014/04/29/sunday-cable-ratings-game-of-thrones-wins-night-nba-playoffs-real-housewives-of-atlanta-mad-men-devious-maids-more/258458/\" rel=\"nofollow\">Archived</a> from the original on September 1, 2016<span class=\"reference-accessdate\">. Retrieved <span class=\"nowrap\">April 29,</span> 2014</span>.</cite><span class=\"Z3988\" title=\"ctx_ver=Z39.88-2004&amp;rft_val_fmt=info%3Aofi%2Ffmt%3Akev%3Amtx%3Ajournal&amp;rft.genre=unknown&amp;rft.jtitle=TV+by+the+Numbers&amp;rft.atitle=Sunday+Cable+Ratings%3A+%27Game+of+Thrones%27+Wins+Night%2C+NBA+Playoffs%2C+%27Real+Housewives+of+Atlanta%27%2C+%27Mad+Men%27%2C+%27Devious+Maids%27+%26+More&amp;rft.date=2014-04-29&amp;rft.aulast=Bibel&amp;rft.aufirst=Sara&amp;rft_id=http%3A%2F%2Ftvbythenumbers.zap2it.com%2F2014%2F04%2F29%2Fsunday-cable-ratings-game-of-thrones-wins-night-nba-playoffs-real-housewives-of-atlanta-mad-men-devious-maids-more%2F258458%2F&amp;rfr_id=info%3Asid%2Fen.wikipedia.org%3AList+of+Game+of+Thrones+episodes\"></span><link href=\"mw-data:TemplateStyles:r951705291\" rel=\"mw-deduplicated-inline-style\"/></span>\n",
       "</li>\n",
       "<li id=\"cite_note-55\"><span class=\"mw-cite-backlink\"><b><a href=\"#cite_ref-55\">^</a></b></span> <span class=\"reference-text\"><cite class=\"citation web\" id=\"CITEREFKondolojy2014\">Kondolojy, Amanda (May 6, 2014). <a class=\"external text\" href=\"http://tvbythenumbers.zap2it.com/2014/05/06/sunday-cable-ratings-game-of-thrones-wins-night-real-housewives-of-atlanta-married-to-medicine-silicon-valley-more/260613/\" rel=\"nofollow\">\"Sunday Cable Ratings: 'Game of Thrones' Wins Night, + 'Real Housewives of Atlanta', 'Married to Medicine', 'Silicon Valley' &amp; More\"</a>. <i>TV by the Numbers</i>. <a class=\"external text\" href=\"https://web.archive.org/web/20160901123724/http://tvbythenumbers.zap2it.com/2014/05/06/sunday-cable-ratings-game-of-thrones-wins-night-real-housewives-of-atlanta-married-to-medicine-silicon-valley-more/260613/\" rel=\"nofollow\">Archived</a> from the original on September 1, 2016<span class=\"reference-accessdate\">. Retrieved <span class=\"nowrap\">May 6,</span> 2014</span>.</cite><span class=\"Z3988\" title=\"ctx_ver=Z39.88-2004&amp;rft_val_fmt=info%3Aofi%2Ffmt%3Akev%3Amtx%3Ajournal&amp;rft.genre=unknown&amp;rft.jtitle=TV+by+the+Numbers&amp;rft.atitle=Sunday+Cable+Ratings%3A+%27Game+of+Thrones%27+Wins+Night%2C+%2B+%27Real+Housewives+of+Atlanta%27%2C+%27Married+to+Medicine%27%2C+%27Silicon+Valley%27+%26+More&amp;rft.date=2014-05-06&amp;rft.aulast=Kondolojy&amp;rft.aufirst=Amanda&amp;rft_id=http%3A%2F%2Ftvbythenumbers.zap2it.com%2F2014%2F05%2F06%2Fsunday-cable-ratings-game-of-thrones-wins-night-real-housewives-of-atlanta-married-to-medicine-silicon-valley-more%2F260613%2F&amp;rfr_id=info%3Asid%2Fen.wikipedia.org%3AList+of+Game+of+Thrones+episodes\"></span><link href=\"mw-data:TemplateStyles:r951705291\" rel=\"mw-deduplicated-inline-style\"/></span>\n",
       "</li>\n",
       "<li id=\"cite_note-56\"><span class=\"mw-cite-backlink\"><b><a href=\"#cite_ref-56\">^</a></b></span> <span class=\"reference-text\"><cite class=\"citation web\" id=\"CITEREFBibel2014\">Bibel, Sara (May 13, 2014). <a class=\"external text\" href=\"http://tvbythenumbers.zap2it.com/2014/05/13/sunday-cable-ratings-game-of-thrones-wins-night-nba-playoffs-silicon-valley-bar-rescue-real-housewives-of-atlanta-mad-men-more/263258/\" rel=\"nofollow\">\"Sunday Cable Ratings: 'Game of Thrones' Wins Night, NBA Playoffs, 'Silicon Valley', 'Bar Rescue', 'Real Housewives of Atlanta', 'Mad Men' &amp; More\"</a>. <i>TV by the Numbers</i>. <a class=\"external text\" href=\"https://web.archive.org/web/20160901123724/http://tvbythenumbers.zap2it.com/2014/05/13/sunday-cable-ratings-game-of-thrones-wins-night-nba-playoffs-silicon-valley-bar-rescue-real-housewives-of-atlanta-mad-men-more/263258/\" rel=\"nofollow\">Archived</a> from the original on September 1, 2016<span class=\"reference-accessdate\">. Retrieved <span class=\"nowrap\">May 13,</span> 2014</span>.</cite><span class=\"Z3988\" title=\"ctx_ver=Z39.88-2004&amp;rft_val_fmt=info%3Aofi%2Ffmt%3Akev%3Amtx%3Ajournal&amp;rft.genre=unknown&amp;rft.jtitle=TV+by+the+Numbers&amp;rft.atitle=Sunday+Cable+Ratings%3A+%27Game+of+Thrones%27+Wins+Night%2C+NBA+Playoffs%2C+%27Silicon+Valley%27%2C+%27Bar+Rescue%27%2C+%27Real+Housewives+of+Atlanta%27%2C+%27Mad+Men%27+%26+More&amp;rft.date=2014-05-13&amp;rft.aulast=Bibel&amp;rft.aufirst=Sara&amp;rft_id=http%3A%2F%2Ftvbythenumbers.zap2it.com%2F2014%2F05%2F13%2Fsunday-cable-ratings-game-of-thrones-wins-night-nba-playoffs-silicon-valley-bar-rescue-real-housewives-of-atlanta-mad-men-more%2F263258%2F&amp;rfr_id=info%3Asid%2Fen.wikipedia.org%3AList+of+Game+of+Thrones+episodes\"></span><link href=\"mw-data:TemplateStyles:r951705291\" rel=\"mw-deduplicated-inline-style\"/></span>\n",
       "</li>\n",
       "<li id=\"cite_note-57\"><span class=\"mw-cite-backlink\"><b><a href=\"#cite_ref-57\">^</a></b></span> <span class=\"reference-text\"><cite class=\"citation web\" id=\"CITEREFKondolojy2014\">Kondolojy, Amanda (May 20, 2014). <a class=\"external text\" href=\"http://tvbythenumbers.zap2it.com/2014/05/20/sunday-cable-ratings-game-of-thrones-wins-night-silicon-valley-real-housewives-of-atlanta-river-monsters-married-to-medicine-more/265704/\" rel=\"nofollow\">\"Sunday Cable Ratings: 'Game of Thrones' Wins Night + 'Silicon Valley', 'Real Housewives of Atlanta', 'River Monsters', 'Married to Medicine' &amp; More\"</a>. <i>TV by the Numbers</i>. <a class=\"external text\" href=\"https://web.archive.org/web/20160901123724/http://tvbythenumbers.zap2it.com/2014/05/20/sunday-cable-ratings-game-of-thrones-wins-night-silicon-valley-real-housewives-of-atlanta-river-monsters-married-to-medicine-more/265704/\" rel=\"nofollow\">Archived</a> from the original on September 1, 2016<span class=\"reference-accessdate\">. Retrieved <span class=\"nowrap\">May 20,</span> 2014</span>.</cite><span class=\"Z3988\" title=\"ctx_ver=Z39.88-2004&amp;rft_val_fmt=info%3Aofi%2Ffmt%3Akev%3Amtx%3Ajournal&amp;rft.genre=unknown&amp;rft.jtitle=TV+by+the+Numbers&amp;rft.atitle=Sunday+Cable+Ratings%3A+%27Game+of+Thrones%27+Wins+Night+%2B+%27Silicon+Valley%27%2C+%27Real+Housewives+of+Atlanta%27%2C+%27River+Monsters%27%2C+%27Married+to+Medicine%27+%26+More&amp;rft.date=2014-05-20&amp;rft.aulast=Kondolojy&amp;rft.aufirst=Amanda&amp;rft_id=http%3A%2F%2Ftvbythenumbers.zap2it.com%2F2014%2F05%2F20%2Fsunday-cable-ratings-game-of-thrones-wins-night-silicon-valley-real-housewives-of-atlanta-river-monsters-married-to-medicine-more%2F265704%2F&amp;rfr_id=info%3Asid%2Fen.wikipedia.org%3AList+of+Game+of+Thrones+episodes\"></span><link href=\"mw-data:TemplateStyles:r951705291\" rel=\"mw-deduplicated-inline-style\"/></span>\n",
       "</li>\n",
       "<li id=\"cite_note-58\"><span class=\"mw-cite-backlink\"><b><a href=\"#cite_ref-58\">^</a></b></span> <span class=\"reference-text\"><cite class=\"citation web\" id=\"CITEREFKondolojy2014\">Kondolojy, Amanda (June 3, 2014). <a class=\"external text\" href=\"http://tvbythenumbers.zap2it.com/2014/06/03/sunday-cable-ratings-game-of-thrones-wins-night-nhl-conference-finals-real-housewives-of-atlanta-kandis-wedding-silicon-valley-more/269702/\" rel=\"nofollow\">\"Sunday Cable Ratings: 'Game of Thrones' Wins Night + NHL Conference Finals, 'Real Housewives of Atlanta: Kandi's Wedding', 'Silicon Valley' &amp; Moreh\"</a>. <i>TV by the Numbers</i>. <a class=\"external text\" href=\"https://web.archive.org/web/20160901123724/http://tvbythenumbers.zap2it.com/2014/06/03/sunday-cable-ratings-game-of-thrones-wins-night-nhl-conference-finals-real-housewives-of-atlanta-kandis-wedding-silicon-valley-more/269702/\" rel=\"nofollow\">Archived</a> from the original on September 1, 2016<span class=\"reference-accessdate\">. Retrieved <span class=\"nowrap\">June 3,</span> 2014</span>.</cite><span class=\"Z3988\" title=\"ctx_ver=Z39.88-2004&amp;rft_val_fmt=info%3Aofi%2Ffmt%3Akev%3Amtx%3Ajournal&amp;rft.genre=unknown&amp;rft.jtitle=TV+by+the+Numbers&amp;rft.atitle=Sunday+Cable+Ratings%3A+%27Game+of+Thrones%27+Wins+Night+%2B+NHL+Conference+Finals%2C+%27Real+Housewives+of+Atlanta%3A+Kandi%27s+Wedding%27%2C+%27Silicon+Valley%27+%26+Moreh&amp;rft.date=2014-06-03&amp;rft.aulast=Kondolojy&amp;rft.aufirst=Amanda&amp;rft_id=http%3A%2F%2Ftvbythenumbers.zap2it.com%2F2014%2F06%2F03%2Fsunday-cable-ratings-game-of-thrones-wins-night-nhl-conference-finals-real-housewives-of-atlanta-kandis-wedding-silicon-valley-more%2F269702%2F&amp;rfr_id=info%3Asid%2Fen.wikipedia.org%3AList+of+Game+of+Thrones+episodes\"></span><link href=\"mw-data:TemplateStyles:r951705291\" rel=\"mw-deduplicated-inline-style\"/></span>\n",
       "</li>\n",
       "<li id=\"cite_note-59\"><span class=\"mw-cite-backlink\"><b><a href=\"#cite_ref-59\">^</a></b></span> <span class=\"reference-text\"><cite class=\"citation web\" id=\"CITEREFBibel2014\">Bibel, Sara (June 10, 2014). <a class=\"external text\" href=\"http://tvbythenumbers.zap2it.com/2014/06/10/sunday-cable-ratings-game-of-thrones-wins-night-keeping-up-with-the-kardashians-devious-maids-veep-turn-more/271830/\" rel=\"nofollow\">\"Sunday Cable Ratings: 'Game of Thrones' Wins Night, 'Keeping Up With the Kardashians', 'Devious Maids', 'Veep', 'Turn' &amp; More\"</a>. <i>TV by the Numbers</i>. <a class=\"external text\" href=\"https://web.archive.org/web/20160901123724/http://tvbythenumbers.zap2it.com/2014/06/10/sunday-cable-ratings-game-of-thrones-wins-night-keeping-up-with-the-kardashians-devious-maids-veep-turn-more/271830/\" rel=\"nofollow\">Archived</a> from the original on September 1, 2016<span class=\"reference-accessdate\">. Retrieved <span class=\"nowrap\">June 10,</span> 2014</span>.</cite><span class=\"Z3988\" title=\"ctx_ver=Z39.88-2004&amp;rft_val_fmt=info%3Aofi%2Ffmt%3Akev%3Amtx%3Ajournal&amp;rft.genre=unknown&amp;rft.jtitle=TV+by+the+Numbers&amp;rft.atitle=Sunday+Cable+Ratings%3A+%27Game+of+Thrones%27+Wins+Night%2C+%27Keeping+Up+With+the+Kardashians%27%2C+%27Devious+Maids%27%2C+%27Veep%27%2C+%27Turn%27+%26+More&amp;rft.date=2014-06-10&amp;rft.aulast=Bibel&amp;rft.aufirst=Sara&amp;rft_id=http%3A%2F%2Ftvbythenumbers.zap2it.com%2F2014%2F06%2F10%2Fsunday-cable-ratings-game-of-thrones-wins-night-keeping-up-with-the-kardashians-devious-maids-veep-turn-more%2F271830%2F&amp;rfr_id=info%3Asid%2Fen.wikipedia.org%3AList+of+Game+of+Thrones+episodes\"></span><link href=\"mw-data:TemplateStyles:r951705291\" rel=\"mw-deduplicated-inline-style\"/></span>\n",
       "</li>\n",
       "<li id=\"cite_note-60\"><span class=\"mw-cite-backlink\"><b><a href=\"#cite_ref-60\">^</a></b></span> <span class=\"reference-text\"><cite class=\"citation web\" id=\"CITEREFKondolojy2014\">Kondolojy, Amanda (June 17, 2014). <a class=\"external text\" href=\"http://tvbythenumbers.zap2it.com/2014/06/17/sunday-cable-ratings-game-of-thrones-wins-night-world-cup-soccer-keeping-up-with-the-kardashians-nascar-more/274033/\" rel=\"nofollow\">\"Sunday Cable Ratings: 'Game of Thrones' Wins Night + World Cup Soccer, 'Keeping up with the Kardashians', NASCAR &amp; More\"</a>. <i>TV by the Numbers</i>. <a class=\"external text\" href=\"https://web.archive.org/web/20160602034131/http://tvbythenumbers.zap2it.com/2014/06/17/sunday-cable-ratings-game-of-thrones-wins-night-world-cup-soccer-keeping-up-with-the-kardashians-nascar-more/274033/\" rel=\"nofollow\">Archived</a> from the original on June 2, 2016<span class=\"reference-accessdate\">. Retrieved <span class=\"nowrap\">June 17,</span> 2014</span>.</cite><span class=\"Z3988\" title=\"ctx_ver=Z39.88-2004&amp;rft_val_fmt=info%3Aofi%2Ffmt%3Akev%3Amtx%3Ajournal&amp;rft.genre=unknown&amp;rft.jtitle=TV+by+the+Numbers&amp;rft.atitle=Sunday+Cable+Ratings%3A+%27Game+of+Thrones%27+Wins+Night+%2B+World+Cup+Soccer%2C+%27Keeping+up+with+the+Kardashians%27%2C+NASCAR+%26+More&amp;rft.date=2014-06-17&amp;rft.aulast=Kondolojy&amp;rft.aufirst=Amanda&amp;rft_id=http%3A%2F%2Ftvbythenumbers.zap2it.com%2F2014%2F06%2F17%2Fsunday-cable-ratings-game-of-thrones-wins-night-world-cup-soccer-keeping-up-with-the-kardashians-nascar-more%2F274033%2F&amp;rfr_id=info%3Asid%2Fen.wikipedia.org%3AList+of+Game+of+Thrones+episodes\"></span><link href=\"mw-data:TemplateStyles:r951705291\" rel=\"mw-deduplicated-inline-style\"/></span>\n",
       "</li>\n",
       "<li id=\"cite_note-5.01-61\"><span class=\"mw-cite-backlink\"><b><a href=\"#cite_ref-5.01_61-0\">^</a></b></span> <span class=\"reference-text\"><cite class=\"citation web\" id=\"CITEREFBibel2015\">Bibel, Sara (April 14, 2015). <a class=\"external text\" href=\"http://tvbythenumbers.zap2it.com/2015/04/14/sunday-cable-ratings-game-of-thrones-wins-night-silicon-valley-mtv-movie-awards-mad-men-veep-the-royals-more/388550/\" rel=\"nofollow\">\"Sunday Cable Ratings: 'Game of Thrones' Wins Night, 'Silicon Valley', 'MTV Movie Awards', 'Mad Men', 'Veep', 'The Royals' &amp; More\"</a>. <i><a href=\"/wiki/TV_by_the_Numbers\" title=\"TV by the Numbers\">TV by the Numbers</a></i>. <a class=\"external text\" href=\"https://web.archive.org/web/20160901123724/http://tvbythenumbers.zap2it.com/2015/04/14/sunday-cable-ratings-game-of-thrones-wins-night-silicon-valley-mtv-movie-awards-mad-men-veep-the-royals-more/388550/\" rel=\"nofollow\">Archived</a> from the original on September 1, 2016<span class=\"reference-accessdate\">. Retrieved <span class=\"nowrap\">April 14,</span> 2015</span>.</cite><span class=\"Z3988\" title=\"ctx_ver=Z39.88-2004&amp;rft_val_fmt=info%3Aofi%2Ffmt%3Akev%3Amtx%3Ajournal&amp;rft.genre=unknown&amp;rft.jtitle=TV+by+the+Numbers&amp;rft.atitle=Sunday+Cable+Ratings%3A+%27Game+of+Thrones%27+Wins+Night%2C+%27Silicon+Valley%27%2C+%27MTV+Movie+Awards%27%2C+%27Mad+Men%27%2C+%27Veep%27%2C+%27The+Royals%27+%26+More&amp;rft.date=2015-04-14&amp;rft.aulast=Bibel&amp;rft.aufirst=Sara&amp;rft_id=http%3A%2F%2Ftvbythenumbers.zap2it.com%2F2015%2F04%2F14%2Fsunday-cable-ratings-game-of-thrones-wins-night-silicon-valley-mtv-movie-awards-mad-men-veep-the-royals-more%2F388550%2F&amp;rfr_id=info%3Asid%2Fen.wikipedia.org%3AList+of+Game+of+Thrones+episodes\"></span><link href=\"mw-data:TemplateStyles:r951705291\" rel=\"mw-deduplicated-inline-style\"/></span>\n",
       "</li>\n",
       "<li id=\"cite_note-5.02-62\"><span class=\"mw-cite-backlink\"><b><a href=\"#cite_ref-5.02_62-0\">^</a></b></span> <span class=\"reference-text\"><cite class=\"citation web\" id=\"CITEREFKondolojy2015\">Kondolojy, Amanda (April 21, 2015). <a class=\"external text\" href=\"http://tvbythenumbers.zap2it.com/2015/04/21/sunday-cable-ratings-game-of-thrones-tops-night-nba-playoffs-real-housewives-of-atlanta-naked-and-afraid-more/392154/\" rel=\"nofollow\">\"Sunday Cable Ratings: 'Game of Thrones' Tops Night + NBA Playoffs, 'Real Housewives of Atlanta,' 'Naked and Afraid' &amp; More\"</a>. <i>TV by the Numbers</i>. <a class=\"external text\" href=\"https://web.archive.org/web/20160901123724/http://tvbythenumbers.zap2it.com/2015/04/21/sunday-cable-ratings-game-of-thrones-tops-night-nba-playoffs-real-housewives-of-atlanta-naked-and-afraid-more/392154/\" rel=\"nofollow\">Archived</a> from the original on September 1, 2016<span class=\"reference-accessdate\">. Retrieved <span class=\"nowrap\">April 21,</span> 2015</span>.</cite><span class=\"Z3988\" title=\"ctx_ver=Z39.88-2004&amp;rft_val_fmt=info%3Aofi%2Ffmt%3Akev%3Amtx%3Ajournal&amp;rft.genre=unknown&amp;rft.jtitle=TV+by+the+Numbers&amp;rft.atitle=Sunday+Cable+Ratings%3A+%27Game+of+Thrones%27+Tops+Night+%2B+NBA+Playoffs%2C+%27Real+Housewives+of+Atlanta%2C%27+%27Naked+and+Afraid%27+%26+More&amp;rft.date=2015-04-21&amp;rft.aulast=Kondolojy&amp;rft.aufirst=Amanda&amp;rft_id=http%3A%2F%2Ftvbythenumbers.zap2it.com%2F2015%2F04%2F21%2Fsunday-cable-ratings-game-of-thrones-tops-night-nba-playoffs-real-housewives-of-atlanta-naked-and-afraid-more%2F392154%2F&amp;rfr_id=info%3Asid%2Fen.wikipedia.org%3AList+of+Game+of+Thrones+episodes\"></span><link href=\"mw-data:TemplateStyles:r951705291\" rel=\"mw-deduplicated-inline-style\"/></span>\n",
       "</li>\n",
       "<li id=\"cite_note-5.03-63\"><span class=\"mw-cite-backlink\"><b><a href=\"#cite_ref-5.03_63-0\">^</a></b></span> <span class=\"reference-text\"><cite class=\"citation web\" id=\"CITEREFBibel2015\">Bibel, Sara (April 28, 2015). <a class=\"external text\" href=\"http://tvbythenumbers.zap2it.com/2015/04/28/sunday-cable-ratings-game-of-thrones-wins-night-nba-playoffs-real-housewives-of-atlanta-silicon-valley-mad-men-more/395207/\" rel=\"nofollow\">\"Sunday Cable Ratings: 'Game of Thrones' Wins Night, NBA Playoffs, 'Real Housewives of Atlanta', 'Silicon Valley', 'Mad Men' &amp; More\"</a>. <i>TV by the Numbers</i>. <a class=\"external text\" href=\"https://web.archive.org/web/20160901123724/http://tvbythenumbers.zap2it.com/2015/04/28/sunday-cable-ratings-game-of-thrones-wins-night-nba-playoffs-real-housewives-of-atlanta-silicon-valley-mad-men-more/395207/\" rel=\"nofollow\">Archived</a> from the original on September 1, 2016<span class=\"reference-accessdate\">. Retrieved <span class=\"nowrap\">April 28,</span> 2015</span>.</cite><span class=\"Z3988\" title=\"ctx_ver=Z39.88-2004&amp;rft_val_fmt=info%3Aofi%2Ffmt%3Akev%3Amtx%3Ajournal&amp;rft.genre=unknown&amp;rft.jtitle=TV+by+the+Numbers&amp;rft.atitle=Sunday+Cable+Ratings%3A+%27Game+of+Thrones%27+Wins+Night%2C+NBA+Playoffs%2C+%27Real+Housewives+of+Atlanta%27%2C+%27Silicon+Valley%27%2C+%27Mad+Men%27+%26+More&amp;rft.date=2015-04-28&amp;rft.aulast=Bibel&amp;rft.aufirst=Sara&amp;rft_id=http%3A%2F%2Ftvbythenumbers.zap2it.com%2F2015%2F04%2F28%2Fsunday-cable-ratings-game-of-thrones-wins-night-nba-playoffs-real-housewives-of-atlanta-silicon-valley-mad-men-more%2F395207%2F&amp;rfr_id=info%3Asid%2Fen.wikipedia.org%3AList+of+Game+of+Thrones+episodes\"></span><link href=\"mw-data:TemplateStyles:r951705291\" rel=\"mw-deduplicated-inline-style\"/></span>\n",
       "</li>\n",
       "<li id=\"cite_note-5.04-64\"><span class=\"mw-cite-backlink\"><b><a href=\"#cite_ref-5.04_64-0\">^</a></b></span> <span class=\"reference-text\"><cite class=\"citation web\" id=\"CITEREFKondolojy2015\">Kondolojy, Amanda (May 5, 2015). <a class=\"external text\" href=\"http://tvbythenumbers.zap2it.com/2015/05/05/sunday-cable-ratings-game-of-thrones-tops-night-real-housewives-of-atlanta-silicon-valley-more/399327/\" rel=\"nofollow\">\"Sunday Cable Ratings: 'Game of Thrones' Tops Night + 'Real Housewives of Atlanta', 'Silicon Valley' &amp; More\"</a>. <i>TV by the Numbers</i>. <a class=\"external text\" href=\"https://web.archive.org/web/20160901123724/http://tvbythenumbers.zap2it.com/2015/05/05/sunday-cable-ratings-game-of-thrones-tops-night-real-housewives-of-atlanta-silicon-valley-more/399327/\" rel=\"nofollow\">Archived</a> from the original on September 1, 2016<span class=\"reference-accessdate\">. Retrieved <span class=\"nowrap\">May 5,</span> 2015</span>.</cite><span class=\"Z3988\" title=\"ctx_ver=Z39.88-2004&amp;rft_val_fmt=info%3Aofi%2Ffmt%3Akev%3Amtx%3Ajournal&amp;rft.genre=unknown&amp;rft.jtitle=TV+by+the+Numbers&amp;rft.atitle=Sunday+Cable+Ratings%3A+%27Game+of+Thrones%27+Tops+Night+%2B+%27Real+Housewives+of+Atlanta%27%2C+%27Silicon+Valley%27+%26+More&amp;rft.date=2015-05-05&amp;rft.aulast=Kondolojy&amp;rft.aufirst=Amanda&amp;rft_id=http%3A%2F%2Ftvbythenumbers.zap2it.com%2F2015%2F05%2F05%2Fsunday-cable-ratings-game-of-thrones-tops-night-real-housewives-of-atlanta-silicon-valley-more%2F399327%2F&amp;rfr_id=info%3Asid%2Fen.wikipedia.org%3AList+of+Game+of+Thrones+episodes\"></span><link href=\"mw-data:TemplateStyles:r951705291\" rel=\"mw-deduplicated-inline-style\"/></span>\n",
       "</li>\n",
       "<li id=\"cite_note-5.05-65\"><span class=\"mw-cite-backlink\"><b><a href=\"#cite_ref-5.05_65-0\">^</a></b></span> <span class=\"reference-text\"><cite class=\"citation web\" id=\"CITEREFBibel2015\">Bibel, Sara (May 12, 2015). <a class=\"external text\" href=\"http://tvbythenumbers.zap2it.com/2015/05/12/sunday-cable-ratings-game-of-thrones-wins-night-nba-playoffs-silicon-valley-mad-men-the-royals-veep-more/402701/\" rel=\"nofollow\">\"Sunday Cable Ratings: 'Game of Thrones' Wins Night, NBA Playoffs, 'Silicon Valley', 'Mad Men', 'The Royals', 'Veep' &amp; More\"</a>. <i>TV by the Numbers</i>. <a class=\"external text\" href=\"https://web.archive.org/web/20160901123724/http://tvbythenumbers.zap2it.com/2015/05/12/sunday-cable-ratings-game-of-thrones-wins-night-nba-playoffs-silicon-valley-mad-men-the-royals-veep-more/402701/\" rel=\"nofollow\">Archived</a> from the original on September 1, 2016<span class=\"reference-accessdate\">. Retrieved <span class=\"nowrap\">May 12,</span> 2015</span>.</cite><span class=\"Z3988\" title=\"ctx_ver=Z39.88-2004&amp;rft_val_fmt=info%3Aofi%2Ffmt%3Akev%3Amtx%3Ajournal&amp;rft.genre=unknown&amp;rft.jtitle=TV+by+the+Numbers&amp;rft.atitle=Sunday+Cable+Ratings%3A+%27Game+of+Thrones%27+Wins+Night%2C+NBA+Playoffs%2C+%27Silicon+Valley%27%2C+%27Mad+Men%27%2C+%27The+Royals%27%2C+%27Veep%27+%26+More&amp;rft.date=2015-05-12&amp;rft.aulast=Bibel&amp;rft.aufirst=Sara&amp;rft_id=http%3A%2F%2Ftvbythenumbers.zap2it.com%2F2015%2F05%2F12%2Fsunday-cable-ratings-game-of-thrones-wins-night-nba-playoffs-silicon-valley-mad-men-the-royals-veep-more%2F402701%2F&amp;rfr_id=info%3Asid%2Fen.wikipedia.org%3AList+of+Game+of+Thrones+episodes\"></span><link href=\"mw-data:TemplateStyles:r951705291\" rel=\"mw-deduplicated-inline-style\"/></span>\n",
       "</li>\n",
       "<li id=\"cite_note-5.06-66\"><span class=\"mw-cite-backlink\"><b><a href=\"#cite_ref-5.06_66-0\">^</a></b></span> <span class=\"reference-text\"><cite class=\"citation web\" id=\"CITEREFKondolojy2015\">Kondolojy, Amanda (May 19, 2015). <a class=\"external text\" href=\"http://tvbythenumbers.zap2it.com/2015/05/19/sunday-cable-ratings-game-of-thrones-tops-night-keeping-up-with-the-kardashians-mad-men-more/405665/\" rel=\"nofollow\">\"Sunday Cable Ratings: 'Game of Thrones' Tops Night + 'Keeping Up With the Kardashians', 'Mad Men' &amp; More\"</a>. <i>TV by the Numbers</i>. <a class=\"external text\" href=\"https://web.archive.org/web/20160901123724/http://tvbythenumbers.zap2it.com/2015/05/19/sunday-cable-ratings-game-of-thrones-tops-night-keeping-up-with-the-kardashians-mad-men-more/405665/\" rel=\"nofollow\">Archived</a> from the original on September 1, 2016<span class=\"reference-accessdate\">. Retrieved <span class=\"nowrap\">May 19,</span> 2015</span>.</cite><span class=\"Z3988\" title=\"ctx_ver=Z39.88-2004&amp;rft_val_fmt=info%3Aofi%2Ffmt%3Akev%3Amtx%3Ajournal&amp;rft.genre=unknown&amp;rft.jtitle=TV+by+the+Numbers&amp;rft.atitle=Sunday+Cable+Ratings%3A+%27Game+of+Thrones%27+Tops+Night+%2B+%27Keeping+Up+With+the+Kardashians%27%2C+%27Mad+Men%27+%26+More&amp;rft.date=2015-05-19&amp;rft.aulast=Kondolojy&amp;rft.aufirst=Amanda&amp;rft_id=http%3A%2F%2Ftvbythenumbers.zap2it.com%2F2015%2F05%2F19%2Fsunday-cable-ratings-game-of-thrones-tops-night-keeping-up-with-the-kardashians-mad-men-more%2F405665%2F&amp;rfr_id=info%3Asid%2Fen.wikipedia.org%3AList+of+Game+of+Thrones+episodes\"></span><link href=\"mw-data:TemplateStyles:r951705291\" rel=\"mw-deduplicated-inline-style\"/></span>\n",
       "</li>\n",
       "<li id=\"cite_note-5.07-67\"><span class=\"mw-cite-backlink\"><b><a href=\"#cite_ref-5.07_67-0\">^</a></b></span> <span class=\"reference-text\"><cite class=\"citation web\" id=\"CITEREFBibel2015\">Bibel, Sara (May 27, 2015). <a class=\"external text\" href=\"http://tvbythenumbers.zap2it.com/2015/05/27/sunday-cable-ratings-nba-conference-finals-win-night-game-of-thrones-silicon-valley-keeping-up-with-the-kardashians-veep-more/408392/\" rel=\"nofollow\">\"Sunday Cable Ratings: NBA Conference Finals Win Night, 'Game of Thrones', 'Silicon Valley', 'Keeping Up With the Kardashians', 'Veep' &amp; More\"</a>. <i>TV by the Numbers</i>. <a class=\"external text\" href=\"https://web.archive.org/web/20160901123724/http://tvbythenumbers.zap2it.com/2015/05/27/sunday-cable-ratings-nba-conference-finals-win-night-game-of-thrones-silicon-valley-keeping-up-with-the-kardashians-veep-more/408392/\" rel=\"nofollow\">Archived</a> from the original on September 1, 2016<span class=\"reference-accessdate\">. Retrieved <span class=\"nowrap\">May 27,</span> 2015</span>.</cite><span class=\"Z3988\" title=\"ctx_ver=Z39.88-2004&amp;rft_val_fmt=info%3Aofi%2Ffmt%3Akev%3Amtx%3Ajournal&amp;rft.genre=unknown&amp;rft.jtitle=TV+by+the+Numbers&amp;rft.atitle=Sunday+Cable+Ratings%3A+NBA+Conference+Finals+Win+Night%2C+%27Game+of+Thrones%27%2C+%27Silicon+Valley%27%2C+%27Keeping+Up+With+the+Kardashians%27%2C+%27Veep%27+%26+More&amp;rft.date=2015-05-27&amp;rft.aulast=Bibel&amp;rft.aufirst=Sara&amp;rft_id=http%3A%2F%2Ftvbythenumbers.zap2it.com%2F2015%2F05%2F27%2Fsunday-cable-ratings-nba-conference-finals-win-night-game-of-thrones-silicon-valley-keeping-up-with-the-kardashians-veep-more%2F408392%2F&amp;rfr_id=info%3Asid%2Fen.wikipedia.org%3AList+of+Game+of+Thrones+episodes\"></span><link href=\"mw-data:TemplateStyles:r951705291\" rel=\"mw-deduplicated-inline-style\"/></span>\n",
       "</li>\n",
       "<li id=\"cite_note-5.08-68\"><span class=\"mw-cite-backlink\"><b><a href=\"#cite_ref-5.08_68-0\">^</a></b></span> <span class=\"reference-text\"><cite class=\"citation web\" id=\"CITEREFKondolojy2015\">Kondolojy, Amanda (June 2, 2015). <a class=\"external text\" href=\"http://tvbythenumbers.zap2it.com/2015/06/02/sunday-cable-ratings-game-of-thrones-tops-night-keeping-up-with-the-kardashians-silicon-valley-naked-and-afraid-more/411032/\" rel=\"nofollow\">\"Sunday Cable Ratings: 'Game of Thrones' Tops Night + 'Keeping Up With the Kardashians', 'Silicon Valley', 'Naked and Afraid' &amp; More\"</a>. <i>TV by the Numbers</i>. <a class=\"external text\" href=\"https://web.archive.org/web/20160901123724/http://tvbythenumbers.zap2it.com/2015/06/02/sunday-cable-ratings-game-of-thrones-tops-night-keeping-up-with-the-kardashians-silicon-valley-naked-and-afraid-more/411032/\" rel=\"nofollow\">Archived</a> from the original on September 1, 2016<span class=\"reference-accessdate\">. Retrieved <span class=\"nowrap\">June 2,</span> 2015</span>.</cite><span class=\"Z3988\" title=\"ctx_ver=Z39.88-2004&amp;rft_val_fmt=info%3Aofi%2Ffmt%3Akev%3Amtx%3Ajournal&amp;rft.genre=unknown&amp;rft.jtitle=TV+by+the+Numbers&amp;rft.atitle=Sunday+Cable+Ratings%3A+%27Game+of+Thrones%27+Tops+Night+%2B+%27Keeping+Up+With+the+Kardashians%27%2C+%27Silicon+Valley%27%2C+%27Naked+and+Afraid%27+%26+More&amp;rft.date=2015-06-02&amp;rft.aulast=Kondolojy&amp;rft.aufirst=Amanda&amp;rft_id=http%3A%2F%2Ftvbythenumbers.zap2it.com%2F2015%2F06%2F02%2Fsunday-cable-ratings-game-of-thrones-tops-night-keeping-up-with-the-kardashians-silicon-valley-naked-and-afraid-more%2F411032%2F&amp;rfr_id=info%3Asid%2Fen.wikipedia.org%3AList+of+Game+of+Thrones+episodes\"></span><link href=\"mw-data:TemplateStyles:r951705291\" rel=\"mw-deduplicated-inline-style\"/></span>\n",
       "</li>\n",
       "<li id=\"cite_note-5.09-69\"><span class=\"mw-cite-backlink\"><b><a href=\"#cite_ref-5.09_69-0\">^</a></b></span> <span class=\"reference-text\"><cite class=\"citation web\" id=\"CITEREFBibel2015\">Bibel, Sara (June 9, 2015). <a class=\"external text\" href=\"http://tvbythenumbers.zap2it.com/2015/06/09/sunday-cable-ratings-game-of-thrones-wins-night-silicon-valley-naked-afraid-married-to-medicine-veep-more/414320/\" rel=\"nofollow\">\"Sunday Cable Ratings: 'Game of Thrones' Wins Night, 'Silicon Valley', 'Naked &amp; Afraid', 'Married to Medicine', 'Veep' &amp; More\"</a>. <i>TV by the Numbers</i>. <a class=\"external text\" href=\"https://web.archive.org/web/20160901123724/http://tvbythenumbers.zap2it.com/2015/06/09/sunday-cable-ratings-game-of-thrones-wins-night-silicon-valley-naked-afraid-married-to-medicine-veep-more/414320/\" rel=\"nofollow\">Archived</a> from the original on September 1, 2016<span class=\"reference-accessdate\">. Retrieved <span class=\"nowrap\">June 9,</span> 2015</span>.</cite><span class=\"Z3988\" title=\"ctx_ver=Z39.88-2004&amp;rft_val_fmt=info%3Aofi%2Ffmt%3Akev%3Amtx%3Ajournal&amp;rft.genre=unknown&amp;rft.jtitle=TV+by+the+Numbers&amp;rft.atitle=Sunday+Cable+Ratings%3A+%27Game+of+Thrones%27+Wins+Night%2C+%27Silicon+Valley%27%2C+%27Naked+%26+Afraid%27%2C+%27Married+to+Medicine%27%2C+%27Veep%27+%26+More&amp;rft.date=2015-06-09&amp;rft.aulast=Bibel&amp;rft.aufirst=Sara&amp;rft_id=http%3A%2F%2Ftvbythenumbers.zap2it.com%2F2015%2F06%2F09%2Fsunday-cable-ratings-game-of-thrones-wins-night-silicon-valley-naked-afraid-married-to-medicine-veep-more%2F414320%2F&amp;rfr_id=info%3Asid%2Fen.wikipedia.org%3AList+of+Game+of+Thrones+episodes\"></span><link href=\"mw-data:TemplateStyles:r951705291\" rel=\"mw-deduplicated-inline-style\"/></span>\n",
       "</li>\n",
       "<li id=\"cite_note-finale_ratings-70\"><span class=\"mw-cite-backlink\"><b><a href=\"#cite_ref-finale_ratings_70-0\">^</a></b></span> <span class=\"reference-text\"><cite class=\"citation web\" id=\"CITEREFKondolojy2015\">Kondolojy, Amanda (June 16, 2015). <a class=\"external text\" href=\"http://tvbythenumbers.zap2it.com/2015/06/16/sunday-cable-ratings-game-of-thrones-tops-night-silicon-valley-nascar-botched-more/417761/\" rel=\"nofollow\">\"Sunday Cable Ratings: 'Game of Thrones' Tops Night + 'Silicon Valley', NASCAR, 'Botched' &amp; More\"</a>. <i>TV by the Numbers</i>. <a class=\"external text\" href=\"https://web.archive.org/web/20160610161844/http://tvbythenumbers.zap2it.com/2015/06/16/sunday-cable-ratings-game-of-thrones-tops-night-silicon-valley-nascar-botched-more/417761/\" rel=\"nofollow\">Archived</a> from the original on June 10, 2016<span class=\"reference-accessdate\">. Retrieved <span class=\"nowrap\">June 16,</span> 2015</span>.</cite><span class=\"Z3988\" title=\"ctx_ver=Z39.88-2004&amp;rft_val_fmt=info%3Aofi%2Ffmt%3Akev%3Amtx%3Ajournal&amp;rft.genre=unknown&amp;rft.jtitle=TV+by+the+Numbers&amp;rft.atitle=Sunday+Cable+Ratings%3A+%27Game+of+Thrones%27+Tops+Night+%2B+%27Silicon+Valley%27%2C+NASCAR%2C+%27Botched%27+%26+More&amp;rft.date=2015-06-16&amp;rft.aulast=Kondolojy&amp;rft.aufirst=Amanda&amp;rft_id=http%3A%2F%2Ftvbythenumbers.zap2it.com%2F2015%2F06%2F16%2Fsunday-cable-ratings-game-of-thrones-tops-night-silicon-valley-nascar-botched-more%2F417761%2F&amp;rfr_id=info%3Asid%2Fen.wikipedia.org%3AList+of+Game+of+Thrones+episodes\"></span><link href=\"mw-data:TemplateStyles:r951705291\" rel=\"mw-deduplicated-inline-style\"/></span>\n",
       "</li>\n",
       "<li id=\"cite_note-6.01-71\"><span class=\"mw-cite-backlink\"><b><a href=\"#cite_ref-6.01_71-0\">^</a></b></span> <span class=\"reference-text\"><cite class=\"citation web\" id=\"CITEREFPorter2016\">Porter, Rick (April 26, 2016). <a class=\"external text\" href=\"http://tvbythenumbers.zap2it.com/2016/04/26/sunday-cable-ratings-april-24-2016/\" rel=\"nofollow\">\"Sunday cable ratings: 'Game of Thrones' opens slightly lower, still dominant\"</a>. <i><a href=\"/wiki/TV_by_the_Numbers\" title=\"TV by the Numbers\">TV by the Numbers</a></i>. <a class=\"external text\" href=\"https://web.archive.org/web/20160901123724/http://tvbythenumbers.zap2it.com/2016/04/26/sunday-cable-ratings-april-24-2016/\" rel=\"nofollow\">Archived</a> from the original on September 1, 2016<span class=\"reference-accessdate\">. Retrieved <span class=\"nowrap\">April 26,</span> 2016</span>.</cite><span class=\"Z3988\" title=\"ctx_ver=Z39.88-2004&amp;rft_val_fmt=info%3Aofi%2Ffmt%3Akev%3Amtx%3Ajournal&amp;rft.genre=unknown&amp;rft.jtitle=TV+by+the+Numbers&amp;rft.atitle=Sunday+cable+ratings%3A+%27Game+of+Thrones%27+opens+slightly+lower%2C+still+dominant&amp;rft.date=2016-04-26&amp;rft.aulast=Porter&amp;rft.aufirst=Rick&amp;rft_id=http%3A%2F%2Ftvbythenumbers.zap2it.com%2F2016%2F04%2F26%2Fsunday-cable-ratings-april-24-2016%2F&amp;rfr_id=info%3Asid%2Fen.wikipedia.org%3AList+of+Game+of+Thrones+episodes\"></span><link href=\"mw-data:TemplateStyles:r951705291\" rel=\"mw-deduplicated-inline-style\"/></span>\n",
       "</li>\n",
       "<li id=\"cite_note-6.02-72\"><span class=\"mw-cite-backlink\"><b><a href=\"#cite_ref-6.02_72-0\">^</a></b></span> <span class=\"reference-text\"><cite class=\"citation web\" id=\"CITEREFPorter2016\">Porter, Rick (May 3, 2016). <a class=\"external text\" href=\"http://tvbythenumbers.zap2it.com/2016/05/03/sunday-cable-ratings-may-1-2016/\" rel=\"nofollow\">\"Sunday cable ratings: 'Game of Thrones' slips, 'Kardashians' premiere steady\"</a>. <i>TV by the Numbers</i>. <a class=\"external text\" href=\"https://web.archive.org/web/20160901123724/http://tvbythenumbers.zap2it.com/2016/05/03/sunday-cable-ratings-may-1-2016/\" rel=\"nofollow\">Archived</a> from the original on September 1, 2016<span class=\"reference-accessdate\">. Retrieved <span class=\"nowrap\">May 3,</span> 2016</span>.</cite><span class=\"Z3988\" title=\"ctx_ver=Z39.88-2004&amp;rft_val_fmt=info%3Aofi%2Ffmt%3Akev%3Amtx%3Ajournal&amp;rft.genre=unknown&amp;rft.jtitle=TV+by+the+Numbers&amp;rft.atitle=Sunday+cable+ratings%3A+%27Game+of+Thrones%27+slips%2C+%27Kardashians%27+premiere+steady&amp;rft.date=2016-05-03&amp;rft.aulast=Porter&amp;rft.aufirst=Rick&amp;rft_id=http%3A%2F%2Ftvbythenumbers.zap2it.com%2F2016%2F05%2F03%2Fsunday-cable-ratings-may-1-2016%2F&amp;rfr_id=info%3Asid%2Fen.wikipedia.org%3AList+of+Game+of+Thrones+episodes\"></span><link href=\"mw-data:TemplateStyles:r951705291\" rel=\"mw-deduplicated-inline-style\"/></span>\n",
       "</li>\n",
       "<li id=\"cite_note-6.03-73\"><span class=\"mw-cite-backlink\"><b><a href=\"#cite_ref-6.03_73-0\">^</a></b></span> <span class=\"reference-text\"><cite class=\"citation web\" id=\"CITEREFPorter2016\">Porter, Rick (May 10, 2016). <a class=\"external text\" href=\"http://tvbythenumbers.zap2it.com/2016/05/10/sunday-cable-ratings-may-8-2016/\" rel=\"nofollow\">\"Sunday cable ratings: 'Game of Thrones' (very) steady with episode 3\"</a>. <i>TV by the Numbers</i>. <a class=\"external text\" href=\"https://web.archive.org/web/20160901123724/http://tvbythenumbers.zap2it.com/2016/05/10/sunday-cable-ratings-may-8-2016/\" rel=\"nofollow\">Archived</a> from the original on September 1, 2016<span class=\"reference-accessdate\">. Retrieved <span class=\"nowrap\">May 10,</span> 2016</span>.</cite><span class=\"Z3988\" title=\"ctx_ver=Z39.88-2004&amp;rft_val_fmt=info%3Aofi%2Ffmt%3Akev%3Amtx%3Ajournal&amp;rft.genre=unknown&amp;rft.jtitle=TV+by+the+Numbers&amp;rft.atitle=Sunday+cable+ratings%3A+%27Game+of+Thrones%27+%28very%29+steady+with+episode+3&amp;rft.date=2016-05-10&amp;rft.aulast=Porter&amp;rft.aufirst=Rick&amp;rft_id=http%3A%2F%2Ftvbythenumbers.zap2it.com%2F2016%2F05%2F10%2Fsunday-cable-ratings-may-8-2016%2F&amp;rfr_id=info%3Asid%2Fen.wikipedia.org%3AList+of+Game+of+Thrones+episodes\"></span><link href=\"mw-data:TemplateStyles:r951705291\" rel=\"mw-deduplicated-inline-style\"/></span>\n",
       "</li>\n",
       "<li id=\"cite_note-6.04-74\"><span class=\"mw-cite-backlink\"><b><a href=\"#cite_ref-6.04_74-0\">^</a></b></span> <span class=\"reference-text\"><cite class=\"citation web\" id=\"CITEREFPorter2016\">Porter, Rick (May 17, 2016). <a class=\"external text\" href=\"https://web.archive.org/web/20160901123724/http://tvbythenumbers.zap2it.com/2016/05/17/sunday-cable-ratings-game-of-thrones-rises-fear-the-walking-dead-falls/\" rel=\"nofollow\">\"Sunday cable ratings: 'Game of Thrones' rises, 'Fear the Walking Dead' falls\"</a>. <i>TV by the Numbers</i>. Archived from <a class=\"external text\" href=\"http://tvbythenumbers.zap2it.com/2016/05/17/sunday-cable-ratings-game-of-thrones-rises-fear-the-walking-dead-falls/\" rel=\"nofollow\">the original</a> on September 1, 2016<span class=\"reference-accessdate\">. Retrieved <span class=\"nowrap\">May 17,</span> 2016</span>.</cite><span class=\"Z3988\" title=\"ctx_ver=Z39.88-2004&amp;rft_val_fmt=info%3Aofi%2Ffmt%3Akev%3Amtx%3Ajournal&amp;rft.genre=unknown&amp;rft.jtitle=TV+by+the+Numbers&amp;rft.atitle=Sunday+cable+ratings%3A+%27Game+of+Thrones%27+rises%2C+%27Fear+the+Walking+Dead%27+falls&amp;rft.date=2016-05-17&amp;rft.aulast=Porter&amp;rft.aufirst=Rick&amp;rft_id=http%3A%2F%2Ftvbythenumbers.zap2it.com%2F2016%2F05%2F17%2Fsunday-cable-ratings-game-of-thrones-rises-fear-the-walking-dead-falls%2F&amp;rfr_id=info%3Asid%2Fen.wikipedia.org%3AList+of+Game+of+Thrones+episodes\"></span><link href=\"mw-data:TemplateStyles:r951705291\" rel=\"mw-deduplicated-inline-style\"/></span>\n",
       "</li>\n",
       "<li id=\"cite_note-6.05-75\"><span class=\"mw-cite-backlink\"><b><a href=\"#cite_ref-6.05_75-0\">^</a></b></span> <span class=\"reference-text\"><cite class=\"citation web\" id=\"CITEREFPorter2016\">Porter, Rick (May 24, 2016). <a class=\"external text\" href=\"http://tvbythenumbers.zap2it.com/2016/05/24/sunday-cable-ratings-may-22-2016/\" rel=\"nofollow\">\"Sunday cable ratings: 'Preacher' has decent debut, 'Game of Thrones' ties season high\"</a>. <i>TV by the Numbers</i>. <a class=\"external text\" href=\"https://web.archive.org/web/20160901123724/http://tvbythenumbers.zap2it.com/2016/05/24/sunday-cable-ratings-may-22-2016/\" rel=\"nofollow\">Archived</a> from the original on September 1, 2016<span class=\"reference-accessdate\">. Retrieved <span class=\"nowrap\">May 24,</span> 2016</span>.</cite><span class=\"Z3988\" title=\"ctx_ver=Z39.88-2004&amp;rft_val_fmt=info%3Aofi%2Ffmt%3Akev%3Amtx%3Ajournal&amp;rft.genre=unknown&amp;rft.jtitle=TV+by+the+Numbers&amp;rft.atitle=Sunday+cable+ratings%3A+%27Preacher%27+has+decent+debut%2C+%27Game+of+Thrones%27+ties+season+high&amp;rft.date=2016-05-24&amp;rft.aulast=Porter&amp;rft.aufirst=Rick&amp;rft_id=http%3A%2F%2Ftvbythenumbers.zap2it.com%2F2016%2F05%2F24%2Fsunday-cable-ratings-may-22-2016%2F&amp;rfr_id=info%3Asid%2Fen.wikipedia.org%3AList+of+Game+of+Thrones+episodes\"></span><link href=\"mw-data:TemplateStyles:r951705291\" rel=\"mw-deduplicated-inline-style\"/></span>\n",
       "</li>\n",
       "<li id=\"cite_note-6.06-76\"><span class=\"mw-cite-backlink\"><b><a href=\"#cite_ref-6.06_76-0\">^</a></b></span> <span class=\"reference-text\"><cite class=\"citation web\" id=\"CITEREFPorter2016\">Porter, Rick (June 1, 2016). <a class=\"external text\" href=\"http://tvbythenumbers.zap2it.com/2016/06/01/sunday-cable-ratings-may-29-2016/\" rel=\"nofollow\">\"Sunday cable ratings: 'Game of Thrones' hits season low on Memorial Day weekend\"</a>. <i>TV by the Numbers</i>. <a class=\"external text\" href=\"https://web.archive.org/web/20160901123724/http://tvbythenumbers.zap2it.com/2016/06/01/sunday-cable-ratings-may-29-2016/\" rel=\"nofollow\">Archived</a> from the original on September 1, 2016<span class=\"reference-accessdate\">. Retrieved <span class=\"nowrap\">June 1,</span> 2016</span>.</cite><span class=\"Z3988\" title=\"ctx_ver=Z39.88-2004&amp;rft_val_fmt=info%3Aofi%2Ffmt%3Akev%3Amtx%3Ajournal&amp;rft.genre=unknown&amp;rft.jtitle=TV+by+the+Numbers&amp;rft.atitle=Sunday+cable+ratings%3A+%27Game+of+Thrones%27+hits+season+low+on+Memorial+Day+weekend&amp;rft.date=2016-06-01&amp;rft.aulast=Porter&amp;rft.aufirst=Rick&amp;rft_id=http%3A%2F%2Ftvbythenumbers.zap2it.com%2F2016%2F06%2F01%2Fsunday-cable-ratings-may-29-2016%2F&amp;rfr_id=info%3Asid%2Fen.wikipedia.org%3AList+of+Game+of+Thrones+episodes\"></span><link href=\"mw-data:TemplateStyles:r951705291\" rel=\"mw-deduplicated-inline-style\"/></span>\n",
       "</li>\n",
       "<li id=\"cite_note-6.07-77\"><span class=\"mw-cite-backlink\"><b><a href=\"#cite_ref-6.07_77-0\">^</a></b></span> <span class=\"reference-text\"><cite class=\"citation web\" id=\"CITEREFPorter2016\">Porter, Rick (June 7, 2016). <a class=\"external text\" href=\"http://tvbythenumbers.zap2it.com/2016/06/07/sunday-cable-ratings-june-5-2016/\" rel=\"nofollow\">\"Sunday cable ratings: 'Game of Thrones' back to usual numbers, 'Preacher' holds up\"</a>. <i>TV by the Numbers</i>. <a class=\"external text\" href=\"https://web.archive.org/web/20160828033328/http://tvbythenumbers.zap2it.com/2016/06/07/sunday-cable-ratings-june-5-2016/\" rel=\"nofollow\">Archived</a> from the original on August 28, 2016<span class=\"reference-accessdate\">. Retrieved <span class=\"nowrap\">June 7,</span> 2016</span>.</cite><span class=\"Z3988\" title=\"ctx_ver=Z39.88-2004&amp;rft_val_fmt=info%3Aofi%2Ffmt%3Akev%3Amtx%3Ajournal&amp;rft.genre=unknown&amp;rft.jtitle=TV+by+the+Numbers&amp;rft.atitle=Sunday+cable+ratings%3A+%27Game+of+Thrones%27+back+to+usual+numbers%2C+%27Preacher%27+holds+up&amp;rft.date=2016-06-07&amp;rft.aulast=Porter&amp;rft.aufirst=Rick&amp;rft_id=http%3A%2F%2Ftvbythenumbers.zap2it.com%2F2016%2F06%2F07%2Fsunday-cable-ratings-june-5-2016%2F&amp;rfr_id=info%3Asid%2Fen.wikipedia.org%3AList+of+Game+of+Thrones+episodes\"></span><link href=\"mw-data:TemplateStyles:r951705291\" rel=\"mw-deduplicated-inline-style\"/></span>\n",
       "</li>\n",
       "<li id=\"cite_note-6.08-78\"><span class=\"mw-cite-backlink\"><b><a href=\"#cite_ref-6.08_78-0\">^</a></b></span> <span class=\"reference-text\"><cite class=\"citation web\" id=\"CITEREFPorter2016\">Porter, Rick (June 14, 2016). <a class=\"external text\" href=\"http://tvbythenumbers.zap2it.com/2016/06/14/sunday-cable-ratings-june-12-2016/\" rel=\"nofollow\">\"Sunday cable ratings: 'Game of Thrones' and 'Silicon Valley' hold steady\"</a>. <i>TV by the Numbers</i>. <a class=\"external text\" href=\"https://web.archive.org/web/20160901123724/http://tvbythenumbers.zap2it.com/2016/06/14/sunday-cable-ratings-june-12-2016/\" rel=\"nofollow\">Archived</a> from the original on September 1, 2016<span class=\"reference-accessdate\">. Retrieved <span class=\"nowrap\">June 14,</span> 2016</span>.</cite><span class=\"Z3988\" title=\"ctx_ver=Z39.88-2004&amp;rft_val_fmt=info%3Aofi%2Ffmt%3Akev%3Amtx%3Ajournal&amp;rft.genre=unknown&amp;rft.jtitle=TV+by+the+Numbers&amp;rft.atitle=Sunday+cable+ratings%3A+%27Game+of+Thrones%27+and+%27Silicon+Valley%27+hold+steady&amp;rft.date=2016-06-14&amp;rft.aulast=Porter&amp;rft.aufirst=Rick&amp;rft_id=http%3A%2F%2Ftvbythenumbers.zap2it.com%2F2016%2F06%2F14%2Fsunday-cable-ratings-june-12-2016%2F&amp;rfr_id=info%3Asid%2Fen.wikipedia.org%3AList+of+Game+of+Thrones+episodes\"></span><link href=\"mw-data:TemplateStyles:r951705291\" rel=\"mw-deduplicated-inline-style\"/></span>\n",
       "</li>\n",
       "<li id=\"cite_note-6.09-79\"><span class=\"mw-cite-backlink\"><b><a href=\"#cite_ref-6.09_79-0\">^</a></b></span> <span class=\"reference-text\"><cite class=\"citation web\" id=\"CITEREFPorter2016\">Porter, Rick (June 21, 2016). <a class=\"external text\" href=\"http://tvbythenumbers.zap2it.com/2016/06/21/sunday-cable-ratings-june-19-2016/\" rel=\"nofollow\">\"Sunday cable ratings: 'Game of Thrones' holds up opposite NBA Finals\"</a>. <i>TV by the Numbers</i>. <a class=\"external text\" href=\"https://web.archive.org/web/20160915043520/http://tvbythenumbers.zap2it.com/2016/06/21/sunday-cable-ratings-june-19-2016/\" rel=\"nofollow\">Archived</a> from the original on September 15, 2016<span class=\"reference-accessdate\">. Retrieved <span class=\"nowrap\">June 21,</span> 2016</span>.</cite><span class=\"Z3988\" title=\"ctx_ver=Z39.88-2004&amp;rft_val_fmt=info%3Aofi%2Ffmt%3Akev%3Amtx%3Ajournal&amp;rft.genre=unknown&amp;rft.jtitle=TV+by+the+Numbers&amp;rft.atitle=Sunday+cable+ratings%3A+%27Game+of+Thrones%27+holds+up+opposite+NBA+Finals&amp;rft.date=2016-06-21&amp;rft.aulast=Porter&amp;rft.aufirst=Rick&amp;rft_id=http%3A%2F%2Ftvbythenumbers.zap2it.com%2F2016%2F06%2F21%2Fsunday-cable-ratings-june-19-2016%2F&amp;rfr_id=info%3Asid%2Fen.wikipedia.org%3AList+of+Game+of+Thrones+episodes\"></span><link href=\"mw-data:TemplateStyles:r951705291\" rel=\"mw-deduplicated-inline-style\"/></span>\n",
       "</li>\n",
       "<li id=\"cite_note-6.10-80\"><span class=\"mw-cite-backlink\"><b><a href=\"#cite_ref-6.10_80-0\">^</a></b></span> <span class=\"reference-text\"><cite class=\"citation web\" id=\"CITEREFPorter2016\">Porter, Rick (June 28, 2016). <a class=\"external text\" href=\"http://tvbythenumbers.zap2it.com/2016/06/28/sunday-cable-ratings-june-26-2016/\" rel=\"nofollow\">\"Sunday cable ratings: 'Game of Thrones' scores series high with Season 6 finale\"</a>. <i>TV by the Numbers</i>. <a class=\"external text\" href=\"https://web.archive.org/web/20160901123724/http://tvbythenumbers.zap2it.com/2016/06/28/sunday-cable-ratings-june-26-2016/\" rel=\"nofollow\">Archived</a> from the original on September 1, 2016<span class=\"reference-accessdate\">. Retrieved <span class=\"nowrap\">June 28,</span> 2016</span>.</cite><span class=\"Z3988\" title=\"ctx_ver=Z39.88-2004&amp;rft_val_fmt=info%3Aofi%2Ffmt%3Akev%3Amtx%3Ajournal&amp;rft.genre=unknown&amp;rft.jtitle=TV+by+the+Numbers&amp;rft.atitle=Sunday+cable+ratings%3A+%27Game+of+Thrones%27+scores+series+high+with+Season+6+finale&amp;rft.date=2016-06-28&amp;rft.aulast=Porter&amp;rft.aufirst=Rick&amp;rft_id=http%3A%2F%2Ftvbythenumbers.zap2it.com%2F2016%2F06%2F28%2Fsunday-cable-ratings-june-26-2016%2F&amp;rfr_id=info%3Asid%2Fen.wikipedia.org%3AList+of+Game+of+Thrones+episodes\"></span><link href=\"mw-data:TemplateStyles:r951705291\" rel=\"mw-deduplicated-inline-style\"/></span>\n",
       "</li>\n",
       "<li id=\"cite_note-s07e01-81\"><span class=\"mw-cite-backlink\"><b><a href=\"#cite_ref-s07e01_81-0\">^</a></b></span> <span class=\"reference-text\"><cite class=\"citation web\" id=\"CITEREFPorter2017\">Porter, Rick (July 17, 2017). <a class=\"external text\" href=\"http://tvbythenumbers.zap2it.com/daily-ratings/game-of-thrones-scores-series-best-audience-with-season-7-premiere/\" rel=\"nofollow\">\"Sunday cable ratings: 'Game of Thrones' scores series-best audience with Season 7 premiere\"</a>. <i><a href=\"/wiki/TV_by_the_Numbers\" title=\"TV by the Numbers\">TV by the Numbers</a></i>. <a class=\"external text\" href=\"https://web.archive.org/web/20170730232116/http://tvbythenumbers.zap2it.com/daily-ratings/game-of-thrones-scores-series-best-audience-with-season-7-premiere/\" rel=\"nofollow\">Archived</a> from the original on July 30, 2017<span class=\"reference-accessdate\">. Retrieved <span class=\"nowrap\">July 18,</span> 2017</span>.</cite><span class=\"Z3988\" title=\"ctx_ver=Z39.88-2004&amp;rft_val_fmt=info%3Aofi%2Ffmt%3Akev%3Amtx%3Ajournal&amp;rft.genre=unknown&amp;rft.jtitle=TV+by+the+Numbers&amp;rft.atitle=Sunday+cable+ratings%3A+%27Game+of+Thrones%27+scores+series-best+audience+with+Season+7+premiere&amp;rft.date=2017-07-17&amp;rft.aulast=Porter&amp;rft.aufirst=Rick&amp;rft_id=http%3A%2F%2Ftvbythenumbers.zap2it.com%2Fdaily-ratings%2Fgame-of-thrones-scores-series-best-audience-with-season-7-premiere%2F&amp;rfr_id=info%3Asid%2Fen.wikipedia.org%3AList+of+Game+of+Thrones+episodes\"></span><link href=\"mw-data:TemplateStyles:r951705291\" rel=\"mw-deduplicated-inline-style\"/></span>\n",
       "</li>\n",
       "<li id=\"cite_note-s07e02-82\"><span class=\"mw-cite-backlink\"><b><a href=\"#cite_ref-s07e02_82-0\">^</a></b></span> <span class=\"reference-text\"><cite class=\"citation web\" id=\"CITEREFPorter2017\">Porter, Rick (July 25, 2017). <a class=\"external text\" href=\"http://tvbythenumbers.zap2it.com/daily-ratings/sunday-cable-ratings-july-23-2017/\" rel=\"nofollow\">\"Sunday cable ratings: 'Phelps vs. Shark' strong, 'Game of Thrones' boosts 'Ballers,' 'Insecure<span class=\"cs1-kern-right\">'</span>\"</a>. <i><a href=\"/wiki/TV_by_the_Numbers\" title=\"TV by the Numbers\">TV by the Numbers</a></i>. <a class=\"external text\" href=\"https://web.archive.org/web/20170725182750/http://tvbythenumbers.zap2it.com/daily-ratings/sunday-cable-ratings-july-23-2017/\" rel=\"nofollow\">Archived</a> from the original on July 25, 2017<span class=\"reference-accessdate\">. Retrieved <span class=\"nowrap\">July 25,</span> 2017</span>.</cite><span class=\"Z3988\" title=\"ctx_ver=Z39.88-2004&amp;rft_val_fmt=info%3Aofi%2Ffmt%3Akev%3Amtx%3Ajournal&amp;rft.genre=unknown&amp;rft.jtitle=TV+by+the+Numbers&amp;rft.atitle=Sunday+cable+ratings%3A+%27Phelps+vs.+Shark%27+strong%2C+%27Game+of+Thrones%27+boosts+%27Ballers%2C%27+%27Insecure%27&amp;rft.date=2017-07-25&amp;rft.aulast=Porter&amp;rft.aufirst=Rick&amp;rft_id=http%3A%2F%2Ftvbythenumbers.zap2it.com%2Fdaily-ratings%2Fsunday-cable-ratings-july-23-2017%2F&amp;rfr_id=info%3Asid%2Fen.wikipedia.org%3AList+of+Game+of+Thrones+episodes\"></span><link href=\"mw-data:TemplateStyles:r951705291\" rel=\"mw-deduplicated-inline-style\"/></span>\n",
       "</li>\n",
       "<li id=\"cite_note-s07e03-83\"><span class=\"mw-cite-backlink\"><b><a href=\"#cite_ref-s07e03_83-0\">^</a></b></span> <span class=\"reference-text\"><cite class=\"citation web\" id=\"CITEREFPorter2017\">Porter, Rick (August 1, 2017). <a class=\"external text\" href=\"http://tvbythenumbers.zap2it.com/daily-ratings/sunday-cable-ratings-july-30-2017/\" rel=\"nofollow\">\"Sunday cable ratings: 'Rick &amp; Morty' returns strong, more highs for 'Insecure' and 'Ballers<span class=\"cs1-kern-right\">'</span>\"</a>. <i><a href=\"/wiki/TV_by_the_Numbers\" title=\"TV by the Numbers\">TV by the Numbers</a></i>. <a class=\"external text\" href=\"https://web.archive.org/web/20170801193447/http://tvbythenumbers.zap2it.com/daily-ratings/sunday-cable-ratings-july-30-2017/\" rel=\"nofollow\">Archived</a> from the original on August 1, 2017<span class=\"reference-accessdate\">. Retrieved <span class=\"nowrap\">August 1,</span> 2017</span>.</cite><span class=\"Z3988\" title=\"ctx_ver=Z39.88-2004&amp;rft_val_fmt=info%3Aofi%2Ffmt%3Akev%3Amtx%3Ajournal&amp;rft.genre=unknown&amp;rft.jtitle=TV+by+the+Numbers&amp;rft.atitle=Sunday+cable+ratings%3A+%27Rick+%26+Morty%27+returns+strong%2C+more+highs+for+%27Insecure%27+and+%27Ballers%27&amp;rft.date=2017-08-01&amp;rft.aulast=Porter&amp;rft.aufirst=Rick&amp;rft_id=http%3A%2F%2Ftvbythenumbers.zap2it.com%2Fdaily-ratings%2Fsunday-cable-ratings-july-30-2017%2F&amp;rfr_id=info%3Asid%2Fen.wikipedia.org%3AList+of+Game+of+Thrones+episodes\"></span><link href=\"mw-data:TemplateStyles:r951705291\" rel=\"mw-deduplicated-inline-style\"/></span>\n",
       "</li>\n",
       "<li id=\"cite_note-s07e04-84\"><span class=\"mw-cite-backlink\"><b><a href=\"#cite_ref-s07e04_84-0\">^</a></b></span> <span class=\"reference-text\"><cite class=\"citation web\" id=\"CITEREFPorter2017\">Porter, Rick (August 8, 2017). <a class=\"external text\" href=\"http://tvbythenumbers.zap2it.com/daily-ratings/sunday-cable-ratings-aug-6-2017/\" rel=\"nofollow\">\"Sunday cable ratings: 'Sharknado 5' lacks bite, 'Game of Thrones' hits total-viewer high\"</a>. <i><a href=\"/wiki/TV_by_the_Numbers\" title=\"TV by the Numbers\">TV by the Numbers</a></i>. <a class=\"external text\" href=\"https://web.archive.org/web/20170808224152/http://tvbythenumbers.zap2it.com/daily-ratings/sunday-cable-ratings-aug-6-2017/\" rel=\"nofollow\">Archived</a> from the original on August 8, 2017<span class=\"reference-accessdate\">. Retrieved <span class=\"nowrap\">August 8,</span> 2017</span>.</cite><span class=\"Z3988\" title=\"ctx_ver=Z39.88-2004&amp;rft_val_fmt=info%3Aofi%2Ffmt%3Akev%3Amtx%3Ajournal&amp;rft.genre=unknown&amp;rft.jtitle=TV+by+the+Numbers&amp;rft.atitle=Sunday+cable+ratings%3A+%27Sharknado+5%27+lacks+bite%2C+%27Game+of+Thrones%27+hits+total-viewer+high&amp;rft.date=2017-08-08&amp;rft.aulast=Porter&amp;rft.aufirst=Rick&amp;rft_id=http%3A%2F%2Ftvbythenumbers.zap2it.com%2Fdaily-ratings%2Fsunday-cable-ratings-aug-6-2017%2F&amp;rfr_id=info%3Asid%2Fen.wikipedia.org%3AList+of+Game+of+Thrones+episodes\"></span><link href=\"mw-data:TemplateStyles:r951705291\" rel=\"mw-deduplicated-inline-style\"/></span>\n",
       "</li>\n",
       "<li id=\"cite_note-s07e05-85\"><span class=\"mw-cite-backlink\"><b><a href=\"#cite_ref-s07e05_85-0\">^</a></b></span> <span class=\"reference-text\"><cite class=\"citation web\" id=\"CITEREFPorter2017\">Porter, Rick (August 15, 2017). <a class=\"external text\" href=\"http://tvbythenumbers.zap2it.com/daily-ratings/sunday-cable-ratings-aug-13-2017/\" rel=\"nofollow\">\"Sunday cable ratings: 'Game of Thrones' scores another series high\"</a>. <i><a href=\"/wiki/TV_by_the_Numbers\" title=\"TV by the Numbers\">TV by the Numbers</a></i>. <a class=\"external text\" href=\"https://web.archive.org/web/20170815222212/http://tvbythenumbers.zap2it.com/daily-ratings/sunday-cable-ratings-aug-13-2017/\" rel=\"nofollow\">Archived</a> from the original on August 15, 2017<span class=\"reference-accessdate\">. Retrieved <span class=\"nowrap\">August 15,</span> 2017</span>.</cite><span class=\"Z3988\" title=\"ctx_ver=Z39.88-2004&amp;rft_val_fmt=info%3Aofi%2Ffmt%3Akev%3Amtx%3Ajournal&amp;rft.genre=unknown&amp;rft.jtitle=TV+by+the+Numbers&amp;rft.atitle=Sunday+cable+ratings%3A+%E2%80%98Game+of+Thrones%E2%80%99+scores+another+series+high&amp;rft.date=2017-08-15&amp;rft.aulast=Porter&amp;rft.aufirst=Rick&amp;rft_id=http%3A%2F%2Ftvbythenumbers.zap2it.com%2Fdaily-ratings%2Fsunday-cable-ratings-aug-13-2017%2F&amp;rfr_id=info%3Asid%2Fen.wikipedia.org%3AList+of+Game+of+Thrones+episodes\"></span><link href=\"mw-data:TemplateStyles:r951705291\" rel=\"mw-deduplicated-inline-style\"/></span>\n",
       "</li>\n",
       "<li id=\"cite_note-s07e06-86\"><span class=\"mw-cite-backlink\"><b><a href=\"#cite_ref-s07e06_86-0\">^</a></b></span> <span class=\"reference-text\"><cite class=\"citation web\" id=\"CITEREFPorter2017\">Porter, Rick (August 22, 2017). <a class=\"external text\" href=\"http://tvbythenumbers.zap2it.com/daily-ratings/sunday-cable-ratings-aug-20-2017/\" rel=\"nofollow\">\"Sunday cable ratings: 'Survivor's Remorse' premiere steady, 'Game of Thrones' down a little\"</a>. <i><a href=\"/wiki/TV_by_the_Numbers\" title=\"TV by the Numbers\">TV by the Numbers</a></i>. <a class=\"external text\" href=\"https://web.archive.org/web/20170822201353/http://tvbythenumbers.zap2it.com/daily-ratings/sunday-cable-ratings-aug-20-2017/\" rel=\"nofollow\">Archived</a> from the original on August 22, 2017<span class=\"reference-accessdate\">. Retrieved <span class=\"nowrap\">August 22,</span> 2017</span>.</cite><span class=\"Z3988\" title=\"ctx_ver=Z39.88-2004&amp;rft_val_fmt=info%3Aofi%2Ffmt%3Akev%3Amtx%3Ajournal&amp;rft.genre=unknown&amp;rft.jtitle=TV+by+the+Numbers&amp;rft.atitle=Sunday+cable+ratings%3A+%E2%80%98Survivor%E2%80%99s+Remorse%E2%80%99+premiere+steady%2C+%E2%80%98Game+of+Thrones%E2%80%99+down+a+little&amp;rft.date=2017-08-22&amp;rft.aulast=Porter&amp;rft.aufirst=Rick&amp;rft_id=http%3A%2F%2Ftvbythenumbers.zap2it.com%2Fdaily-ratings%2Fsunday-cable-ratings-aug-20-2017%2F&amp;rfr_id=info%3Asid%2Fen.wikipedia.org%3AList+of+Game+of+Thrones+episodes\"></span><link href=\"mw-data:TemplateStyles:r951705291\" rel=\"mw-deduplicated-inline-style\"/></span>\n",
       "</li>\n",
       "<li id=\"cite_note-s07e07-87\"><span class=\"mw-cite-backlink\"><b><a href=\"#cite_ref-s07e07_87-0\">^</a></b></span> <span class=\"reference-text\"><cite class=\"citation web\" id=\"CITEREFPorter2017\">Porter, Rick (August 29, 2017). <a class=\"external text\" href=\"http://tvbythenumbers.zap2it.com/daily-ratings/sunday-cable-ratings-aug-27-2017/\" rel=\"nofollow\">\"Sunday cable ratings: VMAs hit all-time low opposite 'Game of Thrones' finale\"</a>. <i><a href=\"/wiki/TV_by_the_Numbers\" title=\"TV by the Numbers\">TV by the Numbers</a></i>. <a class=\"external text\" href=\"https://web.archive.org/web/20170829203817/http://tvbythenumbers.zap2it.com/daily-ratings/sunday-cable-ratings-aug-27-2017/\" rel=\"nofollow\">Archived</a> from the original on August 29, 2017<span class=\"reference-accessdate\">. Retrieved <span class=\"nowrap\">August 29,</span> 2017</span>.</cite><span class=\"Z3988\" title=\"ctx_ver=Z39.88-2004&amp;rft_val_fmt=info%3Aofi%2Ffmt%3Akev%3Amtx%3Ajournal&amp;rft.genre=unknown&amp;rft.jtitle=TV+by+the+Numbers&amp;rft.atitle=Sunday+cable+ratings%3A+VMAs+hit+all-time+low+opposite+%E2%80%98Game+of+Thrones%E2%80%99+finale&amp;rft.date=2017-08-29&amp;rft.aulast=Porter&amp;rft.aufirst=Rick&amp;rft_id=http%3A%2F%2Ftvbythenumbers.zap2it.com%2Fdaily-ratings%2Fsunday-cable-ratings-aug-27-2017%2F&amp;rfr_id=info%3Asid%2Fen.wikipedia.org%3AList+of+Game+of+Thrones+episodes\"></span><link href=\"mw-data:TemplateStyles:r951705291\" rel=\"mw-deduplicated-inline-style\"/></span>\n",
       "</li>\n",
       "<li id=\"cite_note-8.01-88\"><span class=\"mw-cite-backlink\"><b><a href=\"#cite_ref-8.01_88-0\">^</a></b></span> <span class=\"reference-text\"><cite class=\"citation web\" id=\"CITEREFWelch2019\">Welch, Alex (April 16, 2019). <a class=\"external text\" href=\"https://tvbythenumbers.zap2it.com/daily-ratings/sunday-cable-ratings-april-14-2019/\" rel=\"nofollow\">\"Sunday cable ratings: 'Game of Thrones' season 8 premiere hits new series high\"</a>. <i><a href=\"/wiki/TV_by_the_Numbers\" title=\"TV by the Numbers\">TV by the Numbers</a></i><span class=\"reference-accessdate\">. Retrieved <span class=\"nowrap\">April 16,</span> 2019</span>.</cite><span class=\"Z3988\" title=\"ctx_ver=Z39.88-2004&amp;rft_val_fmt=info%3Aofi%2Ffmt%3Akev%3Amtx%3Ajournal&amp;rft.genre=unknown&amp;rft.jtitle=TV+by+the+Numbers&amp;rft.atitle=Sunday+cable+ratings%3A+%27Game+of+Thrones%27+season+8+premiere+hits+new+series+high&amp;rft.date=2019-04-16&amp;rft.aulast=Welch&amp;rft.aufirst=Alex&amp;rft_id=https%3A%2F%2Ftvbythenumbers.zap2it.com%2Fdaily-ratings%2Fsunday-cable-ratings-april-14-2019%2F&amp;rfr_id=info%3Asid%2Fen.wikipedia.org%3AList+of+Game+of+Thrones+episodes\"></span><link href=\"mw-data:TemplateStyles:r951705291\" rel=\"mw-deduplicated-inline-style\"/></span>\n",
       "</li>\n",
       "<li id=\"cite_note-8.02-89\"><span class=\"mw-cite-backlink\"><b><a href=\"#cite_ref-8.02_89-0\">^</a></b></span> <span class=\"reference-text\"><cite class=\"citation web\" id=\"CITEREFWelch2019\">Welch, Alex (April 23, 2019). <a class=\"external text\" href=\"https://tvbythenumbers.zap2it.com/daily-ratings/sunday-cable-ratings-april-21-2019/\" rel=\"nofollow\">\"Sunday cable ratings: 'Game of Thrones' slips, 'Barry' hits another high\"</a>. <i>TV by the Numbers</i><span class=\"reference-accessdate\">. Retrieved <span class=\"nowrap\">April 23,</span> 2019</span>.</cite><span class=\"Z3988\" title=\"ctx_ver=Z39.88-2004&amp;rft_val_fmt=info%3Aofi%2Ffmt%3Akev%3Amtx%3Ajournal&amp;rft.genre=unknown&amp;rft.jtitle=TV+by+the+Numbers&amp;rft.atitle=Sunday+cable+ratings%3A+%27Game+of+Thrones%27+slips%2C+%27Barry%27+hits+another+high&amp;rft.date=2019-04-23&amp;rft.aulast=Welch&amp;rft.aufirst=Alex&amp;rft_id=https%3A%2F%2Ftvbythenumbers.zap2it.com%2Fdaily-ratings%2Fsunday-cable-ratings-april-21-2019%2F&amp;rfr_id=info%3Asid%2Fen.wikipedia.org%3AList+of+Game+of+Thrones+episodes\"></span><link href=\"mw-data:TemplateStyles:r951705291\" rel=\"mw-deduplicated-inline-style\"/></span>\n",
       "</li>\n",
       "<li id=\"cite_note-8.03-90\"><span class=\"mw-cite-backlink\"><b><a href=\"#cite_ref-8.03_90-0\">^</a></b></span> <span class=\"reference-text\"><cite class=\"citation web\" id=\"CITEREFWelch2019\">Welch, Alex (April 30, 2019). <a class=\"external text\" href=\"https://tvbythenumbers.zap2it.com/daily-ratings/sunday-cable-ratings-april-28-2019/\" rel=\"nofollow\">\"Sunday cable ratings: 'Game of Thrones' rises to another series high\"</a>. <i>TV by the Numbers</i><span class=\"reference-accessdate\">. Retrieved <span class=\"nowrap\">April 30,</span> 2019</span>.</cite><span class=\"Z3988\" title=\"ctx_ver=Z39.88-2004&amp;rft_val_fmt=info%3Aofi%2Ffmt%3Akev%3Amtx%3Ajournal&amp;rft.genre=unknown&amp;rft.jtitle=TV+by+the+Numbers&amp;rft.atitle=Sunday+cable+ratings%3A+%27Game+of+Thrones%27+rises+to+another+series+high&amp;rft.date=2019-04-30&amp;rft.aulast=Welch&amp;rft.aufirst=Alex&amp;rft_id=https%3A%2F%2Ftvbythenumbers.zap2it.com%2Fdaily-ratings%2Fsunday-cable-ratings-april-28-2019%2F&amp;rfr_id=info%3Asid%2Fen.wikipedia.org%3AList+of+Game+of+Thrones+episodes\"></span><link href=\"mw-data:TemplateStyles:r951705291\" rel=\"mw-deduplicated-inline-style\"/></span>\n",
       "</li>\n",
       "<li id=\"cite_note-8.04-91\"><span class=\"mw-cite-backlink\"><b><a href=\"#cite_ref-8.04_91-0\">^</a></b></span> <span class=\"reference-text\"><cite class=\"citation web\" id=\"CITEREFWelch2019\">Welch, Alex (May 7, 2019). <a class=\"external text\" href=\"https://tvbythenumbers.zap2it.com/daily-ratings/sunday-cable-ratings-may-5-2019/\" rel=\"nofollow\">\"Sunday cable ratings: 'Game of Thrones' stays high, 'Barry' dips\"</a>. <i>TV by the Numbers</i><span class=\"reference-accessdate\">. Retrieved <span class=\"nowrap\">May 7,</span> 2019</span>.</cite><span class=\"Z3988\" title=\"ctx_ver=Z39.88-2004&amp;rft_val_fmt=info%3Aofi%2Ffmt%3Akev%3Amtx%3Ajournal&amp;rft.genre=unknown&amp;rft.jtitle=TV+by+the+Numbers&amp;rft.atitle=Sunday+cable+ratings%3A+%27Game+of+Thrones%27+stays+high%2C+%27Barry%27+dips&amp;rft.date=2019-05-07&amp;rft.aulast=Welch&amp;rft.aufirst=Alex&amp;rft_id=https%3A%2F%2Ftvbythenumbers.zap2it.com%2Fdaily-ratings%2Fsunday-cable-ratings-may-5-2019%2F&amp;rfr_id=info%3Asid%2Fen.wikipedia.org%3AList+of+Game+of+Thrones+episodes\"></span><link href=\"mw-data:TemplateStyles:r951705291\" rel=\"mw-deduplicated-inline-style\"/></span>\n",
       "</li>\n",
       "<li id=\"cite_note-8.05-92\"><span class=\"mw-cite-backlink\"><b><a href=\"#cite_ref-8.05_92-0\">^</a></b></span> <span class=\"reference-text\"><cite class=\"citation web\" id=\"CITEREFWelch2019\">Welch, Alex (May 14, 2019). <a class=\"external text\" href=\"https://tvbythenumbers.zap2it.com/daily-ratings/sunday-cable-ratings-may-12-2019/\" rel=\"nofollow\">\"Sunday cable ratings: 'Game of Thrones' hits new highs (again), 'Veep' finale holds steady\"</a>. <i>TV by the Numbers</i><span class=\"reference-accessdate\">. Retrieved <span class=\"nowrap\">May 14,</span> 2019</span>.</cite><span class=\"Z3988\" title=\"ctx_ver=Z39.88-2004&amp;rft_val_fmt=info%3Aofi%2Ffmt%3Akev%3Amtx%3Ajournal&amp;rft.genre=unknown&amp;rft.jtitle=TV+by+the+Numbers&amp;rft.atitle=Sunday+cable+ratings%3A+%27Game+of+Thrones%27+hits+new+highs+%28again%29%2C+%27Veep%27+finale+holds+steady&amp;rft.date=2019-05-14&amp;rft.aulast=Welch&amp;rft.aufirst=Alex&amp;rft_id=https%3A%2F%2Ftvbythenumbers.zap2it.com%2Fdaily-ratings%2Fsunday-cable-ratings-may-12-2019%2F&amp;rfr_id=info%3Asid%2Fen.wikipedia.org%3AList+of+Game+of+Thrones+episodes\"></span><link href=\"mw-data:TemplateStyles:r951705291\" rel=\"mw-deduplicated-inline-style\"/></span>\n",
       "</li>\n",
       "<li id=\"cite_note-8.06-93\"><span class=\"mw-cite-backlink\"><b><a href=\"#cite_ref-8.06_93-0\">^</a></b></span> <span class=\"reference-text\"><cite class=\"citation web\" id=\"CITEREFWelch2019\">Welch, Alex (May 21, 2019). <a class=\"external text\" href=\"https://tvbythenumbers.zap2it.com/uncategorized/sunday-cable-ratings-may-19-2019/\" rel=\"nofollow\">\"Sunday cable ratings: 'Game of Thrones' series finale sets new records\"</a>. <i>TV by the Numbers</i><span class=\"reference-accessdate\">. Retrieved <span class=\"nowrap\">May 21,</span> 2019</span>.</cite><span class=\"Z3988\" title=\"ctx_ver=Z39.88-2004&amp;rft_val_fmt=info%3Aofi%2Ffmt%3Akev%3Amtx%3Ajournal&amp;rft.genre=unknown&amp;rft.jtitle=TV+by+the+Numbers&amp;rft.atitle=Sunday+cable+ratings%3A+%27Game+of+Thrones%27+series+finale+sets+new+records&amp;rft.date=2019-05-21&amp;rft.aulast=Welch&amp;rft.aufirst=Alex&amp;rft_id=https%3A%2F%2Ftvbythenumbers.zap2it.com%2Funcategorized%2Fsunday-cable-ratings-may-19-2019%2F&amp;rfr_id=info%3Asid%2Fen.wikipedia.org%3AList+of+Game+of+Thrones+episodes\"></span><link href=\"mw-data:TemplateStyles:r951705291\" rel=\"mw-deduplicated-inline-style\"/></span>\n",
       "</li>\n",
       "<li id=\"cite_note-94\"><span class=\"mw-cite-backlink\"><b><a href=\"#cite_ref-94\">^</a></b></span> <span class=\"reference-text\"><cite class=\"citation news\" id=\"CITEREFHibberd2015\">Hibberd, James (January 19, 2015). <a class=\"external text\" href=\"http://insidetv.ew.com/2015/01/19/game-of-thrones-season-5-special/\" rel=\"nofollow\">\"<span class=\"cs1-kern-left\">'</span>Game of Thrones' season 5 'mystery' special details revealed – exclusive\"</a>. <i>Entertainment Weekly</i><span class=\"reference-accessdate\">. Retrieved <span class=\"nowrap\">January 19,</span> 2015</span>.</cite><span class=\"Z3988\" title=\"ctx_ver=Z39.88-2004&amp;rft_val_fmt=info%3Aofi%2Ffmt%3Akev%3Amtx%3Ajournal&amp;rft.genre=article&amp;rft.jtitle=Entertainment+Weekly&amp;rft.atitle=%27Game+of+Thrones%27+season+5+%27mystery%27+special+details+revealed+%E2%80%93+exclusive&amp;rft.date=2015-01-19&amp;rft.aulast=Hibberd&amp;rft.aufirst=James&amp;rft_id=http%3A%2F%2Finsidetv.ew.com%2F2015%2F01%2F19%2Fgame-of-thrones-season-5-special%2F&amp;rfr_id=info%3Asid%2Fen.wikipedia.org%3AList+of+Game+of+Thrones+episodes\"></span><link href=\"mw-data:TemplateStyles:r951705291\" rel=\"mw-deduplicated-inline-style\"/></span>\n",
       "</li>\n",
       "<li id=\"cite_note-95\"><span class=\"mw-cite-backlink\"><b><a href=\"#cite_ref-95\">^</a></b></span> <span class=\"reference-text\"><cite class=\"citation web\" id=\"CITEREFWigler2019\">Wigler, Josh (March 27, 2019). <a class=\"external text\" href=\"https://www.hollywoodreporter.com/live-feed/game-thrones-final-season-documentary-last-watch-lands-hbo-1197577/\" rel=\"nofollow\">\"Game of Thrones final season: HBO announces final season documentary\"</a>. <i><a href=\"/wiki/The_Hollywood_Reporter\" title=\"The Hollywood Reporter\">The Hollywood Reporter</a></i><span class=\"reference-accessdate\">. Retrieved <span class=\"nowrap\">March 28,</span> 2019</span>.</cite><span class=\"Z3988\" title=\"ctx_ver=Z39.88-2004&amp;rft_val_fmt=info%3Aofi%2Ffmt%3Akev%3Amtx%3Ajournal&amp;rft.genre=unknown&amp;rft.jtitle=The+Hollywood+Reporter&amp;rft.atitle=Game+of+Thrones+final+season%3A+HBO+announces+final+season+documentary&amp;rft.date=2019-03-27&amp;rft.aulast=Wigler&amp;rft.aufirst=Josh&amp;rft_id=https%3A%2F%2Fwww.hollywoodreporter.com%2Flive-feed%2Fgame-thrones-final-season-documentary-last-watch-lands-hbo-1197577%2F&amp;rfr_id=info%3Asid%2Fen.wikipedia.org%3AList+of+Game+of+Thrones+episodes\"></span><link href=\"mw-data:TemplateStyles:r951705291\" rel=\"mw-deduplicated-inline-style\"/></span>\n",
       "</li>\n",
       "<li id=\"cite_note-96\"><span class=\"mw-cite-backlink\"><b><a href=\"#cite_ref-96\">^</a></b></span> <span class=\"reference-text\"><cite class=\"citation web\" id=\"CITEREFWelch2019\">Welch, Alex (May 29, 2019). <a class=\"external text\" href=\"https://tvbythenumbers.zap2it.com/daily-ratings/sunday-cable-ratings-may-26-2019/\" rel=\"nofollow\">\"Sunday cable ratings: 'Game of Thrones: The Last Watch' leads, 'Killing Eve' finale slips\"</a>. <i>TV by the Numbers</i><span class=\"reference-accessdate\">. Retrieved <span class=\"nowrap\">May 29,</span> 2019</span>.</cite><span class=\"Z3988\" title=\"ctx_ver=Z39.88-2004&amp;rft_val_fmt=info%3Aofi%2Ffmt%3Akev%3Amtx%3Ajournal&amp;rft.genre=unknown&amp;rft.jtitle=TV+by+the+Numbers&amp;rft.atitle=Sunday+cable+ratings%3A+%E2%80%98Game+of+Thrones%3A+The+Last+Watch%E2%80%99+leads%2C+%E2%80%98Killing+Eve%E2%80%99+finale+slips&amp;rft.date=2019-05-29&amp;rft.aulast=Welch&amp;rft.aufirst=Alex&amp;rft_id=https%3A%2F%2Ftvbythenumbers.zap2it.com%2Fdaily-ratings%2Fsunday-cable-ratings-may-26-2019%2F&amp;rfr_id=info%3Asid%2Fen.wikipedia.org%3AList+of+Game+of+Thrones+episodes\"></span><link href=\"mw-data:TemplateStyles:r951705291\" rel=\"mw-deduplicated-inline-style\"/></span>\n",
       "</li>\n",
       "<li id=\"cite_note-97\"><span class=\"mw-cite-backlink\"><b><a href=\"#cite_ref-97\">^</a></b></span> <span class=\"reference-text\"><cite class=\"citation web\" id=\"CITEREFLambert2011\">Lambert, David (December 5, 2011). <a class=\"external text\" href=\"https://web.archive.org/web/20160901123724/http://www.tvshowsondvd.com/news/Game-Thrones-Season-1-Press-Release/16277\" rel=\"nofollow\">\"Game of Thrones – HBO's Official Press Release with Full Details of The Complete 1st Season on DVD, Blu-ray\"</a>. <a href=\"/wiki/TVShowsOnDVD.com\" title=\"TVShowsOnDVD.com\">TVShowsOnDVD.com</a>. Archived from <a class=\"external text\" href=\"http://www.tvshowsondvd.com/news/Game-Thrones-Season-1-Press-Release/16277\" rel=\"nofollow\">the original</a> on September 1, 2016<span class=\"reference-accessdate\">. Retrieved <span class=\"nowrap\">February 3,</span> 2012</span>.</cite><span class=\"Z3988\" title=\"ctx_ver=Z39.88-2004&amp;rft_val_fmt=info%3Aofi%2Ffmt%3Akev%3Amtx%3Abook&amp;rft.genre=unknown&amp;rft.btitle=Game+of+Thrones+%E2%80%93+HBO%27s+Official+Press+Release+with+Full+Details+of+The+Complete+1st+Season+on+DVD%2C+Blu-ray&amp;rft.pub=TVShowsOnDVD.com&amp;rft.date=2011-12-05&amp;rft.aulast=Lambert&amp;rft.aufirst=David&amp;rft_id=http%3A%2F%2Fwww.tvshowsondvd.com%2Fnews%2FGame-Thrones-Season-1-Press-Release%2F16277&amp;rfr_id=info%3Asid%2Fen.wikipedia.org%3AList+of+Game+of+Thrones+episodes\"></span><link href=\"mw-data:TemplateStyles:r951705291\" rel=\"mw-deduplicated-inline-style\"/></span>\n",
       "</li>\n",
       "<li id=\"cite_note-98\"><span class=\"mw-cite-backlink\"><b><a href=\"#cite_ref-98\">^</a></b></span> <span class=\"reference-text\"><cite class=\"citation web\"><a class=\"external text\" href=\"https://www.amazon.co.uk/Game-Thrones-Season-1-DVD/dp/B004LRO176/\" rel=\"nofollow\">\"Game of Thrones - Season 1 [DVD] [2012]\"</a>. <i>Amazon.co.uk</i>. <a class=\"external text\" href=\"https://web.archive.org/web/20160619023517/https://www.amazon.co.uk/Game-Thrones-Season-1-DVD/dp/B004LRO176\" rel=\"nofollow\">Archived</a> from the original on June 19, 2016<span class=\"reference-accessdate\">. Retrieved <span class=\"nowrap\">November 14,</span> 2016</span>.</cite><span class=\"Z3988\" title=\"ctx_ver=Z39.88-2004&amp;rft_val_fmt=info%3Aofi%2Ffmt%3Akev%3Amtx%3Ajournal&amp;rft.genre=unknown&amp;rft.jtitle=Amazon.co.uk&amp;rft.atitle=Game+of+Thrones+-+Season+1+%5BDVD%5D+%5B2012%5D&amp;rft_id=https%3A%2F%2Fwww.amazon.co.uk%2FGame-Thrones-Season-1-DVD%2Fdp%2FB004LRO176%2F&amp;rfr_id=info%3Asid%2Fen.wikipedia.org%3AList+of+Game+of+Thrones+episodes\"></span><link href=\"mw-data:TemplateStyles:r951705291\" rel=\"mw-deduplicated-inline-style\"/></span>\n",
       "</li>\n",
       "<li id=\"cite_note-99\"><span class=\"mw-cite-backlink\"><b><a href=\"#cite_ref-99\">^</a></b></span> <span class=\"reference-text\"><cite class=\"citation web\"><a class=\"external text\" href=\"https://www.jbhifi.com.au/movies-tv-shows/movies-tv-shows-on-sale/tv-fantasy/game-of-thrones-season-1/291196/\" rel=\"nofollow\">\"Game Of Thrones - Season 1\"</a>. <i>jbhifi.com.au</i>. <a class=\"external text\" href=\"https://web.archive.org/web/20161114014955/https://www.jbhifi.com.au/movies-tv-shows/movies-tv-shows-on-sale/tv-fantasy/game-of-thrones-season-1/291196/\" rel=\"nofollow\">Archived</a> from the original on November 14, 2016<span class=\"reference-accessdate\">. Retrieved <span class=\"nowrap\">November 14,</span> 2016</span>.</cite><span class=\"Z3988\" title=\"ctx_ver=Z39.88-2004&amp;rft_val_fmt=info%3Aofi%2Ffmt%3Akev%3Amtx%3Ajournal&amp;rft.genre=unknown&amp;rft.jtitle=jbhifi.com.au&amp;rft.atitle=Game+Of+Thrones+-+Season+1&amp;rft_id=https%3A%2F%2Fwww.jbhifi.com.au%2Fmovies-tv-shows%2Fmovies-tv-shows-on-sale%2Ftv-fantasy%2Fgame-of-thrones-season-1%2F291196%2F&amp;rfr_id=info%3Asid%2Fen.wikipedia.org%3AList+of+Game+of+Thrones+episodes\"></span><link href=\"mw-data:TemplateStyles:r951705291\" rel=\"mw-deduplicated-inline-style\"/></span>\n",
       "</li>\n",
       "<li id=\"cite_note-100\"><span class=\"mw-cite-backlink\"><b><a href=\"#cite_ref-100\">^</a></b></span> <span class=\"reference-text\"><cite class=\"citation web\" id=\"CITEREFLambert2012\">Lambert, David (November 19, 2012). <a class=\"external text\" href=\"https://web.archive.org/web/20160901123724/http://www.tvshowsondvd.com/news/Game-Thrones-Season-2/17767\" rel=\"nofollow\">\"Game of Thrones – Winter is Coming, with The Complete 2nd Season: Date, Extras, Boxes!\"</a>. TVShowsOnDVD.com. Archived from <a class=\"external text\" href=\"http://www.tvshowsondvd.com/news/Game-Thrones-Season-2/17767\" rel=\"nofollow\">the original</a> on September 1, 2016<span class=\"reference-accessdate\">. Retrieved <span class=\"nowrap\">November 20,</span> 2012</span>.</cite><span class=\"Z3988\" title=\"ctx_ver=Z39.88-2004&amp;rft_val_fmt=info%3Aofi%2Ffmt%3Akev%3Amtx%3Abook&amp;rft.genre=unknown&amp;rft.btitle=Game+of+Thrones+%E2%80%93+Winter+is+Coming%2C+with+The+Complete+2nd+Season%3A+Date%2C+Extras%2C+Boxes%21&amp;rft.pub=TVShowsOnDVD.com&amp;rft.date=2012-11-19&amp;rft.aulast=Lambert&amp;rft.aufirst=David&amp;rft_id=http%3A%2F%2Fwww.tvshowsondvd.com%2Fnews%2FGame-Thrones-Season-2%2F17767&amp;rfr_id=info%3Asid%2Fen.wikipedia.org%3AList+of+Game+of+Thrones+episodes\"></span><link href=\"mw-data:TemplateStyles:r951705291\" rel=\"mw-deduplicated-inline-style\"/></span>\n",
       "</li>\n",
       "<li id=\"cite_note-101\"><span class=\"mw-cite-backlink\"><b><a href=\"#cite_ref-101\">^</a></b></span> <span class=\"reference-text\"><cite class=\"citation web\"><a class=\"external text\" href=\"https://www.amazon.co.uk/d/DVD-Blu-ray/Game-Thrones-Season-2-2013-Lena-Headey/B005PN8BUS/\" rel=\"nofollow\">\"Game of Thrones - Season 2 [DVD] [2013]\"</a>. <i>Amazon.co.uk</i>. <a class=\"external text\" href=\"https://web.archive.org/web/20161114015044/https://www.amazon.co.uk/d/DVD-Blu-ray/Game-Thrones-Season-2-2013-Lena-Headey/B005PN8BUS/\" rel=\"nofollow\">Archived</a> from the original on November 14, 2016<span class=\"reference-accessdate\">. Retrieved <span class=\"nowrap\">November 14,</span> 2016</span>.</cite><span class=\"Z3988\" title=\"ctx_ver=Z39.88-2004&amp;rft_val_fmt=info%3Aofi%2Ffmt%3Akev%3Amtx%3Ajournal&amp;rft.genre=unknown&amp;rft.jtitle=Amazon.co.uk&amp;rft.atitle=Game+of+Thrones+-+Season+2+%5BDVD%5D+%5B2013%5D&amp;rft_id=https%3A%2F%2Fwww.amazon.co.uk%2Fd%2FDVD-Blu-ray%2FGame-Thrones-Season-2-2013-Lena-Headey%2FB005PN8BUS%2F&amp;rfr_id=info%3Asid%2Fen.wikipedia.org%3AList+of+Game+of+Thrones+episodes\"></span><link href=\"mw-data:TemplateStyles:r951705291\" rel=\"mw-deduplicated-inline-style\"/></span>\n",
       "</li>\n",
       "<li id=\"cite_note-102\"><span class=\"mw-cite-backlink\"><b><a href=\"#cite_ref-102\">^</a></b></span> <span class=\"reference-text\"><cite class=\"citation web\"><a class=\"external text\" href=\"https://www.jbhifi.com.au/movies-tv-shows/movies-tv-shows-on-sale/tv-fantasy/game-of-thrones-season-2/393699/\" rel=\"nofollow\">\"Game Of Thrones - Season 2\"</a>. <i>jbhifi.com.au</i>. <a class=\"external text\" href=\"https://web.archive.org/web/20161114015145/https://www.jbhifi.com.au/movies-tv-shows/movies-tv-shows-on-sale/tv-fantasy/game-of-thrones-season-2/393699/\" rel=\"nofollow\">Archived</a> from the original on November 14, 2016<span class=\"reference-accessdate\">. Retrieved <span class=\"nowrap\">November 14,</span> 2016</span>.</cite><span class=\"Z3988\" title=\"ctx_ver=Z39.88-2004&amp;rft_val_fmt=info%3Aofi%2Ffmt%3Akev%3Amtx%3Ajournal&amp;rft.genre=unknown&amp;rft.jtitle=jbhifi.com.au&amp;rft.atitle=Game+Of+Thrones+-+Season+2&amp;rft_id=https%3A%2F%2Fwww.jbhifi.com.au%2Fmovies-tv-shows%2Fmovies-tv-shows-on-sale%2Ftv-fantasy%2Fgame-of-thrones-season-2%2F393699%2F&amp;rfr_id=info%3Asid%2Fen.wikipedia.org%3AList+of+Game+of+Thrones+episodes\"></span><link href=\"mw-data:TemplateStyles:r951705291\" rel=\"mw-deduplicated-inline-style\"/></span>\n",
       "</li>\n",
       "<li id=\"cite_note-103\"><span class=\"mw-cite-backlink\"><b><a href=\"#cite_ref-103\">^</a></b></span> <span class=\"reference-text\"><cite class=\"citation web\" id=\"CITEREFLambert2013\">Lambert, David (June 24, 2013). <a class=\"external text\" href=\"https://web.archive.org/web/20160901123724/http://tvshowsondvd.com/news/Game-Thrones-Season-3/18611\" rel=\"nofollow\">\"Game of Thrones – 2014 Release Date, Package Art for The Complete 3rd Season, on DVD, Blu\"</a>. TVShowsOnDVD.com. Archived from <a class=\"external text\" href=\"http://tvshowsondvd.com/news/Game-Thrones-Season-3/18611\" rel=\"nofollow\">the original</a> on September 1, 2016<span class=\"reference-accessdate\">. Retrieved <span class=\"nowrap\">June 25,</span> 2013</span>.</cite><span class=\"Z3988\" title=\"ctx_ver=Z39.88-2004&amp;rft_val_fmt=info%3Aofi%2Ffmt%3Akev%3Amtx%3Abook&amp;rft.genre=unknown&amp;rft.btitle=Game+of+Thrones+%E2%80%93+2014+Release+Date%2C+Package+Art+for+The+Complete+3rd+Season%2C+on+DVD%2C+Blu&amp;rft.pub=TVShowsOnDVD.com&amp;rft.date=2013-06-24&amp;rft.aulast=Lambert&amp;rft.aufirst=David&amp;rft_id=http%3A%2F%2Ftvshowsondvd.com%2Fnews%2FGame-Thrones-Season-3%2F18611&amp;rfr_id=info%3Asid%2Fen.wikipedia.org%3AList+of+Game+of+Thrones+episodes\"></span><link href=\"mw-data:TemplateStyles:r951705291\" rel=\"mw-deduplicated-inline-style\"/></span>\n",
       "</li>\n",
       "<li id=\"cite_note-104\"><span class=\"mw-cite-backlink\"><b><a href=\"#cite_ref-104\">^</a></b></span> <span class=\"reference-text\"><cite class=\"citation web\"><a class=\"external text\" href=\"https://www.amazon.co.uk/Game-Thrones-Season-3-DVD/dp/B00AQGE43M/\" rel=\"nofollow\">\"Game of Thrones - Season 3 [DVD] [2014]\"</a>. <i>Amazon.co.uk</i>. <a class=\"external text\" href=\"https://web.archive.org/web/20160619024301/https://www.amazon.co.uk/Game-Thrones-Season-3-DVD/dp/B00AQGE43M\" rel=\"nofollow\">Archived</a> from the original on June 19, 2016<span class=\"reference-accessdate\">. Retrieved <span class=\"nowrap\">November 14,</span> 2016</span>.</cite><span class=\"Z3988\" title=\"ctx_ver=Z39.88-2004&amp;rft_val_fmt=info%3Aofi%2Ffmt%3Akev%3Amtx%3Ajournal&amp;rft.genre=unknown&amp;rft.jtitle=Amazon.co.uk&amp;rft.atitle=Game+of+Thrones+-+Season+3+%5BDVD%5D+%5B2014%5D&amp;rft_id=https%3A%2F%2Fwww.amazon.co.uk%2FGame-Thrones-Season-3-DVD%2Fdp%2FB00AQGE43M%2F&amp;rfr_id=info%3Asid%2Fen.wikipedia.org%3AList+of+Game+of+Thrones+episodes\"></span><link href=\"mw-data:TemplateStyles:r951705291\" rel=\"mw-deduplicated-inline-style\"/></span>\n",
       "</li>\n",
       "<li id=\"cite_note-105\"><span class=\"mw-cite-backlink\"><b><a href=\"#cite_ref-105\">^</a></b></span> <span class=\"reference-text\"><cite class=\"citation web\"><a class=\"external text\" href=\"https://www.jbhifi.com.au/movies-tv-shows/movies-tv-shows-on-sale/tv-fantasy/game-of-thrones-season-3/526290/\" rel=\"nofollow\">\"Game Of Thrones - Season 3\"</a>. <i>jbhifi.com.au</i>. <a class=\"external text\" href=\"https://web.archive.org/web/20150527074013/https://www.jbhifi.com.au/movies-tv-shows/movies-tv-shows-on-sale/tv-fantasy/game-of-thrones-season-3/526290/\" rel=\"nofollow\">Archived</a> from the original on May 27, 2015<span class=\"reference-accessdate\">. Retrieved <span class=\"nowrap\">November 14,</span> 2016</span>.</cite><span class=\"Z3988\" title=\"ctx_ver=Z39.88-2004&amp;rft_val_fmt=info%3Aofi%2Ffmt%3Akev%3Amtx%3Ajournal&amp;rft.genre=unknown&amp;rft.jtitle=jbhifi.com.au&amp;rft.atitle=Game+Of+Thrones+-+Season+3&amp;rft_id=https%3A%2F%2Fwww.jbhifi.com.au%2Fmovies-tv-shows%2Fmovies-tv-shows-on-sale%2Ftv-fantasy%2Fgame-of-thrones-season-3%2F526290%2F&amp;rfr_id=info%3Asid%2Fen.wikipedia.org%3AList+of+Game+of+Thrones+episodes\"></span><link href=\"mw-data:TemplateStyles:r951705291\" rel=\"mw-deduplicated-inline-style\"/></span>\n",
       "</li>\n",
       "<li id=\"cite_note-106\"><span class=\"mw-cite-backlink\"><b><a href=\"#cite_ref-106\">^</a></b></span> <span class=\"reference-text\"><cite class=\"citation web\" id=\"CITEREFLambert2014\">Lambert, David (July 16, 2014). <a class=\"external text\" href=\"https://web.archive.org/web/20160901123724/http://www.tvshowsondvd.com/news/Game-Thrones-Season-4/20065\" rel=\"nofollow\">\"Game of Thrones – 'The Complete 4th Season' Press Release: Date, Art, Cost, Extras\"</a>. TVShowsOnDVD.com. Archived from <a class=\"external text\" href=\"http://www.tvshowsondvd.com/news/Game-Thrones-Season-4/20065\" rel=\"nofollow\">the original</a> on September 1, 2016<span class=\"reference-accessdate\">. Retrieved <span class=\"nowrap\">July 16,</span> 2014</span>.</cite><span class=\"Z3988\" title=\"ctx_ver=Z39.88-2004&amp;rft_val_fmt=info%3Aofi%2Ffmt%3Akev%3Amtx%3Abook&amp;rft.genre=unknown&amp;rft.btitle=Game+of+Thrones+%E2%80%93+%27The+Complete+4th+Season%27+Press+Release%3A+Date%2C+Art%2C+Cost%2C+Extras&amp;rft.pub=TVShowsOnDVD.com&amp;rft.date=2014-07-16&amp;rft.aulast=Lambert&amp;rft.aufirst=David&amp;rft_id=http%3A%2F%2Fwww.tvshowsondvd.com%2Fnews%2FGame-Thrones-Season-4%2F20065&amp;rfr_id=info%3Asid%2Fen.wikipedia.org%3AList+of+Game+of+Thrones+episodes\"></span><link href=\"mw-data:TemplateStyles:r951705291\" rel=\"mw-deduplicated-inline-style\"/></span>\n",
       "</li>\n",
       "<li id=\"cite_note-107\"><span class=\"mw-cite-backlink\"><b><a href=\"#cite_ref-107\">^</a></b></span> <span class=\"reference-text\"><cite class=\"citation web\"><a class=\"external text\" href=\"https://www.amazon.co.uk/Game-Thrones-Season-4-DVD/dp/B00DY64C8S/\" rel=\"nofollow\">\"Game of Thrones - Season 4 [DVD] [2015]\"</a>. <i>Amazon.co.uk</i>. <a class=\"external text\" href=\"https://web.archive.org/web/20160818003357/https://www.amazon.co.uk/Game-Thrones-Season-4-DVD/dp/B00DY64C8S\" rel=\"nofollow\">Archived</a> from the original on August 18, 2016<span class=\"reference-accessdate\">. Retrieved <span class=\"nowrap\">November 14,</span> 2016</span>.</cite><span class=\"Z3988\" title=\"ctx_ver=Z39.88-2004&amp;rft_val_fmt=info%3Aofi%2Ffmt%3Akev%3Amtx%3Ajournal&amp;rft.genre=unknown&amp;rft.jtitle=Amazon.co.uk&amp;rft.atitle=Game+of+Thrones+-+Season+4+%5BDVD%5D+%5B2015%5D&amp;rft_id=https%3A%2F%2Fwww.amazon.co.uk%2FGame-Thrones-Season-4-DVD%2Fdp%2FB00DY64C8S%2F&amp;rfr_id=info%3Asid%2Fen.wikipedia.org%3AList+of+Game+of+Thrones+episodes\"></span><link href=\"mw-data:TemplateStyles:r951705291\" rel=\"mw-deduplicated-inline-style\"/></span>\n",
       "</li>\n",
       "<li id=\"cite_note-108\"><span class=\"mw-cite-backlink\"><b><a href=\"#cite_ref-108\">^</a></b></span> <span class=\"reference-text\"><cite class=\"citation web\"><a class=\"external text\" href=\"https://www.jbhifi.com.au/movies-tv-shows/movies-tv-shows-on-sale/tv-fantasy/game-of-thrones-season-4/611100/\" rel=\"nofollow\">\"Game Of Thrones - Season 4\"</a>. <i>jbhifi.com.au</i>. <a class=\"external text\" href=\"https://web.archive.org/web/20160510021547/https://www.jbhifi.com.au/movies-tv-shows/movies-tv-shows-on-sale/tv-fantasy/game-of-thrones-season-4/611100/\" rel=\"nofollow\">Archived</a> from the original on May 10, 2016<span class=\"reference-accessdate\">. Retrieved <span class=\"nowrap\">November 14,</span> 2016</span>.</cite><span class=\"Z3988\" title=\"ctx_ver=Z39.88-2004&amp;rft_val_fmt=info%3Aofi%2Ffmt%3Akev%3Amtx%3Ajournal&amp;rft.genre=unknown&amp;rft.jtitle=jbhifi.com.au&amp;rft.atitle=Game+Of+Thrones+-+Season+4&amp;rft_id=https%3A%2F%2Fwww.jbhifi.com.au%2Fmovies-tv-shows%2Fmovies-tv-shows-on-sale%2Ftv-fantasy%2Fgame-of-thrones-season-4%2F611100%2F&amp;rfr_id=info%3Asid%2Fen.wikipedia.org%3AList+of+Game+of+Thrones+episodes\"></span><link href=\"mw-data:TemplateStyles:r951705291\" rel=\"mw-deduplicated-inline-style\"/></span>\n",
       "</li>\n",
       "<li id=\"cite_note-109\"><span class=\"mw-cite-backlink\"><b><a href=\"#cite_ref-109\">^</a></b></span> <span class=\"reference-text\"><cite class=\"citation web\"><a class=\"external text\" href=\"https://www.amazon.com/dp/B00VSG3MSC/\" rel=\"nofollow\">\"Game of Thrones: Season 5 [Blu-ray + Digital HD]\"</a>. <a class=\"mw-redirect\" href=\"/wiki/Amazon.com\" title=\"Amazon.com\">Amazon.com</a>. <a class=\"external text\" href=\"https://web.archive.org/web/20160901123724/http://www.amazon.com/dp/B00VSG3MSC/\" rel=\"nofollow\">Archived</a> from the original on September 1, 2016<span class=\"reference-accessdate\">. Retrieved <span class=\"nowrap\">October 18,</span> 2015</span>.</cite><span class=\"Z3988\" title=\"ctx_ver=Z39.88-2004&amp;rft_val_fmt=info%3Aofi%2Ffmt%3Akev%3Amtx%3Abook&amp;rft.genre=unknown&amp;rft.btitle=Game+of+Thrones%3A+Season+5+%5BBlu-ray+%2B+Digital+HD%5D&amp;rft.pub=Amazon.com&amp;rft_id=https%3A%2F%2Fwww.amazon.com%2Fdp%2FB00VSG3MSC%2F&amp;rfr_id=info%3Asid%2Fen.wikipedia.org%3AList+of+Game+of+Thrones+episodes\"></span><link href=\"mw-data:TemplateStyles:r951705291\" rel=\"mw-deduplicated-inline-style\"/></span>\n",
       "</li>\n",
       "<li id=\"cite_note-110\"><span class=\"mw-cite-backlink\"><b><a href=\"#cite_ref-110\">^</a></b></span> <span class=\"reference-text\"><cite class=\"citation web\"><a class=\"external text\" href=\"https://www.amazon.co.uk/Game-Thrones-Season-5-DVD-x/dp/B010BY2AQ6/\" rel=\"nofollow\">\"Game of Thrones - Season 5 [DVD]\"</a>. <i>Amazon.co.uk</i>. <a class=\"external text\" href=\"https://web.archive.org/web/20161114015534/https://www.amazon.co.uk/Game-Thrones-Season-5-DVD-x/dp/B010BY2AQ6/\" rel=\"nofollow\">Archived</a> from the original on November 14, 2016<span class=\"reference-accessdate\">. Retrieved <span class=\"nowrap\">November 14,</span> 2016</span>.</cite><span class=\"Z3988\" title=\"ctx_ver=Z39.88-2004&amp;rft_val_fmt=info%3Aofi%2Ffmt%3Akev%3Amtx%3Ajournal&amp;rft.genre=unknown&amp;rft.jtitle=Amazon.co.uk&amp;rft.atitle=Game+of+Thrones+-+Season+5+%5BDVD%5D&amp;rft_id=https%3A%2F%2Fwww.amazon.co.uk%2FGame-Thrones-Season-5-DVD-x%2Fdp%2FB010BY2AQ6%2F&amp;rfr_id=info%3Asid%2Fen.wikipedia.org%3AList+of+Game+of+Thrones+episodes\"></span><link href=\"mw-data:TemplateStyles:r951705291\" rel=\"mw-deduplicated-inline-style\"/></span>\n",
       "</li>\n",
       "<li id=\"cite_note-111\"><span class=\"mw-cite-backlink\"><b><a href=\"#cite_ref-111\">^</a></b></span> <span class=\"reference-text\"><cite class=\"citation web\"><a class=\"external text\" href=\"https://www.jbhifi.com.au/movies-tv-shows/movies-tv-shows-on-sale/tv-fantasy/game-of-thrones-season-5/927320/\" rel=\"nofollow\">\"Game Of Thrones - Season 5\"</a>. <i>jbhifi.com.au</i>. <a class=\"external text\" href=\"https://web.archive.org/web/20160516112155/https://www.jbhifi.com.au/movies-tv-shows/movies-tv-shows-on-sale/tv-fantasy/game-of-thrones-season-5/927320/\" rel=\"nofollow\">Archived</a> from the original on May 16, 2016<span class=\"reference-accessdate\">. Retrieved <span class=\"nowrap\">November 14,</span> 2016</span>.</cite><span class=\"Z3988\" title=\"ctx_ver=Z39.88-2004&amp;rft_val_fmt=info%3Aofi%2Ffmt%3Akev%3Amtx%3Ajournal&amp;rft.genre=unknown&amp;rft.jtitle=jbhifi.com.au&amp;rft.atitle=Game+Of+Thrones+-+Season+5&amp;rft_id=https%3A%2F%2Fwww.jbhifi.com.au%2Fmovies-tv-shows%2Fmovies-tv-shows-on-sale%2Ftv-fantasy%2Fgame-of-thrones-season-5%2F927320%2F&amp;rfr_id=info%3Asid%2Fen.wikipedia.org%3AList+of+Game+of+Thrones+episodes\"></span><link href=\"mw-data:TemplateStyles:r951705291\" rel=\"mw-deduplicated-inline-style\"/></span>\n",
       "</li>\n",
       "<li id=\"cite_note-112\"><span class=\"mw-cite-backlink\"><b><a href=\"#cite_ref-112\">^</a></b></span> <span class=\"reference-text\"><cite class=\"citation web\"><a class=\"external text\" href=\"https://www.amazon.com/dp/B01H2JPULU/\" rel=\"nofollow\">\"Game of Thrones: The Complete Sixth Season [Blu-ray]\"</a>. Amazon.com. <a class=\"external text\" href=\"https://web.archive.org/web/20160901123724/http://www.amazon.com/dp/B01H2JPULU/\" rel=\"nofollow\">Archived</a> from the original on September 1, 2016<span class=\"reference-accessdate\">. Retrieved <span class=\"nowrap\">July 19,</span> 2016</span>.</cite><span class=\"Z3988\" title=\"ctx_ver=Z39.88-2004&amp;rft_val_fmt=info%3Aofi%2Ffmt%3Akev%3Amtx%3Abook&amp;rft.genre=unknown&amp;rft.btitle=Game+of+Thrones%3A+The+Complete+Sixth+Season+%5BBlu-ray%5D&amp;rft.pub=Amazon.com&amp;rft_id=https%3A%2F%2Fwww.amazon.com%2Fdp%2FB01H2JPULU%2F&amp;rfr_id=info%3Asid%2Fen.wikipedia.org%3AList+of+Game+of+Thrones+episodes\"></span><link href=\"mw-data:TemplateStyles:r951705291\" rel=\"mw-deduplicated-inline-style\"/></span>\n",
       "</li>\n",
       "<li id=\"cite_note-113\"><span class=\"mw-cite-backlink\"><b><a href=\"#cite_ref-113\">^</a></b></span> <span class=\"reference-text\"><cite class=\"citation web\"><a class=\"external text\" href=\"https://www.amazon.co.uk/Game-Thrones-Season-6-DVD/dp/B018SBSAJK/\" rel=\"nofollow\">\"Game of Thrones - Season 6 [DVD] [2016]\"</a>. <i>Amazon.co.uk</i>. <a class=\"external text\" href=\"https://web.archive.org/web/20161109105347/https://www.amazon.co.uk/Game-Thrones-Season-6-DVD/dp/B018SBSAJK\" rel=\"nofollow\">Archived</a> from the original on November 9, 2016<span class=\"reference-accessdate\">. Retrieved <span class=\"nowrap\">November 14,</span> 2016</span>.</cite><span class=\"Z3988\" title=\"ctx_ver=Z39.88-2004&amp;rft_val_fmt=info%3Aofi%2Ffmt%3Akev%3Amtx%3Ajournal&amp;rft.genre=unknown&amp;rft.jtitle=Amazon.co.uk&amp;rft.atitle=Game+of+Thrones+-+Season+6+%5BDVD%5D+%5B2016%5D&amp;rft_id=https%3A%2F%2Fwww.amazon.co.uk%2FGame-Thrones-Season-6-DVD%2Fdp%2FB018SBSAJK%2F&amp;rfr_id=info%3Asid%2Fen.wikipedia.org%3AList+of+Game+of+Thrones+episodes\"></span><link href=\"mw-data:TemplateStyles:r951705291\" rel=\"mw-deduplicated-inline-style\"/></span>\n",
       "</li>\n",
       "<li id=\"cite_note-114\"><span class=\"mw-cite-backlink\"><b><a href=\"#cite_ref-114\">^</a></b></span> <span class=\"reference-text\"><cite class=\"citation web\"><a class=\"external text\" href=\"https://www.jbhifi.com.au/movies-tv-shows/movies-tv-shows-on-sale/tv-fantasy/game-of-thrones-season-6/988991/\" rel=\"nofollow\">\"Game Of Thrones - Season 6\"</a>. <i>jbhifi.com.au</i>. <a class=\"external text\" href=\"https://web.archive.org/web/20161114015700/https://www.jbhifi.com.au/movies-tv-shows/movies-tv-shows-on-sale/tv-fantasy/game-of-thrones-season-6/988991/\" rel=\"nofollow\">Archived</a> from the original on November 14, 2016<span class=\"reference-accessdate\">. Retrieved <span class=\"nowrap\">November 14,</span> 2016</span>.</cite><span class=\"Z3988\" title=\"ctx_ver=Z39.88-2004&amp;rft_val_fmt=info%3Aofi%2Ffmt%3Akev%3Amtx%3Ajournal&amp;rft.genre=unknown&amp;rft.jtitle=jbhifi.com.au&amp;rft.atitle=Game+Of+Thrones+-+Season+6&amp;rft_id=https%3A%2F%2Fwww.jbhifi.com.au%2Fmovies-tv-shows%2Fmovies-tv-shows-on-sale%2Ftv-fantasy%2Fgame-of-thrones-season-6%2F988991%2F&amp;rfr_id=info%3Asid%2Fen.wikipedia.org%3AList+of+Game+of+Thrones+episodes\"></span><link href=\"mw-data:TemplateStyles:r951705291\" rel=\"mw-deduplicated-inline-style\"/></span>\n",
       "</li>\n",
       "<li id=\"cite_note-115\"><span class=\"mw-cite-backlink\"><b><a href=\"#cite_ref-115\">^</a></b></span> <span class=\"reference-text\"><cite class=\"citation web\"><a class=\"external text\" href=\"https://web.archive.org/web/20170726011355/http://www.tvshowsondvd.com/news/Game-Thrones-Season-7/23505\" rel=\"nofollow\">\"Game of Thrones - 'The Complete 7th Season' Already Planned for DVD and Blu-ray Disc\"</a>. TVShowsOnDVD. Archived from <a class=\"external text\" href=\"http://www.tvshowsondvd.com/news/Game-Thrones-Season-7/23505\" rel=\"nofollow\">the original</a> on July 26, 2017<span class=\"reference-accessdate\">. Retrieved <span class=\"nowrap\">July 26,</span> 2017</span>.</cite><span class=\"Z3988\" title=\"ctx_ver=Z39.88-2004&amp;rft_val_fmt=info%3Aofi%2Ffmt%3Akev%3Amtx%3Abook&amp;rft.genre=unknown&amp;rft.btitle=Game+of+Thrones+-+%27The+Complete+7th+Season%27+Already+Planned+for+DVD+and+Blu-ray+Disc&amp;rft.pub=TVShowsOnDVD&amp;rft_id=http%3A%2F%2Fwww.tvshowsondvd.com%2Fnews%2FGame-Thrones-Season-7%2F23505&amp;rfr_id=info%3Asid%2Fen.wikipedia.org%3AList+of+Game+of+Thrones+episodes\"></span><link href=\"mw-data:TemplateStyles:r951705291\" rel=\"mw-deduplicated-inline-style\"/></span>\n",
       "</li>\n",
       "<li id=\"cite_note-116\"><span class=\"mw-cite-backlink\"><b><a href=\"#cite_ref-116\">^</a></b></span> <span class=\"reference-text\"><cite class=\"citation web\"><a class=\"external text\" href=\"https://www.amazon.co.uk/dp/B075728BT8/\" rel=\"nofollow\">\"Game of Thrones - Season 7 [Blu-ray + Amazon Exclusive Bonus Disc] [2017]\"</a>. <i>Amazon.co.uk</i><span class=\"reference-accessdate\">. Retrieved <span class=\"nowrap\">September 4,</span> 2017</span>.</cite><span class=\"Z3988\" title=\"ctx_ver=Z39.88-2004&amp;rft_val_fmt=info%3Aofi%2Ffmt%3Akev%3Amtx%3Ajournal&amp;rft.genre=unknown&amp;rft.jtitle=Amazon.co.uk&amp;rft.atitle=Game+of+Thrones+-+Season+7+%5BBlu-ray+%2B+Amazon+Exclusive+Bonus+Disc%5D+%5B2017%5D&amp;rft_id=https%3A%2F%2Fwww.amazon.co.uk%2Fdp%2FB075728BT8%2F&amp;rfr_id=info%3Asid%2Fen.wikipedia.org%3AList+of+Game+of+Thrones+episodes\"></span><link href=\"mw-data:TemplateStyles:r951705291\" rel=\"mw-deduplicated-inline-style\"/></span>\n",
       "</li>\n",
       "<li id=\"cite_note-117\"><span class=\"mw-cite-backlink\"><b><a href=\"#cite_ref-117\">^</a></b></span> <span class=\"reference-text\"><cite class=\"citation web\"><a class=\"external text\" href=\"https://www.jbhifi.com.au/movies-tv-shows/movies-tv-shows-on-sale/tv-fantasy/game-of-thrones-season-7/460287/\" rel=\"nofollow\">\"Game of Thrones - Season 7\"</a>. <i>jbhifi.com.au</i><span class=\"reference-accessdate\">. Retrieved <span class=\"nowrap\">September 4,</span> 2017</span>.</cite><span class=\"Z3988\" title=\"ctx_ver=Z39.88-2004&amp;rft_val_fmt=info%3Aofi%2Ffmt%3Akev%3Amtx%3Ajournal&amp;rft.genre=unknown&amp;rft.jtitle=jbhifi.com.au&amp;rft.atitle=Game+of+Thrones+-+Season+7&amp;rft_id=https%3A%2F%2Fwww.jbhifi.com.au%2Fmovies-tv-shows%2Fmovies-tv-shows-on-sale%2Ftv-fantasy%2Fgame-of-thrones-season-7%2F460287%2F&amp;rfr_id=info%3Asid%2Fen.wikipedia.org%3AList+of+Game+of+Thrones+episodes\"></span><link href=\"mw-data:TemplateStyles:r951705291\" rel=\"mw-deduplicated-inline-style\"/></span>\n",
       "</li>\n",
       "<li id=\"cite_note-118\"><span class=\"mw-cite-backlink\"><b><a href=\"#cite_ref-118\">^</a></b></span> <span class=\"reference-text\"><cite class=\"citation web\"><a class=\"external text\" href=\"https://hd-report.com/2019/06/26/game-of-thrones-season-8-blu-ray-dvd-packaging-release-dates/\" rel=\"nofollow\">\"Game of Thrones: Season 8 Blu-ray / DVD Packaging &amp; Release Dates\"</a>. <i>HD Report</i>. June 26, 2019<span class=\"reference-accessdate\">. Retrieved <span class=\"nowrap\">July 2,</span> 2019</span>.</cite><span class=\"Z3988\" title=\"ctx_ver=Z39.88-2004&amp;rft_val_fmt=info%3Aofi%2Ffmt%3Akev%3Amtx%3Ajournal&amp;rft.genre=unknown&amp;rft.jtitle=HD+Report&amp;rft.atitle=Game+of+Thrones%3A+Season+8+Blu-ray+%2F+DVD+Packaging+%26+Release+Dates&amp;rft.date=2019-06-26&amp;rft_id=https%3A%2F%2Fhd-report.com%2F2019%2F06%2F26%2Fgame-of-thrones-season-8-blu-ray-dvd-packaging-release-dates%2F&amp;rfr_id=info%3Asid%2Fen.wikipedia.org%3AList+of+Game+of+Thrones+episodes\"></span><link href=\"mw-data:TemplateStyles:r951705291\" rel=\"mw-deduplicated-inline-style\"/></span>\n",
       "</li>\n",
       "<li id=\"cite_note-119\"><span class=\"mw-cite-backlink\"><b><a href=\"#cite_ref-119\">^</a></b></span> <span class=\"reference-text\"><cite class=\"citation web\"><a class=\"external text\" href=\"https://www.amazon.co.uk/gp/product/B07S2S5Z78\" rel=\"nofollow\">\"Game of Thrones: Season 8 [DVD][2019]\"</a>. <i>Amazon.co.uk</i><span class=\"reference-accessdate\">. Retrieved <span class=\"nowrap\">July 20,</span> 2019</span>.</cite><span class=\"Z3988\" title=\"ctx_ver=Z39.88-2004&amp;rft_val_fmt=info%3Aofi%2Ffmt%3Akev%3Amtx%3Ajournal&amp;rft.genre=unknown&amp;rft.jtitle=Amazon.co.uk&amp;rft.atitle=Game+of+Thrones%3A+Season+8+%5BDVD%5D%5B2019%5D&amp;rft_id=https%3A%2F%2Fwww.amazon.co.uk%2Fgp%2Fproduct%2FB07S2S5Z78&amp;rfr_id=info%3Asid%2Fen.wikipedia.org%3AList+of+Game+of+Thrones+episodes\"></span><link href=\"mw-data:TemplateStyles:r951705291\" rel=\"mw-deduplicated-inline-style\"/></span>\n",
       "</li>\n",
       "<li id=\"cite_note-120\"><span class=\"mw-cite-backlink\"><b><a href=\"#cite_ref-120\">^</a></b></span> <span class=\"reference-text\"><cite class=\"citation web\"><a class=\"external text\" href=\"https://www.jbhifi.com.au/movies-tv-shows/movies-tv-shows-on-sale/tv-fantasy/game-of-thrones-season-8/385354\" rel=\"nofollow\">\"Game of Thrones - Season 8 DVD\"</a>. <i>jbhifi.com</i><span class=\"reference-accessdate\">. Retrieved <span class=\"nowrap\">August 28,</span> 2019</span>.</cite><span class=\"Z3988\" title=\"ctx_ver=Z39.88-2004&amp;rft_val_fmt=info%3Aofi%2Ffmt%3Akev%3Amtx%3Ajournal&amp;rft.genre=unknown&amp;rft.jtitle=jbhifi.com&amp;rft.atitle=Game+of+Thrones+-+Season+8+DVD&amp;rft_id=https%3A%2F%2Fwww.jbhifi.com.au%2Fmovies-tv-shows%2Fmovies-tv-shows-on-sale%2Ftv-fantasy%2Fgame-of-thrones-season-8%2F385354&amp;rfr_id=info%3Asid%2Fen.wikipedia.org%3AList+of+Game+of+Thrones+episodes\"></span><link href=\"mw-data:TemplateStyles:r951705291\" rel=\"mw-deduplicated-inline-style\"/></span>\n",
       "</li>\n",
       "<li id=\"cite_note-121\"><span class=\"mw-cite-backlink\"><b><a href=\"#cite_ref-121\">^</a></b></span> <span class=\"reference-text\"><cite class=\"citation news\" id=\"CITEREFThomas2012\">Thomas, June (March 29, 2012). <a class=\"external text\" href=\"http://www.slate.com/articles/arts/culturebox/2012/03/game_of_thrones_how_hbo_and_showtime_make_money_despite_low_ratings_.html\" rel=\"nofollow\">\"How Much Gold Is Game of Thrones Worth\"</a>. <i><a href=\"/wiki/Slate_(magazine)\" title=\"Slate (magazine)\">Slate</a></i>. <a class=\"external text\" href=\"https://web.archive.org/web/20160508025251/http://www.slate.com/articles/arts/culturebox/2012/03/game_of_thrones_how_hbo_and_showtime_make_money_despite_low_ratings_.html\" rel=\"nofollow\">Archived</a> from the original on May 8, 2016<span class=\"reference-accessdate\">. Retrieved <span class=\"nowrap\">June 5,</span> 2014</span>.</cite><span class=\"Z3988\" title=\"ctx_ver=Z39.88-2004&amp;rft_val_fmt=info%3Aofi%2Ffmt%3Akev%3Amtx%3Ajournal&amp;rft.genre=article&amp;rft.jtitle=Slate&amp;rft.atitle=How+Much+Gold+Is+Game+of+Thrones+Worth&amp;rft.date=2012-03-29&amp;rft.aulast=Thomas&amp;rft.aufirst=June&amp;rft_id=http%3A%2F%2Fwww.slate.com%2Farticles%2Farts%2Fculturebox%2F2012%2F03%2Fgame_of_thrones_how_hbo_and_showtime_make_money_despite_low_ratings_.html&amp;rfr_id=info%3Asid%2Fen.wikipedia.org%3AList+of+Game+of+Thrones+episodes\"></span><link href=\"mw-data:TemplateStyles:r951705291\" rel=\"mw-deduplicated-inline-style\"/></span>\n",
       "</li>\n",
       "<li id=\"cite_note-122\"><span class=\"mw-cite-backlink\"><b><a href=\"#cite_ref-122\">^</a></b></span> <span class=\"reference-text\"><cite class=\"citation pressrelease\"><a class=\"external text\" href=\"http://www.thefutoncritic.com/news/2013/04/02/hbo-renews-game-of-thrones-for-fourth-season-100210/20130402hbo01/\" rel=\"nofollow\">\"HBO Renews 'Game of Thrones' for Fourth Season\"</a> (Press release). <a href=\"/wiki/HBO\" title=\"HBO\">HBO</a>. April 2, 2013. <a class=\"external text\" href=\"https://web.archive.org/web/20170716061155/http://www.hollywoodreporter.com/live-feed/game-thrones-prequels-are-we-getting-all-four-1020065\" rel=\"nofollow\">Archived</a> from the original on July 16, 2017<span class=\"reference-accessdate\">. Retrieved <span class=\"nowrap\">August 23,</span> 2014</span>.</cite><span class=\"Z3988\" title=\"ctx_ver=Z39.88-2004&amp;rft_val_fmt=info%3Aofi%2Ffmt%3Akev%3Amtx%3Abook&amp;rft.genre=unknown&amp;rft.btitle=HBO+Renews+%27Game+of+Thrones%27+for+Fourth+Season&amp;rft.pub=HBO&amp;rft.date=2013-04-02&amp;rft_id=http%3A%2F%2Fwww.thefutoncritic.com%2Fnews%2F2013%2F04%2F02%2Fhbo-renews-game-of-thrones-for-fourth-season-100210%2F20130402hbo01%2F&amp;rfr_id=info%3Asid%2Fen.wikipedia.org%3AList+of+Game+of+Thrones+episodes\"></span><link href=\"mw-data:TemplateStyles:r951705291\" rel=\"mw-deduplicated-inline-style\"/></span>\n",
       "</li>\n",
       "<li id=\"cite_note-123\"><span class=\"mw-cite-backlink\"><b><a href=\"#cite_ref-123\">^</a></b></span> <span class=\"reference-text\"><cite class=\"citation news\" id=\"CITEREFRitter2013\">Ritter, Dan (August 7, 2013). <a class=\"external text\" href=\"http://wallstcheatsheet.com/stocks/game-of-thrones-is-time-warners-cash-cow.html/?a=viewall\" rel=\"nofollow\">\"Game of Thrones is Time Warner's Cash Cow\"</a>. <i>Wall Street Cheat Sheet</i>. <a class=\"external text\" href=\"https://web.archive.org/web/20141020132436/http://wallstcheatsheet.com/stocks/game-of-thrones-is-time-warners-cash-cow.html/?a=viewall\" rel=\"nofollow\">Archived</a> from the original on October 20, 2014<span class=\"reference-accessdate\">. Retrieved <span class=\"nowrap\">August 8,</span> 2013</span>.</cite><span class=\"Z3988\" title=\"ctx_ver=Z39.88-2004&amp;rft_val_fmt=info%3Aofi%2Ffmt%3Akev%3Amtx%3Ajournal&amp;rft.genre=article&amp;rft.jtitle=Wall+Street+Cheat+Sheet&amp;rft.atitle=Game+of+Thrones+is+Time+Warner%27s+Cash+Cow&amp;rft.date=2013-08-07&amp;rft.aulast=Ritter&amp;rft.aufirst=Dan&amp;rft_id=http%3A%2F%2Fwallstcheatsheet.com%2Fstocks%2Fgame-of-thrones-is-time-warners-cash-cow.html%2F%3Fa%3Dviewall&amp;rfr_id=info%3Asid%2Fen.wikipedia.org%3AList+of+Game+of+Thrones+episodes\"></span><link href=\"mw-data:TemplateStyles:r951705291\" rel=\"mw-deduplicated-inline-style\"/></span>\n",
       "</li>\n",
       "<li id=\"cite_note-124\"><span class=\"mw-cite-backlink\"><b><a href=\"#cite_ref-124\">^</a></b></span> <span class=\"reference-text\"><cite class=\"citation news\" id=\"CITEREFAdalian2013\">Adalian, Josef (June 8, 2013). <a class=\"external text\" href=\"https://vulture.com/2013/06/game-of-thrones-huge-ratings-chart.html\" rel=\"nofollow\">\"For HBO, Game of Thrones Ratings Second Only to The Sopranos\"</a>. <i><a class=\"mw-redirect\" href=\"/wiki/Vulture.com\" title=\"Vulture.com\">Vulture</a></i>. <a class=\"external text\" href=\"https://web.archive.org/web/20160304124632/http://www.vulture.com/2013/06/game-of-thrones-huge-ratings-chart.html\" rel=\"nofollow\">Archived</a> from the original on March 4, 2016<span class=\"reference-accessdate\">. Retrieved <span class=\"nowrap\">June 6,</span> 2013</span>.</cite><span class=\"Z3988\" title=\"ctx_ver=Z39.88-2004&amp;rft_val_fmt=info%3Aofi%2Ffmt%3Akev%3Amtx%3Ajournal&amp;rft.genre=article&amp;rft.jtitle=Vulture&amp;rft.atitle=For+HBO%2C+Game+of+Thrones+Ratings+Second+Only+to+The+Sopranos&amp;rft.date=2013-06-08&amp;rft.aulast=Adalian&amp;rft.aufirst=Josef&amp;rft_id=https%3A%2F%2Fvulture.com%2F2013%2F06%2Fgame-of-thrones-huge-ratings-chart.html&amp;rfr_id=info%3Asid%2Fen.wikipedia.org%3AList+of+Game+of+Thrones+episodes\"></span><link href=\"mw-data:TemplateStyles:r951705291\" rel=\"mw-deduplicated-inline-style\"/></span>\n",
       "</li>\n",
       "<li id=\"cite_note-125\"><span class=\"mw-cite-backlink\"><b><a href=\"#cite_ref-125\">^</a></b></span> <span class=\"reference-text\"><cite class=\"citation news\" id=\"CITEREFFienberg2014\">Fienberg, Daniel (June 5, 2014). <a class=\"external text\" href=\"http://www.hitfix.com/the-fien-print/game-of-thrones-has-become-more-popular-than-the-sopranos-sorta-kinda\" rel=\"nofollow\">\"<span class=\"cs1-kern-left\">'</span>Game of Thrones' has become more popular than 'The Sopranos' sorta kinda\"</a>. <i><a href=\"/wiki/HitFix\" title=\"HitFix\">HitFix</a></i>. <a class=\"external text\" href=\"https://web.archive.org/web/20160603155225/http://www.hitfix.com/the-fien-print/game-of-thrones-has-become-more-popular-than-the-sopranos-sorta-kinda\" rel=\"nofollow\">Archived</a> from the original on June 3, 2016<span class=\"reference-accessdate\">. Retrieved <span class=\"nowrap\">June 5,</span> 2014</span>.</cite><span class=\"Z3988\" title=\"ctx_ver=Z39.88-2004&amp;rft_val_fmt=info%3Aofi%2Ffmt%3Akev%3Amtx%3Ajournal&amp;rft.genre=article&amp;rft.jtitle=HitFix&amp;rft.atitle=%27Game+of+Thrones%27+has+become+more+popular+than+%27The+Sopranos%27+sorta+kinda&amp;rft.date=2014-06-05&amp;rft.aulast=Fienberg&amp;rft.aufirst=Daniel&amp;rft_id=http%3A%2F%2Fwww.hitfix.com%2Fthe-fien-print%2Fgame-of-thrones-has-become-more-popular-than-the-sopranos-sorta-kinda&amp;rfr_id=info%3Asid%2Fen.wikipedia.org%3AList+of+Game+of+Thrones+episodes\"></span><link href=\"mw-data:TemplateStyles:r951705291\" rel=\"mw-deduplicated-inline-style\"/></span>\n",
       "</li>\n",
       "<li id=\"cite_note-126\"><span class=\"mw-cite-backlink\"><b><a href=\"#cite_ref-126\">^</a></b></span> <span class=\"reference-text\"><cite class=\"citation news\" id=\"CITEREFSinha-Roy2014\">Sinha-Roy, Piya (June 16, 2014). <a class=\"external text\" href=\"https://www.reuters.com/article/2014/06/16/us-television-gameofthrones-idUSKBN0ER2N520140616\" rel=\"nofollow\">\"<span class=\"cs1-kern-left\">'</span>Game of Thrones' draws 7.1 million viewers for blood-filled finale\"</a>. Reuters. <a class=\"external text\" href=\"https://web.archive.org/web/20151020021930/https://www.reuters.com/article/2014/06/16/us-television-gameofthrones-idUSKBN0ER2N520140616\" rel=\"nofollow\">Archived</a> from the original on October 20, 2015<span class=\"reference-accessdate\">. Retrieved <span class=\"nowrap\">July 13,</span> 2014</span>.</cite><span class=\"Z3988\" title=\"ctx_ver=Z39.88-2004&amp;rft_val_fmt=info%3Aofi%2Ffmt%3Akev%3Amtx%3Ajournal&amp;rft.genre=article&amp;rft.atitle=%27Game+of+Thrones%27+draws+7.1+million+viewers+for+blood-filled+finale&amp;rft.date=2014-06-16&amp;rft.aulast=Sinha-Roy&amp;rft.aufirst=Piya&amp;rft_id=https%3A%2F%2Fwww.reuters.com%2Farticle%2F2014%2F06%2F16%2Fus-television-gameofthrones-idUSKBN0ER2N520140616&amp;rfr_id=info%3Asid%2Fen.wikipedia.org%3AList+of+Game+of+Thrones+episodes\"></span><link href=\"mw-data:TemplateStyles:r951705291\" rel=\"mw-deduplicated-inline-style\"/></span>\n",
       "</li>\n",
       "<li id=\"cite_note-127\"><span class=\"mw-cite-backlink\"><b><a href=\"#cite_ref-127\">^</a></b></span> <span class=\"reference-text\"><cite class=\"citation news\" id=\"CITEREFShepherd2016\">Shepherd, Jack (July 19, 2016). <a class=\"external text\" href=\"https://www.independent.co.uk/arts-entertainment/tv/news/game-of-thrones-season-6-ratings-show-brought-in-251-million-viewers-on-average-per-episode-a7144261.html\" rel=\"nofollow\">\"Game of Thrones season 6 ratings: Show brought in 25.1 million viewers on average per episode\"</a>. <i><a href=\"/wiki/The_Independent\" title=\"The Independent\">The Independent</a></i>. <a class=\"external text\" href=\"https://web.archive.org/web/20160819214019/http://www.independent.co.uk/arts-entertainment/tv/news/game-of-thrones-season-6-ratings-show-brought-in-251-million-viewers-on-average-per-episode-a7144261.html\" rel=\"nofollow\">Archived</a> from the original on August 19, 2016<span class=\"reference-accessdate\">. Retrieved <span class=\"nowrap\">July 22,</span> 2016</span>.</cite><span class=\"Z3988\" title=\"ctx_ver=Z39.88-2004&amp;rft_val_fmt=info%3Aofi%2Ffmt%3Akev%3Amtx%3Ajournal&amp;rft.genre=article&amp;rft.jtitle=The+Independent&amp;rft.atitle=Game+of+Thrones+season+6+ratings%3A+Show+brought+in+25.1+million+viewers+on+average+per+episode&amp;rft.date=2016-07-19&amp;rft.aulast=Shepherd&amp;rft.aufirst=Jack&amp;rft_id=https%3A%2F%2Fwww.independent.co.uk%2Farts-entertainment%2Ftv%2Fnews%2Fgame-of-thrones-season-6-ratings-show-brought-in-251-million-viewers-on-average-per-episode-a7144261.html&amp;rfr_id=info%3Asid%2Fen.wikipedia.org%3AList+of+Game+of+Thrones+episodes\"></span><link href=\"mw-data:TemplateStyles:r951705291\" rel=\"mw-deduplicated-inline-style\"/></span>\n",
       "</li>\n",
       "<li id=\"cite_note-katz20161227-128\"><span class=\"mw-cite-backlink\"><b><a href=\"#cite_ref-katz20161227_128-0\">^</a></b></span> <span class=\"reference-text\"><cite class=\"citation news\" id=\"CITEREFKatz2016\">Katz, Josh (December 27, 2016). <a class=\"external text\" href=\"https://www.nytimes.com/interactive/2016/12/26/upshot/duck-dynasty-vs-modern-family-television-maps.html\" rel=\"nofollow\">\"<span class=\"cs1-kern-left\">'</span>Duck Dynasty' vs. 'Modern Family': 50 Maps of the U.S. Cultural Divide\"</a>. <i>The New York Times</i>. <a class=\"external text\" href=\"https://web.archive.org/web/20180105091502/https://www.nytimes.com/interactive/2016/12/26/upshot/duck-dynasty-vs-modern-family-television-maps.html\" rel=\"nofollow\">Archived</a> from the original on January 5, 2018<span class=\"reference-accessdate\">. Retrieved <span class=\"nowrap\">January 29,</span> 2020</span>.</cite><span class=\"Z3988\" title=\"ctx_ver=Z39.88-2004&amp;rft_val_fmt=info%3Aofi%2Ffmt%3Akev%3Amtx%3Ajournal&amp;rft.genre=article&amp;rft.jtitle=The+New+York+Times&amp;rft.atitle=%27Duck+Dynasty%27+vs.+%27Modern+Family%27%3A+50+Maps+of+the+U.S.+Cultural+Divide&amp;rft.date=2016-12-27&amp;rft.aulast=Katz&amp;rft.aufirst=Josh&amp;rft_id=https%3A%2F%2Fwww.nytimes.com%2Finteractive%2F2016%2F12%2F26%2Fupshot%2Fduck-dynasty-vs-modern-family-television-maps.html&amp;rfr_id=info%3Asid%2Fen.wikipedia.org%3AList+of+Game+of+Thrones+episodes\"></span><link href=\"mw-data:TemplateStyles:r951705291\" rel=\"mw-deduplicated-inline-style\"/></span>\n",
       "</li>\n",
       "<li id=\"cite_note-129\"><span class=\"mw-cite-backlink\"><b><a href=\"#cite_ref-129\">^</a></b></span> <span class=\"reference-text\"><cite class=\"citation news\" id=\"CITEREFKoblin2017\">Koblin, John (August 28, 2017). <a class=\"external text\" href=\"https://www.nytimes.com/2017/08/28/arts/television/game-of-thrones-finale-sets-ratings-record.html\" rel=\"nofollow\">\"<span class=\"cs1-kern-left\">'</span>Game of Thrones' Finale Sets Ratings Record\"</a>. <i>The New York Times</i>.</cite><span class=\"Z3988\" title=\"ctx_ver=Z39.88-2004&amp;rft_val_fmt=info%3Aofi%2Ffmt%3Akev%3Amtx%3Ajournal&amp;rft.genre=article&amp;rft.jtitle=The+New+York+Times&amp;rft.atitle=%27Game+of+Thrones%27+Finale+Sets+Ratings+Record&amp;rft.date=2017-08-28&amp;rft.aulast=Koblin&amp;rft.aufirst=John&amp;rft_id=https%3A%2F%2Fwww.nytimes.com%2F2017%2F08%2F28%2Farts%2Ftelevision%2Fgame-of-thrones-finale-sets-ratings-record.html&amp;rfr_id=info%3Asid%2Fen.wikipedia.org%3AList+of+Game+of+Thrones+episodes\"></span><link href=\"mw-data:TemplateStyles:r951705291\" rel=\"mw-deduplicated-inline-style\"/></span>\n",
       "</li>\n",
       "<li id=\"cite_note-130\"><span class=\"mw-cite-backlink\"><b><a href=\"#cite_ref-130\">^</a></b></span> <span class=\"reference-text\"><cite class=\"citation news\"><a class=\"external text\" href=\"http://time.com/5571311/game-of-thrones-season-debut-hbo-ratings/\" rel=\"nofollow\">\"<span class=\"cs1-kern-left\">'</span>Game of Thrones' Season 8 Debut Breaks HBO Rating Records\"</a>. <i>Time</i>. April 15, 2019<span class=\"reference-accessdate\">. Retrieved <span class=\"nowrap\">April 16,</span> 2019</span>.</cite><span class=\"Z3988\" title=\"ctx_ver=Z39.88-2004&amp;rft_val_fmt=info%3Aofi%2Ffmt%3Akev%3Amtx%3Ajournal&amp;rft.genre=article&amp;rft.jtitle=Time&amp;rft.atitle=%27Game+of+Thrones%27+Season+8+Debut+Breaks+HBO+Rating+Records&amp;rft.date=2019-04-15&amp;rft_id=http%3A%2F%2Ftime.com%2F5571311%2Fgame-of-thrones-season-debut-hbo-ratings%2F&amp;rfr_id=info%3Asid%2Fen.wikipedia.org%3AList+of+Game+of+Thrones+episodes\"></span><link href=\"mw-data:TemplateStyles:r951705291\" rel=\"mw-deduplicated-inline-style\"/></span>\n",
       "</li>\n",
       "<li id=\"cite_note-131\"><span class=\"mw-cite-backlink\"><b><a href=\"#cite_ref-131\">^</a></b></span> <span class=\"reference-text\"><cite class=\"citation news\" id=\"CITEREFPlunkett2016\">Plunkett, John (July 6, 2016). <a class=\"external text\" href=\"https://www.theguardian.com/media/2016/jul/06/game-of-thrones-most-popular-sky-series-ever-as-16m-download-show\" rel=\"nofollow\">\"Game of Thrones most popular Sky series ever with 5m viewers\"</a>. <i><a href=\"/wiki/The_Guardian\" title=\"The Guardian\">The Guardian</a></i>. <a class=\"external text\" href=\"https://web.archive.org/web/20160910043635/https://www.theguardian.com/media/2016/jul/06/game-of-thrones-most-popular-sky-series-ever-as-16m-download-show\" rel=\"nofollow\">Archived</a> from the original on September 10, 2016<span class=\"reference-accessdate\">. Retrieved <span class=\"nowrap\">July 6,</span> 2016</span>.</cite><span class=\"Z3988\" title=\"ctx_ver=Z39.88-2004&amp;rft_val_fmt=info%3Aofi%2Ffmt%3Akev%3Amtx%3Ajournal&amp;rft.genre=article&amp;rft.jtitle=The+Guardian&amp;rft.atitle=Game+of+Thrones+most+popular+Sky+series+ever+with+5m+viewers&amp;rft.date=2016-07-06&amp;rft.aulast=Plunkett&amp;rft.aufirst=John&amp;rft_id=https%3A%2F%2Fwww.theguardian.com%2Fmedia%2F2016%2Fjul%2F06%2Fgame-of-thrones-most-popular-sky-series-ever-as-16m-download-show&amp;rfr_id=info%3Asid%2Fen.wikipedia.org%3AList+of+Game+of+Thrones+episodes\"></span><link href=\"mw-data:TemplateStyles:r951705291\" rel=\"mw-deduplicated-inline-style\"/></span>\n",
       "</li>\n",
       "<li id=\"cite_note-132\"><span class=\"mw-cite-backlink\"><b><a href=\"#cite_ref-132\">^</a></b></span> <span class=\"reference-text\"><cite class=\"citation news\" id=\"CITEREFIdato2016\">Idato, Michael (June 29, 2016). <a class=\"external text\" href=\"https://www.smh.com.au/entertainment/tv-and-radio/game-of-thrones-season-six-finale-sets-australian-audience-record-for-foxtel-20160629-gpu4kj.html\" rel=\"nofollow\">\"Game of Thrones season six finale sets Australian audience record for Foxtel\"</a>. <i><a href=\"/wiki/The_Sydney_Morning_Herald\" title=\"The Sydney Morning Herald\">The Sydney Morning Herald</a></i>. <a class=\"external text\" href=\"https://web.archive.org/web/20160702083442/http://www.smh.com.au/entertainment/tv-and-radio/game-of-thrones-season-six-finale-sets-australian-audience-record-for-foxtel-20160629-gpu4kj.html\" rel=\"nofollow\">Archived</a> from the original on July 2, 2016<span class=\"reference-accessdate\">. Retrieved <span class=\"nowrap\">July 6,</span> 2016</span>.</cite><span class=\"Z3988\" title=\"ctx_ver=Z39.88-2004&amp;rft_val_fmt=info%3Aofi%2Ffmt%3Akev%3Amtx%3Ajournal&amp;rft.genre=article&amp;rft.jtitle=The+Sydney+Morning+Herald&amp;rft.atitle=Game+of+Thrones+season+six+finale+sets+Australian+audience+record+for+Foxtel&amp;rft.date=2016-06-29&amp;rft.aulast=Idato&amp;rft.aufirst=Michael&amp;rft_id=https%3A%2F%2Fwww.smh.com.au%2Fentertainment%2Ftv-and-radio%2Fgame-of-thrones-season-six-finale-sets-australian-audience-record-for-foxtel-20160629-gpu4kj.html&amp;rfr_id=info%3Asid%2Fen.wikipedia.org%3AList+of+Game+of+Thrones+episodes\"></span><link href=\"mw-data:TemplateStyles:r951705291\" rel=\"mw-deduplicated-inline-style\"/></span>\n",
       "</li>\n",
       "<li id=\"cite_note-133\"><span class=\"mw-cite-backlink\"><b><a href=\"#cite_ref-133\">^</a></b></span> <span class=\"reference-text\">For the first season (excluding the average ratings), see <cite class=\"citation web\"><a class=\"external text\" href=\"http://tvbythenumbers.zap2it.com/1/game-of-thrones-ratings-season-one/\" rel=\"nofollow\">\"Updated: 'Game of Thrones' Ratings: Season One\"</a>. <a href=\"/wiki/TV_by_the_Numbers\" title=\"TV by the Numbers\">TV by the Numbers</a>. June 19, 2011. <a class=\"external text\" href=\"https://web.archive.org/web/20170726190516/http://tvbythenumbers.zap2it.com/1/game-of-thrones-ratings-season-one/\" rel=\"nofollow\">Archived</a> from the original on July 26, 2017<span class=\"reference-accessdate\">. Retrieved <span class=\"nowrap\">July 26,</span> 2017</span>.</cite><span class=\"Z3988\" title=\"ctx_ver=Z39.88-2004&amp;rft_val_fmt=info%3Aofi%2Ffmt%3Akev%3Amtx%3Abook&amp;rft.genre=unknown&amp;rft.btitle=Updated%3A+%27Game+of+Thrones%27+Ratings%3A+Season+One&amp;rft.pub=TV+by+the+Numbers&amp;rft.date=2011-06-19&amp;rft_id=http%3A%2F%2Ftvbythenumbers.zap2it.com%2F1%2Fgame-of-thrones-ratings-season-one%2F&amp;rfr_id=info%3Asid%2Fen.wikipedia.org%3AList+of+Game+of+Thrones+episodes\"></span><link href=\"mw-data:TemplateStyles:r951705291\" rel=\"mw-deduplicated-inline-style\"/>\n",
       "<hr/>\n",
       "<p>For the second season and the average ratings of the first season, see <cite class=\"citation web\"><a class=\"external text\" href=\"http://tvseriesfinale.com/tv-show/game-of-thrones-season-two-ratings-22729/\" rel=\"nofollow\">\"Game of Thrones: Season Two Ratings\"</a>. <i>TV Series Finale</i>. June 11, 2012. <a class=\"external text\" href=\"https://web.archive.org/web/20160901123724/http://tvseriesfinale.com/tv-show/game-of-thrones-season-two-ratings-22729/\" rel=\"nofollow\">Archived</a> from the original on September 1, 2016<span class=\"reference-accessdate\">. Retrieved <span class=\"nowrap\">April 18,</span> 2016</span>.</cite><span class=\"Z3988\" title=\"ctx_ver=Z39.88-2004&amp;rft_val_fmt=info%3Aofi%2Ffmt%3Akev%3Amtx%3Ajournal&amp;rft.genre=unknown&amp;rft.jtitle=TV+Series+Finale&amp;rft.atitle=Game+of+Thrones%3A+Season+Two+Ratings&amp;rft.date=2012-06-11&amp;rft_id=http%3A%2F%2Ftvseriesfinale.com%2Ftv-show%2Fgame-of-thrones-season-two-ratings-22729%2F&amp;rfr_id=info%3Asid%2Fen.wikipedia.org%3AList+of+Game+of+Thrones+episodes\"></span><link href=\"mw-data:TemplateStyles:r951705291\" rel=\"mw-deduplicated-inline-style\"/>\n",
       "</p>\n",
       "<hr/>\n",
       "<p>For the third season, see <cite class=\"citation web\"><a class=\"external text\" href=\"http://tvseriesfinale.com/tv-show/game-of-thrones-season-three-ratings-27711/\" rel=\"nofollow\">\"Game of Thrones: Season Three Ratings\"</a>. <i>TV Series Finale</i>. June 12, 2013. <a class=\"external text\" href=\"https://web.archive.org/web/20160901123724/http://tvseriesfinale.com/tv-show/game-of-thrones-season-three-ratings-27711/\" rel=\"nofollow\">Archived</a> from the original on September 1, 2016<span class=\"reference-accessdate\">. Retrieved <span class=\"nowrap\">April 18,</span> 2016</span>.</cite><span class=\"Z3988\" title=\"ctx_ver=Z39.88-2004&amp;rft_val_fmt=info%3Aofi%2Ffmt%3Akev%3Amtx%3Ajournal&amp;rft.genre=unknown&amp;rft.jtitle=TV+Series+Finale&amp;rft.atitle=Game+of+Thrones%3A+Season+Three+Ratings&amp;rft.date=2013-06-12&amp;rft_id=http%3A%2F%2Ftvseriesfinale.com%2Ftv-show%2Fgame-of-thrones-season-three-ratings-27711%2F&amp;rfr_id=info%3Asid%2Fen.wikipedia.org%3AList+of+Game+of+Thrones+episodes\"></span><link href=\"mw-data:TemplateStyles:r951705291\" rel=\"mw-deduplicated-inline-style\"/>\n",
       "</p>\n",
       "<hr/>\n",
       "<p>For the fourth season, see <cite class=\"citation web\"><a class=\"external text\" href=\"http://tvseriesfinale.com/tv-show/game-of-thrones-season-four-ratings-32088/\" rel=\"nofollow\">\"Game of Thrones: Season Four Ratings\"</a>. <i>TV Series Finale</i>. June 18, 2014. <a class=\"external text\" href=\"https://web.archive.org/web/20160901123724/http://tvseriesfinale.com/tv-show/game-of-thrones-season-four-ratings-32088/\" rel=\"nofollow\">Archived</a> from the original on September 1, 2016<span class=\"reference-accessdate\">. Retrieved <span class=\"nowrap\">April 18,</span> 2016</span>.</cite><span class=\"Z3988\" title=\"ctx_ver=Z39.88-2004&amp;rft_val_fmt=info%3Aofi%2Ffmt%3Akev%3Amtx%3Ajournal&amp;rft.genre=unknown&amp;rft.jtitle=TV+Series+Finale&amp;rft.atitle=Game+of+Thrones%3A+Season+Four+Ratings&amp;rft.date=2014-06-18&amp;rft_id=http%3A%2F%2Ftvseriesfinale.com%2Ftv-show%2Fgame-of-thrones-season-four-ratings-32088%2F&amp;rfr_id=info%3Asid%2Fen.wikipedia.org%3AList+of+Game+of+Thrones+episodes\"></span><link href=\"mw-data:TemplateStyles:r951705291\" rel=\"mw-deduplicated-inline-style\"/>\n",
       "</p>\n",
       "<hr/>\n",
       "<p>For the fifth season, see <cite class=\"citation web\"><a class=\"external text\" href=\"http://tvseriesfinale.com/tv-show/game-of-thrones-season-five-ratings-36234/\" rel=\"nofollow\">\"Game of Thrones: Season Five Ratings\"</a>. <i>TV Series Finale</i>. June 16, 2015. <a class=\"external text\" href=\"https://web.archive.org/web/20160901123724/http://tvseriesfinale.com/tv-show/game-of-thrones-season-five-ratings-36234/\" rel=\"nofollow\">Archived</a> from the original on September 1, 2016<span class=\"reference-accessdate\">. Retrieved <span class=\"nowrap\">April 18,</span> 2016</span>.</cite><span class=\"Z3988\" title=\"ctx_ver=Z39.88-2004&amp;rft_val_fmt=info%3Aofi%2Ffmt%3Akev%3Amtx%3Ajournal&amp;rft.genre=unknown&amp;rft.jtitle=TV+Series+Finale&amp;rft.atitle=Game+of+Thrones%3A+Season+Five+Ratings&amp;rft.date=2015-06-16&amp;rft_id=http%3A%2F%2Ftvseriesfinale.com%2Ftv-show%2Fgame-of-thrones-season-five-ratings-36234%2F&amp;rfr_id=info%3Asid%2Fen.wikipedia.org%3AList+of+Game+of+Thrones+episodes\"></span><link href=\"mw-data:TemplateStyles:r951705291\" rel=\"mw-deduplicated-inline-style\"/>\n",
       "</p>\n",
       "<hr/>\n",
       "<p>For the sixth season, see <cite class=\"citation web\"><a class=\"external text\" href=\"http://tvseriesfinale.com/tv-show/game-thrones-season-six-ratings/\" rel=\"nofollow\">\"Game of Thrones: Season Six Ratings\"</a>. <i>TV Series Finale</i>. June 28, 2016. <a class=\"external text\" href=\"https://web.archive.org/web/20160901123724/http://tvseriesfinale.com/tv-show/game-thrones-season-six-ratings/\" rel=\"nofollow\">Archived</a> from the original on September 1, 2016<span class=\"reference-accessdate\">. Retrieved <span class=\"nowrap\">April 24,</span> 2016</span>.</cite><span class=\"Z3988\" title=\"ctx_ver=Z39.88-2004&amp;rft_val_fmt=info%3Aofi%2Ffmt%3Akev%3Amtx%3Ajournal&amp;rft.genre=unknown&amp;rft.jtitle=TV+Series+Finale&amp;rft.atitle=Game+of+Thrones%3A+Season+Six+Ratings&amp;rft.date=2016-06-28&amp;rft_id=http%3A%2F%2Ftvseriesfinale.com%2Ftv-show%2Fgame-thrones-season-six-ratings%2F&amp;rfr_id=info%3Asid%2Fen.wikipedia.org%3AList+of+Game+of+Thrones+episodes\"></span><link href=\"mw-data:TemplateStyles:r951705291\" rel=\"mw-deduplicated-inline-style\"/>\n",
       "</p>\n",
       "<hr/>\n",
       "<p>For the seventh season, see <cite class=\"citation web\"><a class=\"external text\" href=\"http://tvseriesfinale.com/tv-show/game-of-thrones-season-seven-ratings/\" rel=\"nofollow\">\"Game of Thrones: Season Seven Ratings\"</a>. <i>TV Series Finale</i>. August 29, 2017. <a class=\"external text\" href=\"https://web.archive.org/web/20170916220717/https://tvseriesfinale.com/tv-show/game-of-thrones-season-seven-ratings/\" rel=\"nofollow\">Archived</a> from the original on September 16, 2017<span class=\"reference-accessdate\">. Retrieved <span class=\"nowrap\">August 29,</span> 2017</span>.</cite><span class=\"Z3988\" title=\"ctx_ver=Z39.88-2004&amp;rft_val_fmt=info%3Aofi%2Ffmt%3Akev%3Amtx%3Ajournal&amp;rft.genre=unknown&amp;rft.jtitle=TV+Series+Finale&amp;rft.atitle=Game+of+Thrones%3A+Season+Seven+Ratings&amp;rft.date=2017-08-29&amp;rft_id=http%3A%2F%2Ftvseriesfinale.com%2Ftv-show%2Fgame-of-thrones-season-seven-ratings%2F&amp;rfr_id=info%3Asid%2Fen.wikipedia.org%3AList+of+Game+of+Thrones+episodes\"></span><link href=\"mw-data:TemplateStyles:r951705291\" rel=\"mw-deduplicated-inline-style\"/>\n",
       "</p>\n",
       "<hr/>\n",
       "<p>For the eighth season, see <cite class=\"citation web\"><a class=\"external text\" href=\"http://tvseriesfinale.com/tv-show/game-of-thrones-season-eight-ratings/\" rel=\"nofollow\">\"Game of Thrones: Season Eight Ratings\"</a>. <i>TV Series Finale</i>. April 16, 2019<span class=\"reference-accessdate\">. Retrieved <span class=\"nowrap\">April 16,</span> 2019</span>.</cite><span class=\"Z3988\" title=\"ctx_ver=Z39.88-2004&amp;rft_val_fmt=info%3Aofi%2Ffmt%3Akev%3Amtx%3Ajournal&amp;rft.genre=unknown&amp;rft.jtitle=TV+Series+Finale&amp;rft.atitle=Game+of+Thrones%3A+Season+Eight+Ratings&amp;rft.date=2019-04-16&amp;rft_id=http%3A%2F%2Ftvseriesfinale.com%2Ftv-show%2Fgame-of-thrones-season-eight-ratings%2F&amp;rfr_id=info%3Asid%2Fen.wikipedia.org%3AList+of+Game+of+Thrones+episodes\"></span><link href=\"mw-data:TemplateStyles:r951705291\" rel=\"mw-deduplicated-inline-style\"/>\n",
       "</p>\n",
       "</span></li>\n",
       "</ol></div></div>\n",
       "<h2><span class=\"mw-headline\" id=\"External_links\">External links</span><span class=\"mw-editsection\"><span class=\"mw-editsection-bracket\">[</span><a href=\"/w/index.php?title=List_of_Game_of_Thrones_episodes&amp;action=edit&amp;section=15\" title=\"Edit section: External links\">edit</a><span class=\"mw-editsection-bracket\">]</span></span></h2>\n",
       "<ul><li><span class=\"official-website\"><span class=\"url\"><a class=\"external text\" href=\"http://www.hbo.com/game-of-thrones\" rel=\"nofollow\">Official website</a></span></span></li>\n",
       "<li><a class=\"external text\" href=\"http://viewers-guide.hbo.com\" rel=\"nofollow\"><i>Game of Thrones</i> – The Viewers Guide on HBO.com</a></li>\n",
       "<li><a class=\"external text\" href=\"http://www.makinggameofthrones.com\" rel=\"nofollow\">Making <i>Game of Thrones</i> on HBO.com</a></li>\n",
       "<li><a class=\"external text\" href=\"https://www.imdb.com/title/tt0944947/episodes\" rel=\"nofollow\"><i>Game of Thrones</i></a> – list of episodes on <a href=\"/wiki/IMDb\" title=\"IMDb\">IMDb</a></li>\n",
       "<li>List of <a class=\"external text\" href=\"http://www.tv.com/shows/game-of-thrones/episodes/\" rel=\"nofollow\"><i>Game of Thrones</i>   episodes</a> at <a href=\"/wiki/TV.com\" title=\"TV.com\">TV.com</a></li>\n",
       "<li><a class=\"external text\" href=\"https://www.rottentomatoes.com/tv/game-of-thrones//\" rel=\"nofollow\"><i>Game of Thrones</i></a> at <a href=\"/wiki/Rotten_Tomatoes\" title=\"Rotten Tomatoes\">Rotten Tomatoes</a></li></ul>\n",
       "<div aria-labelledby=\"Game_of_Thrones_episodes\" class=\"navbox\" role=\"navigation\" style=\"padding:3px\"><table class=\"nowraplinks hlist mw-collapsible autocollapse navbox-inner\" style=\"border-spacing:0;background:transparent;color:inherit\"><tbody><tr><th class=\"navbox-title\" colspan=\"2\" scope=\"col\"><div class=\"plainlinks hlist navbar mini\"><ul><li class=\"nv-view\"><a href=\"/wiki/Template:Game_of_Thrones_episodes\" title=\"Template:Game of Thrones episodes\"><abbr style=\";;background:none transparent;border:none;-moz-box-shadow:none;-webkit-box-shadow:none;box-shadow:none; padding:0;\" title=\"View this template\">v</abbr></a></li><li class=\"nv-talk\"><a href=\"/wiki/Template_talk:Game_of_Thrones_episodes\" title=\"Template talk:Game of Thrones episodes\"><abbr style=\";;background:none transparent;border:none;-moz-box-shadow:none;-webkit-box-shadow:none;box-shadow:none; padding:0;\" title=\"Discuss this template\">t</abbr></a></li><li class=\"nv-edit\"><a class=\"external text\" href=\"https://en.wikipedia.org/w/index.php?title=Template:Game_of_Thrones_episodes&amp;action=edit\"><abbr style=\";;background:none transparent;border:none;-moz-box-shadow:none;-webkit-box-shadow:none;box-shadow:none; padding:0;\" title=\"Edit this template\">e</abbr></a></li></ul></div><div id=\"Game_of_Thrones_episodes\" style=\"font-size:114%;margin:0 4em\"><i><a href=\"/wiki/Game_of_Thrones\" title=\"Game of Thrones\">Game of Thrones</a></i> <a class=\"mw-selflink selflink\">episodes</a></div></th></tr><tr><th class=\"navbox-group\" scope=\"row\" style=\"width:1%\"><a href=\"/wiki/Game_of_Thrones_(season_1)\" title=\"Game of Thrones (season 1)\">Season 1</a></th><td class=\"navbox-list navbox-odd hlist\" style=\"text-align:left;border-left-width:2px;border-left-style:solid;width:100%;padding:0px\"><div style=\"padding:0em 0.25em\">\n",
       "<ul><li>\"<a href=\"/wiki/Winter_Is_Coming\" title=\"Winter Is Coming\">Winter Is Coming</a>\"</li>\n",
       "<li>\"<a href=\"/wiki/The_Kingsroad\" title=\"The Kingsroad\">The Kingsroad</a>\"</li>\n",
       "<li>\"<a href=\"/wiki/Lord_Snow\" title=\"Lord Snow\">Lord Snow</a>\"</li>\n",
       "<li>\"<a href=\"/wiki/Cripples,_Bastards,_and_Broken_Things\" title=\"Cripples, Bastards, and Broken Things\">Cripples, Bastards, and Broken Things</a>\"</li>\n",
       "<li>\"<a href=\"/wiki/The_Wolf_and_the_Lion\" title=\"The Wolf and the Lion\">The Wolf and the Lion</a>\"</li>\n",
       "<li>\"<a href=\"/wiki/A_Golden_Crown\" title=\"A Golden Crown\">A Golden Crown</a>\"</li>\n",
       "<li>\"<a href=\"/wiki/You_Win_or_You_Die\" title=\"You Win or You Die\">You Win or You Die</a>\"</li>\n",
       "<li>\"<a href=\"/wiki/The_Pointy_End\" title=\"The Pointy End\">The Pointy End</a>\"</li>\n",
       "<li>\"<a href=\"/wiki/Baelor\" title=\"Baelor\">Baelor</a>\"</li>\n",
       "<li>\"<a href=\"/wiki/Fire_and_Blood_(Game_of_Thrones)\" title=\"Fire and Blood (Game of Thrones)\">Fire and Blood</a>\"</li></ul>\n",
       "</div></td></tr><tr><th class=\"navbox-group\" scope=\"row\" style=\"width:1%\"><a href=\"/wiki/Game_of_Thrones_(season_2)\" title=\"Game of Thrones (season 2)\">Season 2</a></th><td class=\"navbox-list navbox-even hlist\" style=\"text-align:left;border-left-width:2px;border-left-style:solid;width:100%;padding:0px\"><div style=\"padding:0em 0.25em\">\n",
       "<ul><li>\"<a href=\"/wiki/The_North_Remembers\" title=\"The North Remembers\">The North Remembers</a>\"</li>\n",
       "<li>\"<a href=\"/wiki/The_Night_Lands\" title=\"The Night Lands\">The Night Lands</a>\"</li>\n",
       "<li>\"<a href=\"/wiki/What_Is_Dead_May_Never_Die\" title=\"What Is Dead May Never Die\">What Is Dead May Never Die</a>\"</li>\n",
       "<li>\"<a href=\"/wiki/Garden_of_Bones\" title=\"Garden of Bones\">Garden of Bones</a>\"</li>\n",
       "<li>\"<a href=\"/wiki/The_Ghost_of_Harrenhal\" title=\"The Ghost of Harrenhal\">The Ghost of Harrenhal</a>\"</li>\n",
       "<li>\"<a href=\"/wiki/The_Old_Gods_and_the_New\" title=\"The Old Gods and the New\">The Old Gods and the New</a>\"</li>\n",
       "<li>\"<a href=\"/wiki/A_Man_Without_Honor\" title=\"A Man Without Honor\">A Man Without Honor</a>\"</li>\n",
       "<li>\"<a href=\"/wiki/The_Prince_of_Winterfell\" title=\"The Prince of Winterfell\">The Prince of Winterfell</a>\"</li>\n",
       "<li>\"<a href=\"/wiki/Blackwater_(Game_of_Thrones)\" title=\"Blackwater (Game of Thrones)\">Blackwater</a>\"</li>\n",
       "<li>\"<a href=\"/wiki/Valar_Morghulis\" title=\"Valar Morghulis\">Valar Morghulis</a>\"</li></ul>\n",
       "</div></td></tr><tr><th class=\"navbox-group\" scope=\"row\" style=\"width:1%\"><a href=\"/wiki/Game_of_Thrones_(season_3)\" title=\"Game of Thrones (season 3)\">Season 3</a></th><td class=\"navbox-list navbox-odd hlist\" style=\"text-align:left;border-left-width:2px;border-left-style:solid;width:100%;padding:0px\"><div style=\"padding:0em 0.25em\">\n",
       "<ul><li>\"<a href=\"/wiki/Valar_Dohaeris\" title=\"Valar Dohaeris\">Valar Dohaeris</a>\"</li>\n",
       "<li>\"<a href=\"/wiki/Dark_Wings,_Dark_Words\" title=\"Dark Wings, Dark Words\">Dark Wings, Dark Words</a>\"</li>\n",
       "<li>\"<a href=\"/wiki/Walk_of_Punishment\" title=\"Walk of Punishment\">Walk of Punishment</a>\"</li>\n",
       "<li>\"<a href=\"/wiki/And_Now_His_Watch_Is_Ended\" title=\"And Now His Watch Is Ended\">And Now His Watch Is Ended</a>\"</li>\n",
       "<li>\"<a href=\"/wiki/Kissed_by_Fire\" title=\"Kissed by Fire\">Kissed by Fire</a>\"</li>\n",
       "<li>\"<a href=\"/wiki/The_Climb_(Game_of_Thrones)\" title=\"The Climb (Game of Thrones)\">The Climb</a>\"</li>\n",
       "<li>\"<a href=\"/wiki/The_Bear_and_the_Maiden_Fair\" title=\"The Bear and the Maiden Fair\">The Bear and the Maiden Fair</a>\"</li>\n",
       "<li>\"<a href=\"/wiki/Second_Sons\" title=\"Second Sons\">Second Sons</a>\"</li>\n",
       "<li>\"<a href=\"/wiki/The_Rains_of_Castamere\" title=\"The Rains of Castamere\">The Rains of Castamere</a>\"</li>\n",
       "<li>\"<a href=\"/wiki/Mhysa\" title=\"Mhysa\">Mhysa</a>\"</li></ul>\n",
       "</div></td></tr><tr><th class=\"navbox-group\" scope=\"row\" style=\"width:1%\"><a href=\"/wiki/Game_of_Thrones_(season_4)\" title=\"Game of Thrones (season 4)\">Season 4</a></th><td class=\"navbox-list navbox-even hlist\" style=\"text-align:left;border-left-width:2px;border-left-style:solid;width:100%;padding:0px\"><div style=\"padding:0em 0.25em\">\n",
       "<ul><li>\"<a href=\"/wiki/Two_Swords_(Game_of_Thrones)\" title=\"Two Swords (Game of Thrones)\">Two Swords</a>\"</li>\n",
       "<li>\"<a href=\"/wiki/The_Lion_and_the_Rose\" title=\"The Lion and the Rose\">The Lion and the Rose</a>\"</li>\n",
       "<li>\"<a href=\"/wiki/Breaker_of_Chains\" title=\"Breaker of Chains\">Breaker of Chains</a>\"</li>\n",
       "<li>\"<a href=\"/wiki/Oathkeeper\" title=\"Oathkeeper\">Oathkeeper</a>\"</li>\n",
       "<li>\"<a href=\"/wiki/First_of_His_Name\" title=\"First of His Name\">First of His Name</a>\"</li>\n",
       "<li>\"<a href=\"/wiki/The_Laws_of_Gods_and_Men\" title=\"The Laws of Gods and Men\">The Laws of Gods and Men</a>\"</li>\n",
       "<li>\"<a href=\"/wiki/Mockingbird_(Game_of_Thrones)\" title=\"Mockingbird (Game of Thrones)\">Mockingbird</a>\"</li>\n",
       "<li>\"<a href=\"/wiki/The_Mountain_and_the_Viper\" title=\"The Mountain and the Viper\">The Mountain and the Viper</a>\"</li>\n",
       "<li>\"<a href=\"/wiki/The_Watchers_on_the_Wall\" title=\"The Watchers on the Wall\">The Watchers on the Wall</a>\"</li>\n",
       "<li>\"<a href=\"/wiki/The_Children_(Game_of_Thrones)\" title=\"The Children (Game of Thrones)\">The Children</a>\"</li></ul>\n",
       "</div></td></tr><tr><th class=\"navbox-group\" scope=\"row\" style=\"width:1%\"><a href=\"/wiki/Game_of_Thrones_(season_5)\" title=\"Game of Thrones (season 5)\">Season 5</a></th><td class=\"navbox-list navbox-odd hlist\" style=\"text-align:left;border-left-width:2px;border-left-style:solid;width:100%;padding:0px\"><div style=\"padding:0em 0.25em\">\n",
       "<ul><li>\"<a href=\"/wiki/The_Wars_to_Come\" title=\"The Wars to Come\">The Wars to Come</a>\"</li>\n",
       "<li>\"<a href=\"/wiki/The_House_of_Black_and_White\" title=\"The House of Black and White\">The House of Black and White</a>\"</li>\n",
       "<li>\"<a href=\"/wiki/High_Sparrow_(Game_of_Thrones_episode)\" title=\"High Sparrow (Game of Thrones episode)\">High Sparrow</a>\"</li>\n",
       "<li>\"<a href=\"/wiki/Sons_of_the_Harpy\" title=\"Sons of the Harpy\">Sons of the Harpy</a>\"</li>\n",
       "<li>\"<a href=\"/wiki/Kill_the_Boy\" title=\"Kill the Boy\">Kill the Boy</a>\"</li>\n",
       "<li>\"<a href=\"/wiki/Unbowed,_Unbent,_Unbroken\" title=\"Unbowed, Unbent, Unbroken\">Unbowed, Unbent, Unbroken</a>\"</li>\n",
       "<li>\"<a href=\"/wiki/The_Gift_(Game_of_Thrones)\" title=\"The Gift (Game of Thrones)\">The Gift</a>\"</li>\n",
       "<li>\"<a href=\"/wiki/Hardhome\" title=\"Hardhome\">Hardhome</a>\"</li>\n",
       "<li>\"<a href=\"/wiki/The_Dance_of_Dragons\" title=\"The Dance of Dragons\">The Dance of Dragons</a>\"</li>\n",
       "<li>\"<a href=\"/wiki/Mother%27s_Mercy\" title=\"Mother's Mercy\">Mother's Mercy</a>\"</li></ul>\n",
       "</div></td></tr><tr><th class=\"navbox-group\" scope=\"row\" style=\"width:1%\"><a href=\"/wiki/Game_of_Thrones_(season_6)\" title=\"Game of Thrones (season 6)\">Season 6</a></th><td class=\"navbox-list navbox-even hlist\" style=\"text-align:left;border-left-width:2px;border-left-style:solid;width:100%;padding:0px\"><div style=\"padding:0em 0.25em\">\n",
       "<ul><li>\"<a href=\"/wiki/The_Red_Woman\" title=\"The Red Woman\">The Red Woman</a>\"</li>\n",
       "<li>\"<a href=\"/wiki/Home_(Game_of_Thrones)\" title=\"Home (Game of Thrones)\">Home</a>\"</li>\n",
       "<li>\"<a href=\"/wiki/Oathbreaker_(Game_of_Thrones)\" title=\"Oathbreaker (Game of Thrones)\">Oathbreaker</a>\"</li>\n",
       "<li>\"<a href=\"/wiki/Book_of_the_Stranger\" title=\"Book of the Stranger\">Book of the Stranger</a>\"</li>\n",
       "<li>\"<a href=\"/wiki/The_Door_(Game_of_Thrones)\" title=\"The Door (Game of Thrones)\">The Door</a>\"</li>\n",
       "<li>\"<a href=\"/wiki/Blood_of_My_Blood\" title=\"Blood of My Blood\">Blood of My Blood</a>\"</li>\n",
       "<li>\"<a href=\"/wiki/The_Broken_Man\" title=\"The Broken Man\">The Broken Man</a>\"</li>\n",
       "<li>\"<a href=\"/wiki/No_One_(Game_of_Thrones)\" title=\"No One (Game of Thrones)\">No One</a>\"</li>\n",
       "<li>\"<a href=\"/wiki/Battle_of_the_Bastards\" title=\"Battle of the Bastards\">Battle of the Bastards</a>\"</li>\n",
       "<li>\"<a href=\"/wiki/The_Winds_of_Winter_(Game_of_Thrones)\" title=\"The Winds of Winter (Game of Thrones)\">The Winds of Winter</a>\"</li></ul>\n",
       "</div></td></tr><tr><th class=\"navbox-group\" scope=\"row\" style=\"width:1%\"><a href=\"/wiki/Game_of_Thrones_(season_7)\" title=\"Game of Thrones (season 7)\">Season 7</a></th><td class=\"navbox-list navbox-odd hlist\" style=\"text-align:left;border-left-width:2px;border-left-style:solid;width:100%;padding:0px\"><div style=\"padding:0em 0.25em\">\n",
       "<ul><li>\"<a href=\"/wiki/Dragonstone_(Game_of_Thrones_episode)\" title=\"Dragonstone (Game of Thrones episode)\">Dragonstone</a>\"</li>\n",
       "<li>\"<a href=\"/wiki/Stormborn\" title=\"Stormborn\">Stormborn</a>\"</li>\n",
       "<li>\"<a href=\"/wiki/The_Queen%27s_Justice\" title=\"The Queen's Justice\">The Queen's Justice</a>\"</li>\n",
       "<li>\"<a href=\"/wiki/The_Spoils_of_War_(Game_of_Thrones)\" title=\"The Spoils of War (Game of Thrones)\">The Spoils of War</a>\"</li>\n",
       "<li>\"<a href=\"/wiki/Eastwatch\" title=\"Eastwatch\">Eastwatch</a>\"</li>\n",
       "<li>\"<a href=\"/wiki/Beyond_the_Wall_(Game_of_Thrones)\" title=\"Beyond the Wall (Game of Thrones)\">Beyond the Wall</a>\"</li>\n",
       "<li>\"<a href=\"/wiki/The_Dragon_and_the_Wolf\" title=\"The Dragon and the Wolf\">The Dragon and the Wolf</a>\"</li></ul>\n",
       "</div></td></tr><tr><th class=\"navbox-group\" scope=\"row\" style=\"width:1%\"><a href=\"/wiki/Game_of_Thrones_(season_8)\" title=\"Game of Thrones (season 8)\">Season 8</a></th><td class=\"navbox-list navbox-even hlist\" style=\"text-align:left;border-left-width:2px;border-left-style:solid;width:100%;padding:0px\"><div style=\"padding:0em 0.25em\">\n",
       "<ul><li>\"<a href=\"/wiki/Winterfell_(Game_of_Thrones_episode)\" title=\"Winterfell (Game of Thrones episode)\">Winterfell</a>\"</li>\n",
       "<li>\"<a href=\"/wiki/A_Knight_of_the_Seven_Kingdoms_(Game_of_Thrones)\" title=\"A Knight of the Seven Kingdoms (Game of Thrones)\">A Knight of the Seven Kingdoms</a>\"</li>\n",
       "<li>\"<a href=\"/wiki/The_Long_Night_(Game_of_Thrones)\" title=\"The Long Night (Game of Thrones)\">The Long Night</a>\"</li>\n",
       "<li>\"<a href=\"/wiki/The_Last_of_the_Starks\" title=\"The Last of the Starks\">The Last of the Starks</a>\"</li>\n",
       "<li>\"<a href=\"/wiki/The_Bells_(Game_of_Thrones)\" title=\"The Bells (Game of Thrones)\">The Bells</a>\"</li>\n",
       "<li>\"<a href=\"/wiki/The_Iron_Throne_(Game_of_Thrones)\" title=\"The Iron Throne (Game of Thrones)\">The Iron Throne</a>\"</li></ul>\n",
       "</div></td></tr></tbody></table></div>\n",
       "<div aria-labelledby=\"George_R._R._Martin&amp;#039;s_A_Song_of_Ice_and_Fire\" class=\"navbox\" role=\"navigation\" style=\"padding:3px\"><table class=\"nowraplinks hlist mw-collapsible autocollapse navbox-inner\" style=\"border-spacing:0;background:transparent;color:inherit\"><tbody><tr><th class=\"navbox-title\" colspan=\"2\" scope=\"col\"><div class=\"plainlinks hlist navbar mini\"><ul><li class=\"nv-view\"><a href=\"/wiki/Template:A_Song_of_Ice_and_Fire\" title=\"Template:A Song of Ice and Fire\"><abbr style=\";;background:none transparent;border:none;-moz-box-shadow:none;-webkit-box-shadow:none;box-shadow:none; padding:0;\" title=\"View this template\">v</abbr></a></li><li class=\"nv-talk\"><a href=\"/wiki/Template_talk:A_Song_of_Ice_and_Fire\" title=\"Template talk:A Song of Ice and Fire\"><abbr style=\";;background:none transparent;border:none;-moz-box-shadow:none;-webkit-box-shadow:none;box-shadow:none; padding:0;\" title=\"Discuss this template\">t</abbr></a></li><li class=\"nv-edit\"><a class=\"external text\" href=\"https://en.wikipedia.org/w/index.php?title=Template:A_Song_of_Ice_and_Fire&amp;action=edit\"><abbr style=\";;background:none transparent;border:none;-moz-box-shadow:none;-webkit-box-shadow:none;box-shadow:none; padding:0;\" title=\"Edit this template\">e</abbr></a></li></ul></div><div id=\"George_R._R._Martin&amp;#039;s_A_Song_of_Ice_and_Fire\" style=\"font-size:114%;margin:0 4em\"><a href=\"/wiki/George_R._R._Martin\" title=\"George R. R. Martin\">George R. R. Martin</a>'s <i><a href=\"/wiki/A_Song_of_Ice_and_Fire\" title=\"A Song of Ice and Fire\">A Song of Ice and Fire</a></i></div></th></tr><tr><td class=\"navbox-abovebelow\" colspan=\"2\"><div id=\"*_A_Game_of_Thrones_(1996)_*_A_Clash_of_Kings_(1998)_*_A_Storm_of_Swords_(2000)_*_A_Feast_for_Crows_(2005)_*_A_Dance_with_Dragons_(2011)_*_The_Winds_of_Winter_(TBA)_*_A_Dream_of_Spring_(TBD)\">\n",
       "<ul><li><span class=\"nowrap\"><i><a href=\"/wiki/A_Game_of_Thrones\" title=\"A Game of Thrones\">A Game of Thrones</a></i> (1996)</span></li>\n",
       "<li><span class=\"nowrap\"><i><a href=\"/wiki/A_Clash_of_Kings\" title=\"A Clash of Kings\">A Clash of Kings</a></i> (1998)</span></li>\n",
       "<li><span class=\"nowrap\"><i><a href=\"/wiki/A_Storm_of_Swords\" title=\"A Storm of Swords\">A Storm of Swords</a></i> (2000)</span></li>\n",
       "<li><span class=\"nowrap\"><i><a href=\"/wiki/A_Feast_for_Crows\" title=\"A Feast for Crows\">A Feast for Crows</a></i> (2005)</span></li>\n",
       "<li><span class=\"nowrap\"><i><a href=\"/wiki/A_Dance_with_Dragons\" title=\"A Dance with Dragons\">A Dance with Dragons</a></i> (2011)</span></li>\n",
       "<li><span class=\"nowrap\"><i><a href=\"/wiki/The_Winds_of_Winter\" title=\"The Winds of Winter\">The Winds of Winter</a></i> (TBA)</span></li>\n",
       "<li><span class=\"nowrap\"><i><a class=\"mw-redirect\" href=\"/wiki/A_Dream_of_Spring\" title=\"A Dream of Spring\">A Dream of Spring</a></i> (TBD)</span></li></ul>\n",
       "</div></td></tr><tr><th class=\"navbox-group\" scope=\"row\" style=\"width:1%\"><a href=\"/wiki/Works_based_on_A_Song_of_Ice_and_Fire\" title=\"Works based on A Song of Ice and Fire\">Franchise<wbr/>​ media</a></th><td class=\"navbox-list navbox-odd hlist\" style=\"text-align:left;border-left-width:2px;border-left-style:solid;width:100%;padding:0px\"><div style=\"padding:0em 0.25em\"></div><table class=\"nowraplinks navbox-subgroup\" style=\"border-spacing:0\"><tbody><tr><th class=\"navbox-group\" scope=\"row\" style=\"width:1%\">Books</th><td class=\"navbox-list navbox-odd\" style=\"text-align:left;border-left-width:2px;border-left-style:solid;width:100%;padding:0px\"><div style=\"padding:0em 0.25em\">\n",
       "<ul><li><span class=\"nowrap\"><i><a href=\"/wiki/Tales_of_Dunk_and_Egg\" title=\"Tales of Dunk and Egg\">Tales of Dunk and Egg</a></i> (1998–2015)</span></li>\n",
       "<li><span class=\"nowrap\"><i><a href=\"/wiki/The_Princess_and_the_Queen\" title=\"The Princess and the Queen\">The Princess and the Queen</a></i> (2013)</span></li>\n",
       "<li><span class=\"nowrap\"><i><a href=\"/wiki/The_Rogue_Prince\" title=\"The Rogue Prince\">The Rogue Prince</a></i> (2014)</span></li>\n",
       "<li><span class=\"nowrap\"><i><a href=\"/wiki/The_World_of_Ice_%26_Fire\" title=\"The World of Ice &amp; Fire\">The World of Ice &amp; Fire</a></i> (2014, co-written by <a href=\"/wiki/Elio_M._Garc%C3%ADa_Jr._and_Linda_Antonsson\" title=\"Elio M. García Jr. and Linda Antonsson\">Elio M. García Jr. and Linda Antonsson</a>)</span></li>\n",
       "<li><span class=\"nowrap\"><i><a href=\"/wiki/The_Sons_of_the_Dragon\" title=\"The Sons of the Dragon\">The Sons of the Dragon</a></i> (2017)</span></li>\n",
       "<li><span class=\"nowrap\"><a href=\"/wiki/Fire_%26_Blood_(novel)\" title=\"Fire &amp; Blood (novel)\"><i>Fire &amp; Blood</i></a> (2018)</span></li></ul>\n",
       "</div></td></tr><tr><th class=\"navbox-group\" scope=\"row\" style=\"width:1%\"><a href=\"/wiki/Game_of_Thrones\" title=\"Game of Thrones\">TV series</a><br/></th><td class=\"navbox-list navbox-even\" style=\"text-align:left;border-left-width:2px;border-left-style:solid;width:100%;padding:0px\"><div style=\"padding:0em 0.25em\">\n",
       "<ul><li><span class=\"nowrap\"><a class=\"mw-selflink selflink\">Episodes</a></span>\n",
       "<ul><li><span class=\"nowrap\"><a href=\"/wiki/Game_of_Thrones_(season_1)\" title=\"Game of Thrones (season 1)\">Season 1</a></span></li>\n",
       "<li><span class=\"nowrap\"><a href=\"/wiki/Game_of_Thrones_(season_2)\" title=\"Game of Thrones (season 2)\">2</a></span></li>\n",
       "<li><span class=\"nowrap\"><a href=\"/wiki/Game_of_Thrones_(season_3)\" title=\"Game of Thrones (season 3)\">3</a></span></li>\n",
       "<li><span class=\"nowrap\"><a href=\"/wiki/Game_of_Thrones_(season_4)\" title=\"Game of Thrones (season 4)\">4</a></span></li>\n",
       "<li><span class=\"nowrap\"><a href=\"/wiki/Game_of_Thrones_(season_5)\" title=\"Game of Thrones (season 5)\">5</a></span></li>\n",
       "<li><span class=\"nowrap\"><a href=\"/wiki/Game_of_Thrones_(season_6)\" title=\"Game of Thrones (season 6)\">6</a></span></li>\n",
       "<li><span class=\"nowrap\"><a href=\"/wiki/Game_of_Thrones_(season_7)\" title=\"Game of Thrones (season 7)\">7</a></span></li>\n",
       "<li><span class=\"nowrap\"><a href=\"/wiki/Game_of_Thrones_(season_8)\" title=\"Game of Thrones (season 8)\">8</a></span></li></ul></li>\n",
       "<li><span class=\"nowrap\"><a href=\"/wiki/List_of_awards_and_nominations_received_by_Game_of_Thrones\" title=\"List of awards and nominations received by Game of Thrones\">Awards</a></span></li>\n",
       "<li><span class=\"nowrap\"><a href=\"/wiki/List_of_Game_of_Thrones_characters\" title=\"List of Game of Thrones characters\">Characters</a></span></li>\n",
       "<li><span class=\"nowrap\"><a href=\"/wiki/Music_of_Game_of_Thrones\" title=\"Music of Game of Thrones\">Music</a></span>\n",
       "<ul><li><span class=\"nowrap\">Soundtracks</span>\n",
       "<ul><li><span class=\"nowrap\"><a href=\"/wiki/Game_of_Thrones:_Season_1_(soundtrack)\" title=\"Game of Thrones: Season 1 (soundtrack)\">Season 1</a></span></li>\n",
       "<li><span class=\"nowrap\"><a href=\"/wiki/Game_of_Thrones:_Season_2_(soundtrack)\" title=\"Game of Thrones: Season 2 (soundtrack)\">2</a></span></li>\n",
       "<li><span class=\"nowrap\"><a href=\"/wiki/Game_of_Thrones:_Season_3_(soundtrack)\" title=\"Game of Thrones: Season 3 (soundtrack)\">3</a></span></li>\n",
       "<li><span class=\"nowrap\"><a href=\"/wiki/Game_of_Thrones:_Season_4_(soundtrack)\" title=\"Game of Thrones: Season 4 (soundtrack)\">4</a></span></li>\n",
       "<li><span class=\"nowrap\"><a href=\"/wiki/Game_of_Thrones:_Season_5_(soundtrack)\" title=\"Game of Thrones: Season 5 (soundtrack)\">5</a></span></li>\n",
       "<li><span class=\"nowrap\"><a href=\"/wiki/Game_of_Thrones:_Season_6_(soundtrack)\" title=\"Game of Thrones: Season 6 (soundtrack)\">6</a></span></li>\n",
       "<li><span class=\"nowrap\"><a href=\"/wiki/Game_of_Thrones:_Season_7_(soundtrack)\" title=\"Game of Thrones: Season 7 (soundtrack)\">7</a></span></li>\n",
       "<li><span class=\"nowrap\"><a href=\"/wiki/Game_of_Thrones:_Season_8_(soundtrack)\" title=\"Game of Thrones: Season 8 (soundtrack)\">8</a></span></li></ul></li>\n",
       "<li><span class=\"nowrap\">\"<a href=\"/wiki/Game_of_Thrones_Theme\" title=\"Game of Thrones Theme\">Game of Thrones Theme</a>\"</span></li>\n",
       "<li><span class=\"nowrap\">\"<a href=\"/wiki/The_Rains_of_Castamere_(song)\" title=\"The Rains of Castamere (song)\">The Rains of Castamere</a>\"</span></li>\n",
       "<li><span class=\"nowrap\">\"<a href=\"/wiki/The_Bear_and_the_Maiden_Fair_(song)\" title=\"The Bear and the Maiden Fair (song)\">The Bear and the Maiden Fair</a>\"</span></li>\n",
       "<li><span class=\"nowrap\">\"<a href=\"/wiki/Light_of_the_Seven\" title=\"Light of the Seven\">Light of the Seven</a>\"</span></li>\n",
       "<li><span class=\"nowrap\">\"<a href=\"/wiki/Power_Is_Power\" title=\"Power Is Power\">Power Is Power</a>\"</span></li>\n",
       "<li><span class=\"nowrap\">\"<a href=\"/wiki/Jenny_of_Oldstones\" title=\"Jenny of Oldstones\">Jenny's Song</a>\"</span></li>\n",
       "<li><span class=\"nowrap\"><i><a href=\"/wiki/Catch_the_Throne\" title=\"Catch the Throne\">Catch the Throne</a></i></span></li>\n",
       "<li><span class=\"nowrap\"><i><a href=\"/wiki/For_the_Throne:_Music_Inspired_by_the_HBO_Series_Game_of_Thrones\" title=\"For the Throne: Music Inspired by the HBO Series Game of Thrones\">For the Throne</a></i></span></li>\n",
       "<li><span class=\"nowrap\"><i><a href=\"/wiki/Game_of_Thrones_Live_Concert_Experience\" title=\"Game of Thrones Live Concert Experience\">Live Concert Experience</a></i></span></li></ul></li>\n",
       "<li><span class=\"nowrap\"><a href=\"/wiki/Game_of_Thrones_title_sequence\" title=\"Game of Thrones title sequence\">Title sequence</a></span></li>\n",
       "<li><span class=\"nowrap\"><i><a href=\"/wiki/After_the_Thrones\" title=\"After the Thrones\">After the Thrones</a></i></span></li>\n",
       "<li><span class=\"nowrap\"><i><a href=\"/wiki/Thronecast\" title=\"Thronecast\">Thronecast</a></i></span></li></ul>\n",
       "</div></td></tr><tr><th class=\"navbox-group\" scope=\"row\" style=\"width:1%\"><a href=\"/wiki/List_of_A_Song_of_Ice_and_Fire_video_games\" title=\"List of A Song of Ice and Fire video games\">Video<wbr/>​ games</a></th><td class=\"navbox-list navbox-odd\" style=\"text-align:left;border-left-width:2px;border-left-style:solid;width:100%;padding:0px\"><div style=\"padding:0em 0.25em\">\n",
       "<ul><li><span class=\"nowrap\"><i><a href=\"/wiki/A_Game_of_Thrones:_Genesis\" title=\"A Game of Thrones: Genesis\">A Game of Thrones: Genesis</a></i></span></li>\n",
       "<li><span class=\"nowrap\"><a href=\"/wiki/Game_of_Thrones_(2012_video_game)\" title=\"Game of Thrones (2012 video game)\"><i>Game of Thrones</i></a> (2012)</span></li>\n",
       "<li><span class=\"nowrap\"><i><a href=\"/wiki/Game_of_Thrones_Ascent\" title=\"Game of Thrones Ascent\">Game of Thrones Ascent</a></i></span></li>\n",
       "<li><span class=\"nowrap\"><a href=\"/wiki/Game_of_Thrones_(2014_video_game)\" title=\"Game of Thrones (2014 video game)\"><i>Game of Thrones</i></a> (2014)</span></li>\n",
       "<li><span class=\"nowrap\"><i><a href=\"/wiki/Reigns:_Game_of_Thrones\" title=\"Reigns: Game of Thrones\">Reigns: Game of Thrones</a></i></span></li>\n",
       "<li><span class=\"nowrap\"><i><a href=\"/wiki/Game_of_Thrones:_Seven_Kingdoms\" title=\"Game of Thrones: Seven Kingdoms\">Game of Thrones: Seven Kingdoms</a></i></span></li></ul>\n",
       "</div></td></tr><tr><th class=\"navbox-group\" scope=\"row\" style=\"width:1%\">Other<wbr/>​ games</th><td class=\"navbox-list navbox-even\" style=\"text-align:left;border-left-width:2px;border-left-style:solid;width:100%;padding:0px\"><div style=\"padding:0em 0.25em\">\n",
       "<ul><li><span class=\"nowrap\"><a href=\"/wiki/A_Game_of_Thrones_(board_game)\" title=\"A Game of Thrones (board game)\"><i>A Game of Thrones</i> (board game)</a></span></li>\n",
       "<li><span class=\"nowrap\"><a href=\"/wiki/A_Game_of_Thrones_(card_game)\" title=\"A Game of Thrones (card game)\"><i>A Game of Thrones</i> (card game)</a></span>\n",
       "<ul><li><span class=\"nowrap\"><a href=\"/wiki/A_Game_of_Thrones:_Second_Edition_(card_game)\" title=\"A Game of Thrones: Second Edition (card game)\"><i>Second Edition</i></a></span></li></ul></li>\n",
       "<li><span class=\"nowrap\"><a href=\"/wiki/A_Game_of_Thrones_(role-playing_game)\" title=\"A Game of Thrones (role-playing game)\"><i>A Game of Thrones</i> (role-playing game)</a></span></li>\n",
       "<li><span class=\"nowrap\"><i><a href=\"/wiki/A_Song_of_Ice_and_Fire_Roleplaying\" title=\"A Song of Ice and Fire Roleplaying\">A Song of Ice and Fire Roleplaying</a></i></span></li></ul>\n",
       "</div></td></tr><tr><th class=\"navbox-group\" scope=\"row\" style=\"width:1%\">Comics</th><td class=\"navbox-list navbox-odd\" style=\"text-align:left;border-left-width:2px;border-left-style:solid;width:100%;padding:0px\"><div style=\"padding:0em 0.25em\">\n",
       "<ul><li><span class=\"nowrap\"><a href=\"/wiki/A_Game_of_Thrones_(comics)\" title=\"A Game of Thrones (comics)\"><i>A Game of Thrones</i></a></span></li></ul>\n",
       "</div></td></tr></tbody></table><div></div></td></tr><tr><th class=\"navbox-group\" scope=\"row\" style=\"width:1%\"><a href=\"/wiki/List_of_A_Song_of_Ice_and_Fire_characters\" title=\"List of A Song of Ice and Fire characters\">Characters</a></th><td class=\"navbox-list navbox-even hlist\" style=\"text-align:left;border-left-width:2px;border-left-style:solid;width:100%;padding:0px\"><div style=\"padding:0em 0.25em\">\n",
       "<ul><li><span class=\"nowrap\"><a href=\"/wiki/Petyr_Baelish\" title=\"Petyr Baelish\">Petyr Baelish</a></span></li>\n",
       "<li><span class=\"nowrap\"><a href=\"/wiki/Joffrey_Baratheon\" title=\"Joffrey Baratheon\">Joffrey Baratheon</a></span></li>\n",
       "<li><span class=\"nowrap\"><a href=\"/wiki/Myrcella_Baratheon\" title=\"Myrcella Baratheon\">Myrcella Baratheon</a></span></li>\n",
       "<li><span class=\"nowrap\"><a href=\"/wiki/Renly_Baratheon\" title=\"Renly Baratheon\">Renly Baratheon</a></span></li>\n",
       "<li><span class=\"nowrap\"><a href=\"/wiki/Robert_Baratheon\" title=\"Robert Baratheon\">Robert Baratheon</a></span></li>\n",
       "<li><span class=\"nowrap\"><a href=\"/wiki/Stannis_Baratheon\" title=\"Stannis Baratheon\">Stannis Baratheon</a></span></li>\n",
       "<li><span class=\"nowrap\"><a href=\"/wiki/Tommen_Baratheon\" title=\"Tommen Baratheon\">Tommen Baratheon</a></span></li>\n",
       "<li><span class=\"nowrap\"><a href=\"/wiki/Ramsay_Bolton\" title=\"Ramsay Bolton\">Ramsay Bolton</a></span></li>\n",
       "<li><span class=\"nowrap\"><a href=\"/wiki/Roose_Bolton\" title=\"Roose Bolton\">Roose Bolton</a></span></li>\n",
       "<li><span class=\"nowrap\"><a href=\"/wiki/Bronn_(character)\" title=\"Bronn (character)\">Bronn</a></span></li>\n",
       "<li><span class=\"nowrap\"><a href=\"/wiki/Gregor_Clegane\" title=\"Gregor Clegane\">Gregor Clegane</a></span></li>\n",
       "<li><span class=\"nowrap\"><a href=\"/wiki/Sandor_Clegane\" title=\"Sandor Clegane\">Sandor Clegane</a></span></li>\n",
       "<li><span class=\"nowrap\"><a href=\"/wiki/Khal_Drogo\" title=\"Khal Drogo\">Khal Drogo</a></span></li>\n",
       "<li><span class=\"nowrap\"><a href=\"/wiki/Gendry\" title=\"Gendry\">Gendry</a></span></li>\n",
       "<li><span class=\"nowrap\"><a href=\"/wiki/Tormund_Giantsbane\" title=\"Tormund Giantsbane\">Tormund Giantsbane</a></span></li>\n",
       "<li><span class=\"nowrap\"><a href=\"/wiki/Gilly_(character)\" title=\"Gilly (character)\">Gilly</a></span></li>\n",
       "<li><span class=\"nowrap\"><a href=\"/wiki/Theon_Greyjoy\" title=\"Theon Greyjoy\">Theon Greyjoy</a></span></li>\n",
       "<li><span class=\"nowrap\"><a href=\"/wiki/Cersei_Lannister\" title=\"Cersei Lannister\">Cersei Lannister</a></span></li>\n",
       "<li><span class=\"nowrap\"><a href=\"/wiki/Jaime_Lannister\" title=\"Jaime Lannister\">Jaime Lannister</a></span></li>\n",
       "<li><span class=\"nowrap\"><a href=\"/wiki/Tyrion_Lannister\" title=\"Tyrion Lannister\">Tyrion Lannister</a></span></li>\n",
       "<li><span class=\"nowrap\"><a href=\"/wiki/Tywin_Lannister\" title=\"Tywin Lannister\">Tywin Lannister</a></span></li>\n",
       "<li><span class=\"nowrap\"><a href=\"/wiki/Oberyn_Martell\" title=\"Oberyn Martell\">Oberyn Martell</a></span></li>\n",
       "<li><span class=\"nowrap\"><a href=\"/wiki/Melisandre\" title=\"Melisandre\">Melisandre</a></span></li>\n",
       "<li><span class=\"nowrap\"><a href=\"/wiki/Missandei\" title=\"Missandei\">Missandei</a></span></li>\n",
       "<li><span class=\"nowrap\"><a href=\"/wiki/Jorah_Mormont\" title=\"Jorah Mormont\">Jorah Mormont</a></span></li>\n",
       "<li><span class=\"nowrap\"><a href=\"/wiki/Daario_Naharis\" title=\"Daario Naharis\">Daario Naharis</a></span></li>\n",
       "<li><span class=\"nowrap\"><a href=\"/wiki/Night_King\" title=\"Night King\">Night King</a></span></li>\n",
       "<li><span class=\"nowrap\"><a href=\"/wiki/Ellaria_Sand\" title=\"Ellaria Sand\">Ellaria Sand</a></span></li>\n",
       "<li><span class=\"nowrap\"><a href=\"/wiki/Davos_Seaworth\" title=\"Davos Seaworth\">Davos Seaworth</a></span></li>\n",
       "<li><span class=\"nowrap\"><a href=\"/wiki/Jon_Snow_(character)\" title=\"Jon Snow (character)\">Jon Snow</a></span></li>\n",
       "<li><span class=\"nowrap\"><a href=\"/wiki/High_Sparrow\" title=\"High Sparrow\">High Sparrow</a></span></li>\n",
       "<li><span class=\"nowrap\"><a href=\"/wiki/Arya_Stark\" title=\"Arya Stark\">Arya Stark</a></span></li>\n",
       "<li><span class=\"nowrap\"><a href=\"/wiki/Bran_Stark\" title=\"Bran Stark\">Bran Stark</a></span></li>\n",
       "<li><span class=\"nowrap\"><a href=\"/wiki/Catelyn_Stark\" title=\"Catelyn Stark\">Catelyn Stark</a></span></li>\n",
       "<li><span class=\"nowrap\"><a href=\"/wiki/Ned_Stark\" title=\"Ned Stark\">Ned Stark</a></span></li>\n",
       "<li><span class=\"nowrap\"><a href=\"/wiki/Rickon_Stark\" title=\"Rickon Stark\">Rickon Stark</a></span></li>\n",
       "<li><span class=\"nowrap\"><a href=\"/wiki/Robb_Stark\" title=\"Robb Stark\">Robb Stark</a></span></li>\n",
       "<li><span class=\"nowrap\"><a href=\"/wiki/Sansa_Stark\" title=\"Sansa Stark\">Sansa Stark</a></span></li>\n",
       "<li><span class=\"nowrap\"><a href=\"/wiki/Daenerys_Targaryen\" title=\"Daenerys Targaryen\">Daenerys Targaryen</a></span></li>\n",
       "<li><span class=\"nowrap\"><a href=\"/wiki/Viserys_Targaryen\" title=\"Viserys Targaryen\">Viserys Targaryen</a></span></li>\n",
       "<li><span class=\"nowrap\"><a href=\"/wiki/Samwell_Tarly\" title=\"Samwell Tarly\">Samwell Tarly</a></span></li>\n",
       "<li><span class=\"nowrap\"><a href=\"/wiki/Brienne_of_Tarth\" title=\"Brienne of Tarth\">Brienne of Tarth</a></span></li>\n",
       "<li><span class=\"nowrap\"><a href=\"/wiki/Margaery_Tyrell\" title=\"Margaery Tyrell\">Margaery Tyrell</a></span></li>\n",
       "<li><span class=\"nowrap\"><a href=\"/wiki/Olenna_Tyrell\" title=\"Olenna Tyrell\">Olenna Tyrell</a></span></li>\n",
       "<li><span class=\"nowrap\"><a href=\"/wiki/Varys\" title=\"Varys\">Varys</a></span></li>\n",
       "<li><span class=\"nowrap\"><a class=\"mw-redirect\" href=\"/wiki/Ygritte\" title=\"Ygritte\">Ygritte</a></span></li></ul>\n",
       "</div></td></tr><tr><th class=\"navbox-group\" scope=\"row\" style=\"width:1%\"><a href=\"/wiki/World_of_A_Song_of_Ice_and_Fire\" title=\"World of A Song of Ice and Fire\">World</a></th><td class=\"navbox-list navbox-odd hlist\" style=\"text-align:left;border-left-width:2px;border-left-style:solid;width:100%;padding:0px\"><div style=\"padding:0em 0.25em\">\n",
       "<ul><li><span class=\"nowrap\"><a href=\"/wiki/Dothraki_language\" title=\"Dothraki language\">Dothraki language</a></span></li>\n",
       "<li><span class=\"nowrap\"><a href=\"/wiki/Iron_Throne_(A_Song_of_Ice_and_Fire)\" title=\"Iron Throne (A Song of Ice and Fire)\">Iron Throne</a></span></li>\n",
       "<li><span class=\"nowrap\"><a href=\"/wiki/Valyrian_languages\" title=\"Valyrian languages\">Valyrian languages</a></span></li>\n",
       "<li><span class=\"nowrap\"><a href=\"/wiki/White_Walker\" title=\"White Walker\">White Walker</a></span></li></ul>\n",
       "</div></td></tr><tr><th class=\"navbox-group\" scope=\"row\" style=\"width:1%\">Miscellaneous</th><td class=\"navbox-list navbox-even hlist\" style=\"text-align:left;border-left-width:2px;border-left-style:solid;width:100%;padding:0px\"><div style=\"padding:0em 0.25em\">\n",
       "<ul><li><span class=\"nowrap\"><a href=\"/wiki/A_Song_of_Ice_and_Fire_fandom\" title=\"A Song of Ice and Fire fandom\">Fandom</a></span></li>\n",
       "<li><span class=\"nowrap\"><a href=\"/wiki/Themes_in_A_Song_of_Ice_and_Fire\" title=\"Themes in A Song of Ice and Fire\">Themes</a></span></li>\n",
       "<li><span class=\"nowrap\"><i><a href=\"/wiki/Targaryendraco\" title=\"Targaryendraco\">Targaryendraco</a></i></span></li></ul>\n",
       "</div></td></tr><tr><td class=\"navbox-abovebelow\" colspan=\"2\"><div>\n",
       "<ul><li><span class=\"nowrap\"><img alt=\"Wikipedia book\" data-file-height=\"185\" data-file-width=\"180\" decoding=\"async\" height=\"16\" src=\"//upload.wikimedia.org/wikipedia/commons/thumb/8/89/Symbol_book_class2.svg/16px-Symbol_book_class2.svg.png\" srcset=\"//upload.wikimedia.org/wikipedia/commons/thumb/8/89/Symbol_book_class2.svg/23px-Symbol_book_class2.svg.png 1.5x, //upload.wikimedia.org/wikipedia/commons/thumb/8/89/Symbol_book_class2.svg/31px-Symbol_book_class2.svg.png 2x\" title=\"Wikipedia book\" width=\"16\"/> <a href=\"/wiki/Book:A_Song_of_Ice_and_Fire\" title=\"Book:A Song of Ice and Fire\">Book</a></span></li>\n",
       "<li><span class=\"nowrap\"><img alt=\"Category\" data-file-height=\"31\" data-file-width=\"36\" decoding=\"async\" height=\"14\" src=\"//upload.wikimedia.org/wikipedia/en/thumb/4/48/Folder_Hexagonal_Icon.svg/16px-Folder_Hexagonal_Icon.svg.png\" srcset=\"//upload.wikimedia.org/wikipedia/en/thumb/4/48/Folder_Hexagonal_Icon.svg/24px-Folder_Hexagonal_Icon.svg.png 1.5x, //upload.wikimedia.org/wikipedia/en/thumb/4/48/Folder_Hexagonal_Icon.svg/32px-Folder_Hexagonal_Icon.svg.png 2x\" title=\"Category\" width=\"16\"/> <a href=\"/wiki/Category:A_Song_of_Ice_and_Fire\" title=\"Category:A Song of Ice and Fire\">Category</a></span></li>\n",
       "<li><span class=\"nowrap\"><img alt=\"Outline\" data-file-height=\"200\" data-file-width=\"130\" decoding=\"async\" height=\"16\" src=\"//upload.wikimedia.org/wikipedia/commons/thumb/4/41/Global_thinking.svg/10px-Global_thinking.svg.png\" srcset=\"//upload.wikimedia.org/wikipedia/commons/thumb/4/41/Global_thinking.svg/15px-Global_thinking.svg.png 1.5x, //upload.wikimedia.org/wikipedia/commons/thumb/4/41/Global_thinking.svg/21px-Global_thinking.svg.png 2x\" title=\"Outline\" width=\"10\"/> <a href=\"/wiki/Outline_of_A_Song_of_Ice_and_Fire_franchise\" title=\"Outline of A Song of Ice and Fire franchise\">Outline</a></span></li></ul>\n",
       "</div></td></tr></tbody></table></div>\n",
       "<p class=\"mw-empty-elt\">\n",
       "</p>\n",
       "<!-- \n",
       "NewPP limit report\n",
       "Parsed by mw1270\n",
       "Cached time: 20200518141425\n",
       "Cache expiry: 2592000\n",
       "Dynamic content: false\n",
       "Complications: [vary‐revision‐sha1]\n",
       "CPU time usage: 2.196 seconds\n",
       "Real time usage: 2.490 seconds\n",
       "Preprocessor visited node count: 19393/1000000\n",
       "Post‐expand include size: 690531/2097152 bytes\n",
       "Template argument size: 5061/2097152 bytes\n",
       "Highest expansion depth: 20/40\n",
       "Expensive parser function count: 2/500\n",
       "Unstrip recursion depth: 1/20\n",
       "Unstrip post‐expand size: 599272/5000000 bytes\n",
       "Number of Wikibase entities loaded: 1/400\n",
       "Lua time usage: 1.250/10.000 seconds\n",
       "Lua memory usage: 24.2 MB/50 MB\n",
       "Lua Profile:\n",
       "    ?                                                                360 ms       23.4%\n",
       "    Scribunto_LuaSandboxCallback::getExpandedArgument                320 ms       20.8%\n",
       "    Scribunto_LuaSandboxCallback::getAllExpandedArguments            120 ms        7.8%\n",
       "    Scribunto_LuaSandboxCallback::callParserFunction                  80 ms        5.2%\n",
       "    Scribunto_LuaSandboxCallback::unstripNoWiki                       80 ms        5.2%\n",
       "    init <Module:Citation/CS1/Date_validation>                        60 ms        3.9%\n",
       "    Scribunto_LuaSandboxCallback::find                                60 ms        3.9%\n",
       "    <mw.lua:683>                                                      60 ms        3.9%\n",
       "    cssText <mw.html.lua:380>                                         40 ms        2.6%\n",
       "    <mw.lua:185>                                                      40 ms        2.6%\n",
       "    [others]                                                         320 ms       20.8%\n",
       "-->\n",
       "<!--\n",
       "Transclusion expansion time report (%,ms,calls,template)\n",
       "100.00% 2150.228      1 -total\n",
       " 42.60%  915.990      1 Template:Reflist\n",
       " 30.76%  661.507    123 Template:Cite_web\n",
       " 25.00%  537.565      9 Template:Episode_table\n",
       " 21.68%  466.211     73 Template:Episode_list/sublist\n",
       " 10.56%  226.997      1 Game_of_Thrones_(season_1)\n",
       "  6.77%  145.583      1 Template:Excerpt\n",
       "  5.47%  117.695     83 Template:Start_date\n",
       "  5.04%  108.412      1 Template:Series_overview\n",
       "  4.52%   97.160      1 Template:Aired_episodes\n",
       "-->\n",
       "<!-- Saved in parser cache with key enwiki:pcache:idhash:31120069-0!canonical and timestamp 20200518141423 and revision id 957367760\n",
       " -->\n",
       "</div><noscript><img alt=\"\" height=\"1\" src=\"//en.wikipedia.org/wiki/Special:CentralAutoLogin/start?type=1x1\" style=\"border: none; position: absolute;\" title=\"\" width=\"1\"/></noscript></div>\n",
       "<div class=\"printfooter\">Retrieved from \"<a dir=\"ltr\" href=\"https://en.wikipedia.org/w/index.php?title=List_of_Game_of_Thrones_episodes&amp;oldid=957367760\">https://en.wikipedia.org/w/index.php?title=List_of_Game_of_Thrones_episodes&amp;oldid=957367760</a>\"</div>\n",
       "<div class=\"catlinks\" data-mw=\"interface\" id=\"catlinks\"><div class=\"mw-normal-catlinks\" id=\"mw-normal-catlinks\"><a href=\"/wiki/Help:Category\" title=\"Help:Category\">Categories</a>: <ul><li><a href=\"/wiki/Category:Game_of_Thrones_episodes\" title=\"Category:Game of Thrones episodes\">Game of Thrones episodes</a></li><li><a href=\"/wiki/Category:Lists_of_American_drama_television_series_episodes\" title=\"Category:Lists of American drama television series episodes\">Lists of American drama television series episodes</a></li><li><a href=\"/wiki/Category:Lists_of_fantasy_television_series_episodes\" title=\"Category:Lists of fantasy television series episodes\">Lists of fantasy television series episodes</a></li></ul></div><div class=\"mw-hidden-catlinks mw-hidden-cats-hidden\" id=\"mw-hidden-catlinks\">Hidden categories: <ul><li><a href=\"/wiki/Category:Use_mdy_dates_from_May_2020\" title=\"Category:Use mdy dates from May 2020\">Use mdy dates from May 2020</a></li><li><a href=\"/wiki/Category:Articles_with_short_description\" title=\"Category:Articles with short description\">Articles with short description</a></li><li><a href=\"/wiki/Category:Articles_with_excerpts\" title=\"Category:Articles with excerpts\">Articles with excerpts</a></li><li><a href=\"/wiki/Category:Official_website_not_in_Wikidata\" title=\"Category:Official website not in Wikidata\">Official website not in Wikidata</a></li><li><a href=\"/wiki/Category:Featured_lists\" title=\"Category:Featured lists\">Featured lists</a></li><li><a href=\"/wiki/Category:Pages_using_the_Graph_extension\" title=\"Category:Pages using the Graph extension\">Pages using the Graph extension</a></li></ul></div></div>\n",
       "<div class=\"visualClear\"></div>\n",
       "</div>\n",
       "</div>\n",
       "<div id=\"mw-data-after-content\">\n",
       "<div class=\"read-more-container\"></div>\n",
       "</div>\n",
       "<div id=\"mw-navigation\">\n",
       "<h2>Navigation menu</h2>\n",
       "<div id=\"mw-head\">\n",
       "<div aria-labelledby=\"p-personal-label\" class=\"\" id=\"p-personal\" role=\"navigation\">\n",
       "<h3 id=\"p-personal-label\">Personal tools</h3>\n",
       "<ul>\n",
       "<li id=\"pt-anonuserpage\">Not logged in</li><li id=\"pt-anontalk\"><a accesskey=\"n\" href=\"/wiki/Special:MyTalk\" title=\"Discussion about edits from this IP address [n]\">Talk</a></li><li id=\"pt-anoncontribs\"><a accesskey=\"y\" href=\"/wiki/Special:MyContributions\" title=\"A list of edits made from this IP address [y]\">Contributions</a></li><li id=\"pt-createaccount\"><a href=\"/w/index.php?title=Special:CreateAccount&amp;returnto=List+of+Game+of+Thrones+episodes\" title=\"You are encouraged to create an account and log in; however, it is not mandatory\">Create account</a></li><li id=\"pt-login\"><a accesskey=\"o\" href=\"/w/index.php?title=Special:UserLogin&amp;returnto=List+of+Game+of+Thrones+episodes\" title=\"You're encouraged to log in; however, it's not mandatory. [o]\">Log in</a></li>\n",
       "</ul>\n",
       "</div>\n",
       "<div id=\"left-navigation\">\n",
       "<div aria-labelledby=\"p-namespaces-label\" class=\"vectorTabs\" id=\"p-namespaces\" role=\"navigation\">\n",
       "<h3 id=\"p-namespaces-label\">Namespaces</h3>\n",
       "<ul>\n",
       "<li class=\"selected\" id=\"ca-nstab-main\"><a accesskey=\"c\" href=\"/wiki/List_of_Game_of_Thrones_episodes\" title=\"View the content page [c]\">Article</a></li><li id=\"ca-talk\"><a accesskey=\"t\" href=\"/wiki/Talk:List_of_Game_of_Thrones_episodes\" rel=\"discussion\" title=\"Discuss improvements to the content page [t]\">Talk</a></li>\n",
       "</ul>\n",
       "</div>\n",
       "<div aria-labelledby=\"p-variants-label\" class=\"emptyPortlet vectorMenu\" id=\"p-variants\" role=\"navigation\">\n",
       "<input aria-labelledby=\"p-variants-label\" class=\"vectorMenuCheckbox\" type=\"checkbox\"/>\n",
       "<h3 id=\"p-variants-label\">\n",
       "<span>Variants</span>\n",
       "</h3>\n",
       "<ul class=\"menu\">\n",
       "</ul>\n",
       "</div>\n",
       "</div>\n",
       "<div id=\"right-navigation\">\n",
       "<div aria-labelledby=\"p-views-label\" class=\"vectorTabs\" id=\"p-views\" role=\"navigation\">\n",
       "<h3 id=\"p-views-label\">Views</h3>\n",
       "<ul>\n",
       "<li class=\"collapsible selected\" id=\"ca-view\"><a href=\"/wiki/List_of_Game_of_Thrones_episodes\">Read</a></li><li class=\"collapsible\" id=\"ca-edit\"><a accesskey=\"e\" href=\"/w/index.php?title=List_of_Game_of_Thrones_episodes&amp;action=edit\" title=\"Edit this page [e]\">Edit</a></li><li class=\"collapsible\" id=\"ca-history\"><a accesskey=\"h\" href=\"/w/index.php?title=List_of_Game_of_Thrones_episodes&amp;action=history\" title=\"Past revisions of this page [h]\">View history</a></li>\n",
       "</ul>\n",
       "</div>\n",
       "<div aria-labelledby=\"p-cactions-label\" class=\"emptyPortlet vectorMenu\" id=\"p-cactions\" role=\"navigation\">\n",
       "<input aria-labelledby=\"p-cactions-label\" class=\"vectorMenuCheckbox\" type=\"checkbox\"/>\n",
       "<h3 id=\"p-cactions-label\">\n",
       "<span>More</span>\n",
       "</h3>\n",
       "<ul class=\"menu\">\n",
       "</ul>\n",
       "</div>\n",
       "<div id=\"p-search\" role=\"search\">\n",
       "<h3>\n",
       "<label for=\"searchInput\">Search</label>\n",
       "</h3>\n",
       "<form action=\"/w/index.php\" id=\"searchform\">\n",
       "<div id=\"simpleSearch\">\n",
       "<input accesskey=\"f\" id=\"searchInput\" name=\"search\" placeholder=\"Search Wikipedia\" title=\"Search Wikipedia [f]\" type=\"search\"/>\n",
       "<input name=\"title\" type=\"hidden\" value=\"Special:Search\"/>\n",
       "<input class=\"searchButton mw-fallbackSearchButton\" id=\"mw-searchButton\" name=\"fulltext\" title=\"Search Wikipedia for this text\" type=\"submit\" value=\"Search\"/>\n",
       "<input class=\"searchButton\" id=\"searchButton\" name=\"go\" title=\"Go to a page with this exact name if it exists\" type=\"submit\" value=\"Go\"/>\n",
       "</div>\n",
       "</form>\n",
       "</div>\n",
       "</div>\n",
       "</div>\n",
       "<div id=\"mw-panel\">\n",
       "<div id=\"p-logo\" role=\"banner\">\n",
       "<a class=\"mw-wiki-logo\" href=\"/wiki/Main_Page\" title=\"Visit the main page\"></a>\n",
       "</div>\n",
       "<div aria-labelledby=\"p-navigation-label\" class=\"portal portal-first\" id=\"p-navigation\" role=\"navigation\">\n",
       "<h3 id=\"p-navigation-label\">\n",
       "\t\tNavigation\n",
       "\t</h3>\n",
       "<div class=\"body\">\n",
       "<ul><li id=\"n-mainpage-description\"><a accesskey=\"z\" href=\"/wiki/Main_Page\" title=\"Visit the main page [z]\">Main page</a></li><li id=\"n-contents\"><a href=\"/wiki/Wikipedia:Contents\" title=\"Guides to browsing Wikipedia\">Contents</a></li><li id=\"n-featuredcontent\"><a href=\"/wiki/Wikipedia:Featured_content\" title=\"Featured content – the best of Wikipedia\">Featured content</a></li><li id=\"n-currentevents\"><a href=\"/wiki/Portal:Current_events\" title=\"Find background information on current events\">Current events</a></li><li id=\"n-randompage\"><a accesskey=\"x\" href=\"/wiki/Special:Random\" title=\"Load a random article [x]\">Random article</a></li><li id=\"n-sitesupport\"><a href=\"https://donate.wikimedia.org/wiki/Special:FundraiserRedirector?utm_source=donate&amp;utm_medium=sidebar&amp;utm_campaign=C13_en.wikipedia.org&amp;uselang=en\" title=\"Support us\">Donate to Wikipedia</a></li><li id=\"n-shoplink\"><a href=\"//shop.wikimedia.org\" title=\"Visit the Wikipedia store\">Wikipedia store</a></li></ul>\n",
       "</div>\n",
       "</div>\n",
       "<div aria-labelledby=\"p-interaction-label\" class=\"portal\" id=\"p-interaction\" role=\"navigation\">\n",
       "<h3 id=\"p-interaction-label\">\n",
       "\t\tInteraction\n",
       "\t</h3>\n",
       "<div class=\"body\">\n",
       "<ul><li id=\"n-help\"><a href=\"/wiki/Help:Contents\" title=\"Guidance on how to use and edit Wikipedia\">Help</a></li><li id=\"n-aboutsite\"><a href=\"/wiki/Wikipedia:About\" title=\"Find out about Wikipedia\">About Wikipedia</a></li><li id=\"n-portal\"><a href=\"/wiki/Wikipedia:Community_portal\" title=\"About the project, what you can do, where to find things\">Community portal</a></li><li id=\"n-recentchanges\"><a accesskey=\"r\" href=\"/wiki/Special:RecentChanges\" title=\"A list of recent changes in the wiki [r]\">Recent changes</a></li><li id=\"n-contactpage\"><a href=\"//en.wikipedia.org/wiki/Wikipedia:Contact_us\" title=\"How to contact Wikipedia\">Contact page</a></li></ul>\n",
       "</div>\n",
       "</div>\n",
       "<div aria-labelledby=\"p-tb-label\" class=\"portal\" id=\"p-tb\" role=\"navigation\">\n",
       "<h3 id=\"p-tb-label\">\n",
       "\t\tTools\n",
       "\t</h3>\n",
       "<div class=\"body\">\n",
       "<ul><li id=\"t-whatlinkshere\"><a accesskey=\"j\" href=\"/wiki/Special:WhatLinksHere/List_of_Game_of_Thrones_episodes\" title=\"List of all English Wikipedia pages containing links to this page [j]\">What links here</a></li><li id=\"t-recentchangeslinked\"><a accesskey=\"k\" href=\"/wiki/Special:RecentChangesLinked/List_of_Game_of_Thrones_episodes\" rel=\"nofollow\" title=\"Recent changes in pages linked from this page [k]\">Related changes</a></li><li id=\"t-upload\"><a accesskey=\"u\" href=\"/wiki/Wikipedia:File_Upload_Wizard\" title=\"Upload files [u]\">Upload file</a></li><li id=\"t-specialpages\"><a accesskey=\"q\" href=\"/wiki/Special:SpecialPages\" title=\"A list of all special pages [q]\">Special pages</a></li><li id=\"t-permalink\"><a href=\"/w/index.php?title=List_of_Game_of_Thrones_episodes&amp;oldid=957367760\" title=\"Permanent link to this revision of the page\">Permanent link</a></li><li id=\"t-info\"><a href=\"/w/index.php?title=List_of_Game_of_Thrones_episodes&amp;action=info\" title=\"More information about this page\">Page information</a></li><li id=\"t-wikibase\"><a accesskey=\"g\" href=\"https://www.wikidata.org/wiki/Special:EntityPage/Q847578\" title=\"Link to connected data repository item [g]\">Wikidata item</a></li><li id=\"t-cite\"><a href=\"/w/index.php?title=Special:CiteThisPage&amp;page=List_of_Game_of_Thrones_episodes&amp;id=957367760&amp;wpFormIdentifier=titleform\" title=\"Information on how to cite this page\">Cite this page</a></li></ul>\n",
       "</div>\n",
       "</div>\n",
       "<div aria-labelledby=\"p-wikibase-otherprojects-label\" class=\"portal\" id=\"p-wikibase-otherprojects\" role=\"navigation\">\n",
       "<h3 id=\"p-wikibase-otherprojects-label\">\n",
       "\t\tIn other projects\n",
       "\t</h3>\n",
       "<div class=\"body\">\n",
       "<ul><li class=\"wb-otherproject-link wb-otherproject-wikidata\"><a href=\"https://www.wikidata.org/wiki/Wikidata:WikiProject_Movies/lists/episodes_of_Game_of_Thrones\" hreflang=\"en\">Wikidata</a></li></ul>\n",
       "</div>\n",
       "</div>\n",
       "<div aria-labelledby=\"p-coll-print_export-label\" class=\"portal\" id=\"p-coll-print_export\" role=\"navigation\">\n",
       "<h3 id=\"p-coll-print_export-label\">\n",
       "\t\tPrint/export\n",
       "\t</h3>\n",
       "<div class=\"body\">\n",
       "<ul><li id=\"coll-download-as-rl\"><a href=\"/w/index.php?title=Special:ElectronPdf&amp;page=List+of+Game+of+Thrones+episodes&amp;action=show-download-screen\">Download as PDF</a></li><li id=\"t-print\"><a accesskey=\"p\" href=\"/w/index.php?title=List_of_Game_of_Thrones_episodes&amp;printable=yes\" title=\"Printable version of this page [p]\">Printable version</a></li></ul>\n",
       "</div>\n",
       "</div>\n",
       "<div aria-labelledby=\"p-lang-label\" class=\"portal\" id=\"p-lang\" role=\"navigation\">\n",
       "<h3 id=\"p-lang-label\">\n",
       "\t\tLanguages\n",
       "\t</h3>\n",
       "<div class=\"body\">\n",
       "<ul><li class=\"interlanguage-link interwiki-ar badge-Q17506997 badge-featuredlist\" title=\"featured list\"><a class=\"interlanguage-link-target\" href=\"https://ar.wikipedia.org/wiki/%D9%82%D8%A7%D8%A6%D9%85%D8%A9_%D8%AD%D9%84%D9%82%D8%A7%D8%AA_%D8%B5%D8%B1%D8%A7%D8%B9_%D8%A7%D9%84%D8%B9%D8%B1%D9%88%D8%B4\" hreflang=\"ar\" lang=\"ar\" title=\"قائمة حلقات صراع العروش – Arabic\">العربية</a></li><li class=\"interlanguage-link interwiki-be\"><a class=\"interlanguage-link-target\" href=\"https://be.wikipedia.org/wiki/%D0%A1%D0%BF%D1%96%D1%81_%D1%8D%D0%BF%D1%96%D0%B7%D0%BE%D0%B4%D0%B0%D1%9E_%D1%82%D1%8D%D0%BB%D0%B5%D1%81%D0%B5%D1%80%D1%8B%D1%8F%D0%BB%D0%B0_%C2%AB%D0%93%D1%83%D0%BB%D1%8C%D0%BD%D1%8F_%D1%82%D1%80%D0%BE%D0%BD%D0%B0%D1%9E%C2%BB\" hreflang=\"be\" lang=\"be\" title=\"Спіс эпізодаў тэлесерыяла «Гульня тронаў» – Belarusian\">Беларуская</a></li><li class=\"interlanguage-link interwiki-bg\"><a class=\"interlanguage-link-target\" href=\"https://bg.wikipedia.org/wiki/%D0%A1%D0%BF%D0%B8%D1%81%D1%8A%D0%BA_%D1%81_%D0%B5%D0%BF%D0%B8%D0%B7%D0%BE%D0%B4%D0%B8_%D0%BD%D0%B0_%D0%98%D0%B3%D1%80%D0%B0_%D0%BD%D0%B0_%D1%82%D1%80%D0%BE%D0%BD%D0%BE%D0%B2%D0%B5\" hreflang=\"bg\" lang=\"bg\" title=\"Списък с епизоди на Игра на тронове – Bulgarian\">Български</a></li><li class=\"interlanguage-link interwiki-bs\"><a class=\"interlanguage-link-target\" href=\"https://bs.wikipedia.org/wiki/Spisak_epizoda_%22Igre_prijestolja%22\" hreflang=\"bs\" lang=\"bs\" title='Spisak epizoda \"Igre prijestolja\" – Bosnian'>Bosanski</a></li><li class=\"interlanguage-link interwiki-ca\"><a class=\"interlanguage-link-target\" href=\"https://ca.wikipedia.org/wiki/Llista_de_cap%C3%ADtols_de_Game_of_Thrones\" hreflang=\"ca\" lang=\"ca\" title=\"Llista de capítols de Game of Thrones – Catalan\">Català</a></li><li class=\"interlanguage-link interwiki-cs\"><a class=\"interlanguage-link-target\" href=\"https://cs.wikipedia.org/wiki/Seznam_d%C3%ADl%C5%AF_seri%C3%A1lu_Hra_o_tr%C5%AFny\" hreflang=\"cs\" lang=\"cs\" title=\"Seznam dílů seriálu Hra o trůny – Czech\">Čeština</a></li><li class=\"interlanguage-link interwiki-da\"><a class=\"interlanguage-link-target\" href=\"https://da.wikipedia.org/wiki/Afsnit_af_Game_of_Thrones\" hreflang=\"da\" lang=\"da\" title=\"Afsnit af Game of Thrones – Danish\">Dansk</a></li><li class=\"interlanguage-link interwiki-de\"><a class=\"interlanguage-link-target\" href=\"https://de.wikipedia.org/wiki/Game_of_Thrones/Episodenliste\" hreflang=\"de\" lang=\"de\" title=\"Game of Thrones/Episodenliste – German\">Deutsch</a></li><li class=\"interlanguage-link interwiki-es\"><a class=\"interlanguage-link-target\" href=\"https://es.wikipedia.org/wiki/Anexo:Episodios_de_Game_of_Thrones\" hreflang=\"es\" lang=\"es\" title=\"Anexo:Episodios de Game of Thrones – Spanish\">Español</a></li><li class=\"interlanguage-link interwiki-fa\"><a class=\"interlanguage-link-target\" href=\"https://fa.wikipedia.org/wiki/%D9%81%D9%87%D8%B1%D8%B3%D8%AA_%D9%82%D8%B3%D9%85%D8%AA%E2%80%8C%D9%87%D8%A7%DB%8C_%D8%A8%D8%A7%D8%B2%DB%8C_%D8%AA%D8%A7%D8%AC%E2%80%8C%D9%88%D8%AA%D8%AE%D8%AA\" hreflang=\"fa\" lang=\"fa\" title=\"فهرست قسمت‌های بازی تاج‌وتخت – Persian\">فارسی</a></li><li class=\"interlanguage-link interwiki-fr\"><a class=\"interlanguage-link-target\" href=\"https://fr.wikipedia.org/wiki/Liste_des_%C3%A9pisodes_de_Game_of_Thrones\" hreflang=\"fr\" lang=\"fr\" title=\"Liste des épisodes de Game of Thrones – French\">Français</a></li><li class=\"interlanguage-link interwiki-gl\"><a class=\"interlanguage-link-target\" href=\"https://gl.wikipedia.org/wiki/Lista_de_episodios_de_Game_of_Thrones\" hreflang=\"gl\" lang=\"gl\" title=\"Lista de episodios de Game of Thrones – Galician\">Galego</a></li><li class=\"interlanguage-link interwiki-ko\"><a class=\"interlanguage-link-target\" href=\"https://ko.wikipedia.org/wiki/%EC%99%95%EC%A2%8C%EC%9D%98_%EA%B2%8C%EC%9E%84%EC%9D%98_%EC%97%90%ED%94%BC%EC%86%8C%EB%93%9C_%EB%AA%A9%EB%A1%9D\" hreflang=\"ko\" lang=\"ko\" title=\"왕좌의 게임의 에피소드 목록 – Korean\">한국어</a></li><li class=\"interlanguage-link interwiki-hy\"><a class=\"interlanguage-link-target\" href=\"https://hy.wikipedia.org/wiki/%D4%B3%D5%A1%D5%B0%D5%A5%D6%80%D5%AB_%D5%AD%D5%A1%D5%B2_%D5%BD%D5%A5%D6%80%D5%AB%D5%A1%D5%AC%D5%AB_%D5%A5%D5%A9%D5%A5%D6%80%D5%A1%D5%B7%D6%80%D5%BB%D5%A1%D5%B6%D5%B6%D5%A5%D6%80%D5%A8\" hreflang=\"hy\" lang=\"hy\" title=\"Գահերի խաղ սերիալի եթերաշրջանները – Armenian\">Հայերեն</a></li><li class=\"interlanguage-link interwiki-hi\"><a class=\"interlanguage-link-target\" href=\"https://hi.wikipedia.org/wiki/%E0%A4%97%E0%A5%87%E0%A4%AE_%E0%A4%91%E0%A4%AB%E0%A4%BC_%E0%A4%A5%E0%A5%8D%E0%A4%B0%E0%A5%8B%E0%A4%A8%E0%A5%8D%E0%A4%B8_%E0%A4%AA%E0%A5%8D%E0%A4%B0%E0%A4%95%E0%A4%B0%E0%A4%A3%E0%A5%8B%E0%A4%82_%E0%A4%95%E0%A5%80_%E0%A4%B8%E0%A5%82%E0%A4%9A%E0%A5%80\" hreflang=\"hi\" lang=\"hi\" title=\"गेम ऑफ़ थ्रोन्स प्रकरणों की सूची – Hindi\">हिन्दी</a></li><li class=\"interlanguage-link interwiki-id badge-Q17506997 badge-featuredlist\" title=\"featured list\"><a class=\"interlanguage-link-target\" href=\"https://id.wikipedia.org/wiki/Daftar_episode_Game_of_Thrones\" hreflang=\"id\" lang=\"id\" title=\"Daftar episode Game of Thrones – Indonesian\">Bahasa Indonesia</a></li><li class=\"interlanguage-link interwiki-he\"><a class=\"interlanguage-link-target\" href=\"https://he.wikipedia.org/wiki/%D7%9E%D7%A9%D7%97%D7%A7%D7%99_%D7%94%D7%9B%D7%A1_(%D7%A1%D7%93%D7%A8%D7%AA_%D7%98%D7%9C%D7%95%D7%95%D7%99%D7%96%D7%99%D7%94)_-_%D7%A4%D7%A8%D7%A7%D7%99%D7%9D\" hreflang=\"he\" lang=\"he\" title=\"משחקי הכס (סדרת טלוויזיה) - פרקים – Hebrew\">עברית</a></li><li class=\"interlanguage-link interwiki-ka\"><a class=\"interlanguage-link-target\" href=\"https://ka.wikipedia.org/wiki/%E1%83%A1%E1%83%90%E1%83%A2%E1%83%90%E1%83%AE%E1%83%A2%E1%83%9D%E1%83%97%E1%83%90_%E1%83%97%E1%83%90%E1%83%9B%E1%83%90%E1%83%A8%E1%83%98_(%E1%83%94%E1%83%9E%E1%83%98%E1%83%96%E1%83%9D%E1%83%93%E1%83%94%E1%83%91%E1%83%98%E1%83%A1_%E1%83%A1%E1%83%98%E1%83%90)\" hreflang=\"ka\" lang=\"ka\" title=\"სატახტოთა თამაში (ეპიზოდების სია) – Georgian\">ქართული</a></li><li class=\"interlanguage-link interwiki-hu\"><a class=\"interlanguage-link-target\" href=\"https://hu.wikipedia.org/wiki/A_Tr%C3%B3nok_harca_epiz%C3%B3djainak_list%C3%A1ja\" hreflang=\"hu\" lang=\"hu\" title=\"A Trónok harca epizódjainak listája – Hungarian\">Magyar</a></li><li class=\"interlanguage-link interwiki-mk\"><a class=\"interlanguage-link-target\" href=\"https://mk.wikipedia.org/wiki/%D0%A1%D0%BF%D0%B8%D1%81%D0%BE%D0%BA_%D0%BD%D0%B0_%D0%B5%D0%BF%D0%B8%D0%B7%D0%BE%D0%B4%D0%B8_%D0%BE%D0%B4_%D0%98%D0%B3%D1%80%D0%B0_%D0%BD%D0%B0_%D1%82%D1%80%D0%BE%D0%BD%D0%BE%D0%B2%D0%B8\" hreflang=\"mk\" lang=\"mk\" title=\"Список на епизоди од Игра на тронови – Macedonian\">Македонски</a></li><li class=\"interlanguage-link interwiki-ms\"><a class=\"interlanguage-link-target\" href=\"https://ms.wikipedia.org/wiki/Senarai_episod_Game_of_Thrones\" hreflang=\"ms\" lang=\"ms\" title=\"Senarai episod Game of Thrones – Malay\">Bahasa Melayu</a></li><li class=\"interlanguage-link interwiki-nl\"><a class=\"interlanguage-link-target\" href=\"https://nl.wikipedia.org/wiki/Lijst_van_afleveringen_van_Game_of_Thrones\" hreflang=\"nl\" lang=\"nl\" title=\"Lijst van afleveringen van Game of Thrones – Dutch\">Nederlands</a></li><li class=\"interlanguage-link interwiki-no\"><a class=\"interlanguage-link-target\" href=\"https://no.wikipedia.org/wiki/Liste_over_episoder_av_Game_of_Thrones\" hreflang=\"nb\" lang=\"nb\" title=\"Liste over episoder av Game of Thrones – Norwegian Bokmål\">Norsk bokmål</a></li><li class=\"interlanguage-link interwiki-pl\"><a class=\"interlanguage-link-target\" href=\"https://pl.wikipedia.org/wiki/Lista_odcink%C3%B3w_serialu_Gra_o_tron\" hreflang=\"pl\" lang=\"pl\" title=\"Lista odcinków serialu Gra o tron – Polish\">Polski</a></li><li class=\"interlanguage-link interwiki-pt\"><a class=\"interlanguage-link-target\" href=\"https://pt.wikipedia.org/wiki/Lista_de_epis%C3%B3dios_de_Game_of_Thrones\" hreflang=\"pt\" lang=\"pt\" title=\"Lista de episódios de Game of Thrones – Portuguese\">Português</a></li><li class=\"interlanguage-link interwiki-ro\"><a class=\"interlanguage-link-target\" href=\"https://ro.wikipedia.org/wiki/Lista_episoadelor_din_Urzeala_tronurilor\" hreflang=\"ro\" lang=\"ro\" title=\"Lista episoadelor din Urzeala tronurilor – Romanian\">Română</a></li><li class=\"interlanguage-link interwiki-ru\"><a class=\"interlanguage-link-target\" href=\"https://ru.wikipedia.org/wiki/%D0%A1%D0%BF%D0%B8%D1%81%D0%BE%D0%BA_%D1%8D%D0%BF%D0%B8%D0%B7%D0%BE%D0%B4%D0%BE%D0%B2_%D1%82%D0%B5%D0%BB%D0%B5%D1%81%D0%B5%D1%80%D0%B8%D0%B0%D0%BB%D0%B0_%C2%AB%D0%98%D0%B3%D1%80%D0%B0_%D0%BF%D1%80%D0%B5%D1%81%D1%82%D0%BE%D0%BB%D0%BE%D0%B2%C2%BB\" hreflang=\"ru\" lang=\"ru\" title=\"Список эпизодов телесериала «Игра престолов» – Russian\">Русский</a></li><li class=\"interlanguage-link interwiki-sq\"><a class=\"interlanguage-link-target\" href=\"https://sq.wikipedia.org/wiki/Lista_e_episodeve_t%C3%AB_Game_of_Thrones\" hreflang=\"sq\" lang=\"sq\" title=\"Lista e episodeve të Game of Thrones – Albanian\">Shqip</a></li><li class=\"interlanguage-link interwiki-sk\"><a class=\"interlanguage-link-target\" href=\"https://sk.wikipedia.org/wiki/Zoznam_%C4%8Dast%C3%AD_seri%C3%A1lu_Game_of_Thrones\" hreflang=\"sk\" lang=\"sk\" title=\"Zoznam častí seriálu Game of Thrones – Slovak\">Slovenčina</a></li><li class=\"interlanguage-link interwiki-sr\"><a class=\"interlanguage-link-target\" href=\"https://sr.wikipedia.org/wiki/%D0%A1%D0%BF%D0%B8%D1%81%D0%B0%D0%BA_%D0%B5%D0%BF%D0%B8%D0%B7%D0%BE%D0%B4%D0%B0_%D1%81%D0%B5%D1%80%D0%B8%D1%98%D0%B5_%D0%98%D0%B3%D1%80%D0%B0_%D0%BF%D1%80%D0%B5%D1%81%D1%82%D0%BE%D0%BB%D0%B0\" hreflang=\"sr\" lang=\"sr\" title=\"Списак епизода серије Игра престола – Serbian\">Српски / srpski</a></li><li class=\"interlanguage-link interwiki-fi\"><a class=\"interlanguage-link-target\" href=\"https://fi.wikipedia.org/wiki/Luettelo_televisiosarjan_Game_of_Thrones_jaksoista\" hreflang=\"fi\" lang=\"fi\" title=\"Luettelo televisiosarjan Game of Thrones jaksoista – Finnish\">Suomi</a></li><li class=\"interlanguage-link interwiki-sv\"><a class=\"interlanguage-link-target\" href=\"https://sv.wikipedia.org/wiki/Lista_%C3%B6ver_avsnitt_av_Game_of_Thrones\" hreflang=\"sv\" lang=\"sv\" title=\"Lista över avsnitt av Game of Thrones – Swedish\">Svenska</a></li><li class=\"interlanguage-link interwiki-tr\"><a class=\"interlanguage-link-target\" href=\"https://tr.wikipedia.org/wiki/Game_of_Thrones_b%C3%B6l%C3%BCmleri_listesi\" hreflang=\"tr\" lang=\"tr\" title=\"Game of Thrones bölümleri listesi – Turkish\">Türkçe</a></li><li class=\"interlanguage-link interwiki-uk\"><a class=\"interlanguage-link-target\" href=\"https://uk.wikipedia.org/wiki/%D0%A1%D0%BF%D0%B8%D1%81%D0%BE%D0%BA_%D0%B5%D0%BF%D1%96%D0%B7%D0%BE%D0%B4%D1%96%D0%B2_%D1%82%D0%B5%D0%BB%D0%B5%D1%81%D0%B5%D1%80%D1%96%D0%B0%D0%BB%D1%83_%C2%AB%D0%93%D1%80%D0%B0_%D0%BF%D1%80%D0%B5%D1%81%D1%82%D0%BE%D0%BB%D1%96%D0%B2%C2%BB\" hreflang=\"uk\" lang=\"uk\" title=\"Список епізодів телесеріалу «Гра престолів» – Ukrainian\">Українська</a></li><li class=\"interlanguage-link interwiki-vi\"><a class=\"interlanguage-link-target\" href=\"https://vi.wikipedia.org/wiki/Danh_s%C3%A1ch_c%C3%A1c_t%E1%BA%ADp_phim_trong_Game_of_Thrones\" hreflang=\"vi\" lang=\"vi\" title=\"Danh sách các tập phim trong Game of Thrones – Vietnamese\">Tiếng Việt</a></li><li class=\"interlanguage-link interwiki-zh\"><a class=\"interlanguage-link-target\" href=\"https://zh.wikipedia.org/wiki/%E6%9D%83%E5%8A%9B%E7%9A%84%E6%B8%B8%E6%88%8F%E5%89%A7%E9%9B%86%E5%88%97%E8%A1%A8\" hreflang=\"zh\" lang=\"zh\" title=\"权力的游戏剧集列表 – Chinese\">中文</a></li></ul>\n",
       "<div class=\"after-portlet after-portlet-lang\"><span class=\"wb-langlinks-edit wb-langlinks-link\"><a class=\"wbc-editpage\" href=\"https://www.wikidata.org/wiki/Special:EntityPage/Q847578#sitelinks-wikipedia\" title=\"Edit interlanguage links\">Edit links</a></span></div>\n",
       "</div>\n",
       "</div>\n",
       "</div>\n",
       "</div>\n",
       "<div class=\"mw-footer\" id=\"footer\" role=\"contentinfo\">\n",
       "<ul id=\"footer-info\">\n",
       "<li id=\"footer-info-lastmod\"> This page was last edited on 18 May 2020, at 14:14<span class=\"anonymous-show\"> (UTC)</span>.</li>\n",
       "<li id=\"footer-info-copyright\">Text is available under the <a href=\"//en.wikipedia.org/wiki/Wikipedia:Text_of_Creative_Commons_Attribution-ShareAlike_3.0_Unported_License\" rel=\"license\">Creative Commons Attribution-ShareAlike License</a><a href=\"//creativecommons.org/licenses/by-sa/3.0/\" rel=\"license\" style=\"display:none;\"></a>;\n",
       "additional terms may apply.  By using this site, you agree to the <a href=\"//foundation.wikimedia.org/wiki/Terms_of_Use\">Terms of Use</a> and <a href=\"//foundation.wikimedia.org/wiki/Privacy_policy\">Privacy Policy</a>. Wikipedia® is a registered trademark of the <a href=\"//www.wikimediafoundation.org/\">Wikimedia Foundation, Inc.</a>, a non-profit organization.</li>\n",
       "</ul>\n",
       "<ul id=\"footer-places\">\n",
       "<li id=\"footer-places-privacy\"><a class=\"extiw\" href=\"https://foundation.wikimedia.org/wiki/Privacy_policy\" title=\"wmf:Privacy policy\">Privacy policy</a></li>\n",
       "<li id=\"footer-places-about\"><a href=\"/wiki/Wikipedia:About\" title=\"Wikipedia:About\">About Wikipedia</a></li>\n",
       "<li id=\"footer-places-disclaimer\"><a href=\"/wiki/Wikipedia:General_disclaimer\" title=\"Wikipedia:General disclaimer\">Disclaimers</a></li>\n",
       "<li id=\"footer-places-contact\"><a href=\"//en.wikipedia.org/wiki/Wikipedia:Contact_us\">Contact Wikipedia</a></li>\n",
       "<li id=\"footer-places-developers\"><a href=\"https://www.mediawiki.org/wiki/Special:MyLanguage/How_to_contribute\">Developers</a></li>\n",
       "<li id=\"footer-places-statslink\"><a href=\"https://stats.wikimedia.org/#/en.wikipedia.org\">Statistics</a></li>\n",
       "<li id=\"footer-places-cookiestatement\"><a href=\"https://foundation.wikimedia.org/wiki/Cookie_statement\">Cookie statement</a></li>\n",
       "<li id=\"footer-places-mobileview\"><a class=\"noprint stopMobileRedirectToggle\" href=\"//en.m.wikipedia.org/w/index.php?title=List_of_Game_of_Thrones_episodes&amp;mobileaction=toggle_view_mobile\">Mobile view</a></li>\n",
       "</ul>\n",
       "<ul class=\"noprint\" id=\"footer-icons\">\n",
       "<li id=\"footer-copyrightico\"><a href=\"https://wikimediafoundation.org/\"><img alt=\"Wikimedia Foundation\" height=\"31\" src=\"/static/images/wikimedia-button.png\" srcset=\"/static/images/wikimedia-button-1.5x.png 1.5x, /static/images/wikimedia-button-2x.png 2x\" width=\"88\"/></a></li>\n",
       "<li id=\"footer-poweredbyico\"><a href=\"https://www.mediawiki.org/\"><img alt=\"Powered by MediaWiki\" height=\"31\" src=\"/static/images/poweredby_mediawiki_88x31.png\" srcset=\"/static/images/poweredby_mediawiki_132x47.png 1.5x, /static/images/poweredby_mediawiki_176x62.png 2x\" width=\"88\"/></a></li>\n",
       "</ul>\n",
       "<div style=\"clear: both;\"></div>\n",
       "</div>\n",
       "<script>(RLQ=window.RLQ||[]).push(function(){mw.config.set({\"wgPageParseReport\":{\"limitreport\":{\"cputime\":\"2.196\",\"walltime\":\"2.490\",\"ppvisitednodes\":{\"value\":19393,\"limit\":1000000},\"postexpandincludesize\":{\"value\":690531,\"limit\":2097152},\"templateargumentsize\":{\"value\":5061,\"limit\":2097152},\"expansiondepth\":{\"value\":20,\"limit\":40},\"expensivefunctioncount\":{\"value\":2,\"limit\":500},\"unstrip-depth\":{\"value\":1,\"limit\":20},\"unstrip-size\":{\"value\":599272,\"limit\":5000000},\"entityaccesscount\":{\"value\":1,\"limit\":400},\"timingprofile\":[\"100.00% 2150.228      1 -total\",\" 42.60%  915.990      1 Template:Reflist\",\" 30.76%  661.507    123 Template:Cite_web\",\" 25.00%  537.565      9 Template:Episode_table\",\" 21.68%  466.211     73 Template:Episode_list/sublist\",\" 10.56%  226.997      1 Game_of_Thrones_(season_1)\",\"  6.77%  145.583      1 Template:Excerpt\",\"  5.47%  117.695     83 Template:Start_date\",\"  5.04%  108.412      1 Template:Series_overview\",\"  4.52%   97.160      1 Template:Aired_episodes\"]},\"scribunto\":{\"limitreport-timeusage\":{\"value\":\"1.250\",\"limit\":\"10.000\"},\"limitreport-memusage\":{\"value\":25380304,\"limit\":52428800},\"limitreport-profile\":[[\"?\",\"360\",\"23.4\"],[\"Scribunto_LuaSandboxCallback::getExpandedArgument\",\"320\",\"20.8\"],[\"Scribunto_LuaSandboxCallback::getAllExpandedArguments\",\"120\",\"7.8\"],[\"Scribunto_LuaSandboxCallback::callParserFunction\",\"80\",\"5.2\"],[\"Scribunto_LuaSandboxCallback::unstripNoWiki\",\"80\",\"5.2\"],[\"init \\u003CModule:Citation/CS1/Date_validation\\u003E\",\"60\",\"3.9\"],[\"Scribunto_LuaSandboxCallback::find\",\"60\",\"3.9\"],[\"\\u003Cmw.lua:683\\u003E\",\"60\",\"3.9\"],[\"cssText \\u003Cmw.html.lua:380\\u003E\",\"40\",\"2.6\"],[\"\\u003Cmw.lua:185\\u003E\",\"40\",\"2.6\"],[\"[others]\",\"320\",\"20.8\"]]},\"cachereport\":{\"origin\":\"mw1270\",\"timestamp\":\"20200518141425\",\"ttl\":2592000,\"transientcontent\":false}}});});</script>\n",
       "<script type=\"application/ld+json\">{\"@context\":\"https:\\/\\/schema.org\",\"@type\":\"Article\",\"name\":\"List of Game of Thrones episodes\",\"url\":\"https:\\/\\/en.wikipedia.org\\/wiki\\/List_of_Game_of_Thrones_episodes\",\"sameAs\":\"http:\\/\\/www.wikidata.org\\/entity\\/Q847578\",\"mainEntity\":\"http:\\/\\/www.wikidata.org\\/entity\\/Q847578\",\"author\":{\"@type\":\"Organization\",\"name\":\"Contributors to Wikimedia projects\"},\"publisher\":{\"@type\":\"Organization\",\"name\":\"Wikimedia Foundation, Inc.\",\"logo\":{\"@type\":\"ImageObject\",\"url\":\"https:\\/\\/www.wikimedia.org\\/static\\/images\\/wmf-hor-googpub.png\"}},\"datePublished\":\"2011-03-08T08:52:30Z\",\"dateModified\":\"2020-05-18T14:14:17Z\",\"headline\":\"Wikimedia list article\"}</script>\n",
       "<script>(RLQ=window.RLQ||[]).push(function(){mw.config.set({\"wgBackendResponseTime\":105,\"wgHostname\":\"mw1270\"});});</script></body></html>"
      ]
     },
     "execution_count": 18,
     "metadata": {},
     "output_type": "execute_result"
    }
   ],
   "source": [
    "html_soup"
   ]
  },
  {
   "cell_type": "code",
   "execution_count": 19,
   "metadata": {},
   "outputs": [
    {
     "data": {
      "text/plain": [
       "bs4.BeautifulSoup"
      ]
     },
     "execution_count": 19,
     "metadata": {},
     "output_type": "execute_result"
    }
   ],
   "source": [
    "type(html_soup)"
   ]
  },
  {
   "cell_type": "code",
   "execution_count": 21,
   "metadata": {},
   "outputs": [],
   "source": [
    "first_h1 = html_soup.find('h1')"
   ]
  },
  {
   "cell_type": "code",
   "execution_count": 22,
   "metadata": {},
   "outputs": [
    {
     "data": {
      "text/plain": [
       "bs4.element.Tag"
      ]
     },
     "execution_count": 22,
     "metadata": {},
     "output_type": "execute_result"
    }
   ],
   "source": [
    "type(first_h1)"
   ]
  },
  {
   "cell_type": "code",
   "execution_count": 23,
   "metadata": {},
   "outputs": [
    {
     "data": {
      "text/plain": [
       "'h1'"
      ]
     },
     "execution_count": 23,
     "metadata": {},
     "output_type": "execute_result"
    }
   ],
   "source": [
    "first_h1.name"
   ]
  },
  {
   "cell_type": "code",
   "execution_count": 28,
   "metadata": {},
   "outputs": [
    {
     "data": {
      "text/plain": [
       "['List of ', <i>Game of Thrones</i>, ' episodes']"
      ]
     },
     "execution_count": 28,
     "metadata": {},
     "output_type": "execute_result"
    }
   ],
   "source": [
    "first_h1.contents"
   ]
  },
  {
   "cell_type": "code",
   "execution_count": 29,
   "metadata": {},
   "outputs": [
    {
     "data": {
      "text/plain": [
       "'List of Game of Thrones episodes'"
      ]
     },
     "execution_count": 29,
     "metadata": {},
     "output_type": "execute_result"
    }
   ],
   "source": [
    "first_h1.text"
   ]
  },
  {
   "cell_type": "code",
   "execution_count": 32,
   "metadata": {},
   "outputs": [
    {
     "data": {
      "text/plain": [
       "'List of Game of Thrones episodes'"
      ]
     },
     "execution_count": 32,
     "metadata": {},
     "output_type": "execute_result"
    }
   ],
   "source": [
    "first_h1.get_text()"
   ]
  },
  {
   "cell_type": "code",
   "execution_count": 33,
   "metadata": {},
   "outputs": [
    {
     "data": {
      "text/plain": [
       "{'id': 'firstHeading', 'class': ['firstHeading'], 'lang': 'en'}"
      ]
     },
     "execution_count": 33,
     "metadata": {},
     "output_type": "execute_result"
    }
   ],
   "source": [
    "first_h1.attrs"
   ]
  },
  {
   "cell_type": "code",
   "execution_count": 34,
   "metadata": {},
   "outputs": [
    {
     "data": {
      "text/plain": [
       "'firstHeading'"
      ]
     },
     "execution_count": 34,
     "metadata": {},
     "output_type": "execute_result"
    }
   ],
   "source": [
    "first_h1.attrs['id']"
   ]
  },
  {
   "cell_type": "code",
   "execution_count": 35,
   "metadata": {},
   "outputs": [
    {
     "data": {
      "text/plain": [
       "'firstHeading'"
      ]
     },
     "execution_count": 35,
     "metadata": {},
     "output_type": "execute_result"
    }
   ],
   "source": [
    "first_h1['id']"
   ]
  },
  {
   "cell_type": "code",
   "execution_count": 37,
   "metadata": {},
   "outputs": [
    {
     "data": {
      "text/plain": [
       "<div id=\"p-logo\" role=\"banner\">\n",
       "<a class=\"mw-wiki-logo\" href=\"/wiki/Main_Page\" title=\"Visit the main page\"></a>\n",
       "</div>"
      ]
     },
     "execution_count": 37,
     "metadata": {},
     "output_type": "execute_result"
    }
   ],
   "source": [
    "html_soup.find('', attrs= {'id': 'p-logo'})"
   ]
  },
  {
   "cell_type": "code",
   "execution_count": 38,
   "metadata": {},
   "outputs": [
    {
     "data": {
      "text/plain": [
       "<h2 id=\"mw-toc-heading\">Contents</h2>"
      ]
     },
     "execution_count": 38,
     "metadata": {},
     "output_type": "execute_result"
    }
   ],
   "source": [
    "html_soup.find('h2')"
   ]
  },
  {
   "cell_type": "code",
   "execution_count": 39,
   "metadata": {},
   "outputs": [
    {
     "data": {
      "text/plain": [
       "[<h2 id=\"mw-toc-heading\">Contents</h2>,\n",
       " <h2><span class=\"mw-headline\" id=\"Series_overview\">Series overview</span><span class=\"mw-editsection\"><span class=\"mw-editsection-bracket\">[</span><a href=\"/w/index.php?title=List_of_Game_of_Thrones_episodes&amp;action=edit&amp;section=1\" title=\"Edit section: Series overview\">edit</a><span class=\"mw-editsection-bracket\">]</span></span></h2>,\n",
       " <h2><span class=\"mw-headline\" id=\"Episodes\">Episodes</span><span class=\"mw-editsection\"><span class=\"mw-editsection-bracket\">[</span><a href=\"/w/index.php?title=List_of_Game_of_Thrones_episodes&amp;action=edit&amp;section=2\" title=\"Edit section: Episodes\">edit</a><span class=\"mw-editsection-bracket\">]</span></span></h2>,\n",
       " <h2><span class=\"mw-headline\" id=\"Specials\">Specials</span><span class=\"mw-editsection\"><span class=\"mw-editsection-bracket\">[</span><a href=\"/w/index.php?title=List_of_Game_of_Thrones_episodes&amp;action=edit&amp;section=11\" title=\"Edit section: Specials\">edit</a><span class=\"mw-editsection-bracket\">]</span></span></h2>,\n",
       " <h2><span class=\"mw-headline\" id=\"Home_media_release\">Home media release</span><span class=\"mw-editsection\"><span class=\"mw-editsection-bracket\">[</span><a href=\"/w/index.php?title=List_of_Game_of_Thrones_episodes&amp;action=edit&amp;section=12\" title=\"Edit section: Home media release\">edit</a><span class=\"mw-editsection-bracket\">]</span></span></h2>,\n",
       " <h2><span class=\"mw-headline\" id=\"Ratings\">Ratings</span><span class=\"mw-editsection\"><span class=\"mw-editsection-bracket\">[</span><a href=\"/w/index.php?title=List_of_Game_of_Thrones_episodes&amp;action=edit&amp;section=13\" title=\"Edit section: Ratings\">edit</a><span class=\"mw-editsection-bracket\">]</span></span></h2>,\n",
       " <h2><span class=\"mw-headline\" id=\"References\">References</span><span class=\"mw-editsection\"><span class=\"mw-editsection-bracket\">[</span><a href=\"/w/index.php?title=List_of_Game_of_Thrones_episodes&amp;action=edit&amp;section=14\" title=\"Edit section: References\">edit</a><span class=\"mw-editsection-bracket\">]</span></span></h2>,\n",
       " <h2><span class=\"mw-headline\" id=\"External_links\">External links</span><span class=\"mw-editsection\"><span class=\"mw-editsection-bracket\">[</span><a href=\"/w/index.php?title=List_of_Game_of_Thrones_episodes&amp;action=edit&amp;section=15\" title=\"Edit section: External links\">edit</a><span class=\"mw-editsection-bracket\">]</span></span></h2>,\n",
       " <h2>Navigation menu</h2>]"
      ]
     },
     "execution_count": 39,
     "metadata": {},
     "output_type": "execute_result"
    }
   ],
   "source": [
    "html_soup.find_all('h2')"
   ]
  },
  {
   "cell_type": "code",
   "execution_count": 40,
   "metadata": {},
   "outputs": [
    {
     "name": "stdout",
     "output_type": "stream",
     "text": [
      "Contents\n",
      "\n",
      "Series overview[edit]\n",
      "\n",
      "Episodes[edit]\n",
      "\n",
      "Specials[edit]\n",
      "\n",
      "Home media release[edit]\n",
      "\n",
      "Ratings[edit]\n",
      "\n",
      "References[edit]\n",
      "\n",
      "External links[edit]\n",
      "\n",
      "Navigation menu\n",
      "\n"
     ]
    }
   ],
   "source": [
    "for tag in html_soup.find_all('h2'):\n",
    "    print(tag.text)\n",
    "    print()"
   ]
  },
  {
   "cell_type": "code",
   "execution_count": 41,
   "metadata": {},
   "outputs": [],
   "source": [
    "cites = html_soup.find_all('cite', class_ = 'citation', limit=4)"
   ]
  },
  {
   "cell_type": "code",
   "execution_count": 43,
   "metadata": {},
   "outputs": [
    {
     "name": "stdout",
     "output_type": "stream",
     "text": [
      "<cite class=\"citation web\" id=\"CITEREFFowler2011\">Fowler, Matt (April 8, 2011). <a class=\"external text\" href=\"http://tv.ign.com/articles/116/1160215p1.html\" rel=\"nofollow\">\"Game of Thrones: \"Winter is Coming\" Review\"</a>. <i><a href=\"/wiki/IGN\" title=\"IGN\">IGN</a></i>. <a class=\"external text\" href=\"https://web.archive.org/web/20120817073932/http://tv.ign.com/articles/116/1160215p1.html\" rel=\"nofollow\">Archived</a> from the original on August 17, 2012<span class=\"reference-accessdate\">. Retrieved <span class=\"nowrap\">September 22,</span> 2016</span>.</cite>\n",
      "\n",
      "<cite class=\"citation news\" id=\"CITEREFFleming2007\">Fleming, Michael (January 16, 2007). <a class=\"external text\" href=\"https://www.variety.com/article/VR1117957532.html?categoryid=14&amp;cs=1\" rel=\"nofollow\">\"HBO turns <i>Fire</i> into fantasy series\"</a>. <i><a href=\"/wiki/Variety_(magazine)\" title=\"Variety (magazine)\">Variety</a></i>. <a class=\"external text\" href=\"https://web.archive.org/web/20120516224747/http://www.variety.com/article/VR1117957532?refCatId=14\" rel=\"nofollow\">Archived</a> from the original on May 16, 2012<span class=\"reference-accessdate\">. Retrieved <span class=\"nowrap\">September 3,</span> 2016</span>.</cite>\n",
      "\n",
      "<cite class=\"citation web\"><a class=\"external text\" href=\"http://www.emmys.com/shows/game-thrones\" rel=\"nofollow\">\"Game of Thrones\"</a>. <i><a href=\"/wiki/Emmy_Award\" title=\"Emmy Award\">Emmys.com</a></i><span class=\"reference-accessdate\">. Retrieved <span class=\"nowrap\">September 17,</span> 2016</span>.</cite>\n",
      "\n",
      "<cite class=\"citation news\" id=\"CITEREFRoberts2012\">Roberts, Josh (April 1, 2012). <a class=\"external text\" href=\"https://web.archive.org/web/20120401123724/http://travel.usatoday.com/destinations/story/2012-04-01/Where-the-HBO-hit-Game-of-Thrones-was-filmed/53876876/1\" rel=\"nofollow\">\"Where HBO's hit 'Game of Thrones' was filmed\"</a>. <i><a href=\"/wiki/USA_Today\" title=\"USA Today\">USA Today</a></i>. Archived from <a class=\"external text\" href=\"http://travel.usatoday.com/destinations/story/2012-04-01/Where-the-HBO-hit-Game-of-Thrones-was-filmed/53876876/1\" rel=\"nofollow\">the original</a> on April 1, 2012<span class=\"reference-accessdate\">. Retrieved <span class=\"nowrap\">March 8,</span> 2013</span>.</cite>\n",
      "\n"
     ]
    }
   ],
   "source": [
    "for citation in cites:\n",
    "    print(citation, end='\\n\\n')"
   ]
  },
  {
   "cell_type": "code",
   "execution_count": 44,
   "metadata": {
    "scrolled": true
   },
   "outputs": [
    {
     "name": "stdout",
     "output_type": "stream",
     "text": [
      "Fowler, Matt (April 8, 2011). \"Game of Thrones: \"Winter is Coming\" Review\". IGN. Archived from the original on August 17, 2012. Retrieved September 22, 2016.\n",
      "\n",
      "Fleming, Michael (January 16, 2007). \"HBO turns Fire into fantasy series\". Variety. Archived from the original on May 16, 2012. Retrieved September 3, 2016.\n",
      "\n",
      "\"Game of Thrones\". Emmys.com. Retrieved September 17, 2016.\n",
      "\n",
      "Roberts, Josh (April 1, 2012). \"Where HBO's hit 'Game of Thrones' was filmed\". USA Today. Archived from the original on April 1, 2012. Retrieved March 8, 2013.\n",
      "\n"
     ]
    }
   ],
   "source": [
    "for citation in cites:\n",
    "    print(citation.get_text(), end='\\n\\n')"
   ]
  },
  {
   "cell_type": "code",
   "execution_count": 45,
   "metadata": {},
   "outputs": [
    {
     "name": "stdout",
     "output_type": "stream",
     "text": [
      "Fowler, Matt (April 8, 2011). \"Game of Thrones: \"Winter is Coming\" Review\". IGN. Archived from the original on August 17, 2012. Retrieved September 22, 2016.\n",
      "\n",
      "<a class=\"external text\" href=\"http://tv.ign.com/articles/116/1160215p1.html\" rel=\"nofollow\">\"Game of Thrones: \"Winter is Coming\" Review\"</a>\n",
      "--------------------------------\n",
      "Fleming, Michael (January 16, 2007). \"HBO turns Fire into fantasy series\". Variety. Archived from the original on May 16, 2012. Retrieved September 3, 2016.\n",
      "\n",
      "<a class=\"external text\" href=\"https://www.variety.com/article/VR1117957532.html?categoryid=14&amp;cs=1\" rel=\"nofollow\">\"HBO turns <i>Fire</i> into fantasy series\"</a>\n",
      "--------------------------------\n",
      "\"Game of Thrones\". Emmys.com. Retrieved September 17, 2016.\n",
      "\n",
      "<a class=\"external text\" href=\"http://www.emmys.com/shows/game-thrones\" rel=\"nofollow\">\"Game of Thrones\"</a>\n",
      "--------------------------------\n",
      "Roberts, Josh (April 1, 2012). \"Where HBO's hit 'Game of Thrones' was filmed\". USA Today. Archived from the original on April 1, 2012. Retrieved March 8, 2013.\n",
      "\n",
      "<a class=\"external text\" href=\"https://web.archive.org/web/20120401123724/http://travel.usatoday.com/destinations/story/2012-04-01/Where-the-HBO-hit-Game-of-Thrones-was-filmed/53876876/1\" rel=\"nofollow\">\"Where HBO's hit 'Game of Thrones' was filmed\"</a>\n",
      "--------------------------------\n"
     ]
    }
   ],
   "source": [
    "for citation in cites:\n",
    "    print(citation.get_text(), end='\\n\\n')\n",
    "    link = citation.find('a')\n",
    "    print(link)\n",
    "    print('--------------------------------')"
   ]
  },
  {
   "cell_type": "code",
   "execution_count": 47,
   "metadata": {},
   "outputs": [
    {
     "name": "stdout",
     "output_type": "stream",
     "text": [
      "Fowler, Matt (April 8, 2011). \"Game of Thrones: \"Winter is Coming\" Review\". IGN. Archived from the original on August 17, 2012. Retrieved September 22, 2016.\n",
      "\n",
      "http://tv.ign.com/articles/116/1160215p1.html\n",
      "--------------------------------\n",
      "Fleming, Michael (January 16, 2007). \"HBO turns Fire into fantasy series\". Variety. Archived from the original on May 16, 2012. Retrieved September 3, 2016.\n",
      "\n",
      "https://www.variety.com/article/VR1117957532.html?categoryid=14&cs=1\n",
      "--------------------------------\n",
      "\"Game of Thrones\". Emmys.com. Retrieved September 17, 2016.\n",
      "\n",
      "http://www.emmys.com/shows/game-thrones\n",
      "--------------------------------\n",
      "Roberts, Josh (April 1, 2012). \"Where HBO's hit 'Game of Thrones' was filmed\". USA Today. Archived from the original on April 1, 2012. Retrieved March 8, 2013.\n",
      "\n",
      "https://web.archive.org/web/20120401123724/http://travel.usatoday.com/destinations/story/2012-04-01/Where-the-HBO-hit-Game-of-Thrones-was-filmed/53876876/1\n",
      "--------------------------------\n"
     ]
    }
   ],
   "source": [
    "for citation in cites:\n",
    "    print(citation.get_text(), end='\\n\\n')\n",
    "    link = citation.find('a')\n",
    "    print(link.get('href'))\n",
    "    print('--------------------------------')"
   ]
  },
  {
   "cell_type": "code",
   "execution_count": 49,
   "metadata": {},
   "outputs": [],
   "source": [
    "episodes = []\n",
    "\n",
    "ep_tables = html_soup.find_all('table', class_ = 'wikiepisodetable', limit = 8)"
   ]
  },
  {
   "cell_type": "code",
   "execution_count": 50,
   "metadata": {},
   "outputs": [
    {
     "data": {
      "text/plain": [
       "8"
      ]
     },
     "execution_count": 50,
     "metadata": {},
     "output_type": "execute_result"
    }
   ],
   "source": [
    "len(ep_tables)"
   ]
  },
  {
   "cell_type": "code",
   "execution_count": 60,
   "metadata": {},
   "outputs": [
    {
     "name": "stdout",
     "output_type": "stream",
     "text": [
      "['73', '6', '\"The Iron Throne\"', 'David Benioff & D. B. Weiss', 'David Benioff & D. B. Weiss', 'May\\xa019,\\xa02019\\xa0(2019-05-19)', '13.61[93]']\n"
     ]
    }
   ],
   "source": [
    "for table in ep_tables:\n",
    "    headers = []\n",
    "    rows = table.find_all('tr')\n",
    "    for header in table.find('tr').find_all('th'):\n",
    "        headers.append(header.text)\n",
    "        \n",
    "        \n",
    "for  row in table.find_all('tr')[1:]: #če find_all ne najde nič, vrne prazen list [], če find ne najde nič vrne None\n",
    "    values = []\n",
    "    for col in row.find_all(['th', 'td']):\n",
    "        values.append(col.text)\n",
    "    \n",
    "    if values:\n",
    "        episode_dict = {headers[i]: values[i] for i in range (len(values))}\n",
    "        episodes.append(episode_dict)\n",
    "\n",
    "\n",
    "#print(headers)\n",
    "print(values)\n",
    "    \n",
    "    "
   ]
  },
  {
   "cell_type": "code",
   "execution_count": 61,
   "metadata": {},
   "outputs": [
    {
     "name": "stdout",
     "output_type": "stream",
     "text": [
      "{'No.overall': '68', 'No. inseason': '1', 'Title': '\"Winterfell\"', 'Directed by': 'David Nutter', 'Written by': 'Dave Hill', 'Original air date\\u200a[20]': 'April\\xa014,\\xa02019\\xa0(2019-04-14)', 'U.S. viewers(millions)': '11.76[88]'}\n",
      "{'No.overall': '69', 'No. inseason': '2', 'Title': '\"A Knight of the Seven Kingdoms\"', 'Directed by': 'David Nutter', 'Written by': 'Bryan Cogman', 'Original air date\\u200a[20]': 'April\\xa021,\\xa02019\\xa0(2019-04-21)', 'U.S. viewers(millions)': '10.29[89]'}\n",
      "{'No.overall': '70', 'No. inseason': '3', 'Title': '\"The Long Night\"', 'Directed by': 'Miguel Sapochnik', 'Written by': 'David Benioff & D. B. Weiss', 'Original air date\\u200a[20]': 'April\\xa028,\\xa02019\\xa0(2019-04-28)', 'U.S. viewers(millions)': '12.02[90]'}\n"
     ]
    }
   ],
   "source": [
    "for episode in episodes[:3]:\n",
    "    print(episode)"
   ]
  },
  {
   "cell_type": "code",
   "execution_count": 66,
   "metadata": {},
   "outputs": [
    {
     "data": {
      "text/html": [
       "<div>\n",
       "<style scoped>\n",
       "    .dataframe tbody tr th:only-of-type {\n",
       "        vertical-align: middle;\n",
       "    }\n",
       "\n",
       "    .dataframe tbody tr th {\n",
       "        vertical-align: top;\n",
       "    }\n",
       "\n",
       "    .dataframe thead th {\n",
       "        text-align: right;\n",
       "    }\n",
       "</style>\n",
       "<table border=\"1\" class=\"dataframe\">\n",
       "  <thead>\n",
       "    <tr style=\"text-align: right;\">\n",
       "      <th></th>\n",
       "      <th>No.overall</th>\n",
       "      <th>No. inseason</th>\n",
       "      <th>Title</th>\n",
       "      <th>Directed by</th>\n",
       "      <th>Written by</th>\n",
       "      <th>Original air date [20]</th>\n",
       "      <th>U.S. viewers(millions)</th>\n",
       "    </tr>\n",
       "  </thead>\n",
       "  <tbody>\n",
       "    <tr>\n",
       "      <th>0</th>\n",
       "      <td>68</td>\n",
       "      <td>1</td>\n",
       "      <td>\"Winterfell\"</td>\n",
       "      <td>David Nutter</td>\n",
       "      <td>Dave Hill</td>\n",
       "      <td>April 14, 2019 (2019-04-14)</td>\n",
       "      <td>11.76[88]</td>\n",
       "    </tr>\n",
       "    <tr>\n",
       "      <th>1</th>\n",
       "      <td>69</td>\n",
       "      <td>2</td>\n",
       "      <td>\"A Knight of the Seven Kingdoms\"</td>\n",
       "      <td>David Nutter</td>\n",
       "      <td>Bryan Cogman</td>\n",
       "      <td>April 21, 2019 (2019-04-21)</td>\n",
       "      <td>10.29[89]</td>\n",
       "    </tr>\n",
       "    <tr>\n",
       "      <th>2</th>\n",
       "      <td>70</td>\n",
       "      <td>3</td>\n",
       "      <td>\"The Long Night\"</td>\n",
       "      <td>Miguel Sapochnik</td>\n",
       "      <td>David Benioff &amp; D. B. Weiss</td>\n",
       "      <td>April 28, 2019 (2019-04-28)</td>\n",
       "      <td>12.02[90]</td>\n",
       "    </tr>\n",
       "    <tr>\n",
       "      <th>3</th>\n",
       "      <td>71</td>\n",
       "      <td>4</td>\n",
       "      <td>\"The Last of the Starks\"</td>\n",
       "      <td>David Nutter</td>\n",
       "      <td>David Benioff &amp; D. B. Weiss</td>\n",
       "      <td>May 5, 2019 (2019-05-05)</td>\n",
       "      <td>11.80[91]</td>\n",
       "    </tr>\n",
       "    <tr>\n",
       "      <th>4</th>\n",
       "      <td>72</td>\n",
       "      <td>5</td>\n",
       "      <td>\"The Bells\"</td>\n",
       "      <td>Miguel Sapochnik</td>\n",
       "      <td>David Benioff &amp; D. B. Weiss</td>\n",
       "      <td>May 12, 2019 (2019-05-12)</td>\n",
       "      <td>12.48[92]</td>\n",
       "    </tr>\n",
       "    <tr>\n",
       "      <th>5</th>\n",
       "      <td>73</td>\n",
       "      <td>6</td>\n",
       "      <td>\"The Iron Throne\"</td>\n",
       "      <td>David Benioff &amp; D. B. Weiss</td>\n",
       "      <td>David Benioff &amp; D. B. Weiss</td>\n",
       "      <td>May 19, 2019 (2019-05-19)</td>\n",
       "      <td>13.61[93]</td>\n",
       "    </tr>\n",
       "  </tbody>\n",
       "</table>\n",
       "</div>"
      ],
      "text/plain": [
       "  No.overall No. inseason                             Title  \\\n",
       "0         68            1                      \"Winterfell\"   \n",
       "1         69            2  \"A Knight of the Seven Kingdoms\"   \n",
       "2         70            3                  \"The Long Night\"   \n",
       "3         71            4          \"The Last of the Starks\"   \n",
       "4         72            5                       \"The Bells\"   \n",
       "5         73            6                 \"The Iron Throne\"   \n",
       "\n",
       "                   Directed by                   Written by  \\\n",
       "0                 David Nutter                    Dave Hill   \n",
       "1                 David Nutter                 Bryan Cogman   \n",
       "2             Miguel Sapochnik  David Benioff & D. B. Weiss   \n",
       "3                 David Nutter  David Benioff & D. B. Weiss   \n",
       "4             Miguel Sapochnik  David Benioff & D. B. Weiss   \n",
       "5  David Benioff & D. B. Weiss  David Benioff & D. B. Weiss   \n",
       "\n",
       "        Original air date [20] U.S. viewers(millions)  \n",
       "0  April 14, 2019 (2019-04-14)              11.76[88]  \n",
       "1  April 21, 2019 (2019-04-21)              10.29[89]  \n",
       "2  April 28, 2019 (2019-04-28)              12.02[90]  \n",
       "3     May 5, 2019 (2019-05-05)              11.80[91]  \n",
       "4    May 12, 2019 (2019-05-12)              12.48[92]  \n",
       "5    May 19, 2019 (2019-05-19)              13.61[93]  "
      ]
     },
     "execution_count": 66,
     "metadata": {},
     "output_type": "execute_result"
    }
   ],
   "source": [
    "import pandas as pd\n",
    "got_df = pd.DataFrame(episodes)\n",
    "got_df.head(10)"
   ]
  },
  {
   "cell_type": "code",
   "execution_count": null,
   "metadata": {},
   "outputs": [],
   "source": []
  },
  {
   "cell_type": "code",
   "execution_count": null,
   "metadata": {},
   "outputs": [],
   "source": []
  },
  {
   "cell_type": "code",
   "execution_count": null,
   "metadata": {},
   "outputs": [],
   "source": []
  },
  {
   "cell_type": "markdown",
   "metadata": {},
   "source": [
    "## Web APIs"
   ]
  },
  {
   "cell_type": "markdown",
   "metadata": {},
   "source": [
    "### Primer uporabe APIja"
   ]
  },
  {
   "cell_type": "markdown",
   "metadata": {},
   "source": [
    "https://github.com/HackerNews/API"
   ]
  },
  {
   "cell_type": "code",
   "execution_count": null,
   "metadata": {},
   "outputs": [],
   "source": []
  },
  {
   "cell_type": "code",
   "execution_count": null,
   "metadata": {},
   "outputs": [],
   "source": []
  },
  {
   "cell_type": "code",
   "execution_count": null,
   "metadata": {},
   "outputs": [],
   "source": []
  },
  {
   "cell_type": "code",
   "execution_count": 70,
   "metadata": {},
   "outputs": [],
   "source": [
    "url = 'https://hacker-news.firebaseio.com/v0'"
   ]
  },
  {
   "cell_type": "code",
   "execution_count": 79,
   "metadata": {},
   "outputs": [],
   "source": [
    "top_stories = requests.get(f'{url}/topstories.json?print=pretty')"
   ]
  },
  {
   "cell_type": "code",
   "execution_count": 72,
   "metadata": {},
   "outputs": [
    {
     "data": {
      "text/plain": [
       "'[ 23223219, 23223335, 23223147, 23222019, 23220081, 23222815, 23221447, 23219782, 23221255, 23185665, 23223681, 23211101, 23223358, 23220815, 23221271, 23219427, 23217326, 23216852, 23222314, 23222575, 23222879, 23218943, 23221250, 23218827, 23222424, 23222518, 23217882, 23221517, 23218263, 23211495, 23219412, 23219541, 23213162, 23217935, 23221426, 23220749, 23211851, 23215877, 23205588, 23219641, 23221216, 23222338, 23215360, 23212620, 23216817, 23211273, 23222191, 23208779, 23212573, 23216642, 23214961, 23209142, 23211325, 23216502, 23216538, 23214535, 23215907, 23219407, 23218396, 23220041, 23215846, 23216915, 23212812, 23206566, 23221277, 23207648, 23211197, 23211303, 23214336, 23210921, 23203699, 23221806, 23208010, 23216683, 23210491, 23218422, 23215099, 23192546, 23209225, 23218281, 23211355, 23202850, 23210804, 23211961, 23221960, 23207377, 23207019, 23196956, 23205579, 23210139, 23220946, 23214918, 23212799, 23210570, 23208954, 23217094, 23218124, 23217081, 23198914, 23202665, 23201559, 23208431, 23217221, 23200597, 23203146, 23202228, 23214621, 23208820, 23206222, 23215285, 23207396, 23187698, 23206660, 23205225, 23209114, 23213268, 23219499, 23195680, 23203079, 23209866, 23200291, 23208339, 23202693, 23202120, 23194178, 23221859, 23208421, 23219702, 23214279, 23213112, 23208704, 23219109, 23190517, 23213348, 23208235, 23205703, 23211184, 23214661, 23203470, 23212131, 23193907, 23204225, 23220152, 23208851, 23201808, 23202430, 23190026, 23206126, 23197452, 23212469, 23206648, 23218379, 23203658, 23207033, 23212734, 23221456, 23205631, 23215556, 23205921, 23204641, 23209117, 23200506, 23214739, 23200985, 23217666, 23192264, 23196177, 23193093, 23212211, 23199203, 23195271, 23209806, 23206579, 23207540, 23218359, 23207404, 23203280, 23187948, 23203471, 23202866, 23211095, 23209955, 23201174, 23201888, 23193967, 23197966, 23206440, 23200246, 23211301, 23200830, 23207233, 23206551, 23203020, 23189372, 23219438, 23193482, 23207299, 23199521, 23199805, 23190127, 23189918, 23198596, 23201074, 23192566, 23204342, 23192486, 23209820, 23206937, 23199744, 23196782, 23212642, 23188238, 23192124, 23205218, 23212278, 23205567, 23212808, 23215945, 23195818, 23193534, 23197696, 23206697, 23208037, 23204795, 23206277, 23204410, 23193563, 23198051, 23207661, 23206216, 23193859, 23211605, 23205493, 23202586, 23189959, 23192142, 23198017, 23190617, 23192249, 23198091, 23194727, 23190304, 23185131, 23193952, 23214190, 23189024, 23214424, 23181924, 23187662, 23206066, 23210137, 23185757, 23198233, 23208423, 23188706, 23192958, 23193140, 23196872, 23214540, 23197227, 23207104, 23184576, 23202415, 23202498, 23206324, 23196644, 23195438, 23208395, 23206259, 23191493, 23205489, 23189512, 23192584, 23201608, 23194569, 23215938, 23205007, 23204668, 23181898, 23207522, 23193492, 23193397, 23202091, 23186032, 23190606, 23190538, 23191439, 23188900, 23202723, 23188675, 23191721, 23206093, 23202339, 23191455, 23194194, 23186820, 23183440, 23209171, 23190911, 23208111, 23202269, 23205154, 23184529, 23204978, 23195278, 23211476, 23204920, 23216335, 23211116, 23187239, 23187278, 23193927, 23208135, 23185203, 23193317, 23196482, 23203347, 23192443, 23213213, 23211983, 23197630, 23207040, 23207416, 23182045, 23214548, 23183398, 23212031, 23190921, 23183742, 23195822, 23211413, 23185315, 23198442, 23206094, 23218445, 23190601, 23193830, 23193603, 23194673, 23194622, 23204898, 23192873, 23198322, 23183917, 23213986, 23204314, 23193959, 23190447, 23192817, 23204553, 23190945, 23190146, 23199317, 23203448, 23213673, 23204198, 23194215, 23184952, 23190885, 23199304, 23181865, 23199200, 23210344, 23182097, 23191520, 23197107, 23201916, 23208050, 23187798, 23207971, 23197890, 23210448, 23201677, 23207823, 23195785, 23210954, 23212762, 23184871, 23191310, 23199347, 23195945, 23187458, 23182127, 23204586, 23197294, 23194162, 23185166, 23209313, 23193651, 23182824, 23183936, 23211736, 23209792, 23196702, 23181342, 23183384, 23196082, 23191977, 23192006, 23200731, 23202412, 23195198, 23199111, 23190841, 23185525, 23198897, 23208312, 23198755, 23216586, 23208181, 23200403, 23184014, 23214388, 23189608, 23199075, 23204439, 23191055, 23183445, 23196456, 23200574, 23192952, 23200347, 23192319, 23198138, 23208324, 23205967, 23205913, 23205630, 23186241, 23194772, 23208017, 23205343, 23196764, 23199896, 23206108, 23218542, 23207731, 23190763, 23207634, 23198086, 23199814, 23187891, 23181420, 23204519, 23183450, 23204331, 23201177, 23205045, 23209686, 23188116, 23189640, 23197609, 23214231, 23198067, 23198061, 23197852, 23191825, 23191644, 23202765, 23187409, 23191350, 23211781, 23200814, 23186903, 23200057, 23205040, 23201376, 23194565, 23183690, 23198087, 23197934, 23185460, 23201548, 23181498, 23200716, 23196864, 23216920, 23207812, 23203407, 23196023, 23201513, 23207537, 23181375, 23207215, 23196948, 23199947, 23206326, 23191809, 23185410, 23184299, 23190804, 23184147, 23203853, 23210154, 23205673, 23204995, 23198081, 23197955, 23192515, 23204320 ]\\n'"
      ]
     },
     "execution_count": 72,
     "metadata": {},
     "output_type": "execute_result"
    }
   ],
   "source": [
    "top_stories.text"
   ]
  },
  {
   "cell_type": "code",
   "execution_count": 73,
   "metadata": {},
   "outputs": [
    {
     "data": {
      "text/plain": [
       "[23223219,\n",
       " 23223335,\n",
       " 23223147,\n",
       " 23222019,\n",
       " 23220081,\n",
       " 23222815,\n",
       " 23221447,\n",
       " 23219782,\n",
       " 23221255,\n",
       " 23185665,\n",
       " 23223681,\n",
       " 23211101,\n",
       " 23223358,\n",
       " 23220815,\n",
       " 23221271,\n",
       " 23219427,\n",
       " 23217326,\n",
       " 23216852,\n",
       " 23222314,\n",
       " 23222575,\n",
       " 23222879,\n",
       " 23218943,\n",
       " 23221250,\n",
       " 23218827,\n",
       " 23222424,\n",
       " 23222518,\n",
       " 23217882,\n",
       " 23221517,\n",
       " 23218263,\n",
       " 23211495,\n",
       " 23219412,\n",
       " 23219541,\n",
       " 23213162,\n",
       " 23217935,\n",
       " 23221426,\n",
       " 23220749,\n",
       " 23211851,\n",
       " 23215877,\n",
       " 23205588,\n",
       " 23219641,\n",
       " 23221216,\n",
       " 23222338,\n",
       " 23215360,\n",
       " 23212620,\n",
       " 23216817,\n",
       " 23211273,\n",
       " 23222191,\n",
       " 23208779,\n",
       " 23212573,\n",
       " 23216642,\n",
       " 23214961,\n",
       " 23209142,\n",
       " 23211325,\n",
       " 23216502,\n",
       " 23216538,\n",
       " 23214535,\n",
       " 23215907,\n",
       " 23219407,\n",
       " 23218396,\n",
       " 23220041,\n",
       " 23215846,\n",
       " 23216915,\n",
       " 23212812,\n",
       " 23206566,\n",
       " 23221277,\n",
       " 23207648,\n",
       " 23211197,\n",
       " 23211303,\n",
       " 23214336,\n",
       " 23210921,\n",
       " 23203699,\n",
       " 23221806,\n",
       " 23208010,\n",
       " 23216683,\n",
       " 23210491,\n",
       " 23218422,\n",
       " 23215099,\n",
       " 23192546,\n",
       " 23209225,\n",
       " 23218281,\n",
       " 23211355,\n",
       " 23202850,\n",
       " 23210804,\n",
       " 23211961,\n",
       " 23221960,\n",
       " 23207377,\n",
       " 23207019,\n",
       " 23196956,\n",
       " 23205579,\n",
       " 23210139,\n",
       " 23220946,\n",
       " 23214918,\n",
       " 23212799,\n",
       " 23210570,\n",
       " 23208954,\n",
       " 23217094,\n",
       " 23218124,\n",
       " 23217081,\n",
       " 23198914,\n",
       " 23202665,\n",
       " 23201559,\n",
       " 23208431,\n",
       " 23217221,\n",
       " 23200597,\n",
       " 23203146,\n",
       " 23202228,\n",
       " 23214621,\n",
       " 23208820,\n",
       " 23206222,\n",
       " 23215285,\n",
       " 23207396,\n",
       " 23187698,\n",
       " 23206660,\n",
       " 23205225,\n",
       " 23209114,\n",
       " 23213268,\n",
       " 23219499,\n",
       " 23195680,\n",
       " 23203079,\n",
       " 23209866,\n",
       " 23200291,\n",
       " 23208339,\n",
       " 23202693,\n",
       " 23202120,\n",
       " 23194178,\n",
       " 23221859,\n",
       " 23208421,\n",
       " 23219702,\n",
       " 23214279,\n",
       " 23213112,\n",
       " 23208704,\n",
       " 23219109,\n",
       " 23190517,\n",
       " 23213348,\n",
       " 23208235,\n",
       " 23205703,\n",
       " 23211184,\n",
       " 23214661,\n",
       " 23203470,\n",
       " 23212131,\n",
       " 23193907,\n",
       " 23204225,\n",
       " 23220152,\n",
       " 23208851,\n",
       " 23201808,\n",
       " 23202430,\n",
       " 23190026,\n",
       " 23206126,\n",
       " 23197452,\n",
       " 23212469,\n",
       " 23206648,\n",
       " 23218379,\n",
       " 23203658,\n",
       " 23207033,\n",
       " 23212734,\n",
       " 23221456,\n",
       " 23205631,\n",
       " 23215556,\n",
       " 23205921,\n",
       " 23204641,\n",
       " 23209117,\n",
       " 23200506,\n",
       " 23214739,\n",
       " 23200985,\n",
       " 23217666,\n",
       " 23192264,\n",
       " 23196177,\n",
       " 23193093,\n",
       " 23212211,\n",
       " 23199203,\n",
       " 23195271,\n",
       " 23209806,\n",
       " 23206579,\n",
       " 23207540,\n",
       " 23218359,\n",
       " 23207404,\n",
       " 23203280,\n",
       " 23187948,\n",
       " 23203471,\n",
       " 23202866,\n",
       " 23211095,\n",
       " 23209955,\n",
       " 23201174,\n",
       " 23201888,\n",
       " 23193967,\n",
       " 23197966,\n",
       " 23206440,\n",
       " 23200246,\n",
       " 23211301,\n",
       " 23200830,\n",
       " 23207233,\n",
       " 23206551,\n",
       " 23203020,\n",
       " 23189372,\n",
       " 23219438,\n",
       " 23193482,\n",
       " 23207299,\n",
       " 23199521,\n",
       " 23199805,\n",
       " 23190127,\n",
       " 23189918,\n",
       " 23198596,\n",
       " 23201074,\n",
       " 23192566,\n",
       " 23204342,\n",
       " 23192486,\n",
       " 23209820,\n",
       " 23206937,\n",
       " 23199744,\n",
       " 23196782,\n",
       " 23212642,\n",
       " 23188238,\n",
       " 23192124,\n",
       " 23205218,\n",
       " 23212278,\n",
       " 23205567,\n",
       " 23212808,\n",
       " 23215945,\n",
       " 23195818,\n",
       " 23193534,\n",
       " 23197696,\n",
       " 23206697,\n",
       " 23208037,\n",
       " 23204795,\n",
       " 23206277,\n",
       " 23204410,\n",
       " 23193563,\n",
       " 23198051,\n",
       " 23207661,\n",
       " 23206216,\n",
       " 23193859,\n",
       " 23211605,\n",
       " 23205493,\n",
       " 23202586,\n",
       " 23189959,\n",
       " 23192142,\n",
       " 23198017,\n",
       " 23190617,\n",
       " 23192249,\n",
       " 23198091,\n",
       " 23194727,\n",
       " 23190304,\n",
       " 23185131,\n",
       " 23193952,\n",
       " 23214190,\n",
       " 23189024,\n",
       " 23214424,\n",
       " 23181924,\n",
       " 23187662,\n",
       " 23206066,\n",
       " 23210137,\n",
       " 23185757,\n",
       " 23198233,\n",
       " 23208423,\n",
       " 23188706,\n",
       " 23192958,\n",
       " 23193140,\n",
       " 23196872,\n",
       " 23214540,\n",
       " 23197227,\n",
       " 23207104,\n",
       " 23184576,\n",
       " 23202415,\n",
       " 23202498,\n",
       " 23206324,\n",
       " 23196644,\n",
       " 23195438,\n",
       " 23208395,\n",
       " 23206259,\n",
       " 23191493,\n",
       " 23205489,\n",
       " 23189512,\n",
       " 23192584,\n",
       " 23201608,\n",
       " 23194569,\n",
       " 23215938,\n",
       " 23205007,\n",
       " 23204668,\n",
       " 23181898,\n",
       " 23207522,\n",
       " 23193492,\n",
       " 23193397,\n",
       " 23202091,\n",
       " 23186032,\n",
       " 23190606,\n",
       " 23190538,\n",
       " 23191439,\n",
       " 23188900,\n",
       " 23202723,\n",
       " 23188675,\n",
       " 23191721,\n",
       " 23206093,\n",
       " 23202339,\n",
       " 23191455,\n",
       " 23194194,\n",
       " 23186820,\n",
       " 23183440,\n",
       " 23209171,\n",
       " 23190911,\n",
       " 23208111,\n",
       " 23202269,\n",
       " 23205154,\n",
       " 23184529,\n",
       " 23204978,\n",
       " 23195278,\n",
       " 23211476,\n",
       " 23204920,\n",
       " 23216335,\n",
       " 23211116,\n",
       " 23187239,\n",
       " 23187278,\n",
       " 23193927,\n",
       " 23208135,\n",
       " 23185203,\n",
       " 23193317,\n",
       " 23196482,\n",
       " 23203347,\n",
       " 23192443,\n",
       " 23213213,\n",
       " 23211983,\n",
       " 23197630,\n",
       " 23207040,\n",
       " 23207416,\n",
       " 23182045,\n",
       " 23214548,\n",
       " 23183398,\n",
       " 23212031,\n",
       " 23190921,\n",
       " 23183742,\n",
       " 23195822,\n",
       " 23211413,\n",
       " 23185315,\n",
       " 23198442,\n",
       " 23206094,\n",
       " 23218445,\n",
       " 23190601,\n",
       " 23193830,\n",
       " 23193603,\n",
       " 23194673,\n",
       " 23194622,\n",
       " 23204898,\n",
       " 23192873,\n",
       " 23198322,\n",
       " 23183917,\n",
       " 23213986,\n",
       " 23204314,\n",
       " 23193959,\n",
       " 23190447,\n",
       " 23192817,\n",
       " 23204553,\n",
       " 23190945,\n",
       " 23190146,\n",
       " 23199317,\n",
       " 23203448,\n",
       " 23213673,\n",
       " 23204198,\n",
       " 23194215,\n",
       " 23184952,\n",
       " 23190885,\n",
       " 23199304,\n",
       " 23181865,\n",
       " 23199200,\n",
       " 23210344,\n",
       " 23182097,\n",
       " 23191520,\n",
       " 23197107,\n",
       " 23201916,\n",
       " 23208050,\n",
       " 23187798,\n",
       " 23207971,\n",
       " 23197890,\n",
       " 23210448,\n",
       " 23201677,\n",
       " 23207823,\n",
       " 23195785,\n",
       " 23210954,\n",
       " 23212762,\n",
       " 23184871,\n",
       " 23191310,\n",
       " 23199347,\n",
       " 23195945,\n",
       " 23187458,\n",
       " 23182127,\n",
       " 23204586,\n",
       " 23197294,\n",
       " 23194162,\n",
       " 23185166,\n",
       " 23209313,\n",
       " 23193651,\n",
       " 23182824,\n",
       " 23183936,\n",
       " 23211736,\n",
       " 23209792,\n",
       " 23196702,\n",
       " 23181342,\n",
       " 23183384,\n",
       " 23196082,\n",
       " 23191977,\n",
       " 23192006,\n",
       " 23200731,\n",
       " 23202412,\n",
       " 23195198,\n",
       " 23199111,\n",
       " 23190841,\n",
       " 23185525,\n",
       " 23198897,\n",
       " 23208312,\n",
       " 23198755,\n",
       " 23216586,\n",
       " 23208181,\n",
       " 23200403,\n",
       " 23184014,\n",
       " 23214388,\n",
       " 23189608,\n",
       " 23199075,\n",
       " 23204439,\n",
       " 23191055,\n",
       " 23183445,\n",
       " 23196456,\n",
       " 23200574,\n",
       " 23192952,\n",
       " 23200347,\n",
       " 23192319,\n",
       " 23198138,\n",
       " 23208324,\n",
       " 23205967,\n",
       " 23205913,\n",
       " 23205630,\n",
       " 23186241,\n",
       " 23194772,\n",
       " 23208017,\n",
       " 23205343,\n",
       " 23196764,\n",
       " 23199896,\n",
       " 23206108,\n",
       " 23218542,\n",
       " 23207731,\n",
       " 23190763,\n",
       " 23207634,\n",
       " 23198086,\n",
       " 23199814,\n",
       " 23187891,\n",
       " 23181420,\n",
       " 23204519,\n",
       " 23183450,\n",
       " 23204331,\n",
       " 23201177,\n",
       " 23205045,\n",
       " 23209686,\n",
       " 23188116,\n",
       " 23189640,\n",
       " 23197609,\n",
       " 23214231,\n",
       " 23198067,\n",
       " 23198061,\n",
       " 23197852,\n",
       " 23191825,\n",
       " 23191644,\n",
       " 23202765,\n",
       " 23187409,\n",
       " 23191350,\n",
       " 23211781,\n",
       " 23200814,\n",
       " 23186903,\n",
       " 23200057,\n",
       " 23205040,\n",
       " 23201376,\n",
       " 23194565,\n",
       " 23183690,\n",
       " 23198087,\n",
       " 23197934,\n",
       " 23185460,\n",
       " 23201548,\n",
       " 23181498,\n",
       " 23200716,\n",
       " 23196864,\n",
       " 23216920,\n",
       " 23207812,\n",
       " 23203407,\n",
       " 23196023,\n",
       " 23201513,\n",
       " 23207537,\n",
       " 23181375,\n",
       " 23207215,\n",
       " 23196948,\n",
       " 23199947,\n",
       " 23206326,\n",
       " 23191809,\n",
       " 23185410,\n",
       " 23184299,\n",
       " 23190804,\n",
       " 23184147,\n",
       " 23203853,\n",
       " 23210154,\n",
       " 23205673,\n",
       " 23204995,\n",
       " 23198081,\n",
       " 23197955,\n",
       " 23192515,\n",
       " 23204320]"
      ]
     },
     "execution_count": 73,
     "metadata": {},
     "output_type": "execute_result"
    }
   ],
   "source": [
    "top_stories.json()"
   ]
  },
  {
   "cell_type": "code",
   "execution_count": 80,
   "metadata": {},
   "outputs": [],
   "source": [
    "top_stories = top_stories.json()"
   ]
  },
  {
   "cell_type": "code",
   "execution_count": 82,
   "metadata": {},
   "outputs": [
    {
     "name": "stdout",
     "output_type": "stream",
     "text": [
      "[23223219, 23223335, 23223147, 23220081, 23222019, 23222815, 23221447, 23219782, 23221255, 23223681]\n"
     ]
    }
   ],
   "source": [
    "print(top_stories[:10])"
   ]
  },
  {
   "cell_type": "code",
   "execution_count": 84,
   "metadata": {},
   "outputs": [
    {
     "name": "stdout",
     "output_type": "stream",
     "text": [
      "Prenos: https://hacker-news.firebaseio.com/v0/item/23223219.json?print=pretty\n",
      "Prenos: https://hacker-news.firebaseio.com/v0/item/23223335.json?print=pretty\n",
      "Prenos: https://hacker-news.firebaseio.com/v0/item/23223147.json?print=pretty\n",
      "Prenos: https://hacker-news.firebaseio.com/v0/item/23220081.json?print=pretty\n",
      "Prenos: https://hacker-news.firebaseio.com/v0/item/23222019.json?print=pretty\n",
      "Prenos: https://hacker-news.firebaseio.com/v0/item/23222815.json?print=pretty\n",
      "Prenos: https://hacker-news.firebaseio.com/v0/item/23221447.json?print=pretty\n",
      "Prenos: https://hacker-news.firebaseio.com/v0/item/23219782.json?print=pretty\n",
      "Prenos: https://hacker-news.firebaseio.com/v0/item/23221255.json?print=pretty\n",
      "Prenos: https://hacker-news.firebaseio.com/v0/item/23223681.json?print=pretty\n"
     ]
    }
   ],
   "source": [
    "articles = []\n",
    "for story_id in top_stories[:10]:\n",
    "    story_url = f'{url}/item/{story_id}.json?print=pretty'\n",
    "    print(f'Prenos: {story_url}')\n",
    "    r = requests.get(story_url)\n",
    "    story_dict = r.json()\n",
    "    articles.append(story_dict)"
   ]
  },
  {
   "cell_type": "code",
   "execution_count": 85,
   "metadata": {},
   "outputs": [
    {
     "data": {
      "text/plain": [
       "'Uber Cuts 3000 More Jobs, Closes 45 Offices'"
      ]
     },
     "execution_count": 85,
     "metadata": {},
     "output_type": "execute_result"
    }
   ],
   "source": [
    "articles[1]['title']"
   ]
  },
  {
   "cell_type": "code",
   "execution_count": null,
   "metadata": {},
   "outputs": [],
   "source": []
  },
  {
   "cell_type": "code",
   "execution_count": null,
   "metadata": {},
   "outputs": [],
   "source": []
  },
  {
   "cell_type": "markdown",
   "metadata": {},
   "source": [
    "### Import data from web - pandas"
   ]
  },
  {
   "cell_type": "markdown",
   "metadata": {},
   "source": [
    "##### [Odprti podatki Slovenije](https://podatki.gov.si/)\n",
    "\n",
    "\n",
    "Na portalu OPSI boste našli vse od podatkov, orodij, do koristnih virov, s katerimi boste lahko razvijali spletne in mobilne aplikacije, oblikovali lastne infografike in drugo"
   ]
  },
  {
   "cell_type": "markdown",
   "metadata": {},
   "source": [
    "Primer: https://support.spatialkey.com/spatialkey-sample-csv-data/"
   ]
  },
  {
   "cell_type": "code",
   "execution_count": 87,
   "metadata": {},
   "outputs": [
    {
     "data": {
      "text/html": [
       "<div>\n",
       "<style scoped>\n",
       "    .dataframe tbody tr th:only-of-type {\n",
       "        vertical-align: middle;\n",
       "    }\n",
       "\n",
       "    .dataframe tbody tr th {\n",
       "        vertical-align: top;\n",
       "    }\n",
       "\n",
       "    .dataframe thead th {\n",
       "        text-align: right;\n",
       "    }\n",
       "</style>\n",
       "<table border=\"1\" class=\"dataframe\">\n",
       "  <thead>\n",
       "    <tr style=\"text-align: right;\">\n",
       "      <th></th>\n",
       "      <th>street</th>\n",
       "      <th>city</th>\n",
       "      <th>zip</th>\n",
       "      <th>state</th>\n",
       "      <th>beds</th>\n",
       "      <th>baths</th>\n",
       "      <th>sq__ft</th>\n",
       "      <th>type</th>\n",
       "      <th>sale_date</th>\n",
       "      <th>price</th>\n",
       "      <th>latitude</th>\n",
       "      <th>longitude</th>\n",
       "    </tr>\n",
       "  </thead>\n",
       "  <tbody>\n",
       "    <tr>\n",
       "      <th>0</th>\n",
       "      <td>3526 HIGH ST</td>\n",
       "      <td>SACRAMENTO</td>\n",
       "      <td>95838</td>\n",
       "      <td>CA</td>\n",
       "      <td>2</td>\n",
       "      <td>1</td>\n",
       "      <td>836</td>\n",
       "      <td>Residential</td>\n",
       "      <td>Wed May 21 00:00:00 EDT 2008</td>\n",
       "      <td>59222</td>\n",
       "      <td>38.631913</td>\n",
       "      <td>-121.434879</td>\n",
       "    </tr>\n",
       "    <tr>\n",
       "      <th>1</th>\n",
       "      <td>51 OMAHA CT</td>\n",
       "      <td>SACRAMENTO</td>\n",
       "      <td>95823</td>\n",
       "      <td>CA</td>\n",
       "      <td>3</td>\n",
       "      <td>1</td>\n",
       "      <td>1167</td>\n",
       "      <td>Residential</td>\n",
       "      <td>Wed May 21 00:00:00 EDT 2008</td>\n",
       "      <td>68212</td>\n",
       "      <td>38.478902</td>\n",
       "      <td>-121.431028</td>\n",
       "    </tr>\n",
       "    <tr>\n",
       "      <th>2</th>\n",
       "      <td>2796 BRANCH ST</td>\n",
       "      <td>SACRAMENTO</td>\n",
       "      <td>95815</td>\n",
       "      <td>CA</td>\n",
       "      <td>2</td>\n",
       "      <td>1</td>\n",
       "      <td>796</td>\n",
       "      <td>Residential</td>\n",
       "      <td>Wed May 21 00:00:00 EDT 2008</td>\n",
       "      <td>68880</td>\n",
       "      <td>38.618305</td>\n",
       "      <td>-121.443839</td>\n",
       "    </tr>\n",
       "    <tr>\n",
       "      <th>3</th>\n",
       "      <td>2805 JANETTE WAY</td>\n",
       "      <td>SACRAMENTO</td>\n",
       "      <td>95815</td>\n",
       "      <td>CA</td>\n",
       "      <td>2</td>\n",
       "      <td>1</td>\n",
       "      <td>852</td>\n",
       "      <td>Residential</td>\n",
       "      <td>Wed May 21 00:00:00 EDT 2008</td>\n",
       "      <td>69307</td>\n",
       "      <td>38.616835</td>\n",
       "      <td>-121.439146</td>\n",
       "    </tr>\n",
       "    <tr>\n",
       "      <th>4</th>\n",
       "      <td>6001 MCMAHON DR</td>\n",
       "      <td>SACRAMENTO</td>\n",
       "      <td>95824</td>\n",
       "      <td>CA</td>\n",
       "      <td>2</td>\n",
       "      <td>1</td>\n",
       "      <td>797</td>\n",
       "      <td>Residential</td>\n",
       "      <td>Wed May 21 00:00:00 EDT 2008</td>\n",
       "      <td>81900</td>\n",
       "      <td>38.519470</td>\n",
       "      <td>-121.435768</td>\n",
       "    </tr>\n",
       "  </tbody>\n",
       "</table>\n",
       "</div>"
      ],
      "text/plain": [
       "             street        city    zip state  beds  baths  sq__ft  \\\n",
       "0      3526 HIGH ST  SACRAMENTO  95838    CA     2      1     836   \n",
       "1       51 OMAHA CT  SACRAMENTO  95823    CA     3      1    1167   \n",
       "2    2796 BRANCH ST  SACRAMENTO  95815    CA     2      1     796   \n",
       "3  2805 JANETTE WAY  SACRAMENTO  95815    CA     2      1     852   \n",
       "4   6001 MCMAHON DR  SACRAMENTO  95824    CA     2      1     797   \n",
       "\n",
       "          type                     sale_date  price   latitude   longitude  \n",
       "0  Residential  Wed May 21 00:00:00 EDT 2008  59222  38.631913 -121.434879  \n",
       "1  Residential  Wed May 21 00:00:00 EDT 2008  68212  38.478902 -121.431028  \n",
       "2  Residential  Wed May 21 00:00:00 EDT 2008  68880  38.618305 -121.443839  \n",
       "3  Residential  Wed May 21 00:00:00 EDT 2008  69307  38.616835 -121.439146  \n",
       "4  Residential  Wed May 21 00:00:00 EDT 2008  81900  38.519470 -121.435768  "
      ]
     },
     "execution_count": 87,
     "metadata": {},
     "output_type": "execute_result"
    }
   ],
   "source": [
    "data = pd.read_csv('http://samplecsvs.s3.amazonaws.com/Sacramentorealestatetransactions.csv')\n",
    "data.head() #branje csv direkt z interneta"
   ]
  },
  {
   "cell_type": "code",
   "execution_count": null,
   "metadata": {},
   "outputs": [],
   "source": []
  },
  {
   "cell_type": "code",
   "execution_count": null,
   "metadata": {},
   "outputs": [],
   "source": []
  },
  {
   "cell_type": "code",
   "execution_count": null,
   "metadata": {},
   "outputs": [],
   "source": []
  },
  {
   "cell_type": "code",
   "execution_count": null,
   "metadata": {},
   "outputs": [],
   "source": []
  },
  {
   "cell_type": "code",
   "execution_count": null,
   "metadata": {},
   "outputs": [],
   "source": []
  },
  {
   "cell_type": "markdown",
   "metadata": {},
   "source": [
    "## Web Scraping using pandas"
   ]
  },
  {
   "cell_type": "markdown",
   "metadata": {},
   "source": [
    "> Spletna stran: https://www.fdic.gov/bank/individual/failed/banklist.html"
   ]
  },
  {
   "cell_type": "markdown",
   "metadata": {},
   "source": [
    "`pandas.read_html: ` Read HTML tables into a list of DataFrame objects. -> [Dokumentacija](https://pandas.pydata.org/pandas-docs/version/0.23.4/generated/pandas.read_html.html)\n",
    "\n"
   ]
  },
  {
   "cell_type": "code",
   "execution_count": 88,
   "metadata": {},
   "outputs": [],
   "source": [
    "my_data = pd.read_html('https://www.fdic.gov/bank/individual/failed/banklist.html')"
   ]
  },
  {
   "cell_type": "code",
   "execution_count": 95,
   "metadata": {},
   "outputs": [
    {
     "data": {
      "text/plain": [
       "list"
      ]
     },
     "execution_count": 95,
     "metadata": {},
     "output_type": "execute_result"
    }
   ],
   "source": [
    "type(my_data)"
   ]
  },
  {
   "cell_type": "code",
   "execution_count": 96,
   "metadata": {},
   "outputs": [
    {
     "data": {
      "text/plain": [
       "1"
      ]
     },
     "execution_count": 96,
     "metadata": {},
     "output_type": "execute_result"
    }
   ],
   "source": [
    "len(my_data)"
   ]
  },
  {
   "cell_type": "code",
   "execution_count": 98,
   "metadata": {},
   "outputs": [
    {
     "data": {
      "text/html": [
       "<div>\n",
       "<style scoped>\n",
       "    .dataframe tbody tr th:only-of-type {\n",
       "        vertical-align: middle;\n",
       "    }\n",
       "\n",
       "    .dataframe tbody tr th {\n",
       "        vertical-align: top;\n",
       "    }\n",
       "\n",
       "    .dataframe thead th {\n",
       "        text-align: right;\n",
       "    }\n",
       "</style>\n",
       "<table border=\"1\" class=\"dataframe\">\n",
       "  <thead>\n",
       "    <tr style=\"text-align: right;\">\n",
       "      <th></th>\n",
       "      <th>Bank Name</th>\n",
       "      <th>City</th>\n",
       "      <th>ST</th>\n",
       "      <th>CERT</th>\n",
       "      <th>Acquiring Institution</th>\n",
       "      <th>Closing Date</th>\n",
       "    </tr>\n",
       "  </thead>\n",
       "  <tbody>\n",
       "    <tr>\n",
       "      <th>0</th>\n",
       "      <td>The First State Bank</td>\n",
       "      <td>Barboursville</td>\n",
       "      <td>WV</td>\n",
       "      <td>14361</td>\n",
       "      <td>MVB Bank, Inc.</td>\n",
       "      <td>April 3, 2020</td>\n",
       "    </tr>\n",
       "    <tr>\n",
       "      <th>1</th>\n",
       "      <td>Ericson State Bank</td>\n",
       "      <td>Ericson</td>\n",
       "      <td>NE</td>\n",
       "      <td>18265</td>\n",
       "      <td>Farmers and Merchants Bank</td>\n",
       "      <td>February 14, 2020</td>\n",
       "    </tr>\n",
       "    <tr>\n",
       "      <th>2</th>\n",
       "      <td>City National Bank of New Jersey</td>\n",
       "      <td>Newark</td>\n",
       "      <td>NJ</td>\n",
       "      <td>21111</td>\n",
       "      <td>Industrial Bank</td>\n",
       "      <td>November 1, 2019</td>\n",
       "    </tr>\n",
       "    <tr>\n",
       "      <th>3</th>\n",
       "      <td>Resolute Bank</td>\n",
       "      <td>Maumee</td>\n",
       "      <td>OH</td>\n",
       "      <td>58317</td>\n",
       "      <td>Buckeye State Bank</td>\n",
       "      <td>October 25, 2019</td>\n",
       "    </tr>\n",
       "    <tr>\n",
       "      <th>4</th>\n",
       "      <td>Louisa Community Bank</td>\n",
       "      <td>Louisa</td>\n",
       "      <td>KY</td>\n",
       "      <td>58112</td>\n",
       "      <td>Kentucky Farmers Bank Corporation</td>\n",
       "      <td>October 25, 2019</td>\n",
       "    </tr>\n",
       "  </tbody>\n",
       "</table>\n",
       "</div>"
      ],
      "text/plain": [
       "                          Bank Name           City  ST   CERT  \\\n",
       "0              The First State Bank  Barboursville  WV  14361   \n",
       "1                Ericson State Bank        Ericson  NE  18265   \n",
       "2  City National Bank of New Jersey         Newark  NJ  21111   \n",
       "3                     Resolute Bank         Maumee  OH  58317   \n",
       "4             Louisa Community Bank         Louisa  KY  58112   \n",
       "\n",
       "               Acquiring Institution       Closing Date  \n",
       "0                     MVB Bank, Inc.      April 3, 2020  \n",
       "1         Farmers and Merchants Bank  February 14, 2020  \n",
       "2                    Industrial Bank   November 1, 2019  \n",
       "3                 Buckeye State Bank   October 25, 2019  \n",
       "4  Kentucky Farmers Bank Corporation   October 25, 2019  "
      ]
     },
     "execution_count": 98,
     "metadata": {},
     "output_type": "execute_result"
    }
   ],
   "source": [
    "failed_banks = my_data[0]\n",
    "failed_banks.head()"
   ]
  },
  {
   "cell_type": "code",
   "execution_count": null,
   "metadata": {},
   "outputs": [],
   "source": []
  },
  {
   "cell_type": "code",
   "execution_count": null,
   "metadata": {},
   "outputs": [],
   "source": []
  },
  {
   "cell_type": "code",
   "execution_count": null,
   "metadata": {},
   "outputs": [],
   "source": []
  },
  {
   "cell_type": "code",
   "execution_count": null,
   "metadata": {},
   "outputs": [],
   "source": []
  },
  {
   "cell_type": "markdown",
   "metadata": {},
   "source": [
    "## Primeri"
   ]
  },
  {
   "cell_type": "markdown",
   "metadata": {},
   "source": [
    "### Scraping and Visualizing IMDB Ratings"
   ]
  },
  {
   "cell_type": "markdown",
   "metadata": {},
   "source": [
    "Stran: http://www.imdb.com/title/tt0944947/episodes"
   ]
  },
  {
   "cell_type": "code",
   "execution_count": 99,
   "metadata": {},
   "outputs": [],
   "source": [
    "import requests\n",
    "from bs4 import BeautifulSoup\n",
    "url = 'http://www.imdb.com/title/tt0944947/episodes'"
   ]
  },
  {
   "cell_type": "code",
   "execution_count": 105,
   "metadata": {},
   "outputs": [],
   "source": [
    "episodes = []\n",
    "ratings = []\n",
    "\n",
    "for season in range(1,9):\n",
    "    r = requests.get(url, params={'season': season})\n",
    "    soup = BeautifulSoup(r.text, 'html.parser')\n",
    "    listing = soup.find('div', class_ = 'eplist')\n",
    "    \n",
    "    for epnr, div in enumerate(listing.find_all('div', recursive = False)):\n",
    "        episode = f'{season}.{epnr + 1}'\n",
    "        rating_el = div.find(class_ = 'ipl-rating-star__rating')\n",
    "        rating = float(rating_el.get_text(strip=True))\n",
    "        episodes.append(episode)\n",
    "        ratings.append(rating)"
   ]
  },
  {
   "cell_type": "code",
   "execution_count": 106,
   "metadata": {},
   "outputs": [
    {
     "name": "stdout",
     "output_type": "stream",
     "text": [
      "['1.1', '1.2', '1.3', '1.4', '1.5', '1.6', '1.7', '1.8', '1.9', '1.10', '2.1', '2.2', '2.3', '2.4', '2.5', '2.6', '2.7', '2.8', '2.9', '2.10']\n"
     ]
    }
   ],
   "source": [
    "print(episodes[:20])"
   ]
  },
  {
   "cell_type": "code",
   "execution_count": 107,
   "metadata": {},
   "outputs": [
    {
     "name": "stdout",
     "output_type": "stream",
     "text": [
      "[9.1, 8.8, 8.7, 8.8, 9.1, 9.2, 9.2, 9.0, 9.6, 9.5, 8.8, 8.5, 8.8, 8.8, 8.8, 9.1, 8.9, 8.8, 9.7, 9.4]\n"
     ]
    }
   ],
   "source": [
    "print(ratings[:20])"
   ]
  },
  {
   "cell_type": "code",
   "execution_count": 109,
   "metadata": {},
   "outputs": [
    {
     "data": {
      "image/png": "[encoded data removed]",
      "text/plain": [
       "<Figure size 432x288 with 1 Axes>"
      ]
     },
     "metadata": {
      "needs_background": "light"
     },
     "output_type": "display_data"
    }
   ],
   "source": [
    "import matplotlib.pyplot as plt\n",
    "\n",
    "plt.figure()\n",
    "positions = [a for a in range(len(ratings))]\n",
    "plt.bar(positions, ratings, align = 'center')\n",
    "plt.show()"
   ]
  },
  {
   "cell_type": "code",
   "execution_count": null,
   "metadata": {},
   "outputs": [],
   "source": []
  },
  {
   "cell_type": "code",
   "execution_count": null,
   "metadata": {},
   "outputs": [],
   "source": []
  },
  {
   "cell_type": "code",
   "execution_count": null,
   "metadata": {},
   "outputs": [],
   "source": []
  },
  {
   "cell_type": "code",
   "execution_count": null,
   "metadata": {},
   "outputs": [],
   "source": []
  },
  {
   "cell_type": "markdown",
   "metadata": {},
   "source": [
    "### Scraping Fast Track data"
   ]
  },
  {
   "cell_type": "markdown",
   "metadata": {},
   "source": [
    "Stran: https://www.fasttrack.co.uk/league-tables/tech-track-100/league-table/"
   ]
  },
  {
   "cell_type": "code",
   "execution_count": 110,
   "metadata": {},
   "outputs": [],
   "source": [
    "# import libraries\n",
    "from bs4 import BeautifulSoup\n",
    "import requests\n",
    "import csv"
   ]
  },
  {
   "cell_type": "code",
   "execution_count": 111,
   "metadata": {},
   "outputs": [],
   "source": [
    "# specify the url\n",
    "urlpage =  'http://www.fasttrack.co.uk/league-tables/tech-track-100/league-table/'"
   ]
  },
  {
   "cell_type": "code",
   "execution_count": 114,
   "metadata": {},
   "outputs": [],
   "source": [
    "page = requests.get(urlpage)\n",
    "soup = BeautifulSoup(page.text, 'html.parser')"
   ]
  },
  {
   "cell_type": "code",
   "execution_count": 115,
   "metadata": {},
   "outputs": [
    {
     "name": "stdout",
     "output_type": "stream",
     "text": [
      "Number of results 101\n"
     ]
    }
   ],
   "source": [
    "table = soup.find('table', attrs = {'class': 'tableSorter2'})\n",
    "results = table.find_all('tr')\n",
    "print(f'Number of results {len(results)}')"
   ]
  },
  {
   "cell_type": "code",
   "execution_count": 116,
   "metadata": {},
   "outputs": [],
   "source": [
    "rows = []\n",
    "rows = []\n",
    "rows.append(['Rank', 'Company Name', 'Webpage', \n",
    "             'Description', 'Location', 'Year end', \n",
    "             'Annual sales rise over 3 years', 'Sales £000s', \n",
    "             'Staff', 'Comments'])"
   ]
  },
  {
   "cell_type": "code",
   "execution_count": 120,
   "metadata": {},
   "outputs": [
    {
     "name": "stdout",
     "output_type": "stream",
     "text": [
      "1, - Company is Revolut\n",
      "2, - Company is Bizuma\n",
      "3, - Company is Global-e\n",
      "4, - Company is Jungle Creations\n",
      "5, - Company is Oxford Nanopore Technologies\n",
      "6, - Company is Lendable\n",
      "7, - Company is Verve\n",
      "8, - Company is Onfido\n",
      "9, - Company is Reverse Media Group\n",
      "10, - Company is Rebound Returns\n",
      "11, - Company is ClearScore\n",
      "12, - Company is SPOKE\n",
      "13, - Company is FSB\n",
      "14, - Company is Decibel\n",
      "15, - Company is Miss Group\n",
      "16, - Company is ComplyAdvantage\n",
      "17, - Company is OTA Insight\n",
      "18, - Company is Light Source\n",
      "19, - Company is Digi2al\n",
      "20, - Company is Perkbox\n",
      "21, - Company is Lending Works\n",
      "22, - Company is Faculty\n",
      "23, - Company is Internet Mobile Communications\n",
      "24, - Company is Fruugo\n",
      "25, - Company is Featurespace\n",
      "26, - Company is Monterosa\n",
      "27, - Company is Lockwood Publishing\n",
      "28, - Company is Plan.com\n",
      "29, - Company is Capital on Tap\n",
      "30, - Company is In Touch Networks\n",
      "31, - Company is DV Signage\n",
      "32, - Company is Ogury\n",
      "33, - Company is Chameleon Technology\n",
      "34, - Company is iwoca\n",
      "35, - Company is Byte\n",
      "36, - Company is Matillion\n",
      "37, - Company is Bought By Many\n",
      "38, - Company is Checkout.com\n",
      "39, - Company is Fleximize\n",
      "40, - Company is Hyperdrive Innovation\n",
      "41, - Company is GoCardless\n",
      "42, - Company is Azuri Technologies\n",
      "43, - Company is Receipt Bank\n",
      "44, - Company is gohenry\n",
      "45, - Company is Gousto\n",
      "46, - Company is Depop\n",
      "47, - Company is Giacom\n",
      "48, - Company is Account Technologies\n",
      "49, - Company is Gigaclear\n",
      "50, - Company is Oakbrook\n",
      "51, - Company is Hyperoptic\n",
      "52, - Company is TransferWise\n",
      "53, - Company is Assetz Capital\n",
      "54, - Company is Darktrace\n",
      "55, - Company is Payen\n",
      "56, - Company is Thread\n",
      "57, - Company is SuperAwesome\n",
      "58, - Company is Vizolution\n",
      "59, - Company is BigChange\n",
      "60, - Company is Symetrica\n",
      "61, - Company is StarLeaf\n",
      "62, - Company is Azimo\n",
      "63, - Company is Endomag\n",
      "64, - Company is QHi Group\n",
      "65, - Company is Threads Styling\n",
      "66, - Company is Unify Communications\n",
      "67, - Company is MiQ\n",
      "68, - Company is Neyber\n",
      "69, - Company is TVSquared\n",
      "70, - Company is The Access Group\n",
      "71, - Company is ContactEngine\n",
      "72, - Company is Hutch\n",
      "73, - Company is Sideshow\n",
      "74, - Company is Optal\n",
      "75, - Company is Leisure Pass Group\n",
      "76, - Company is Brompton Technology\n",
      "77, - Company is iPlato\n",
      "78, - Company is Currencycloud\n",
      "79, - Company is Tharsus\n",
      "80, - Company is ENSEK\n",
      "81, - Company is Captify\n",
      "82, - Company is Adaptive\n",
      "83, - Company is Student Beans\n",
      "84, - Company is Godel Technologies\n",
      "85, - Company is MPB\n",
      "86, - Company is Smartsearch\n",
      "87, - Company is Liberis\n",
      "88, - Company is cloudThing\n",
      "89, - Company is Zappi\n",
      "90, - Company is Ticketer\n",
      "91, - Company is Pharmacy 2U\n",
      "92, - Company is Adaptavist\n",
      "93, - Company is Alternative Airlines\n",
      "94, - Company is Biosite Systems\n",
      "95, - Company is JustPark\n",
      "96, - Company is WorldRemit\n",
      "97, - Company is E3D Online\n",
      "98, - Company is Parentpay\n",
      "99, - Company is Victor\n",
      "100, - Company is Dianomi\n"
     ]
    }
   ],
   "source": [
    "for num, result in enumerate(results):\n",
    "    data = result.find_all('td')\n",
    "    if len(data) == 0:\n",
    "        continue\n",
    "        \n",
    "    rank = data[0].getText()\n",
    "    company = data[1].getText()\n",
    "    location = data[2].getText()\n",
    "    yearend = data[3].getText()\n",
    "    salesrise = data[4].getText()\n",
    "    sales = data[5].getText()\n",
    "    staff = data[6].getText()\n",
    "    comments = data[7].getText()\n",
    "    \n",
    "    companyname = data[1].find('span', attrs = {'class' : 'company-name'}).getText()\n",
    "    description = company.replace(companyname, '')\n",
    "    \n",
    "    print(f'{num}, - Company is {companyname}')\n",
    "    \n",
    "    sales = sales.strip('*').replace(',', '')\n",
    "    \n",
    "    url = data[1].find('a').get('href')\n",
    "    page = requests.get(url)\n",
    "    \n",
    "    soup = BeautifulSoup(page.text,'html.parser')\n",
    "    \n",
    "    try:\n",
    "        table_row = soup.find('table').find_all('tr')[-1]\n",
    "        webpage = table_row.find('a').get('href')\n",
    "    except:\n",
    "        webpage = None\n",
    "        \n",
    "    rows.append([rank, companyname, webpage, description, location, salesrise, sales, staff, comments])\n",
    "    \n",
    "    "
   ]
  },
  {
   "cell_type": "code",
   "execution_count": 121,
   "metadata": {},
   "outputs": [
    {
     "data": {
      "text/plain": [
       "['1',\n",
       " 'Revolut',\n",
       " 'http://www.revolut.com',\n",
       " 'Digital banking services provider',\n",
       " 'East London',\n",
       " '507.56%',\n",
       " '58300',\n",
       " '700',\n",
       " 'Valued at $1.7bn in 2018 and reported to be raising an additional $500m this year that could value it at $5bn']"
      ]
     },
     "execution_count": 121,
     "metadata": {},
     "output_type": "execute_result"
    }
   ],
   "source": [
    "rows[1]"
   ]
  },
  {
   "cell_type": "code",
   "execution_count": 124,
   "metadata": {},
   "outputs": [],
   "source": [
    "with open('OUT_compenies.csv', 'w') as f:\n",
    "    csv_output = csv.writer(f)\n",
    "    csv_output.writerows(rows)"
   ]
  },
  {
   "cell_type": "code",
   "execution_count": 125,
   "metadata": {},
   "outputs": [
    {
     "data": {
      "text/html": [
       "<div>\n",
       "<style scoped>\n",
       "    .dataframe tbody tr th:only-of-type {\n",
       "        vertical-align: middle;\n",
       "    }\n",
       "\n",
       "    .dataframe tbody tr th {\n",
       "        vertical-align: top;\n",
       "    }\n",
       "\n",
       "    .dataframe thead th {\n",
       "        text-align: right;\n",
       "    }\n",
       "</style>\n",
       "<table border=\"1\" class=\"dataframe\">\n",
       "  <thead>\n",
       "    <tr style=\"text-align: right;\">\n",
       "      <th></th>\n",
       "      <th>Rank</th>\n",
       "      <th>Company Name</th>\n",
       "      <th>Webpage</th>\n",
       "      <th>Description</th>\n",
       "      <th>Location</th>\n",
       "      <th>Year end</th>\n",
       "      <th>Annual sales rise over 3 years</th>\n",
       "      <th>Sales £000s</th>\n",
       "      <th>Staff</th>\n",
       "      <th>Comments</th>\n",
       "    </tr>\n",
       "  </thead>\n",
       "  <tbody>\n",
       "    <tr>\n",
       "      <th>0</th>\n",
       "      <td>1</td>\n",
       "      <td>Revolut</td>\n",
       "      <td>http://www.revolut.com</td>\n",
       "      <td>Digital banking services provider</td>\n",
       "      <td>East London</td>\n",
       "      <td>507.56%</td>\n",
       "      <td>58300</td>\n",
       "      <td>700</td>\n",
       "      <td>Valued at $1.7bn in 2018 and reported to be ra...</td>\n",
       "      <td>NaN</td>\n",
       "    </tr>\n",
       "    <tr>\n",
       "      <th>1</th>\n",
       "      <td>2</td>\n",
       "      <td>Bizuma</td>\n",
       "      <td>http://www.bizuma.com</td>\n",
       "      <td>B2B e-commerce platform</td>\n",
       "      <td>Central London</td>\n",
       "      <td>315.18%</td>\n",
       "      <td>26414</td>\n",
       "      <td>114</td>\n",
       "      <td>Connects wholesale buyers and sellers from ove...</td>\n",
       "      <td>NaN</td>\n",
       "    </tr>\n",
       "    <tr>\n",
       "      <th>2</th>\n",
       "      <td>3</td>\n",
       "      <td>Global-e</td>\n",
       "      <td>http://www.global-e.com</td>\n",
       "      <td>Cross-border ecommerce solutions</td>\n",
       "      <td>Central London</td>\n",
       "      <td>303.09%</td>\n",
       "      <td>29297</td>\n",
       "      <td>28</td>\n",
       "      <td>Its technology helps ecommerce retailers local...</td>\n",
       "      <td>NaN</td>\n",
       "    </tr>\n",
       "    <tr>\n",
       "      <th>3</th>\n",
       "      <td>4</td>\n",
       "      <td>Jungle Creations</td>\n",
       "      <td>http://www.junglecreations.com</td>\n",
       "      <td>Social media &amp; ecommerce services</td>\n",
       "      <td>East London</td>\n",
       "      <td>302.53%</td>\n",
       "      <td>15972</td>\n",
       "      <td>159</td>\n",
       "      <td>Launched the first-ever delivery-only restaura...</td>\n",
       "      <td>NaN</td>\n",
       "    </tr>\n",
       "    <tr>\n",
       "      <th>4</th>\n",
       "      <td>5</td>\n",
       "      <td>Oxford Nanopore Technologies</td>\n",
       "      <td>http://www.nanoporetech.com</td>\n",
       "      <td>DNA analysis technology</td>\n",
       "      <td>Oxford</td>\n",
       "      <td>251.87%</td>\n",
       "      <td>32500</td>\n",
       "      <td>439</td>\n",
       "      <td>Has raised £451m in funding and was valued at ...</td>\n",
       "      <td>NaN</td>\n",
       "    </tr>\n",
       "  </tbody>\n",
       "</table>\n",
       "</div>"
      ],
      "text/plain": [
       "   Rank                  Company Name                         Webpage  \\\n",
       "0     1                       Revolut          http://www.revolut.com   \n",
       "1     2                        Bizuma           http://www.bizuma.com   \n",
       "2     3                      Global-e         http://www.global-e.com   \n",
       "3     4              Jungle Creations  http://www.junglecreations.com   \n",
       "4     5  Oxford Nanopore Technologies     http://www.nanoporetech.com   \n",
       "\n",
       "                         Description        Location Year end  \\\n",
       "0  Digital banking services provider     East London  507.56%   \n",
       "1            B2B e-commerce platform  Central London  315.18%   \n",
       "2   Cross-border ecommerce solutions  Central London  303.09%   \n",
       "3  Social media & ecommerce services     East London  302.53%   \n",
       "4            DNA analysis technology          Oxford  251.87%   \n",
       "\n",
       "   Annual sales rise over 3 years Sales £000s  \\\n",
       "0                           58300         700   \n",
       "1                           26414         114   \n",
       "2                           29297          28   \n",
       "3                           15972         159   \n",
       "4                           32500         439   \n",
       "\n",
       "                                               Staff  Comments  \n",
       "0  Valued at $1.7bn in 2018 and reported to be ra...       NaN  \n",
       "1  Connects wholesale buyers and sellers from ove...       NaN  \n",
       "2  Its technology helps ecommerce retailers local...       NaN  \n",
       "3  Launched the first-ever delivery-only restaura...       NaN  \n",
       "4  Has raised £451m in funding and was valued at ...       NaN  "
      ]
     },
     "execution_count": 125,
     "metadata": {},
     "output_type": "execute_result"
    }
   ],
   "source": [
    "df = pd.read_csv('OUT_compenies.csv')\n",
    "df.head()"
   ]
  },
  {
   "cell_type": "code",
   "execution_count": null,
   "metadata": {},
   "outputs": [],
   "source": []
  },
  {
   "cell_type": "code",
   "execution_count": null,
   "metadata": {},
   "outputs": [],
   "source": []
  },
  {
   "cell_type": "code",
   "execution_count": null,
   "metadata": {},
   "outputs": [],
   "source": []
  },
  {
   "cell_type": "code",
   "execution_count": null,
   "metadata": {},
   "outputs": [],
   "source": []
  },
  {
   "cell_type": "code",
   "execution_count": 188,
   "metadata": {},
   "outputs": [],
   "source": [
    "# write columns to variables\n",
    "rank = data[0].getText()\n",
    "company = data[1].getText()\n",
    "location = data[2].getText()\n",
    "yearend = data[3].getText()\n",
    "salesrise = data[4].getText()\n",
    "sales = data[5].getText()\n",
    "staff = data[6].getText()\n",
    "comments = data[7].getText()"
   ]
  },
  {
   "cell_type": "code",
   "execution_count": null,
   "metadata": {},
   "outputs": [],
   "source": []
  },
  {
   "cell_type": "code",
   "execution_count": null,
   "metadata": {},
   "outputs": [],
   "source": []
  },
  {
   "cell_type": "code",
   "execution_count": null,
   "metadata": {},
   "outputs": [],
   "source": []
  },
  {
   "cell_type": "code",
   "execution_count": null,
   "metadata": {},
   "outputs": [],
   "source": []
  },
  {
   "cell_type": "code",
   "execution_count": null,
   "metadata": {},
   "outputs": [],
   "source": []
  },
  {
   "cell_type": "code",
   "execution_count": null,
   "metadata": {},
   "outputs": [],
   "source": []
  },
  {
   "cell_type": "code",
   "execution_count": null,
   "metadata": {},
   "outputs": [],
   "source": []
  },
  {
   "cell_type": "code",
   "execution_count": null,
   "metadata": {},
   "outputs": [],
   "source": []
  },
  {
   "cell_type": "code",
   "execution_count": null,
   "metadata": {},
   "outputs": [],
   "source": []
  },
  {
   "cell_type": "code",
   "execution_count": null,
   "metadata": {},
   "outputs": [],
   "source": []
  },
  {
   "cell_type": "markdown",
   "metadata": {},
   "source": [
    "#### Celotni program skupaj"
   ]
  },
  {
   "cell_type": "code",
   "execution_count": null,
   "metadata": {},
   "outputs": [],
   "source": []
  },
  {
   "cell_type": "code",
   "execution_count": null,
   "metadata": {},
   "outputs": [],
   "source": []
  },
  {
   "cell_type": "code",
   "execution_count": null,
   "metadata": {},
   "outputs": [],
   "source": []
  },
  {
   "cell_type": "code",
   "execution_count": null,
   "metadata": {},
   "outputs": [],
   "source": []
  },
  {
   "cell_type": "code",
   "execution_count": null,
   "metadata": {},
   "outputs": [],
   "source": []
  },
  {
   "cell_type": "code",
   "execution_count": null,
   "metadata": {},
   "outputs": [],
   "source": []
  },
  {
   "cell_type": "code",
   "execution_count": null,
   "metadata": {},
   "outputs": [],
   "source": []
  },
  {
   "cell_type": "code",
   "execution_count": null,
   "metadata": {},
   "outputs": [],
   "source": []
  },
  {
   "cell_type": "code",
   "execution_count": null,
   "metadata": {},
   "outputs": [],
   "source": []
  },
  {
   "cell_type": "code",
   "execution_count": null,
   "metadata": {},
   "outputs": [],
   "source": []
  },
  {
   "cell_type": "code",
   "execution_count": null,
   "metadata": {},
   "outputs": [],
   "source": []
  },
  {
   "cell_type": "code",
   "execution_count": null,
   "metadata": {},
   "outputs": [],
   "source": []
  },
  {
   "cell_type": "code",
   "execution_count": null,
   "metadata": {},
   "outputs": [],
   "source": []
  }
 ],
 "metadata": {
  "kernelspec": {
   "display_name": "Python 3",
   "language": "python",
   "name": "python3"
  },
  "language_info": {
   "codemirror_mode": {
    "name": "ipython",
    "version": 3
   },
   "file_extension": ".py",
   "mimetype": "text/x-python",
   "name": "python",
   "nbconvert_exporter": "python",
   "pygments_lexer": "ipython3",
   "version": "3.7.6"
  }
 },
 "nbformat": 4,
 "nbformat_minor": 2
}
